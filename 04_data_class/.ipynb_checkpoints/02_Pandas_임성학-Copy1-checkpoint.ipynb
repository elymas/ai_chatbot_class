{
 "cells": [
  {
   "cell_type": "markdown",
   "metadata": {
    "colab_type": "text",
    "id": "XRt4mU-aBMfT"
   },
   "source": [
    "# Pandas\n",
    "파이썬 데이터 분석의 3대 라이브러리: \n",
    "* Numpy : 배열, 행열을 다룸\n",
    "* Pandas : 엑셀과 같은 데이터프레임을 다룸\n",
    "* Matplotlib : 시각화"
   ]
  },
  {
   "cell_type": "code",
   "execution_count": 1,
   "metadata": {
    "colab": {},
    "colab_type": "code",
    "id": "lMX-vsIuBjEW"
   },
   "outputs": [],
   "source": [
    "# pandas 사용하기\n",
    "import numpy as np\n",
    "import pandas as pd"
   ]
  },
  {
   "cell_type": "code",
   "execution_count": null,
   "metadata": {
    "colab": {},
    "colab_type": "code",
    "id": "oYSidP0HB1fl"
   },
   "outputs": [],
   "source": [
    "# 2. Pandas 자료구조\n",
    "# Pandas 에서는 기본적으로 정의되는 자료구조인 Series와 Data Frame을 사용한다.\n",
    "# 이 자료구조들은 빅 데이터 분석에 있어서 높은 수준의 성능을 보여준다."
   ]
  },
  {
   "cell_type": "code",
   "execution_count": null,
   "metadata": {
    "colab": {},
    "colab_type": "code",
    "id": "JuOjbYnYCCsa"
   },
   "outputs": [],
   "source": [
    "# 2-1. Series"
   ]
  },
  {
   "cell_type": "code",
   "execution_count": 2,
   "metadata": {
    "colab": {
     "base_uri": "https://localhost:8080/",
     "height": 102
    },
    "colab_type": "code",
    "executionInfo": {
     "elapsed": 3851,
     "status": "ok",
     "timestamp": 1568163889365,
     "user": {
      "displayName": "Sung Hak Lim",
      "photoUrl": "https://lh3.googleusercontent.com/a-/AAuE7mCAsIrkT7qHVbLE2qbnDRuLFImyiwklV4EiB94wNA=s64",
      "userId": "05716500249544805974"
     },
     "user_tz": -540
    },
    "id": "2tWcOtJ1CFgc",
    "outputId": "ae71cf5c-3563-4b58-f304-cc79bc499b7f"
   },
   "outputs": [
    {
     "data": {
      "text/plain": [
       "0    4\n",
       "1    7\n",
       "2   -5\n",
       "3    3\n",
       "dtype: int64"
      ]
     },
     "execution_count": 2,
     "metadata": {},
     "output_type": "execute_result"
    }
   ],
   "source": [
    "# Series 정의하기\n",
    "obj = pd.Series([4, 7, -5, 3])\n",
    "obj"
   ]
  },
  {
   "cell_type": "code",
   "execution_count": 3,
   "metadata": {
    "colab": {
     "base_uri": "https://localhost:8080/",
     "height": 34
    },
    "colab_type": "code",
    "executionInfo": {
     "elapsed": 3843,
     "status": "ok",
     "timestamp": 1568163889365,
     "user": {
      "displayName": "Sung Hak Lim",
      "photoUrl": "https://lh3.googleusercontent.com/a-/AAuE7mCAsIrkT7qHVbLE2qbnDRuLFImyiwklV4EiB94wNA=s64",
      "userId": "05716500249544805974"
     },
     "user_tz": -540
    },
    "id": "I0dtIwCKCLnq",
    "outputId": "7f73ee37-0c49-4da9-9846-c2e6a66308c8"
   },
   "outputs": [
    {
     "data": {
      "text/plain": [
       "array([ 4,  7, -5,  3])"
      ]
     },
     "execution_count": 3,
     "metadata": {},
     "output_type": "execute_result"
    }
   ],
   "source": [
    "# Series의 값만 확인하기\n",
    "obj.values"
   ]
  },
  {
   "cell_type": "code",
   "execution_count": 6,
   "metadata": {
    "colab": {
     "base_uri": "https://localhost:8080/",
     "height": 34
    },
    "colab_type": "code",
    "executionInfo": {
     "elapsed": 3835,
     "status": "ok",
     "timestamp": 1568163889366,
     "user": {
      "displayName": "Sung Hak Lim",
      "photoUrl": "https://lh3.googleusercontent.com/a-/AAuE7mCAsIrkT7qHVbLE2qbnDRuLFImyiwklV4EiB94wNA=s64",
      "userId": "05716500249544805974"
     },
     "user_tz": -540
    },
    "id": "SgwaQhTyCP_4",
    "outputId": "7c4b1519-3a30-44b8-b5e4-4e1e7f9fb22f"
   },
   "outputs": [
    {
     "data": {
      "text/plain": [
       "RangeIndex(start=0, stop=4, step=1)"
      ]
     },
     "execution_count": 6,
     "metadata": {},
     "output_type": "execute_result"
    }
   ],
   "source": [
    "# Series의 인덱스만 확인하기\n",
    "obj.index"
   ]
  },
  {
   "cell_type": "code",
   "execution_count": 9,
   "metadata": {
    "colab": {
     "base_uri": "https://localhost:8080/",
     "height": 34
    },
    "colab_type": "code",
    "executionInfo": {
     "elapsed": 3827,
     "status": "ok",
     "timestamp": 1568163889366,
     "user": {
      "displayName": "Sung Hak Lim",
      "photoUrl": "https://lh3.googleusercontent.com/a-/AAuE7mCAsIrkT7qHVbLE2qbnDRuLFImyiwklV4EiB94wNA=s64",
      "userId": "05716500249544805974"
     },
     "user_tz": -540
    },
    "id": "GI2IGBOYCT8y",
    "outputId": "f90727d6-c8d2-4b8c-9b99-13a8ae9186ab"
   },
   "outputs": [
    {
     "data": {
      "text/plain": [
       "dtype('int64')"
      ]
     },
     "execution_count": 9,
     "metadata": {},
     "output_type": "execute_result"
    }
   ],
   "source": [
    "# Series의 자료형 확인하기\n",
    "obj.dtypes"
   ]
  },
  {
   "cell_type": "code",
   "execution_count": 10,
   "metadata": {
    "colab": {
     "base_uri": "https://localhost:8080/",
     "height": 102
    },
    "colab_type": "code",
    "executionInfo": {
     "elapsed": 3819,
     "status": "ok",
     "timestamp": 1568163889367,
     "user": {
      "displayName": "Sung Hak Lim",
      "photoUrl": "https://lh3.googleusercontent.com/a-/AAuE7mCAsIrkT7qHVbLE2qbnDRuLFImyiwklV4EiB94wNA=s64",
      "userId": "05716500249544805974"
     },
     "user_tz": -540
    },
    "id": "LUMUNW_cCYcI",
    "outputId": "3c58f227-aa7e-4ca8-de51-28a006662ada"
   },
   "outputs": [
    {
     "data": {
      "text/plain": [
       "d    4\n",
       "b    7\n",
       "a   -5\n",
       "c    3\n",
       "dtype: int64"
      ]
     },
     "execution_count": 10,
     "metadata": {},
     "output_type": "execute_result"
    }
   ],
   "source": [
    "# 인덱스를 바꿀 수 있다\n",
    "# obj2 = pd.Series([4,7,-5,3], index=['d','b','a','c'])\n",
    "# obj2\n",
    "\n",
    "obj2 = pd.Series([4,7,-5,3], index=['d','b','a','c'])\n",
    "obj2"
   ]
  },
  {
   "cell_type": "code",
   "execution_count": 11,
   "metadata": {
    "colab": {
     "base_uri": "https://localhost:8080/",
     "height": 102
    },
    "colab_type": "code",
    "executionInfo": {
     "elapsed": 3811,
     "status": "ok",
     "timestamp": 1568163889367,
     "user": {
      "displayName": "Sung Hak Lim",
      "photoUrl": "https://lh3.googleusercontent.com/a-/AAuE7mCAsIrkT7qHVbLE2qbnDRuLFImyiwklV4EiB94wNA=s64",
      "userId": "05716500249544805974"
     },
     "user_tz": -540
    },
    "id": "ivu-aoN9CkLv",
    "outputId": "1fe6deb6-8e27-4687-8f37-1e5fd125be66"
   },
   "outputs": [
    {
     "data": {
      "text/plain": [
       "kim     35000\n",
       "park    67000\n",
       "john    12000\n",
       "choi     4000\n",
       "dtype: int64"
      ]
     },
     "execution_count": 11,
     "metadata": {},
     "output_type": "execute_result"
    }
   ],
   "source": [
    "# python의 dictionary 자료형을 Series data로 만들 수 있다.\n",
    "# dictionary의 key가 Series의 index가 된다\n",
    "# sdata = {'kim':35000, 'park':67000, 'john':12000, 'choi':4000}\n",
    "# obj3 = pd.Series(sdata)\n",
    "# obj3\n",
    "\n",
    "sdata = {'kim':35000, 'park':67000, 'john':12000, 'choi':4000}\n",
    "obj3 = pd.Series(sdata)\n",
    "obj3"
   ]
  },
  {
   "cell_type": "code",
   "execution_count": 14,
   "metadata": {
    "colab": {
     "base_uri": "https://localhost:8080/",
     "height": 102
    },
    "colab_type": "code",
    "executionInfo": {
     "elapsed": 3804,
     "status": "ok",
     "timestamp": 1568163889368,
     "user": {
      "displayName": "Sung Hak Lim",
      "photoUrl": "https://lh3.googleusercontent.com/a-/AAuE7mCAsIrkT7qHVbLE2qbnDRuLFImyiwklV4EiB94wNA=s64",
      "userId": "05716500249544805974"
     },
     "user_tz": -540
    },
    "id": "YX3GKi4iDGZw",
    "outputId": "a5f30968-dcb1-4076-b6b8-ae926b57d1ce"
   },
   "outputs": [
    {
     "data": {
      "text/plain": [
       "A    35000\n",
       "B    67000\n",
       "C    12000\n",
       "D     4000\n",
       "dtype: int64"
      ]
     },
     "execution_count": 14,
     "metadata": {},
     "output_type": "execute_result"
    }
   ],
   "source": [
    "# index 변경\n",
    "# obj3.index = ['A', 'B', 'C', 'D']\n",
    "# obj3\n",
    "\n",
    "obj3.index = ['A', 'B', 'C', 'D']\n",
    "obj3"
   ]
  },
  {
   "cell_type": "code",
   "execution_count": null,
   "metadata": {
    "colab": {},
    "colab_type": "code",
    "id": "AO4CViXJDNHn"
   },
   "outputs": [],
   "source": [
    "# 2-2. Data Frame"
   ]
  },
  {
   "cell_type": "code",
   "execution_count": null,
   "metadata": {
    "colab": {
     "base_uri": "https://localhost:8080/",
     "height": 204
    },
    "colab_type": "code",
    "executionInfo": {
     "elapsed": 3791,
     "status": "ok",
     "timestamp": 1568163889369,
     "user": {
      "displayName": "Sung Hak Lim",
      "photoUrl": "https://lh3.googleusercontent.com/a-/AAuE7mCAsIrkT7qHVbLE2qbnDRuLFImyiwklV4EiB94wNA=s64",
      "userId": "05716500249544805974"
     },
     "user_tz": -540
    },
    "id": "n9T32EjlDQEo",
    "outputId": "f44a3cc8-b8fe-401a-dfff-ac069badeda0"
   },
   "outputs": [],
   "source": [
    "# Data Frame 정의하기\n",
    "# 이전에 DataFrame에 들어갈 데이터를 정의해주어야 하는데,\n",
    "# 이는 python의 dictionary 또는 numpy의 array로 정의할 수 있다.\n",
    "\n",
    "data = {'name':['lee', 'lee', 'lee', 'kim', 'park'],\n",
    "       'year':[2013, 2014, 2015, 2016, 2015],\n",
    "       'points':[1.5, 1.7, 3.6, 2.4, 2.9]}\n",
    "\n",
    "df = pd.DataFrame(data)\n",
    "df"
   ]
  },
  {
   "cell_type": "code",
   "execution_count": null,
   "metadata": {
    "colab": {},
    "colab_type": "code",
    "id": "-ZStffWtFdTI"
   },
   "outputs": [],
   "source": [
    "# 행과 열의 구조를 가진 데이터가 생긴다."
   ]
  },
  {
   "cell_type": "code",
   "execution_count": null,
   "metadata": {
    "colab": {
     "base_uri": "https://localhost:8080/",
     "height": 34
    },
    "colab_type": "code",
    "executionInfo": {
     "elapsed": 3775,
     "status": "ok",
     "timestamp": 1568163889370,
     "user": {
      "displayName": "Sung Hak Lim",
      "photoUrl": "https://lh3.googleusercontent.com/a-/AAuE7mCAsIrkT7qHVbLE2qbnDRuLFImyiwklV4EiB94wNA=s64",
      "userId": "05716500249544805974"
     },
     "user_tz": -540
    },
    "id": "VWqeZT1GFhAI",
    "outputId": "e48efee1-23a2-4515-d1ab-cedb8e898603"
   },
   "outputs": [],
   "source": [
    "# 행 번호\n",
    "df.index"
   ]
  },
  {
   "cell_type": "code",
   "execution_count": null,
   "metadata": {
    "colab": {
     "base_uri": "https://localhost:8080/",
     "height": 34
    },
    "colab_type": "code",
    "executionInfo": {
     "elapsed": 3768,
     "status": "ok",
     "timestamp": 1568163889371,
     "user": {
      "displayName": "Sung Hak Lim",
      "photoUrl": "https://lh3.googleusercontent.com/a-/AAuE7mCAsIrkT7qHVbLE2qbnDRuLFImyiwklV4EiB94wNA=s64",
      "userId": "05716500249544805974"
     },
     "user_tz": -540
    },
    "id": "ox0oyh0LFjz_",
    "outputId": "18b9d85c-9155-449a-a855-ffea5081c071"
   },
   "outputs": [],
   "source": [
    "# 열 이름\n",
    "df.columns"
   ]
  },
  {
   "cell_type": "code",
   "execution_count": null,
   "metadata": {
    "colab": {
     "base_uri": "https://localhost:8080/",
     "height": 142
    },
    "colab_type": "code",
    "executionInfo": {
     "elapsed": 3761,
     "status": "ok",
     "timestamp": 1568163889372,
     "user": {
      "displayName": "Sung Hak Lim",
      "photoUrl": "https://lh3.googleusercontent.com/a-/AAuE7mCAsIrkT7qHVbLE2qbnDRuLFImyiwklV4EiB94wNA=s64",
      "userId": "05716500249544805974"
     },
     "user_tz": -540
    },
    "id": "jfnlqbd75Ao6",
    "outputId": "d9b5eaf2-6ccd-4f6d-b08c-aefb8f15c53c"
   },
   "outputs": [],
   "source": [
    "df.head(3)"
   ]
  },
  {
   "cell_type": "code",
   "execution_count": null,
   "metadata": {
    "colab": {
     "base_uri": "https://localhost:8080/",
     "height": 111
    },
    "colab_type": "code",
    "executionInfo": {
     "elapsed": 3753,
     "status": "ok",
     "timestamp": 1568163889372,
     "user": {
      "displayName": "Sung Hak Lim",
      "photoUrl": "https://lh3.googleusercontent.com/a-/AAuE7mCAsIrkT7qHVbLE2qbnDRuLFImyiwklV4EiB94wNA=s64",
      "userId": "05716500249544805974"
     },
     "user_tz": -540
    },
    "id": "JSLjfXqf5Llx",
    "outputId": "eb312d5e-df94-485c-da93-e7e2368fcd7c"
   },
   "outputs": [],
   "source": [
    "df.tail(2)"
   ]
  },
  {
   "cell_type": "code",
   "execution_count": null,
   "metadata": {
    "colab": {
     "base_uri": "https://localhost:8080/",
     "height": 102
    },
    "colab_type": "code",
    "executionInfo": {
     "elapsed": 3746,
     "status": "ok",
     "timestamp": 1568163889373,
     "user": {
      "displayName": "Sung Hak Lim",
      "photoUrl": "https://lh3.googleusercontent.com/a-/AAuE7mCAsIrkT7qHVbLE2qbnDRuLFImyiwklV4EiB94wNA=s64",
      "userId": "05716500249544805974"
     },
     "user_tz": -540
    },
    "id": "K6JbWgfaFoLa",
    "outputId": "9b98fd06-f9c8-4e0d-9a22-981fcdb3a537"
   },
   "outputs": [],
   "source": [
    "# 값 얻기\n",
    "df.values"
   ]
  },
  {
   "cell_type": "code",
   "execution_count": null,
   "metadata": {
    "colab": {
     "base_uri": "https://localhost:8080/",
     "height": 68
    },
    "colab_type": "code",
    "executionInfo": {
     "elapsed": 3738,
     "status": "ok",
     "timestamp": 1568163889373,
     "user": {
      "displayName": "Sung Hak Lim",
      "photoUrl": "https://lh3.googleusercontent.com/a-/AAuE7mCAsIrkT7qHVbLE2qbnDRuLFImyiwklV4EiB94wNA=s64",
      "userId": "05716500249544805974"
     },
     "user_tz": -540
    },
    "id": "FpFzaL7P6Wc9",
    "outputId": "002d0cca-b173-4669-b91a-fcade1bbed48"
   },
   "outputs": [],
   "source": [
    "data"
   ]
  },
  {
   "cell_type": "code",
   "execution_count": null,
   "metadata": {
    "colab": {
     "base_uri": "https://localhost:8080/",
     "height": 204
    },
    "colab_type": "code",
    "executionInfo": {
     "elapsed": 3731,
     "status": "ok",
     "timestamp": 1568163889374,
     "user": {
      "displayName": "Sung Hak Lim",
      "photoUrl": "https://lh3.googleusercontent.com/a-/AAuE7mCAsIrkT7qHVbLE2qbnDRuLFImyiwklV4EiB94wNA=s64",
      "userId": "05716500249544805974"
     },
     "user_tz": -540
    },
    "id": "St6yILe2FyzG",
    "outputId": "626c83f2-664c-4b41-95e2-50886be6e119"
   },
   "outputs": [],
   "source": [
    "# DataFrame을 만들면서 columns와 index를 설정할 수 있다.\n",
    "\n",
    "df2 = pd.DataFrame(data, columns=['year', 'name', 'points', 'penalty'], index=['one', 'two', 'three', 'four', 'five'])\n",
    "df2"
   ]
  },
  {
   "cell_type": "code",
   "execution_count": null,
   "metadata": {
    "colab": {},
    "colab_type": "code",
    "id": "xxFSqVNwGDkH"
   },
   "outputs": [],
   "source": [
    "# DataFrame을 정의하면서, data로 들어가는 python dictionary와 columns의\n",
    "# 순서가 달라도 알아서 맞춰서 정의된다.\n",
    "# 하지만 data에 포함되어 있지 않은 값은\n",
    "# Nan(Not a Number)으로 나타나게 된다.\n",
    "# 이는 null과 같은 개념이다.\n",
    "# Nan 값은 추후에 어떠한 방법으로도 처리가 되지 않는 데이터이다.\n",
    "# 따라서 올바른 데이터 처리를 위해 추가적으로 값을 넣어줘야 한다."
   ]
  },
  {
   "cell_type": "code",
   "execution_count": null,
   "metadata": {
    "colab": {
     "base_uri": "https://localhost:8080/",
     "height": 297
    },
    "colab_type": "code",
    "executionInfo": {
     "elapsed": 3718,
     "status": "ok",
     "timestamp": 1568163889374,
     "user": {
      "displayName": "Sung Hak Lim",
      "photoUrl": "https://lh3.googleusercontent.com/a-/AAuE7mCAsIrkT7qHVbLE2qbnDRuLFImyiwklV4EiB94wNA=s64",
      "userId": "05716500249544805974"
     },
     "user_tz": -540
    },
    "id": "Q2kNQazpGdaB",
    "outputId": "0014911a-b51c-4f53-8429-d6d4a67cfaee"
   },
   "outputs": [],
   "source": [
    "# describe() 함수는 DataFrame의 계산 가능한 값들에 대한 요약통계 값을 보여준다.\n",
    "df2.describe()"
   ]
  },
  {
   "cell_type": "code",
   "execution_count": null,
   "metadata": {
    "colab": {
     "base_uri": "https://localhost:8080/",
     "height": 170
    },
    "colab_type": "code",
    "executionInfo": {
     "elapsed": 3712,
     "status": "ok",
     "timestamp": 1568163889375,
     "user": {
      "displayName": "Sung Hak Lim",
      "photoUrl": "https://lh3.googleusercontent.com/a-/AAuE7mCAsIrkT7qHVbLE2qbnDRuLFImyiwklV4EiB94wNA=s64",
      "userId": "05716500249544805974"
     },
     "user_tz": -540
    },
    "id": "MG9N2o0d63Sv",
    "outputId": "899f5af8-c39e-4678-c3ea-cb890f14f2aa"
   },
   "outputs": [],
   "source": [
    "# info() 함수는 DataFrame의 요약정보를 보여준다.\n",
    "df2.info()"
   ]
  },
  {
   "cell_type": "code",
   "execution_count": null,
   "metadata": {
    "colab": {},
    "colab_type": "code",
    "id": "TQ8qwSlfGlRL"
   },
   "outputs": [],
   "source": [
    "# 3. DataFrame Indexing"
   ]
  },
  {
   "cell_type": "code",
   "execution_count": null,
   "metadata": {
    "colab": {
     "base_uri": "https://localhost:8080/",
     "height": 204
    },
    "colab_type": "code",
    "executionInfo": {
     "elapsed": 3701,
     "status": "ok",
     "timestamp": 1568163889377,
     "user": {
      "displayName": "Sung Hak Lim",
      "photoUrl": "https://lh3.googleusercontent.com/a-/AAuE7mCAsIrkT7qHVbLE2qbnDRuLFImyiwklV4EiB94wNA=s64",
      "userId": "05716500249544805974"
     },
     "user_tz": -540
    },
    "id": "_uHrcFbWGrFI",
    "outputId": "04c8d7b0-296e-4b0a-c51e-a5ee5496c43f"
   },
   "outputs": [],
   "source": [
    "data = {'names':['lee', 'lee', 'lee', 'park', 'park'],\n",
    "       'year': [2014, 2015, 2016, 2015, 2016],\n",
    "       'points':[1.5, 1.7, 3.6, 2.4, 2.9]}\n",
    "\n",
    "df3 = pd.DataFrame(data, \n",
    "                   columns=['year', 'names', 'points', 'penalty'], \n",
    "                   index=['one', 'two', 'three', 'four', 'five'])\n",
    "df3"
   ]
  },
  {
   "cell_type": "code",
   "execution_count": null,
   "metadata": {
    "colab": {},
    "colab_type": "code",
    "id": "MohoN8aTHLaO"
   },
   "outputs": [],
   "source": [
    "# 3-1. DataFrame 에서 열을 선택하고 조작하기"
   ]
  },
  {
   "cell_type": "code",
   "execution_count": null,
   "metadata": {
    "colab": {
     "base_uri": "https://localhost:8080/",
     "height": 119
    },
    "colab_type": "code",
    "executionInfo": {
     "elapsed": 3689,
     "status": "ok",
     "timestamp": 1568163889378,
     "user": {
      "displayName": "Sung Hak Lim",
      "photoUrl": "https://lh3.googleusercontent.com/a-/AAuE7mCAsIrkT7qHVbLE2qbnDRuLFImyiwklV4EiB94wNA=s64",
      "userId": "05716500249544805974"
     },
     "user_tz": -540
    },
    "id": "rpAUPB3-HP3N",
    "outputId": "ca653bf2-3683-4cf3-b3a9-99e71e72b94f"
   },
   "outputs": [],
   "source": [
    "df3['names']"
   ]
  },
  {
   "cell_type": "code",
   "execution_count": null,
   "metadata": {
    "colab": {
     "base_uri": "https://localhost:8080/",
     "height": 119
    },
    "colab_type": "code",
    "executionInfo": {
     "elapsed": 3681,
     "status": "ok",
     "timestamp": 1568163889378,
     "user": {
      "displayName": "Sung Hak Lim",
      "photoUrl": "https://lh3.googleusercontent.com/a-/AAuE7mCAsIrkT7qHVbLE2qbnDRuLFImyiwklV4EiB94wNA=s64",
      "userId": "05716500249544805974"
     },
     "user_tz": -540
    },
    "id": "VZAT-gyDHRQB",
    "outputId": "9395f9d1-ec91-4b45-afb3-6c574f45b105"
   },
   "outputs": [],
   "source": [
    "# 동일한 의미를 갖는, 다른 방법\n",
    "df3.names"
   ]
  },
  {
   "cell_type": "code",
   "execution_count": null,
   "metadata": {
    "colab": {
     "base_uri": "https://localhost:8080/",
     "height": 204
    },
    "colab_type": "code",
    "executionInfo": {
     "elapsed": 3672,
     "status": "ok",
     "timestamp": 1568163889379,
     "user": {
      "displayName": "Sung Hak Lim",
      "photoUrl": "https://lh3.googleusercontent.com/a-/AAuE7mCAsIrkT7qHVbLE2qbnDRuLFImyiwklV4EiB94wNA=s64",
      "userId": "05716500249544805974"
     },
     "user_tz": -540
    },
    "id": "m5o47o-cHUeT",
    "outputId": "4b6b814b-1abe-417e-8a82-4cc502b31bd5"
   },
   "outputs": [],
   "source": [
    "df3[['year', 'points']]"
   ]
  },
  {
   "cell_type": "code",
   "execution_count": null,
   "metadata": {
    "colab": {
     "base_uri": "https://localhost:8080/",
     "height": 204
    },
    "colab_type": "code",
    "executionInfo": {
     "elapsed": 3665,
     "status": "ok",
     "timestamp": 1568163889380,
     "user": {
      "displayName": "Sung Hak Lim",
      "photoUrl": "https://lh3.googleusercontent.com/a-/AAuE7mCAsIrkT7qHVbLE2qbnDRuLFImyiwklV4EiB94wNA=s64",
      "userId": "05716500249544805974"
     },
     "user_tz": -540
    },
    "id": "B51WOZdrHXvb",
    "outputId": "b8fe3c44-50bd-4829-e86a-42959533c9fa"
   },
   "outputs": [],
   "source": [
    "# 특정 열에 대해 위와 같이 선택하고, 우리가 원하는 값을 대입할 수 있다.\n",
    "df3.penalty = 0.5\n",
    "df3"
   ]
  },
  {
   "cell_type": "code",
   "execution_count": null,
   "metadata": {
    "colab": {
     "base_uri": "https://localhost:8080/",
     "height": 204
    },
    "colab_type": "code",
    "executionInfo": {
     "elapsed": 3655,
     "status": "ok",
     "timestamp": 1568163889380,
     "user": {
      "displayName": "Sung Hak Lim",
      "photoUrl": "https://lh3.googleusercontent.com/a-/AAuE7mCAsIrkT7qHVbLE2qbnDRuLFImyiwklV4EiB94wNA=s64",
      "userId": "05716500249544805974"
     },
     "user_tz": -540
    },
    "id": "YkhlnfMeHfc1",
    "outputId": "18d421a2-a72b-4bcf-b94d-4b6b319ef7fa"
   },
   "outputs": [],
   "source": [
    "# 또는\n",
    "# python의 List나 numpy의 array\n",
    "df3.penalty = [0.2, 0.3, 0.5, 0.8, 0.1]\n",
    "df3"
   ]
  },
  {
   "cell_type": "code",
   "execution_count": null,
   "metadata": {
    "colab": {
     "base_uri": "https://localhost:8080/",
     "height": 204
    },
    "colab_type": "code",
    "executionInfo": {
     "elapsed": 3647,
     "status": "ok",
     "timestamp": 1568163889381,
     "user": {
      "displayName": "Sung Hak Lim",
      "photoUrl": "https://lh3.googleusercontent.com/a-/AAuE7mCAsIrkT7qHVbLE2qbnDRuLFImyiwklV4EiB94wNA=s64",
      "userId": "05716500249544805974"
     },
     "user_tz": -540
    },
    "id": "a-6UIoYyHqs3",
    "outputId": "c7e61f23-a629-4d4e-90c6-11f1c445c6f7"
   },
   "outputs": [],
   "source": [
    "# 새로운 열을 추가하기\n",
    "df3['zeros'] = np.arange(5)\n",
    "df3"
   ]
  },
  {
   "cell_type": "code",
   "execution_count": null,
   "metadata": {
    "colab": {},
    "colab_type": "code",
    "id": "eaIoyRAqHv-z"
   },
   "outputs": [],
   "source": []
  },
  {
   "cell_type": "code",
   "execution_count": null,
   "metadata": {
    "colab": {},
    "colab_type": "code",
    "id": "C5tOn4gnHw5s"
   },
   "outputs": [],
   "source": [
    "# Series를 추가할 수도 있다.\n",
    "val = pd.Series([-1.2, -1.5, -1.7],\n",
    "               index=['two', 'four', 'five'])"
   ]
  },
  {
   "cell_type": "code",
   "execution_count": null,
   "metadata": {
    "colab": {
     "base_uri": "https://localhost:8080/",
     "height": 204
    },
    "colab_type": "code",
    "executionInfo": {
     "elapsed": 3627,
     "status": "ok",
     "timestamp": 1568163889383,
     "user": {
      "displayName": "Sung Hak Lim",
      "photoUrl": "https://lh3.googleusercontent.com/a-/AAuE7mCAsIrkT7qHVbLE2qbnDRuLFImyiwklV4EiB94wNA=s64",
      "userId": "05716500249544805974"
     },
     "user_tz": -540
    },
    "id": "dM2lJPcTH7_U",
    "outputId": "a6ce0bc5-d2f9-4b39-c2b4-e90c032e48f0"
   },
   "outputs": [],
   "source": [
    "df3['depts'] = val\n",
    "df3"
   ]
  },
  {
   "cell_type": "code",
   "execution_count": null,
   "metadata": {
    "colab": {},
    "colab_type": "code",
    "id": "dHXF4uiWIDR1"
   },
   "outputs": [],
   "source": [
    "# 하지만 Series로 넣을 때는 val와 같이 넣으려는 data의 index에 맞춰서 \n",
    "# 데이터가 들어간다.\n",
    "# 이점이 python list나 numpy array로 데이터를 넣을 때와 가장 큰 차이점이다."
   ]
  },
  {
   "cell_type": "code",
   "execution_count": null,
   "metadata": {
    "colab": {
     "base_uri": "https://localhost:8080/",
     "height": 204
    },
    "colab_type": "code",
    "executionInfo": {
     "elapsed": 3615,
     "status": "ok",
     "timestamp": 1568163889384,
     "user": {
      "displayName": "Sung Hak Lim",
      "photoUrl": "https://lh3.googleusercontent.com/a-/AAuE7mCAsIrkT7qHVbLE2qbnDRuLFImyiwklV4EiB94wNA=s64",
      "userId": "05716500249544805974"
     },
     "user_tz": -540
    },
    "id": "OQxeLuhkIZqh",
    "outputId": "0405c4a2-f7a9-4d39-d63e-47fcd0882516"
   },
   "outputs": [],
   "source": [
    "df3['net_points'] = df3['points'] - df3['penalty']\n",
    "df3"
   ]
  },
  {
   "cell_type": "code",
   "execution_count": null,
   "metadata": {
    "colab": {
     "base_uri": "https://localhost:8080/",
     "height": 204
    },
    "colab_type": "code",
    "executionInfo": {
     "elapsed": 3608,
     "status": "ok",
     "timestamp": 1568163889385,
     "user": {
      "displayName": "Sung Hak Lim",
      "photoUrl": "https://lh3.googleusercontent.com/a-/AAuE7mCAsIrkT7qHVbLE2qbnDRuLFImyiwklV4EiB94wNA=s64",
      "userId": "05716500249544805974"
     },
     "user_tz": -540
    },
    "id": "G0ynWkLtIhyC",
    "outputId": "adc2c48c-a1c8-489a-8507-36c5b89073a0"
   },
   "outputs": [],
   "source": [
    "df3['high_points'] = df3['net_points'] > 2\n",
    "df3"
   ]
  },
  {
   "cell_type": "code",
   "execution_count": null,
   "metadata": {
    "colab": {
     "base_uri": "https://localhost:8080/",
     "height": 204
    },
    "colab_type": "code",
    "executionInfo": {
     "elapsed": 3600,
     "status": "ok",
     "timestamp": 1568163889385,
     "user": {
      "displayName": "Sung Hak Lim",
      "photoUrl": "https://lh3.googleusercontent.com/a-/AAuE7mCAsIrkT7qHVbLE2qbnDRuLFImyiwklV4EiB94wNA=s64",
      "userId": "05716500249544805974"
     },
     "user_tz": -540
    },
    "id": "tKPPePE5IoH4",
    "outputId": "68819a15-4954-4523-f1b3-5ea4ad1bfe83"
   },
   "outputs": [],
   "source": [
    "# 열 삭제하기\n",
    "del df3['high_points']\n",
    "df3"
   ]
  },
  {
   "cell_type": "code",
   "execution_count": null,
   "metadata": {
    "colab": {
     "base_uri": "https://localhost:8080/",
     "height": 204
    },
    "colab_type": "code",
    "executionInfo": {
     "elapsed": 3593,
     "status": "ok",
     "timestamp": 1568163889386,
     "user": {
      "displayName": "Sung Hak Lim",
      "photoUrl": "https://lh3.googleusercontent.com/a-/AAuE7mCAsIrkT7qHVbLE2qbnDRuLFImyiwklV4EiB94wNA=s64",
      "userId": "05716500249544805974"
     },
     "user_tz": -540
    },
    "id": "a4zOZQf8ANFS",
    "outputId": "77f9b592-4926-4d01-fd79-ee255004cd69"
   },
   "outputs": [],
   "source": [
    "del df3['net_points']\n",
    "df3"
   ]
  },
  {
   "cell_type": "code",
   "execution_count": null,
   "metadata": {
    "colab": {},
    "colab_type": "code",
    "id": "vxSOtW4zI3Kg"
   },
   "outputs": [],
   "source": [
    "# 3-2. DataFrame에서 행을 선택하고 조작하기\n",
    "# Pandas에서는 DataFrame에서 행을 인덱싱하는 방법이 무수히 많다.\n",
    "# 물론 위에서 소개했던 열을 선택하는 방법도 수많은 방법 중에 하나에 불과하다."
   ]
  },
  {
   "cell_type": "code",
   "execution_count": null,
   "metadata": {
    "colab": {
     "base_uri": "https://localhost:8080/",
     "height": 142
    },
    "colab_type": "code",
    "executionInfo": {
     "elapsed": 3581,
     "status": "ok",
     "timestamp": 1568163889387,
     "user": {
      "displayName": "Sung Hak Lim",
      "photoUrl": "https://lh3.googleusercontent.com/a-/AAuE7mCAsIrkT7qHVbLE2qbnDRuLFImyiwklV4EiB94wNA=s64",
      "userId": "05716500249544805974"
     },
     "user_tz": -540
    },
    "id": "r5VxuvyaJGwm",
    "outputId": "6bca9682-0893-41a7-c18d-6f4d723b3b80"
   },
   "outputs": [],
   "source": [
    "# 0번째 부터 2(3-1)번째 까지 가져온다.\n",
    "# 뒤에 써준 숫자번째의 행은 뺀다.\n",
    "df3[0:3]"
   ]
  },
  {
   "cell_type": "code",
   "execution_count": null,
   "metadata": {
    "colab": {
     "base_uri": "https://localhost:8080/",
     "height": 204
    },
    "colab_type": "code",
    "executionInfo": {
     "elapsed": 4723,
     "status": "ok",
     "timestamp": 1568163890537,
     "user": {
      "displayName": "Sung Hak Lim",
      "photoUrl": "https://lh3.googleusercontent.com/a-/AAuE7mCAsIrkT7qHVbLE2qbnDRuLFImyiwklV4EiB94wNA=s64",
      "userId": "05716500249544805974"
     },
     "user_tz": -540
    },
    "id": "jSAp2vFqJUV5",
    "outputId": "f9e4580a-cf4f-477d-aaf0-390b04b0e83d"
   },
   "outputs": [],
   "source": [
    "# 아래 방법을 권장한다.\n",
    "# .loc 또는 .iloc 함수를 사용하는 방법\n",
    "df3"
   ]
  },
  {
   "cell_type": "code",
   "execution_count": null,
   "metadata": {
    "colab": {
     "base_uri": "https://localhost:8080/",
     "height": 119
    },
    "colab_type": "code",
    "executionInfo": {
     "elapsed": 4716,
     "status": "ok",
     "timestamp": 1568163890538,
     "user": {
      "displayName": "Sung Hak Lim",
      "photoUrl": "https://lh3.googleusercontent.com/a-/AAuE7mCAsIrkT7qHVbLE2qbnDRuLFImyiwklV4EiB94wNA=s64",
      "userId": "05716500249544805974"
     },
     "user_tz": -540
    },
    "id": "gZODYM7VJdMq",
    "outputId": "de391063-541d-4fed-99b8-7f60f2342387"
   },
   "outputs": [],
   "source": [
    "df3.loc[:,'year']"
   ]
  },
  {
   "cell_type": "code",
   "execution_count": null,
   "metadata": {
    "colab": {
     "base_uri": "https://localhost:8080/",
     "height": 34
    },
    "colab_type": "code",
    "executionInfo": {
     "elapsed": 4709,
     "status": "ok",
     "timestamp": 1568163890538,
     "user": {
      "displayName": "Sung Hak Lim",
      "photoUrl": "https://lh3.googleusercontent.com/a-/AAuE7mCAsIrkT7qHVbLE2qbnDRuLFImyiwklV4EiB94wNA=s64",
      "userId": "05716500249544805974"
     },
     "user_tz": -540
    },
    "id": "38wXjPqe1Iwa",
    "outputId": "7d0a9a35-13ad-43dd-83b1-a856c7666022"
   },
   "outputs": [],
   "source": [
    "df3.loc['one','year']"
   ]
  },
  {
   "cell_type": "code",
   "execution_count": null,
   "metadata": {
    "colab": {
     "base_uri": "https://localhost:8080/",
     "height": 136
    },
    "colab_type": "code",
    "executionInfo": {
     "elapsed": 4701,
     "status": "ok",
     "timestamp": 1568163890539,
     "user": {
      "displayName": "Sung Hak Lim",
      "photoUrl": "https://lh3.googleusercontent.com/a-/AAuE7mCAsIrkT7qHVbLE2qbnDRuLFImyiwklV4EiB94wNA=s64",
      "userId": "05716500249544805974"
     },
     "user_tz": -540
    },
    "id": "3yGb7Xd31rnb",
    "outputId": "c8295cd0-648e-478e-8e43-f626faca2452"
   },
   "outputs": [],
   "source": [
    "df3.loc['two']"
   ]
  },
  {
   "cell_type": "code",
   "execution_count": null,
   "metadata": {
    "colab": {
     "base_uri": "https://localhost:8080/",
     "height": 142
    },
    "colab_type": "code",
    "executionInfo": {
     "elapsed": 4694,
     "status": "ok",
     "timestamp": 1568163890539,
     "user": {
      "displayName": "Sung Hak Lim",
      "photoUrl": "https://lh3.googleusercontent.com/a-/AAuE7mCAsIrkT7qHVbLE2qbnDRuLFImyiwklV4EiB94wNA=s64",
      "userId": "05716500249544805974"
     },
     "user_tz": -540
    },
    "id": "U49khi3t1vBb",
    "outputId": "35ae6743-09b4-42e2-c040-8cd64c509f3b"
   },
   "outputs": [],
   "source": [
    "df3.loc['two':'four']"
   ]
  },
  {
   "cell_type": "code",
   "execution_count": null,
   "metadata": {
    "colab": {
     "base_uri": "https://localhost:8080/",
     "height": 204
    },
    "colab_type": "code",
    "executionInfo": {
     "elapsed": 4687,
     "status": "ok",
     "timestamp": 1568163890540,
     "user": {
      "displayName": "Sung Hak Lim",
      "photoUrl": "https://lh3.googleusercontent.com/a-/AAuE7mCAsIrkT7qHVbLE2qbnDRuLFImyiwklV4EiB94wNA=s64",
      "userId": "05716500249544805974"
     },
     "user_tz": -540
    },
    "id": "J3IHeAXE1zNh",
    "outputId": "5b4bcf85-478a-4232-c2cc-899d73a99fe8"
   },
   "outputs": [],
   "source": [
    "# DataFrame 복제하는 방법 \n",
    "\n",
    "data = {'names':['lee', 'lee', 'lee', 'park', 'park'],\n",
    "       'year': [2014, 2015, 2016, 2015, 2016],\n",
    "       'points':[1.5, 1.7, 3.6, 2.4, 2.9]}\n",
    "\n",
    "df = pd.DataFrame(data, \n",
    "                   columns=['year', 'names', 'points', 'penalty'], \n",
    "                   index=['one', 'two', 'three', 'four', 'five'])\n",
    "df"
   ]
  },
  {
   "cell_type": "code",
   "execution_count": null,
   "metadata": {
    "colab": {
     "base_uri": "https://localhost:8080/",
     "height": 204
    },
    "colab_type": "code",
    "executionInfo": {
     "elapsed": 4679,
     "status": "ok",
     "timestamp": 1568163890540,
     "user": {
      "displayName": "Sung Hak Lim",
      "photoUrl": "https://lh3.googleusercontent.com/a-/AAuE7mCAsIrkT7qHVbLE2qbnDRuLFImyiwklV4EiB94wNA=s64",
      "userId": "05716500249544805974"
     },
     "user_tz": -540
    },
    "id": "2iQ31pn_Cf7o",
    "outputId": "28dbc1e7-faba-4490-8ed5-457af6819508"
   },
   "outputs": [],
   "source": [
    "# np.copy 를 이용해서 복제하면 각각의 DataFrame이 독립적이다.\n",
    "df_copy = df.copy() \n",
    "df_copy"
   ]
  },
  {
   "cell_type": "code",
   "execution_count": null,
   "metadata": {
    "colab": {
     "base_uri": "https://localhost:8080/",
     "height": 221
    },
    "colab_type": "code",
    "executionInfo": {
     "elapsed": 4672,
     "status": "ok",
     "timestamp": 1568163890541,
     "user": {
      "displayName": "Sung Hak Lim",
      "photoUrl": "https://lh3.googleusercontent.com/a-/AAuE7mCAsIrkT7qHVbLE2qbnDRuLFImyiwklV4EiB94wNA=s64",
      "userId": "05716500249544805974"
     },
     "user_tz": -540
    },
    "id": "CEynYi2OCf3M",
    "outputId": "45087fa0-b33a-4e42-e619-52e3f186cf47"
   },
   "outputs": [],
   "source": [
    "del df_copy['penalty']\n",
    "print(df)\n",
    "print(df_copy)"
   ]
  },
  {
   "cell_type": "code",
   "execution_count": null,
   "metadata": {
    "colab": {
     "base_uri": "https://localhost:8080/",
     "height": 204
    },
    "colab_type": "code",
    "executionInfo": {
     "elapsed": 4665,
     "status": "ok",
     "timestamp": 1568163890541,
     "user": {
      "displayName": "Sung Hak Lim",
      "photoUrl": "https://lh3.googleusercontent.com/a-/AAuE7mCAsIrkT7qHVbLE2qbnDRuLFImyiwklV4EiB94wNA=s64",
      "userId": "05716500249544805974"
     },
     "user_tz": -540
    },
    "id": "RQVpu5kKDHYn",
    "outputId": "423303f0-1d5d-446d-e464-281a5b3bb419"
   },
   "outputs": [],
   "source": [
    "# '=' 를 이용해서 복제하면 종속되어 같이 변경된다.\n",
    "df_copy = df\n",
    "df_copy"
   ]
  },
  {
   "cell_type": "code",
   "execution_count": null,
   "metadata": {
    "colab": {
     "base_uri": "https://localhost:8080/",
     "height": 221
    },
    "colab_type": "code",
    "executionInfo": {
     "elapsed": 4658,
     "status": "ok",
     "timestamp": 1568163890542,
     "user": {
      "displayName": "Sung Hak Lim",
      "photoUrl": "https://lh3.googleusercontent.com/a-/AAuE7mCAsIrkT7qHVbLE2qbnDRuLFImyiwklV4EiB94wNA=s64",
      "userId": "05716500249544805974"
     },
     "user_tz": -540
    },
    "id": "0MNayV2rDHPb",
    "outputId": "ebcf2122-83e4-437b-8d03-4b1c41044955"
   },
   "outputs": [],
   "source": [
    "del df_copy['penalty']\n",
    "print(df)\n",
    "print(df_copy)"
   ]
  },
  {
   "cell_type": "code",
   "execution_count": null,
   "metadata": {
    "colab": {
     "base_uri": "https://localhost:8080/",
     "height": 204
    },
    "colab_type": "code",
    "executionInfo": {
     "elapsed": 4650,
     "status": "ok",
     "timestamp": 1568163890542,
     "user": {
      "displayName": "Sung Hak Lim",
      "photoUrl": "https://lh3.googleusercontent.com/a-/AAuE7mCAsIrkT7qHVbLE2qbnDRuLFImyiwklV4EiB94wNA=s64",
      "userId": "05716500249544805974"
     },
     "user_tz": -540
    },
    "id": "hX82hCdsFKSC",
    "outputId": "73f559fe-a3d5-4baf-86ee-50c33c128d32"
   },
   "outputs": [],
   "source": [
    "data = {'names':['lee', 'lee', 'lee', 'park', 'park'],\n",
    "       'year': [2014, 2015, 2016, 2015, 2016],\n",
    "       'points':[1.5, 1.7, 3.6, 2.4, 2.9]}\n",
    "\n",
    "df = pd.DataFrame(data, \n",
    "                   columns=['year', 'names', 'points', 'penalty'], \n",
    "                   index=['one', 'two', 'three', 'four', 'five'])\n",
    "df"
   ]
  },
  {
   "cell_type": "code",
   "execution_count": null,
   "metadata": {
    "colab": {
     "base_uri": "https://localhost:8080/",
     "height": 235
    },
    "colab_type": "code",
    "executionInfo": {
     "elapsed": 4642,
     "status": "ok",
     "timestamp": 1568163890543,
     "user": {
      "displayName": "Sung Hak Lim",
      "photoUrl": "https://lh3.googleusercontent.com/a-/AAuE7mCAsIrkT7qHVbLE2qbnDRuLFImyiwklV4EiB94wNA=s64",
      "userId": "05716500249544805974"
     },
     "user_tz": -540
    },
    "id": "sRVvsd6I1_ce",
    "outputId": "20caeb41-26c6-4ca4-ce29-2cdebc6894a0"
   },
   "outputs": [],
   "source": [
    "# 새로운 행 삽입하기\n",
    "df.loc['six',:] = [2013, 'june', 4.0, 0.1]\n",
    "df"
   ]
  },
  {
   "cell_type": "code",
   "execution_count": null,
   "metadata": {
    "colab": {
     "base_uri": "https://localhost:8080/",
     "height": 102
    },
    "colab_type": "code",
    "executionInfo": {
     "elapsed": 4634,
     "status": "ok",
     "timestamp": 1568163890543,
     "user": {
      "displayName": "Sung Hak Lim",
      "photoUrl": "https://lh3.googleusercontent.com/a-/AAuE7mCAsIrkT7qHVbLE2qbnDRuLFImyiwklV4EiB94wNA=s64",
      "userId": "05716500249544805974"
     },
     "user_tz": -540
    },
    "id": "hwLbM9-y2NA7",
    "outputId": "e2575a0a-e922-4773-ae9e-e3102e68d775"
   },
   "outputs": [],
   "source": [
    "# .iloc 사용 :: index 번호를 사용한다.\n",
    "df.iloc[3]"
   ]
  },
  {
   "cell_type": "code",
   "execution_count": null,
   "metadata": {
    "colab": {
     "base_uri": "https://localhost:8080/",
     "height": 111
    },
    "colab_type": "code",
    "executionInfo": {
     "elapsed": 4627,
     "status": "ok",
     "timestamp": 1568163890544,
     "user": {
      "displayName": "Sung Hak Lim",
      "photoUrl": "https://lh3.googleusercontent.com/a-/AAuE7mCAsIrkT7qHVbLE2qbnDRuLFImyiwklV4EiB94wNA=s64",
      "userId": "05716500249544805974"
     },
     "user_tz": -540
    },
    "id": "BBEY-F_X2XDi",
    "outputId": "2b2ddd7a-bb2c-4f74-d2c8-2082eab7bb90"
   },
   "outputs": [],
   "source": [
    "df.iloc[3:5, 0:2]"
   ]
  },
  {
   "cell_type": "code",
   "execution_count": null,
   "metadata": {
    "colab": {
     "base_uri": "https://localhost:8080/",
     "height": 142
    },
    "colab_type": "code",
    "executionInfo": {
     "elapsed": 4619,
     "status": "ok",
     "timestamp": 1568163890544,
     "user": {
      "displayName": "Sung Hak Lim",
      "photoUrl": "https://lh3.googleusercontent.com/a-/AAuE7mCAsIrkT7qHVbLE2qbnDRuLFImyiwklV4EiB94wNA=s64",
      "userId": "05716500249544805974"
     },
     "user_tz": -540
    },
    "id": "m33v48QV2nmz",
    "outputId": "a25fbf47-d4e7-405a-eeac-ce4cf2225b0a"
   },
   "outputs": [],
   "source": [
    "df.iloc[[1,3,4],[1,2]]"
   ]
  },
  {
   "cell_type": "code",
   "execution_count": null,
   "metadata": {
    "colab": {
     "base_uri": "https://localhost:8080/",
     "height": 235
    },
    "colab_type": "code",
    "executionInfo": {
     "elapsed": 4612,
     "status": "ok",
     "timestamp": 1568163890545,
     "user": {
      "displayName": "Sung Hak Lim",
      "photoUrl": "https://lh3.googleusercontent.com/a-/AAuE7mCAsIrkT7qHVbLE2qbnDRuLFImyiwklV4EiB94wNA=s64",
      "userId": "05716500249544805974"
     },
     "user_tz": -540
    },
    "id": "QBAF-2G_2qVN",
    "outputId": "d292ad49-b60f-4dfe-f200-7bf10bd2a06d"
   },
   "outputs": [],
   "source": [
    "df.iloc[:,1:4]"
   ]
  },
  {
   "cell_type": "code",
   "execution_count": null,
   "metadata": {
    "colab": {
     "base_uri": "https://localhost:8080/",
     "height": 266
    },
    "colab_type": "code",
    "executionInfo": {
     "elapsed": 4605,
     "status": "ok",
     "timestamp": 1568163890545,
     "user": {
      "displayName": "Sung Hak Lim",
      "photoUrl": "https://lh3.googleusercontent.com/a-/AAuE7mCAsIrkT7qHVbLE2qbnDRuLFImyiwklV4EiB94wNA=s64",
      "userId": "05716500249544805974"
     },
     "user_tz": -540
    },
    "id": "ImAJ0x8unmZc",
    "outputId": "27dfb6f3-28c4-42eb-f42c-caa9a3409d55"
   },
   "outputs": [],
   "source": [
    "df.loc['seven',:] = [2018, 'may', 5.0, 0.8]\n",
    "df"
   ]
  },
  {
   "cell_type": "code",
   "execution_count": null,
   "metadata": {
    "colab": {
     "base_uri": "https://localhost:8080/",
     "height": 235
    },
    "colab_type": "code",
    "executionInfo": {
     "elapsed": 4598,
     "status": "ok",
     "timestamp": 1568163890546,
     "user": {
      "displayName": "Sung Hak Lim",
      "photoUrl": "https://lh3.googleusercontent.com/a-/AAuE7mCAsIrkT7qHVbLE2qbnDRuLFImyiwklV4EiB94wNA=s64",
      "userId": "05716500249544805974"
     },
     "user_tz": -540
    },
    "id": "zlK2hmcI20CB",
    "outputId": "1ab9886f-f19f-4457-a053-4f62aa51d128"
   },
   "outputs": [],
   "source": [
    "df.drop('seven')"
   ]
  },
  {
   "cell_type": "code",
   "execution_count": null,
   "metadata": {
    "colab": {
     "base_uri": "https://localhost:8080/",
     "height": 34
    },
    "colab_type": "code",
    "executionInfo": {
     "elapsed": 4590,
     "status": "ok",
     "timestamp": 1568163890546,
     "user": {
      "displayName": "Sung Hak Lim",
      "photoUrl": "https://lh3.googleusercontent.com/a-/AAuE7mCAsIrkT7qHVbLE2qbnDRuLFImyiwklV4EiB94wNA=s64",
      "userId": "05716500249544805974"
     },
     "user_tz": -540
    },
    "id": "KjL3QKEOIYIC",
    "outputId": "39f1984e-01e2-4c45-eca1-6273fd341aac"
   },
   "outputs": [],
   "source": [
    "df.iloc[5,1]"
   ]
  },
  {
   "cell_type": "code",
   "execution_count": null,
   "metadata": {
    "colab": {},
    "colab_type": "code",
    "id": "5cEj19P-22BK"
   },
   "outputs": [],
   "source": [
    "# 4.DataFrame에서의 boolean Indexing"
   ]
  },
  {
   "cell_type": "code",
   "execution_count": null,
   "metadata": {
    "colab": {
     "base_uri": "https://localhost:8080/",
     "height": 266
    },
    "colab_type": "code",
    "executionInfo": {
     "elapsed": 4577,
     "status": "ok",
     "timestamp": 1568163890547,
     "user": {
      "displayName": "Sung Hak Lim",
      "photoUrl": "https://lh3.googleusercontent.com/a-/AAuE7mCAsIrkT7qHVbLE2qbnDRuLFImyiwklV4EiB94wNA=s64",
      "userId": "05716500249544805974"
     },
     "user_tz": -540
    },
    "id": "tslfvsc127Dn",
    "outputId": "9093ea87-29c7-4f66-d86f-a851aa051b93"
   },
   "outputs": [],
   "source": [
    "df"
   ]
  },
  {
   "cell_type": "code",
   "execution_count": null,
   "metadata": {
    "colab": {
     "base_uri": "https://localhost:8080/",
     "height": 153
    },
    "colab_type": "code",
    "executionInfo": {
     "elapsed": 4570,
     "status": "ok",
     "timestamp": 1568163890547,
     "user": {
      "displayName": "Sung Hak Lim",
      "photoUrl": "https://lh3.googleusercontent.com/a-/AAuE7mCAsIrkT7qHVbLE2qbnDRuLFImyiwklV4EiB94wNA=s64",
      "userId": "05716500249544805974"
     },
     "user_tz": -540
    },
    "id": "z6v4xUl927va",
    "outputId": "d618c8f6-43bf-4d60-a5ce-ac93f329c054"
   },
   "outputs": [],
   "source": [
    "# year가 2014보다 큰 boolean data\n",
    "df['year']>2014"
   ]
  },
  {
   "cell_type": "code",
   "execution_count": null,
   "metadata": {
    "colab": {
     "base_uri": "https://localhost:8080/",
     "height": 204
    },
    "colab_type": "code",
    "executionInfo": {
     "elapsed": 4563,
     "status": "ok",
     "timestamp": 1568163890548,
     "user": {
      "displayName": "Sung Hak Lim",
      "photoUrl": "https://lh3.googleusercontent.com/a-/AAuE7mCAsIrkT7qHVbLE2qbnDRuLFImyiwklV4EiB94wNA=s64",
      "userId": "05716500249544805974"
     },
     "user_tz": -540
    },
    "id": "uqzuXGkp3CcU",
    "outputId": "a28d2014-56e1-42d0-fe22-450089675c38"
   },
   "outputs": [],
   "source": [
    "# year가 2014보다 큰 모든 행의 값\n",
    "\n",
    "df.loc[df['year']>2014,:]   # df.loc[df['year']>2014] 와 동일"
   ]
  },
  {
   "cell_type": "code",
   "execution_count": null,
   "metadata": {
    "colab": {
     "base_uri": "https://localhost:8080/",
     "height": 204
    },
    "colab_type": "code",
    "executionInfo": {
     "elapsed": 4555,
     "status": "ok",
     "timestamp": 1568163890548,
     "user": {
      "displayName": "Sung Hak Lim",
      "photoUrl": "https://lh3.googleusercontent.com/a-/AAuE7mCAsIrkT7qHVbLE2qbnDRuLFImyiwklV4EiB94wNA=s64",
      "userId": "05716500249544805974"
     },
     "user_tz": -540
    },
    "id": "-eEqoexQ3LQa",
    "outputId": "63a14e5d-bae9-4fcb-f7bc-5ecbe9bb50b9"
   },
   "outputs": [],
   "source": [
    "df[df['year']>2014]"
   ]
  },
  {
   "cell_type": "code",
   "execution_count": null,
   "metadata": {
    "colab": {
     "base_uri": "https://localhost:8080/",
     "height": 266
    },
    "colab_type": "code",
    "executionInfo": {
     "elapsed": 4548,
     "status": "ok",
     "timestamp": 1568163890549,
     "user": {
      "displayName": "Sung Hak Lim",
      "photoUrl": "https://lh3.googleusercontent.com/a-/AAuE7mCAsIrkT7qHVbLE2qbnDRuLFImyiwklV4EiB94wNA=s64",
      "userId": "05716500249544805974"
     },
     "user_tz": -540
    },
    "id": "NkrkNuIjKXlK",
    "outputId": "115c3ba7-4aa1-4def-fe52-2f941d26e31e"
   },
   "outputs": [],
   "source": [
    "df"
   ]
  },
  {
   "cell_type": "code",
   "execution_count": null,
   "metadata": {
    "colab": {
     "base_uri": "https://localhost:8080/",
     "height": 142
    },
    "colab_type": "code",
    "executionInfo": {
     "elapsed": 4540,
     "status": "ok",
     "timestamp": 1568163890549,
     "user": {
      "displayName": "Sung Hak Lim",
      "photoUrl": "https://lh3.googleusercontent.com/a-/AAuE7mCAsIrkT7qHVbLE2qbnDRuLFImyiwklV4EiB94wNA=s64",
      "userId": "05716500249544805974"
     },
     "user_tz": -540
    },
    "id": "Kb5PUiJOKdr9",
    "outputId": "be29ccd5-7c4b-4ceb-e7ff-1ffe0ec77dbb"
   },
   "outputs": [],
   "source": [
    "df.loc[df['names'] == 'lee',['points','penalty']]"
   ]
  },
  {
   "cell_type": "code",
   "execution_count": null,
   "metadata": {
    "colab": {
     "base_uri": "https://localhost:8080/",
     "height": 266
    },
    "colab_type": "code",
    "executionInfo": {
     "elapsed": 4533,
     "status": "ok",
     "timestamp": 1568163890550,
     "user": {
      "displayName": "Sung Hak Lim",
      "photoUrl": "https://lh3.googleusercontent.com/a-/AAuE7mCAsIrkT7qHVbLE2qbnDRuLFImyiwklV4EiB94wNA=s64",
      "userId": "05716500249544805974"
     },
     "user_tz": -540
    },
    "id": "DeA_2b7uMgpQ",
    "outputId": "2f478c5b-2322-40df-e6d1-1eec09785adc"
   },
   "outputs": [],
   "source": [
    "df"
   ]
  },
  {
   "cell_type": "code",
   "execution_count": null,
   "metadata": {
    "colab": {
     "base_uri": "https://localhost:8080/",
     "height": 227
    },
    "colab_type": "code",
    "executionInfo": {
     "elapsed": 4525,
     "status": "ok",
     "timestamp": 1568163890550,
     "user": {
      "displayName": "Sung Hak Lim",
      "photoUrl": "https://lh3.googleusercontent.com/a-/AAuE7mCAsIrkT7qHVbLE2qbnDRuLFImyiwklV4EiB94wNA=s64",
      "userId": "05716500249544805974"
     },
     "user_tz": -540
    },
    "id": "KWQh4Y3w3TUi",
    "outputId": "792f6e72-fa42-476d-ff96-8b3ef635e69f"
   },
   "outputs": [],
   "source": [
    "# numpy에서와 같이 논리연산을 응용할 수 있다.\n",
    "# points < 1.7 이거나 points >2.9 인 행을 가져오자\n",
    "\n",
    "# 연산자 우선순위를 고려하여 조건식(부등식)에 괄호를 씌운다.\n",
    "\n",
    "df.loc[(df['points']<1.7) + (df['points']>2.9),:]"
   ]
  },
  {
   "cell_type": "code",
   "execution_count": null,
   "metadata": {
    "colab": {},
    "colab_type": "code",
    "id": "jLzAOnEA3vG1"
   },
   "outputs": [],
   "source": []
  },
  {
   "cell_type": "code",
   "execution_count": null,
   "metadata": {
    "colab": {},
    "colab_type": "code",
    "id": "scm4b7Bs3vlj"
   },
   "outputs": [],
   "source": [
    "# 5.Data"
   ]
  },
  {
   "cell_type": "code",
   "execution_count": null,
   "metadata": {
    "colab": {
     "base_uri": "https://localhost:8080/",
     "height": 235
    },
    "colab_type": "code",
    "executionInfo": {
     "elapsed": 1613,
     "status": "ok",
     "timestamp": 1568164697248,
     "user": {
      "displayName": "Sung Hak Lim",
      "photoUrl": "https://lh3.googleusercontent.com/a-/AAuE7mCAsIrkT7qHVbLE2qbnDRuLFImyiwklV4EiB94wNA=s64",
      "userId": "05716500249544805974"
     },
     "user_tz": -540
    },
    "id": "Gq0ze94j30gK",
    "outputId": "a3ef0c09-14fa-4cb0-f475-bb603ee5c8e5"
   },
   "outputs": [],
   "source": [
    "# DataFrame을 만들 때 index, column을 설정하지 않으면 \n",
    "# 기본 값으로 0부터 시작하는 정수형 숫자로 입력된다.\n",
    "df = pd.DataFrame(np.random.randn(6,4))\n",
    "df"
   ]
  },
  {
   "cell_type": "code",
   "execution_count": null,
   "metadata": {
    "colab": {
     "base_uri": "https://localhost:8080/",
     "height": 235
    },
    "colab_type": "code",
    "executionInfo": {
     "elapsed": 837,
     "status": "ok",
     "timestamp": 1568164896437,
     "user": {
      "displayName": "Sung Hak Lim",
      "photoUrl": "https://lh3.googleusercontent.com/a-/AAuE7mCAsIrkT7qHVbLE2qbnDRuLFImyiwklV4EiB94wNA=s64",
      "userId": "05716500249544805974"
     },
     "user_tz": -540
    },
    "id": "NVop2Vb5bvlM",
    "outputId": "679ff718-c26c-4036-ad83-109248e959df"
   },
   "outputs": [],
   "source": [
    "# pandas에서 제공하는 date_range 함수는 datetime 자료형으로 구성된,\n",
    "# 날짜, 시각 등을 알 수 있는 자료형을 만드는 함수\n",
    "df.columns = ['A', 'B', 'C', 'D']\n",
    "df.index = pd.date_range('20190911', periods=6)\n",
    "df"
   ]
  },
  {
   "cell_type": "code",
   "execution_count": null,
   "metadata": {
    "colab": {
     "base_uri": "https://localhost:8080/",
     "height": 235
    },
    "colab_type": "code",
    "executionInfo": {
     "elapsed": 757,
     "status": "ok",
     "timestamp": 1568164991232,
     "user": {
      "displayName": "Sung Hak Lim",
      "photoUrl": "https://lh3.googleusercontent.com/a-/AAuE7mCAsIrkT7qHVbLE2qbnDRuLFImyiwklV4EiB94wNA=s64",
      "userId": "05716500249544805974"
     },
     "user_tz": -540
    },
    "id": "InV6qq0t4m5V",
    "outputId": "6e98e2d5-8cd3-48ae-81da-e8d12bf591be"
   },
   "outputs": [],
   "source": [
    "# np.nan은 NaN값을 의미한다.\n",
    "df['F'] = [1.0, np.nan, 3.5, 6.1, np.nan, 7.0]\n",
    "df"
   ]
  },
  {
   "cell_type": "code",
   "execution_count": null,
   "metadata": {
    "colab": {},
    "colab_type": "code",
    "id": "98HrKxPu4xvu"
   },
   "outputs": [],
   "source": [
    "# NaN 없애기"
   ]
  },
  {
   "cell_type": "code",
   "execution_count": null,
   "metadata": {
    "colab": {
     "base_uri": "https://localhost:8080/",
     "height": 173
    },
    "colab_type": "code",
    "executionInfo": {
     "elapsed": 736,
     "status": "ok",
     "timestamp": 1568165131626,
     "user": {
      "displayName": "Sung Hak Lim",
      "photoUrl": "https://lh3.googleusercontent.com/a-/AAuE7mCAsIrkT7qHVbLE2qbnDRuLFImyiwklV4EiB94wNA=s64",
      "userId": "05716500249544805974"
     },
     "user_tz": -540
    },
    "id": "QvA5tYHO43Kz",
    "outputId": "1ee9b05d-5c42-4607-dc81-34747d633a3e"
   },
   "outputs": [],
   "source": [
    "# 행의 값 중 하나라도 nan인 경우 그 행을 없앤다.\n",
    "df.dropna(how='any')"
   ]
  },
  {
   "cell_type": "code",
   "execution_count": null,
   "metadata": {
    "colab": {
     "base_uri": "https://localhost:8080/",
     "height": 235
    },
    "colab_type": "code",
    "executionInfo": {
     "elapsed": 862,
     "status": "ok",
     "timestamp": 1568165205900,
     "user": {
      "displayName": "Sung Hak Lim",
      "photoUrl": "https://lh3.googleusercontent.com/a-/AAuE7mCAsIrkT7qHVbLE2qbnDRuLFImyiwklV4EiB94wNA=s64",
      "userId": "05716500249544805974"
     },
     "user_tz": -540
    },
    "id": "57DWv1A57gvl",
    "outputId": "a844e9bb-378d-4fc1-d468-026075754c42"
   },
   "outputs": [],
   "source": [
    "df"
   ]
  },
  {
   "cell_type": "code",
   "execution_count": null,
   "metadata": {
    "colab": {
     "base_uri": "https://localhost:8080/",
     "height": 235
    },
    "colab_type": "code",
    "executionInfo": {
     "elapsed": 863,
     "status": "ok",
     "timestamp": 1568165315368,
     "user": {
      "displayName": "Sung Hak Lim",
      "photoUrl": "https://lh3.googleusercontent.com/a-/AAuE7mCAsIrkT7qHVbLE2qbnDRuLFImyiwklV4EiB94wNA=s64",
      "userId": "05716500249544805974"
     },
     "user_tz": -540
    },
    "id": "_m6pLtbK49X9",
    "outputId": "52d0d9ac-7bb8-4c63-aa47-ca796049987c"
   },
   "outputs": [],
   "source": [
    "# 행의 값이 모두 nan인 경우 그행을 없앤다.\n",
    "df.dropna(how='all')"
   ]
  },
  {
   "cell_type": "code",
   "execution_count": null,
   "metadata": {
    "colab": {},
    "colab_type": "code",
    "id": "oAA2DeztCIbg"
   },
   "outputs": [],
   "source": [
    "# 주의 drop함수는 특정 행 또는 열을 drop하고 난 DataFrame을 반환한다.\n",
    "# 즉, 반환을 받지 않으면 기존의 DataFrame은 그대로이다.\n",
    "# 아니면, inplace = True 라는 인자를 추가하여, 반환을 받지 않고서도\n",
    "# 기존의 DataFrame이 변경되도록 한다."
   ]
  },
  {
   "cell_type": "code",
   "execution_count": null,
   "metadata": {
    "colab": {
     "base_uri": "https://localhost:8080/",
     "height": 235
    },
    "colab_type": "code",
    "executionInfo": {
     "elapsed": 960,
     "status": "ok",
     "timestamp": 1568165438862,
     "user": {
      "displayName": "Sung Hak Lim",
      "photoUrl": "https://lh3.googleusercontent.com/a-/AAuE7mCAsIrkT7qHVbLE2qbnDRuLFImyiwklV4EiB94wNA=s64",
      "userId": "05716500249544805974"
     },
     "user_tz": -540
    },
    "id": "WtiFmyH6Cr6z",
    "outputId": "23ae5367-b016-4e4a-cc3f-93191db12124"
   },
   "outputs": [],
   "source": [
    "# nan 값에 값 넣기\n",
    "df.fillna(value=0.5, inplace=True)\n",
    "df"
   ]
  },
  {
   "cell_type": "code",
   "execution_count": null,
   "metadata": {
    "colab": {
     "base_uri": "https://localhost:8080/",
     "height": 235
    },
    "colab_type": "code",
    "executionInfo": {
     "elapsed": 787,
     "status": "ok",
     "timestamp": 1568165703875,
     "user": {
      "displayName": "Sung Hak Lim",
      "photoUrl": "https://lh3.googleusercontent.com/a-/AAuE7mCAsIrkT7qHVbLE2qbnDRuLFImyiwklV4EiB94wNA=s64",
      "userId": "05716500249544805974"
     },
     "user_tz": -540
    },
    "id": "3gyRO6v1DCoN",
    "outputId": "5026900e-1161-4963-a8d9-c0ab0046eced"
   },
   "outputs": [],
   "source": [
    "# nan 값인지 확인하기\n",
    "df.isnull()"
   ]
  },
  {
   "cell_type": "code",
   "execution_count": null,
   "metadata": {
    "colab": {
     "base_uri": "https://localhost:8080/",
     "height": 235
    },
    "colab_type": "code",
    "executionInfo": {
     "elapsed": 759,
     "status": "ok",
     "timestamp": 1568165961921,
     "user": {
      "displayName": "Sung Hak Lim",
      "photoUrl": "https://lh3.googleusercontent.com/a-/AAuE7mCAsIrkT7qHVbLE2qbnDRuLFImyiwklV4EiB94wNA=s64",
      "userId": "05716500249544805974"
     },
     "user_tz": -540
    },
    "id": "_b1BZ4CO9uzS",
    "outputId": "1771092e-618c-4faf-eb90-91eae197fd2f"
   },
   "outputs": [],
   "source": [
    "df = pd.DataFrame(np.random.randn(6,4))\n",
    "df.columns = ['A', 'B', 'C', 'D']\n",
    "df.index = pd.date_range('20190911', periods=6)\n",
    "df['F'] = [1.0, np.nan, 3.5, 6.1, np.nan, 7.0]\n",
    "df"
   ]
  },
  {
   "cell_type": "code",
   "execution_count": null,
   "metadata": {
    "colab": {
     "base_uri": "https://localhost:8080/",
     "height": 111
    },
    "colab_type": "code",
    "executionInfo": {
     "elapsed": 756,
     "status": "ok",
     "timestamp": 1568165964981,
     "user": {
      "displayName": "Sung Hak Lim",
      "photoUrl": "https://lh3.googleusercontent.com/a-/AAuE7mCAsIrkT7qHVbLE2qbnDRuLFImyiwklV4EiB94wNA=s64",
      "userId": "05716500249544805974"
     },
     "user_tz": -540
    },
    "id": "RfwsIjr0DS7Y",
    "outputId": "0419ee99-3443-4765-cb4f-eb8a9d754e9f"
   },
   "outputs": [],
   "source": [
    "# F열에서 nan값을 포함하는 행만 추출하기\n",
    "df.loc[df.isnull()['F'],:]"
   ]
  },
  {
   "cell_type": "code",
   "execution_count": null,
   "metadata": {
    "colab": {
     "base_uri": "https://localhost:8080/",
     "height": 34
    },
    "colab_type": "code",
    "executionInfo": {
     "elapsed": 790,
     "status": "ok",
     "timestamp": 1568166031658,
     "user": {
      "displayName": "Sung Hak Lim",
      "photoUrl": "https://lh3.googleusercontent.com/a-/AAuE7mCAsIrkT7qHVbLE2qbnDRuLFImyiwklV4EiB94wNA=s64",
      "userId": "05716500249544805974"
     },
     "user_tz": -540
    },
    "id": "egUpS_8BDpv5",
    "outputId": "d4bfac2a-4f88-40c1-8cef-9b9e23cd63cf"
   },
   "outputs": [],
   "source": [
    "pd.to_datetime('20190911')"
   ]
  },
  {
   "cell_type": "code",
   "execution_count": null,
   "metadata": {
    "colab": {
     "base_uri": "https://localhost:8080/",
     "height": 204
    },
    "colab_type": "code",
    "executionInfo": {
     "elapsed": 800,
     "status": "ok",
     "timestamp": 1568166072313,
     "user": {
      "displayName": "Sung Hak Lim",
      "photoUrl": "https://lh3.googleusercontent.com/a-/AAuE7mCAsIrkT7qHVbLE2qbnDRuLFImyiwklV4EiB94wNA=s64",
      "userId": "05716500249544805974"
     },
     "user_tz": -540
    },
    "id": "6C3VBI_TDxpI",
    "outputId": "960bd2b1-ebd8-4887-b06b-81b413784c2c"
   },
   "outputs": [],
   "source": [
    "# 특정 행 drop 하기\n",
    "df.drop(pd.to_datetime('20190911'))"
   ]
  },
  {
   "cell_type": "code",
   "execution_count": null,
   "metadata": {
    "colab": {
     "base_uri": "https://localhost:8080/",
     "height": 173
    },
    "colab_type": "code",
    "executionInfo": {
     "elapsed": 788,
     "status": "ok",
     "timestamp": 1568166295444,
     "user": {
      "displayName": "Sung Hak Lim",
      "photoUrl": "https://lh3.googleusercontent.com/a-/AAuE7mCAsIrkT7qHVbLE2qbnDRuLFImyiwklV4EiB94wNA=s64",
      "userId": "05716500249544805974"
     },
     "user_tz": -540
    },
    "id": "9AsQdKDNEIau",
    "outputId": "afe2515f-1ecc-4968-ec34-206eb6ee8119"
   },
   "outputs": [],
   "source": [
    "# 2개 이상도 가능\n",
    "df.drop([pd.to_datetime('20190912'), pd.to_datetime('20190914')])"
   ]
  },
  {
   "cell_type": "code",
   "execution_count": null,
   "metadata": {
    "colab": {
     "base_uri": "https://localhost:8080/",
     "height": 235
    },
    "colab_type": "code",
    "executionInfo": {
     "elapsed": 850,
     "status": "ok",
     "timestamp": 1568166352891,
     "user": {
      "displayName": "Sung Hak Lim",
      "photoUrl": "https://lh3.googleusercontent.com/a-/AAuE7mCAsIrkT7qHVbLE2qbnDRuLFImyiwklV4EiB94wNA=s64",
      "userId": "05716500249544805974"
     },
     "user_tz": -540
    },
    "id": "J7RE6FddES8P",
    "outputId": "1e2af151-d9b9-404b-d0a0-43d6ee0a4119"
   },
   "outputs": [],
   "source": [
    "# 특정 열 삭제하기\n",
    "df.drop('F', axis=1)"
   ]
  },
  {
   "cell_type": "code",
   "execution_count": null,
   "metadata": {
    "colab": {
     "base_uri": "https://localhost:8080/",
     "height": 235
    },
    "colab_type": "code",
    "executionInfo": {
     "elapsed": 841,
     "status": "ok",
     "timestamp": 1568166389447,
     "user": {
      "displayName": "Sung Hak Lim",
      "photoUrl": "https://lh3.googleusercontent.com/a-/AAuE7mCAsIrkT7qHVbLE2qbnDRuLFImyiwklV4EiB94wNA=s64",
      "userId": "05716500249544805974"
     },
     "user_tz": -540
    },
    "id": "UuD2XlnlEbS3",
    "outputId": "07a04e83-23b0-4434-b8e9-94b0235b2966"
   },
   "outputs": [],
   "source": [
    "# 2개 이상의 열도 가능\n",
    "df.drop(['A', 'C'], axis=1)"
   ]
  },
  {
   "cell_type": "code",
   "execution_count": null,
   "metadata": {
    "colab": {},
    "colab_type": "code",
    "id": "EyIxcAOhEr_n"
   },
   "outputs": [],
   "source": [
    "# 6.Data 분석용 함수들"
   ]
  },
  {
   "cell_type": "code",
   "execution_count": null,
   "metadata": {
    "colab": {
     "base_uri": "https://localhost:8080/",
     "height": 173
    },
    "colab_type": "code",
    "executionInfo": {
     "elapsed": 2484,
     "status": "ok",
     "timestamp": 1568167420227,
     "user": {
      "displayName": "Sung Hak Lim",
      "photoUrl": "https://lh3.googleusercontent.com/a-/AAuE7mCAsIrkT7qHVbLE2qbnDRuLFImyiwklV4EiB94wNA=s64",
      "userId": "05716500249544805974"
     },
     "user_tz": -540
    },
    "id": "dWkWuPvwE6ne",
    "outputId": "b44dfe6d-a4e0-4d14-c62d-41617e5e75e8"
   },
   "outputs": [],
   "source": [
    "data = [[1.4, np.nan],\n",
    "       [7.1, -4.5],\n",
    "       [np.nan, np.nan],\n",
    "       [0.75, -1.3]]\n",
    "\n",
    "df = pd.DataFrame(data, columns = ['one', 'two'], index=['a', 'b', 'c', 'd'])\n",
    "df"
   ]
  },
  {
   "cell_type": "code",
   "execution_count": null,
   "metadata": {
    "colab": {
     "base_uri": "https://localhost:8080/",
     "height": 68
    },
    "colab_type": "code",
    "executionInfo": {
     "elapsed": 783,
     "status": "ok",
     "timestamp": 1568167511639,
     "user": {
      "displayName": "Sung Hak Lim",
      "photoUrl": "https://lh3.googleusercontent.com/a-/AAuE7mCAsIrkT7qHVbLE2qbnDRuLFImyiwklV4EiB94wNA=s64",
      "userId": "05716500249544805974"
     },
     "user_tz": -540
    },
    "id": "IhRcRp_aFo3T",
    "outputId": "b2c027cd-7d43-49a2-d8ca-0f466600243f"
   },
   "outputs": [],
   "source": [
    "# 행 방향으로의 합(즉, 각 열의 합)\n",
    "df.sum(axis=0)"
   ]
  },
  {
   "cell_type": "code",
   "execution_count": null,
   "metadata": {
    "colab": {
     "base_uri": "https://localhost:8080/",
     "height": 102
    },
    "colab_type": "code",
    "executionInfo": {
     "elapsed": 730,
     "status": "ok",
     "timestamp": 1568167565241,
     "user": {
      "displayName": "Sung Hak Lim",
      "photoUrl": "https://lh3.googleusercontent.com/a-/AAuE7mCAsIrkT7qHVbLE2qbnDRuLFImyiwklV4EiB94wNA=s64",
      "userId": "05716500249544805974"
     },
     "user_tz": -540
    },
    "id": "UO-_mu_mFv_6",
    "outputId": "93b217e2-2058-42e4-acea-edbc559c2eaf"
   },
   "outputs": [],
   "source": [
    "# 열방향으로의 합(즉, 각 행의 합)\n",
    "df.sum(axis=1)"
   ]
  },
  {
   "cell_type": "code",
   "execution_count": null,
   "metadata": {
    "colab": {},
    "colab_type": "code",
    "id": "rofpMHTKIHpW"
   },
   "outputs": [],
   "source": [
    "# 이 때, 위에서 볼 수 있듯이 NaN값은 배제하고 계산한다.\n",
    "# NaN 값을 배제하지 않고 계산하려면 아래와 같이 skipna에 대해 false를 지정해 준다."
   ]
  },
  {
   "cell_type": "code",
   "execution_count": null,
   "metadata": {
    "colab": {},
    "colab_type": "code",
    "id": "gegM9Wp3KH3D"
   },
   "outputs": [],
   "source": [
    "# 연산의 대상이 되는 값이 행 요소이면 axis=0, 열 요소이면 axis=1"
   ]
  },
  {
   "cell_type": "code",
   "execution_count": null,
   "metadata": {
    "colab": {
     "base_uri": "https://localhost:8080/",
     "height": 102
    },
    "colab_type": "code",
    "executionInfo": {
     "elapsed": 2658,
     "status": "ok",
     "timestamp": 1568168011697,
     "user": {
      "displayName": "Sung Hak Lim",
      "photoUrl": "https://lh3.googleusercontent.com/a-/AAuE7mCAsIrkT7qHVbLE2qbnDRuLFImyiwklV4EiB94wNA=s64",
      "userId": "05716500249544805974"
     },
     "user_tz": -540
    },
    "id": "WgoXqVUTIk3P",
    "outputId": "6432adcd-d92e-4eaa-a092-a9017f43bf97"
   },
   "outputs": [],
   "source": [
    "df.sum(axis=1, skipna=False)"
   ]
  },
  {
   "cell_type": "code",
   "execution_count": null,
   "metadata": {
    "colab": {
     "base_uri": "https://localhost:8080/",
     "height": 34
    },
    "colab_type": "code",
    "executionInfo": {
     "elapsed": 732,
     "status": "ok",
     "timestamp": 1568168098218,
     "user": {
      "displayName": "Sung Hak Lim",
      "photoUrl": "https://lh3.googleusercontent.com/a-/AAuE7mCAsIrkT7qHVbLE2qbnDRuLFImyiwklV4EiB94wNA=s64",
      "userId": "05716500249544805974"
     },
     "user_tz": -540
    },
    "id": "MxtlryWaNufE",
    "outputId": "4868965c-77ad-4684-fa56-b6d651258497"
   },
   "outputs": [],
   "source": [
    "# 특정 행 또는 특정 열에서만 계산하기\n",
    "df['one'].sum()"
   ]
  },
  {
   "cell_type": "code",
   "execution_count": null,
   "metadata": {
    "colab": {
     "base_uri": "https://localhost:8080/",
     "height": 34
    },
    "colab_type": "code",
    "executionInfo": {
     "elapsed": 794,
     "status": "ok",
     "timestamp": 1568168317464,
     "user": {
      "displayName": "Sung Hak Lim",
      "photoUrl": "https://lh3.googleusercontent.com/a-/AAuE7mCAsIrkT7qHVbLE2qbnDRuLFImyiwklV4EiB94wNA=s64",
      "userId": "05716500249544805974"
     },
     "user_tz": -540
    },
    "id": "6fHmql3fNzhj",
    "outputId": "25791d1b-b68a-4cc0-8fc4-a992b09f7445"
   },
   "outputs": [],
   "source": [
    "df.loc['b',:].sum()"
   ]
  },
  {
   "cell_type": "code",
   "execution_count": null,
   "metadata": {
    "colab": {},
    "colab_type": "code",
    "id": "6QVos5QuIZvB"
   },
   "outputs": [],
   "source": [
    "# 열을 찾을 때는 인덱싱 하는 것처럼 하면 되지만, 행을 찾을 때는 .loc 메소드를 사용한다.\n",
    "# 데이터프레임에서 열은 라벨이라는 같은 속성으로 값들을 가지지만, 행은 인덱스만 같을 뿐 다른 속성으로 값을 가진다.\n",
    "# 딕셔너리에서 key값으로 value를 찾을수는 있지만 value로 Key를 찾을수 없는 것과 같다."
   ]
  },
  {
   "cell_type": "code",
   "execution_count": null,
   "metadata": {
    "colab": {},
    "colab_type": "code",
    "id": "R1VJvidiN5XR"
   },
   "outputs": [],
   "source": [
    "# pandas에서 DataFrame에 적용되는 함수들\n",
    "# sum()함수 이외에도 pandas에서 DataFrame에 적용되는 함수는 다음의 것들이 있다.\n",
    "# count 전체 성분의(NaN이 아닌) 값의 갯수를 계산\n",
    "# min, max 전체 성분의 최솟, 최댓값을 계산\n",
    "# argmin, argmax 전체 성분의 최솟값, 최댓값이 위치한 (정수)인덱스를 반환\n",
    "# idxmin, idxmax 전체 인덱스 중 최솟값, 최댓값을 반환\n",
    "# quantile 전체 성분의 특정 사분위수에 해당하는 값을 반환 (0~1 사이)\n",
    "# sum 전체 성분의 합을 계산\n",
    "# mean 전체 성분의 평균을 계산\n",
    "# median 전체 성분의 중간값을 반환\n",
    "# mad 전체 성분의 평균값으로부터의 절대 편차(absolute deviation)의 평균을 계산\n",
    "# std, var 전체 성분의 표준편차, 분산을 계산\n",
    "# cumsum 맨 첫 번째 성분부터 각 성분까지의 누적합을 계산(0에서부터 계속 더해짐)\n",
    "# cumprod 맨 첫번째 성분부터 각 성분까지의 누적곱을 계산(1에서부터 계속 곱해짐)"
   ]
  },
  {
   "cell_type": "code",
   "execution_count": null,
   "metadata": {
    "colab": {
     "base_uri": "https://localhost:8080/",
     "height": 235
    },
    "colab_type": "code",
    "executionInfo": {
     "elapsed": 723,
     "status": "ok",
     "timestamp": 1568168692102,
     "user": {
      "displayName": "Sung Hak Lim",
      "photoUrl": "https://lh3.googleusercontent.com/a-/AAuE7mCAsIrkT7qHVbLE2qbnDRuLFImyiwklV4EiB94wNA=s64",
      "userId": "05716500249544805974"
     },
     "user_tz": -540
    },
    "id": "U56BAq0JO6Ti",
    "outputId": "1536d439-5a12-454b-be25-f5a06da1219b"
   },
   "outputs": [],
   "source": [
    "df2 = pd.DataFrame(np.random.randn(6,4),\n",
    "                  columns=['A', 'B', 'C', 'D'],\n",
    "                  index = pd.date_range('20160701', periods=6))\n",
    "df2"
   ]
  },
  {
   "cell_type": "code",
   "execution_count": null,
   "metadata": {
    "colab": {
     "base_uri": "https://localhost:8080/",
     "height": 34
    },
    "colab_type": "code",
    "executionInfo": {
     "elapsed": 1072,
     "status": "ok",
     "timestamp": 1568168695324,
     "user": {
      "displayName": "Sung Hak Lim",
      "photoUrl": "https://lh3.googleusercontent.com/a-/AAuE7mCAsIrkT7qHVbLE2qbnDRuLFImyiwklV4EiB94wNA=s64",
      "userId": "05716500249544805974"
     },
     "user_tz": -540
    },
    "id": "3G2nQQUhPJb3",
    "outputId": "9251e965-4b89-493d-8f3f-8817ea41192c"
   },
   "outputs": [],
   "source": [
    "# A열과 B열의 상관계수 구하기\n",
    "df2['A'].corr(df2['B'])"
   ]
  },
  {
   "cell_type": "code",
   "execution_count": null,
   "metadata": {
    "colab": {
     "base_uri": "https://localhost:8080/",
     "height": 235
    },
    "colab_type": "code",
    "executionInfo": {
     "elapsed": 737,
     "status": "ok",
     "timestamp": 1568168882175,
     "user": {
      "displayName": "Sung Hak Lim",
      "photoUrl": "https://lh3.googleusercontent.com/a-/AAuE7mCAsIrkT7qHVbLE2qbnDRuLFImyiwklV4EiB94wNA=s64",
      "userId": "05716500249544805974"
     },
     "user_tz": -540
    },
    "id": "a7EcR3sFPaOL",
    "outputId": "7a6a54ab-491f-4d6b-feee-91adafe13174"
   },
   "outputs": [],
   "source": [
    "# 정렬함수 및 기타함수"
   ]
  },
  {
   "cell_type": "code",
   "execution_count": null,
   "metadata": {
    "colab": {
     "base_uri": "https://localhost:8080/",
     "height": 235
    },
    "colab_type": "code",
    "executionInfo": {
     "elapsed": 828,
     "status": "ok",
     "timestamp": 1568168924299,
     "user": {
      "displayName": "Sung Hak Lim",
      "photoUrl": "https://lh3.googleusercontent.com/a-/AAuE7mCAsIrkT7qHVbLE2qbnDRuLFImyiwklV4EiB94wNA=s64",
      "userId": "05716500249544805974"
     },
     "user_tz": -540
    },
    "id": "XcekbfrRPcwp",
    "outputId": "a2f816a2-f66e-4600-9fcc-5a16caf140f6"
   },
   "outputs": [],
   "source": [
    "dates = df2.index\n",
    "random_dates = np.random.permutation(dates)\n",
    "df2 = df2.reindex(index=random_dates, columns = ['D', 'B', 'C', 'A'])\n",
    "df2"
   ]
  },
  {
   "cell_type": "code",
   "execution_count": null,
   "metadata": {
    "colab": {
     "base_uri": "https://localhost:8080/",
     "height": 235
    },
    "colab_type": "code",
    "executionInfo": {
     "elapsed": 774,
     "status": "ok",
     "timestamp": 1568168929701,
     "user": {
      "displayName": "Sung Hak Lim",
      "photoUrl": "https://lh3.googleusercontent.com/a-/AAuE7mCAsIrkT7qHVbLE2qbnDRuLFImyiwklV4EiB94wNA=s64",
      "userId": "05716500249544805974"
     },
     "user_tz": -540
    },
    "id": "oQ5O1W_2TRxp",
    "outputId": "344acf31-f77d-4cf2-ef5b-cd5973ef3e05"
   },
   "outputs": [],
   "source": [
    "# index와 column의 순서가 섞여있다.\n",
    "# 이 때 index가 오름차순이 되도록 정렬해보자\n",
    "df2.sort_index(axis=0)"
   ]
  },
  {
   "cell_type": "code",
   "execution_count": null,
   "metadata": {
    "colab": {
     "base_uri": "https://localhost:8080/",
     "height": 235
    },
    "colab_type": "code",
    "executionInfo": {
     "elapsed": 798,
     "status": "ok",
     "timestamp": 1568168936460,
     "user": {
      "displayName": "Sung Hak Lim",
      "photoUrl": "https://lh3.googleusercontent.com/a-/AAuE7mCAsIrkT7qHVbLE2qbnDRuLFImyiwklV4EiB94wNA=s64",
      "userId": "05716500249544805974"
     },
     "user_tz": -540
    },
    "id": "M-pVL9eLUK5i",
    "outputId": "c21d6fee-1f61-4ded-daa5-60e0ff5159ea"
   },
   "outputs": [],
   "source": [
    "# column을 기준으로?\n",
    "df2.sort_index(axis=1)"
   ]
  },
  {
   "cell_type": "code",
   "execution_count": null,
   "metadata": {
    "colab": {
     "base_uri": "https://localhost:8080/",
     "height": 235
    },
    "colab_type": "code",
    "executionInfo": {
     "elapsed": 1631,
     "status": "ok",
     "timestamp": 1568168989012,
     "user": {
      "displayName": "Sung Hak Lim",
      "photoUrl": "https://lh3.googleusercontent.com/a-/AAuE7mCAsIrkT7qHVbLE2qbnDRuLFImyiwklV4EiB94wNA=s64",
      "userId": "05716500249544805974"
     },
     "user_tz": -540
    },
    "id": "-nCk0MKZUQt6",
    "outputId": "418dce73-d3d6-4c07-9544-fea42e98429a"
   },
   "outputs": [],
   "source": [
    "# 내림차순으로는?\n",
    "df2.sort_index(axis=0, ascending=False)"
   ]
  },
  {
   "cell_type": "code",
   "execution_count": null,
   "metadata": {
    "colab": {
     "base_uri": "https://localhost:8080/",
     "height": 235
    },
    "colab_type": "code",
    "executionInfo": {
     "elapsed": 2479,
     "status": "ok",
     "timestamp": 1568169080047,
     "user": {
      "displayName": "Sung Hak Lim",
      "photoUrl": "https://lh3.googleusercontent.com/a-/AAuE7mCAsIrkT7qHVbLE2qbnDRuLFImyiwklV4EiB94wNA=s64",
      "userId": "05716500249544805974"
     },
     "user_tz": -540
    },
    "id": "1R_1CL7OUWfH",
    "outputId": "cc8c3f2f-dccb-44ee-ac43-484443610a10"
   },
   "outputs": [],
   "source": [
    "# 값 기준 정렬하기\n",
    "# D열의 값이 오름차순이 되도록 정렬하기\n",
    "df2.sort_values(by='D')"
   ]
  },
  {
   "cell_type": "code",
   "execution_count": null,
   "metadata": {
    "colab": {
     "base_uri": "https://localhost:8080/",
     "height": 235
    },
    "colab_type": "code",
    "executionInfo": {
     "elapsed": 1646,
     "status": "ok",
     "timestamp": 1568169164424,
     "user": {
      "displayName": "Sung Hak Lim",
      "photoUrl": "https://lh3.googleusercontent.com/a-/AAuE7mCAsIrkT7qHVbLE2qbnDRuLFImyiwklV4EiB94wNA=s64",
      "userId": "05716500249544805974"
     },
     "user_tz": -540
    },
    "id": "ggggvrMiUels",
    "outputId": "d963016a-6b2b-4ba2-b289-ec2f69cc9d27"
   },
   "outputs": [],
   "source": [
    "# B열의 값이 내림차순이 되도록 정렬하기\n",
    "df2.sort_values(by='B', ascending=False)"
   ]
  },
  {
   "cell_type": "code",
   "execution_count": null,
   "metadata": {
    "colab": {
     "base_uri": "https://localhost:8080/",
     "height": 235
    },
    "colab_type": "code",
    "executionInfo": {
     "elapsed": 832,
     "status": "ok",
     "timestamp": 1568169279216,
     "user": {
      "displayName": "Sung Hak Lim",
      "photoUrl": "https://lh3.googleusercontent.com/a-/AAuE7mCAsIrkT7qHVbLE2qbnDRuLFImyiwklV4EiB94wNA=s64",
      "userId": "05716500249544805974"
     },
     "user_tz": -540
    },
    "id": "fl0HbezNUmG4",
    "outputId": "b00048c9-6956-4604-cbe7-8137af27d6e7"
   },
   "outputs": [],
   "source": [
    "df2['E'] = np.random.randint(0, 6, size=6)\n",
    "df2['F'] = ['a', 'b', 'g', 'g', 'a', 'g']\n",
    "df2"
   ]
  },
  {
   "cell_type": "code",
   "execution_count": null,
   "metadata": {
    "colab": {
     "base_uri": "https://localhost:8080/",
     "height": 235
    },
    "colab_type": "code",
    "executionInfo": {
     "elapsed": 1631,
     "status": "ok",
     "timestamp": 1568169410469,
     "user": {
      "displayName": "Sung Hak Lim",
      "photoUrl": "https://lh3.googleusercontent.com/a-/AAuE7mCAsIrkT7qHVbLE2qbnDRuLFImyiwklV4EiB94wNA=s64",
      "userId": "05716500249544805974"
     },
     "user_tz": -540
    },
    "id": "raqmNnTSU62f",
    "outputId": "46e84de2-1ba5-4ba2-df5e-0383e418facf"
   },
   "outputs": [],
   "source": [
    "# E열과 F열을 동시에 고려하여, 오름차순으로 하려면?\n",
    "df2.sort_values(by=['E', 'F'])"
   ]
  },
  {
   "cell_type": "code",
   "execution_count": null,
   "metadata": {
    "colab": {
     "base_uri": "https://localhost:8080/",
     "height": 235
    },
    "colab_type": "code",
    "executionInfo": {
     "elapsed": 1591,
     "status": "ok",
     "timestamp": 1568169462715,
     "user": {
      "displayName": "Sung Hak Lim",
      "photoUrl": "https://lh3.googleusercontent.com/a-/AAuE7mCAsIrkT7qHVbLE2qbnDRuLFImyiwklV4EiB94wNA=s64",
      "userId": "05716500249544805974"
     },
     "user_tz": -540
    },
    "id": "W1NcBoWpLqmo",
    "outputId": "79d37e82-9446-4115-eb6b-b802dc4cf01c"
   },
   "outputs": [],
   "source": [
    "df2.sort_values(by=['F', 'E'])"
   ]
  },
  {
   "cell_type": "code",
   "execution_count": null,
   "metadata": {
    "colab": {
     "base_uri": "https://localhost:8080/",
     "height": 34
    },
    "colab_type": "code",
    "executionInfo": {
     "elapsed": 855,
     "status": "ok",
     "timestamp": 1568169564504,
     "user": {
      "displayName": "Sung Hak Lim",
      "photoUrl": "https://lh3.googleusercontent.com/a-/AAuE7mCAsIrkT7qHVbLE2qbnDRuLFImyiwklV4EiB94wNA=s64",
      "userId": "05716500249544805974"
     },
     "user_tz": -540
    },
    "id": "xQOgLWREVE4X",
    "outputId": "fb849793-11a5-4992-aebb-123e5a96c99e"
   },
   "outputs": [],
   "source": [
    "# 지정한 행 또는 열에서 중복값을 제외한 유니크한 값만 얻기\n",
    "df2['F'].unique()"
   ]
  },
  {
   "cell_type": "code",
   "execution_count": null,
   "metadata": {
    "colab": {
     "base_uri": "https://localhost:8080/",
     "height": 85
    },
    "colab_type": "code",
    "executionInfo": {
     "elapsed": 822,
     "status": "ok",
     "timestamp": 1568169610585,
     "user": {
      "displayName": "Sung Hak Lim",
      "photoUrl": "https://lh3.googleusercontent.com/a-/AAuE7mCAsIrkT7qHVbLE2qbnDRuLFImyiwklV4EiB94wNA=s64",
      "userId": "05716500249544805974"
     },
     "user_tz": -540
    },
    "id": "vkkqN7KuVROa",
    "outputId": "143f28ee-3b47-4fc9-bda1-0a7b7434d522"
   },
   "outputs": [],
   "source": [
    "# 지정한 행 또는 열에서 값에 따른 개수 얻기\n",
    "df2['F'].value_counts()"
   ]
  },
  {
   "cell_type": "code",
   "execution_count": null,
   "metadata": {
    "colab": {
     "base_uri": "https://localhost:8080/",
     "height": 136
    },
    "colab_type": "code",
    "executionInfo": {
     "elapsed": 925,
     "status": "ok",
     "timestamp": 1568169730292,
     "user": {
      "displayName": "Sung Hak Lim",
      "photoUrl": "https://lh3.googleusercontent.com/a-/AAuE7mCAsIrkT7qHVbLE2qbnDRuLFImyiwklV4EiB94wNA=s64",
      "userId": "05716500249544805974"
     },
     "user_tz": -540
    },
    "id": "IUhRmZHRVWM6",
    "outputId": "c6376ad8-4544-4327-982a-ec2346c66bf6"
   },
   "outputs": [],
   "source": [
    "# 지정한 행 또는 열에서 입력한 값이 있는지 확인하기\n",
    "df2['F'].isin(['a', 'b'])"
   ]
  },
  {
   "cell_type": "code",
   "execution_count": null,
   "metadata": {
    "colab": {
     "base_uri": "https://localhost:8080/",
     "height": 142
    },
    "colab_type": "code",
    "executionInfo": {
     "elapsed": 825,
     "status": "ok",
     "timestamp": 1568169834847,
     "user": {
      "displayName": "Sung Hak Lim",
      "photoUrl": "https://lh3.googleusercontent.com/a-/AAuE7mCAsIrkT7qHVbLE2qbnDRuLFImyiwklV4EiB94wNA=s64",
      "userId": "05716500249544805974"
     },
     "user_tz": -540
    },
    "id": "hxARjK8YVhGa",
    "outputId": "e2254a31-3de8-4487-8b47-5002f64234d9"
   },
   "outputs": [],
   "source": [
    "# F열의 값이 a나 b인 모든 행 구하기\n",
    "df2.loc[df2['F'].isin(['a', 'b']),:]"
   ]
  },
  {
   "cell_type": "code",
   "execution_count": null,
   "metadata": {
    "colab": {},
    "colab_type": "code",
    "id": "aZCi9VJTVrRA"
   },
   "outputs": [],
   "source": [
    "# 사용자가 직접 만든 함수를 적용하기\n",
    "\n",
    "func = lambda x: x.max() - x.min()\n",
    "\n",
    "# def func(x):\n",
    "#   r = x.max() - x.min()"
   ]
  },
  {
   "cell_type": "code",
   "execution_count": null,
   "metadata": {
    "colab": {},
    "colab_type": "code",
    "id": "CMac31bvOnZD"
   },
   "outputs": [],
   "source": [
    "del df2['F']"
   ]
  },
  {
   "cell_type": "code",
   "execution_count": null,
   "metadata": {
    "colab": {
     "base_uri": "https://localhost:8080/",
     "height": 119
    },
    "colab_type": "code",
    "executionInfo": {
     "elapsed": 773,
     "status": "ok",
     "timestamp": 1568170250578,
     "user": {
      "displayName": "Sung Hak Lim",
      "photoUrl": "https://lh3.googleusercontent.com/a-/AAuE7mCAsIrkT7qHVbLE2qbnDRuLFImyiwklV4EiB94wNA=s64",
      "userId": "05716500249544805974"
     },
     "user_tz": -540
    },
    "id": "GZxm0nb_OQm4",
    "outputId": "db298a93-e70d-4857-fac9-418fa69f0cde"
   },
   "outputs": [],
   "source": [
    "df2.apply(func, axis=0)"
   ]
  },
  {
   "cell_type": "code",
   "execution_count": null,
   "metadata": {
    "colab": {},
    "colab_type": "code",
    "id": "MyKS858_WE0Y"
   },
   "outputs": [],
   "source": []
  }
 ],
 "metadata": {
  "colab": {
   "collapsed_sections": [],
   "name": "Pandas_임성학.ipynb",
   "provenance": [],
   "version": "0.3.2"
  },
  "kernelspec": {
   "display_name": "Python 3",
   "language": "python",
   "name": "python3"
  },
  "language_info": {
   "codemirror_mode": {
    "name": "ipython",
    "version": 3
   },
   "file_extension": ".py",
   "mimetype": "text/x-python",
   "name": "python",
   "nbconvert_exporter": "python",
   "pygments_lexer": "ipython3",
   "version": "3.7.4"
  }
 },
 "nbformat": 4,
 "nbformat_minor": 4
}
