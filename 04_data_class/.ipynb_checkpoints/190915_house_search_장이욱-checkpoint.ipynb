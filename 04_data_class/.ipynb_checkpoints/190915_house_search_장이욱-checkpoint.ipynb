{
  "nbformat": 4,
  "nbformat_minor": 0,
  "metadata": {
    "colab": {
      "name": "장이욱 연습.ipynb의 사본",
      "version": "0.3.2",
      "provenance": [],
      "collapsed_sections": []
    },
    "kernelspec": {
      "name": "python3",
      "display_name": "Python 3"
    }
  },
  "cells": [
    {
      "cell_type": "code",
      "metadata": {
        "id": "1lWvfq97aFRg",
        "colab_type": "code",
        "outputId": "f95d335c-a2eb-42ee-9ff5-3117472d2441",
        "colab": {
          "base_uri": "https://localhost:8080/",
          "height": 54
        }
      },
      "source": [
        "!pip install xlsxwriter"
      ],
      "execution_count": 0,
      "outputs": [
        {
          "output_type": "stream",
          "text": [
            "Requirement already satisfied: xlsxwriter in /usr/local/lib/python3.6/dist-packages (1.2.1)\n"
          ],
          "name": "stdout"
        }
      ]
    },
    {
      "cell_type": "code",
      "metadata": {
        "id": "00EEizLBaHOA",
        "colab_type": "code",
        "colab": {}
      },
      "source": [
        "import requests\n",
        "from bs4 import BeautifulSoup\n",
        "import json\n",
        "import pandas as pd"
      ],
      "execution_count": 0,
      "outputs": []
    },
    {
      "cell_type": "code",
      "metadata": {
        "id": "1U65d2ReaHPf",
        "colab_type": "code",
        "colab": {}
      },
      "source": [
        "# 인사말, 초기 가이드\n",
        "def hello():\n",
        "  print('안락한 내 집의 꿈! 오늘부터 이뤄볼까요?')\n",
        "def guide():\n",
        "  print('초기 가이드 설명 이러쿵 저러쿵')"
      ],
      "execution_count": 0,
      "outputs": []
    },
    {
      "cell_type": "code",
      "metadata": {
        "id": "NgRkbdKza227",
        "colab_type": "code",
        "colab": {}
      },
      "source": [
        "# 사용자에게 전월세 인풋값 받기\n",
        "def choice():\n",
        "  choice1_dict = {'1' : '전세', '2' : '월세'}\n",
        "  choice2_dict = {'1' : '풀옵션', '2' : '주차 가능', '3' : '엘레베이터 O',\n",
        "                  '4' : '애완동물 동반 가능', '5' : '상관없음'}\n",
        "  choice1 = ['1. 전세 , 2. 월세']\n",
        "  choice2 = ['1. 풀옵션', '2, 주차 가능' '3, 엘레베이터 O','4. 애완동물 동반 가능', \n",
        "             '5. 상관없음']\n",
        "\n",
        "  print(choice1)\n",
        "  jeon_wol_se = choice1_dict['2']\n",
        "  # jeon_wol_se = choice1_dict[input(\"전세로 구할 건가요? 월세로 구할 건가요?\\n ->\")]\n",
        "\n",
        "  print(choice2)\n",
        "  jeon_wol_options = '1 2 3'\n",
        "  # jeon_wol_options = input(\"가장 필요한 옵션 3가지를 숫자로 적어주세요. (ex : 1 3 2) \\n ->\")\n",
        "  jeon_wol_options = jeon_wol_options.split()\n",
        "  # jeon_wol_options = [choice2_dict[i] for i in jeon_wol_options.split()]\n",
        "  result = [jeon_wol_se, jeon_wol_options]\n",
        "  \n",
        "  if len(result[1]) != 3:\n",
        "    result = '3가지를 선택하셨나요?\\n선택하신 번호를 띄어쓰기로 구분해서 입력해주세요.'\n",
        "  return result"
      ],
      "execution_count": 0,
      "outputs": []
    },
    {
      "cell_type": "code",
      "metadata": {
        "id": "9xV6pxWViPa7",
        "colab_type": "code",
        "colab": {}
      },
      "source": [
        "# 전세일경우 보증금값 입력\n",
        "def jeon_wol_cho(cho):\n",
        "  if cho[0] == '전세':\n",
        "    junse_money1 = int(input(\"전세 보증금 한도를 입력해주세요. 단위는 만원 입니다.(ex 1억: 10000) \\n ->\"))\n",
        "    junse_money2 = 1000\n",
        "    result = [junse_money1,junse_money2]\n",
        "  elif cho[0] == '월세':\n",
        "    wolse_money1 = int(input(\"월세 보증금 한도를 입력해주세요. 단위는 만원입니다.(ex 1천만원: 1000) \\n ->\"))\n",
        "    wolse_money2 = int(input(\"월세 한도를 입력해주세요. 단위는 만원입니다.(ex : 30) \\n ->\"))\n",
        "    result = [wolse_money1,wolse_money2]\n",
        "  else:\n",
        "    print('이게 출력되면 이상한데??? 잘못 입력했나?')\n",
        "  return result\n",
        "    "
      ],
      "execution_count": 0,
      "outputs": []
    },
    {
      "cell_type": "code",
      "metadata": {
        "id": "QL68cmvva9ET",
        "colab_type": "code",
        "colab": {}
      },
      "source": [
        "# 인풋값으로 file에서 검색\n",
        "\n",
        "def sale_searching(money,cho):\n",
        "  sale_info = pd.read_excel('190915_1136_매물정보.xlsx')\n",
        "  pd.set_option('display.max_columns', 500)\n",
        "  # print(sale_info.columns)\n",
        "  # print(sale_info)\n",
        "  # ['1. 풀옵션', '2, 주차 가능 O3, 엘레베이터 O', '4. 애완동물 동반 가능']\n",
        "  op = {'1' : 'options' , '2' : 'parking', '3' : 'elevator', '4' : 'pets'}\n",
        "\n",
        "  # # 결측값이 있는 columns 확인\n",
        "  # print(sale_info.isnull().any())\n",
        "  # 결측값이 있는 columns의 결측값 개수 확인\n",
        "  # print(sale_info.loc[:,['sales_type', '보증금액', '월세금액', \n",
        "  #                        'options','parking','elevator','pets']].isnull().sum())\n",
        "  \n",
        "  # print(sale_info.loc[:, [  op[a[1][0]], op[a[1][1]], op[a[1][2]  ]  ]  ])\n",
        "  # print(sale_info.loc[:, op['1']])\n",
        "  op1, op2, op3 = op[cho[1][0]], op[cho[1][1]], op[cho[1][2]]\n",
        "  # print(op1, op2, op3)\n",
        "  result = sale_info[(sale_info.loc[:,'sales_type'] == cho[0])  &\n",
        "                     (sale_info.loc[:,'보증금액'] <= money[0]) &\n",
        "                     (sale_info.loc[:,'월세금액'] <= money[1]) &\n",
        "                     (sale_info.loc[:,op1] == True) &\n",
        "                     (sale_info.loc[:,op2] == True) &\n",
        "                     (sale_info.loc[:,op3] == True) ]\n",
        "  return result"
      ],
      "execution_count": 0,
      "outputs": []
    },
    {
      "cell_type": "code",
      "metadata": {
        "id": "JpTaq1a-bEB9",
        "colab_type": "code",
        "colab": {}
      },
      "source": [
        "# 검색값 출력\n",
        "def sea_output(sale_sea):\n",
        "  # 검색된 데이터를 함수가 실행될때마다 하나씩 출력하게 하려면...\n",
        "  # num=0을 주고 \n",
        "  # 데이터를 저장하고 저장한데이터를 함수를 실행할때마다 하나씩 불러오기\n",
        "  \n",
        "  pass"
      ],
      "execution_count": 0,
      "outputs": []
    },
    {
      "cell_type": "code",
      "metadata": {
        "id": "fapKe3ykaHRE",
        "colab_type": "code",
        "colab": {}
      },
      "source": [
        "# 위시리스트에 저장"
      ],
      "execution_count": 0,
      "outputs": []
    },
    {
      "cell_type": "code",
      "metadata": {
        "id": "do7szLmQbMpW",
        "colab_type": "code",
        "colab": {}
      },
      "source": [
        "# 위시리스트 보기"
      ],
      "execution_count": 0,
      "outputs": []
    },
    {
      "cell_type": "code",
      "metadata": {
        "id": "8DbGLM8rbMyd",
        "colab_type": "code",
        "colab": {}
      },
      "source": [
        "\n"
      ],
      "execution_count": 0,
      "outputs": []
    },
    {
      "cell_type": "code",
      "metadata": {
        "id": "taiEAVQkcBEt",
        "colab_type": "code",
        "colab": {}
      },
      "source": [
        ""
      ],
      "execution_count": 0,
      "outputs": []
    },
    {
      "cell_type": "code",
      "metadata": {
        "id": "r7s_Kpi6bM1S",
        "colab_type": "code",
        "colab": {}
      },
      "source": [
        ""
      ],
      "execution_count": 0,
      "outputs": []
    },
    {
      "cell_type": "code",
      "metadata": {
        "id": "k_pvxQnqaHSM",
        "colab_type": "code",
        "outputId": "7fdc1908-24fe-4101-e86a-9306880a5499",
        "colab": {
          "base_uri": "https://localhost:8080/",
          "height": 158
        }
      },
      "source": [
        "hello()\n",
        "guide()\n",
        "cho = choice()\n",
        "money = jeon_wol_cho(cho)"
      ],
      "execution_count": 0,
      "outputs": [
        {
          "output_type": "stream",
          "text": [
            "안락한 내 집의 꿈! 오늘부터 이뤄볼까요?\n",
            "초기 가이드 설명 이러쿵 저러쿵\n",
            "['1. 전세 , 2. 월세']\n",
            "['1. 풀옵션', '2, 주차 가능3, 엘레베이터 O', '4. 애완동물 동반 가능', '5. 상관없음']\n",
            "월세 보증금 한도를 입력해주세요. 단위는 만원입니다.(ex 1천만원: 1000) \n",
            " ->3000\n",
            "월세 한도를 입력해주세요. 단위는 만원입니다.(ex : 30) \n",
            " ->50\n"
          ],
          "name": "stdout"
        }
      ]
    },
    {
      "cell_type": "code",
      "metadata": {
        "id": "bpBjC_0yaHWr",
        "colab_type": "code",
        "outputId": "e3ed442b-82e9-4090-fa74-67f7f9bfee49",
        "colab": {
          "base_uri": "https://localhost:8080/",
          "height": 52
        }
      },
      "source": [
        "print(cho)\n",
        "print(money)"
      ],
      "execution_count": 0,
      "outputs": [
        {
          "output_type": "stream",
          "text": [
            "['월세', ['1', '2', '3']]\n",
            "[3000, 50]\n"
          ],
          "name": "stdout"
        }
      ]
    },
    {
      "cell_type": "code",
      "metadata": {
        "id": "whPFqyF6hp-X",
        "colab_type": "code",
        "outputId": "fd41253b-fca5-4105-8961-76f2d6c0bef1",
        "colab": {
          "base_uri": "https://localhost:8080/",
          "height": 34
        }
      },
      "source": [
        "sale_sea = sale_searching(money,cho)"
      ],
      "execution_count": 0,
      "outputs": [
        {
          "output_type": "stream",
          "text": [
            "options parking elevator\n"
          ],
          "name": "stdout"
        }
      ]
    },
    {
      "cell_type": "code",
      "metadata": {
        "id": "Uyo8O4HHhqAi",
        "colab_type": "code",
        "colab": {}
      },
      "source": [
        "print(sale_sea.loc[:,['sales_type', '보증금액', '월세금액', \n",
        "                     'options','parking','elevator','pets']])\n",
        "print(len(sale_sea.loc[:,['sales_type', '보증금액', '월세금액', \n",
        "                     'options','parking','elevator','pets']]))"
      ],
      "execution_count": 0,
      "outputs": []
    },
    {
      "cell_type": "code",
      "metadata": {
        "id": "IbuTxh2UhqDD",
        "colab_type": "code",
        "outputId": "e289d37f-1c2c-461e-f8bc-70573e0f4ba5",
        "colab": {
          "base_uri": "https://localhost:8080/",
          "height": 1000
        }
      },
      "source": [
        "num=1\n",
        "wish_list=[]\n",
        "while 1:\n",
        "  print('------------------------------')\n",
        "  print('num',type(num),num)\n",
        "  a = sale_sea.loc[num-1:num,['sales_type','보증금액','월세금액','options',\n",
        "                         'parking','elevator','pets','owner','agent_comment']]\n",
        "  print('a',type(a),a)\n",
        "  \n",
        "  ww = input('0.그만보기 1. 다음매물보기 2. 위시리스트 저장 3. 위시리스트 보기\\n')\n",
        "  print('ww',type(ww),ww)\n",
        "  if len(ww) == 1:\n",
        "    if ww == '0':\n",
        "      break\n",
        "    elif ww == '1':\n",
        "      num+=1\n",
        "      continue\n",
        "    elif ww == '2':\n",
        "      a = list(a)\n",
        "      wish_list.append(a)\n",
        "    elif ww == '3':\n",
        "      print('wish_list',type(wish_list),wish_list)\n",
        "      a=[]\n"
      ],
      "execution_count": 0,
      "outputs": [
        {
          "output_type": "stream",
          "text": [
            "------------------------------\n",
            "num <class 'int'> 1\n",
            "a <class 'pandas.core.frame.DataFrame'>   sales_type  보증금액  월세금액  options  parking  elevator  pets  owner  \\\n",
            "0         월세   300    38        1        1      True     0    NaN   \n",
            "\n",
            "                                       agent_comment  \n",
            "0  💖 1억원 보증보험에 가입되어 있는 마블공인중개사무소 입니다.\\n💖 광고매물이 모두...  \n",
            "0.그만보기 1. 다음매물보기 2. 위시리스트 저장 3. 위시리스트 보기\n",
            "1\n",
            "ww <class 'str'> 1\n",
            "------------------------------\n",
            "num <class 'int'> 2\n",
            "a <class 'pandas.core.frame.DataFrame'> Empty DataFrame\n",
            "Columns: [sales_type, 보증금액, 월세금액, options, parking, elevator, pets, owner, agent_comment]\n",
            "Index: []\n",
            "0.그만보기 1. 다음매물보기 2. 위시리스트 저장 3. 위시리스트 보기\n",
            "1\n",
            "ww <class 'str'> 1\n",
            "------------------------------\n",
            "num <class 'int'> 3\n",
            "a <class 'pandas.core.frame.DataFrame'>   sales_type  보증금액  월세금액  options  parking  elevator  pets  owner  \\\n",
            "3         월세   200    38        1        1      True     0    NaN   \n",
            "\n",
            "                                       agent_comment  \n",
            "3  ♣위 사진은 직접촬영한사진이며 실매물만 취급하고있습니다\\n♣고객님 조건에 맞는방에 ...  \n",
            "0.그만보기 1. 다음매물보기 2. 위시리스트 저장 3. 위시리스트 보기\n",
            "1\n",
            "ww <class 'str'> 1\n",
            "------------------------------\n",
            "num <class 'int'> 4\n",
            "a <class 'pandas.core.frame.DataFrame'>   sales_type  보증금액  월세금액  options  parking  elevator  pets  owner  \\\n",
            "3         월세   200    38        1        1      True     0    NaN   \n",
            "4         월세   200    50        1        1      True     0    NaN   \n",
            "\n",
            "                                       agent_comment  \n",
            "3  ♣위 사진은 직접촬영한사진이며 실매물만 취급하고있습니다\\n♣고객님 조건에 맞는방에 ...  \n",
            "4  ✔100%실매물/실사진/실가격/실시간 광고등록 헛걸음 안하시게 최대한 노력하겠습니다...  \n",
            "0.그만보기 1. 다음매물보기 2. 위시리스트 저장 3. 위시리스트 보기\n",
            "3\n",
            "ww <class 'str'> 3\n",
            "wish_list <class 'list'> []\n",
            "------------------------------\n",
            "num <class 'int'> 4\n",
            "a <class 'pandas.core.frame.DataFrame'>   sales_type  보증금액  월세금액  options  parking  elevator  pets  owner  \\\n",
            "3         월세   200    38        1        1      True     0    NaN   \n",
            "4         월세   200    50        1        1      True     0    NaN   \n",
            "\n",
            "                                       agent_comment  \n",
            "3  ♣위 사진은 직접촬영한사진이며 실매물만 취급하고있습니다\\n♣고객님 조건에 맞는방에 ...  \n",
            "4  ✔100%실매물/실사진/실가격/실시간 광고등록 헛걸음 안하시게 최대한 노력하겠습니다...  \n",
            "0.그만보기 1. 다음매물보기 2. 위시리스트 저장 3. 위시리스트 보기\n",
            "1\n",
            "ww <class 'str'> 1\n",
            "------------------------------\n",
            "num <class 'int'> 5\n",
            "a <class 'pandas.core.frame.DataFrame'>   sales_type  보증금액  월세금액  options  parking  elevator  pets  owner  \\\n",
            "4         월세   200    50        1        1      True     0    NaN   \n",
            "\n",
            "                                       agent_comment  \n",
            "4  ✔100%실매물/실사진/실가격/실시간 광고등록 헛걸음 안하시게 최대한 노력하겠습니다...  \n",
            "0.그만보기 1. 다음매물보기 2. 위시리스트 저장 3. 위시리스트 보기\n",
            "2\n",
            "ww <class 'str'> 2\n",
            "------------------------------\n",
            "num <class 'int'> 5\n",
            "a <class 'pandas.core.frame.DataFrame'>   sales_type  보증금액  월세금액  options  parking  elevator  pets  owner  \\\n",
            "4         월세   200    50        1        1      True     0    NaN   \n",
            "\n",
            "                                       agent_comment  \n",
            "4  ✔100%실매물/실사진/실가격/실시간 광고등록 헛걸음 안하시게 최대한 노력하겠습니다...  \n",
            "0.그만보기 1. 다음매물보기 2. 위시리스트 저장 3. 위시리스트 보기\n",
            "2\n",
            "ww <class 'str'> 2\n",
            "------------------------------\n",
            "num <class 'int'> 5\n",
            "a <class 'pandas.core.frame.DataFrame'>   sales_type  보증금액  월세금액  options  parking  elevator  pets  owner  \\\n",
            "4         월세   200    50        1        1      True     0    NaN   \n",
            "\n",
            "                                       agent_comment  \n",
            "4  ✔100%실매물/실사진/실가격/실시간 광고등록 헛걸음 안하시게 최대한 노력하겠습니다...  \n",
            "0.그만보기 1. 다음매물보기 2. 위시리스트 저장 3. 위시리스트 보기\n",
            "1\n",
            "ww <class 'str'> 1\n",
            "------------------------------\n",
            "num <class 'int'> 6\n",
            "a <class 'pandas.core.frame.DataFrame'> Empty DataFrame\n",
            "Columns: [sales_type, 보증금액, 월세금액, options, parking, elevator, pets, owner, agent_comment]\n",
            "Index: []\n",
            "0.그만보기 1. 다음매물보기 2. 위시리스트 저장 3. 위시리스트 보기\n",
            "1\n",
            "ww <class 'str'> 1\n",
            "------------------------------\n",
            "num <class 'int'> 7\n",
            "a <class 'pandas.core.frame.DataFrame'> Empty DataFrame\n",
            "Columns: [sales_type, 보증금액, 월세금액, options, parking, elevator, pets, owner, agent_comment]\n",
            "Index: []\n",
            "0.그만보기 1. 다음매물보기 2. 위시리스트 저장 3. 위시리스트 보기\n",
            "1\n",
            "ww <class 'str'> 1\n",
            "------------------------------\n",
            "num <class 'int'> 8\n",
            "a <class 'pandas.core.frame.DataFrame'> Empty DataFrame\n",
            "Columns: [sales_type, 보증금액, 월세금액, options, parking, elevator, pets, owner, agent_comment]\n",
            "Index: []\n",
            "0.그만보기 1. 다음매물보기 2. 위시리스트 저장 3. 위시리스트 보기\n",
            "1\n",
            "ww <class 'str'> 1\n",
            "------------------------------\n",
            "num <class 'int'> 9\n",
            "a <class 'pandas.core.frame.DataFrame'> Empty DataFrame\n",
            "Columns: [sales_type, 보증금액, 월세금액, options, parking, elevator, pets, owner, agent_comment]\n",
            "Index: []\n",
            "0.그만보기 1. 다음매물보기 2. 위시리스트 저장 3. 위시리스트 보기\n",
            "1\n",
            "ww <class 'str'> 1\n",
            "------------------------------\n",
            "num <class 'int'> 10\n",
            "a <class 'pandas.core.frame.DataFrame'>    sales_type  보증금액  월세금액  options  parking  elevator  pets  owner  \\\n",
            "10         월세   200    43        1        1      True     0    NaN   \n",
            "\n",
            "                                        agent_comment  \n",
            "10  ♣위 사진은 직접촬영한사진이며 실매물만 취급하고있습니다\\n♣고객님 조건에 맞는방에 ...  \n"
          ],
          "name": "stdout"
        },
        {
          "output_type": "error",
          "ename": "KeyboardInterrupt",
          "evalue": "ignored",
          "traceback": [
            "\u001b[0;31m---------------------------------------------------------------------------\u001b[0m",
            "\u001b[0;31mKeyboardInterrupt\u001b[0m                         Traceback (most recent call last)",
            "\u001b[0;32m/usr/local/lib/python3.6/dist-packages/ipykernel/kernelbase.py\u001b[0m in \u001b[0;36m_input_request\u001b[0;34m(self, prompt, ident, parent, password)\u001b[0m\n\u001b[1;32m    729\u001b[0m             \u001b[0;32mtry\u001b[0m\u001b[0;34m:\u001b[0m\u001b[0;34m\u001b[0m\u001b[0;34m\u001b[0m\u001b[0m\n\u001b[0;32m--> 730\u001b[0;31m                 \u001b[0mident\u001b[0m\u001b[0;34m,\u001b[0m \u001b[0mreply\u001b[0m \u001b[0;34m=\u001b[0m \u001b[0mself\u001b[0m\u001b[0;34m.\u001b[0m\u001b[0msession\u001b[0m\u001b[0;34m.\u001b[0m\u001b[0mrecv\u001b[0m\u001b[0;34m(\u001b[0m\u001b[0mself\u001b[0m\u001b[0;34m.\u001b[0m\u001b[0mstdin_socket\u001b[0m\u001b[0;34m,\u001b[0m \u001b[0;36m0\u001b[0m\u001b[0;34m)\u001b[0m\u001b[0;34m\u001b[0m\u001b[0;34m\u001b[0m\u001b[0m\n\u001b[0m\u001b[1;32m    731\u001b[0m             \u001b[0;32mexcept\u001b[0m \u001b[0mException\u001b[0m\u001b[0;34m:\u001b[0m\u001b[0;34m\u001b[0m\u001b[0;34m\u001b[0m\u001b[0m\n",
            "\u001b[0;32m/usr/local/lib/python3.6/dist-packages/jupyter_client/session.py\u001b[0m in \u001b[0;36mrecv\u001b[0;34m(self, socket, mode, content, copy)\u001b[0m\n\u001b[1;32m    802\u001b[0m         \u001b[0;32mtry\u001b[0m\u001b[0;34m:\u001b[0m\u001b[0;34m\u001b[0m\u001b[0;34m\u001b[0m\u001b[0m\n\u001b[0;32m--> 803\u001b[0;31m             \u001b[0mmsg_list\u001b[0m \u001b[0;34m=\u001b[0m \u001b[0msocket\u001b[0m\u001b[0;34m.\u001b[0m\u001b[0mrecv_multipart\u001b[0m\u001b[0;34m(\u001b[0m\u001b[0mmode\u001b[0m\u001b[0;34m,\u001b[0m \u001b[0mcopy\u001b[0m\u001b[0;34m=\u001b[0m\u001b[0mcopy\u001b[0m\u001b[0;34m)\u001b[0m\u001b[0;34m\u001b[0m\u001b[0;34m\u001b[0m\u001b[0m\n\u001b[0m\u001b[1;32m    804\u001b[0m         \u001b[0;32mexcept\u001b[0m \u001b[0mzmq\u001b[0m\u001b[0;34m.\u001b[0m\u001b[0mZMQError\u001b[0m \u001b[0;32mas\u001b[0m \u001b[0me\u001b[0m\u001b[0;34m:\u001b[0m\u001b[0;34m\u001b[0m\u001b[0;34m\u001b[0m\u001b[0m\n",
            "\u001b[0;32m/usr/local/lib/python3.6/dist-packages/zmq/sugar/socket.py\u001b[0m in \u001b[0;36mrecv_multipart\u001b[0;34m(self, flags, copy, track)\u001b[0m\n\u001b[1;32m    465\u001b[0m         \"\"\"\n\u001b[0;32m--> 466\u001b[0;31m         \u001b[0mparts\u001b[0m \u001b[0;34m=\u001b[0m \u001b[0;34m[\u001b[0m\u001b[0mself\u001b[0m\u001b[0;34m.\u001b[0m\u001b[0mrecv\u001b[0m\u001b[0;34m(\u001b[0m\u001b[0mflags\u001b[0m\u001b[0;34m,\u001b[0m \u001b[0mcopy\u001b[0m\u001b[0;34m=\u001b[0m\u001b[0mcopy\u001b[0m\u001b[0;34m,\u001b[0m \u001b[0mtrack\u001b[0m\u001b[0;34m=\u001b[0m\u001b[0mtrack\u001b[0m\u001b[0;34m)\u001b[0m\u001b[0;34m]\u001b[0m\u001b[0;34m\u001b[0m\u001b[0;34m\u001b[0m\u001b[0m\n\u001b[0m\u001b[1;32m    467\u001b[0m         \u001b[0;31m# have first part already, only loop while more to receive\u001b[0m\u001b[0;34m\u001b[0m\u001b[0;34m\u001b[0m\u001b[0;34m\u001b[0m\u001b[0m\n",
            "\u001b[0;32mzmq/backend/cython/socket.pyx\u001b[0m in \u001b[0;36mzmq.backend.cython.socket.Socket.recv\u001b[0;34m()\u001b[0m\n",
            "\u001b[0;32mzmq/backend/cython/socket.pyx\u001b[0m in \u001b[0;36mzmq.backend.cython.socket.Socket.recv\u001b[0;34m()\u001b[0m\n",
            "\u001b[0;32mzmq/backend/cython/socket.pyx\u001b[0m in \u001b[0;36mzmq.backend.cython.socket._recv_copy\u001b[0;34m()\u001b[0m\n",
            "\u001b[0;32m/usr/local/lib/python3.6/dist-packages/zmq/backend/cython/checkrc.pxd\u001b[0m in \u001b[0;36mzmq.backend.cython.checkrc._check_rc\u001b[0;34m()\u001b[0m\n",
            "\u001b[0;31mKeyboardInterrupt\u001b[0m: ",
            "\nDuring handling of the above exception, another exception occurred:\n",
            "\u001b[0;31mKeyboardInterrupt\u001b[0m                         Traceback (most recent call last)",
            "\u001b[0;32m<ipython-input-223-c78622c4f0d6>\u001b[0m in \u001b[0;36m<module>\u001b[0;34m()\u001b[0m\n\u001b[1;32m      8\u001b[0m   \u001b[0mprint\u001b[0m\u001b[0;34m(\u001b[0m\u001b[0;34m'a'\u001b[0m\u001b[0;34m,\u001b[0m\u001b[0mtype\u001b[0m\u001b[0;34m(\u001b[0m\u001b[0ma\u001b[0m\u001b[0;34m)\u001b[0m\u001b[0;34m,\u001b[0m\u001b[0ma\u001b[0m\u001b[0;34m)\u001b[0m\u001b[0;34m\u001b[0m\u001b[0;34m\u001b[0m\u001b[0m\n\u001b[1;32m      9\u001b[0m \u001b[0;34m\u001b[0m\u001b[0m\n\u001b[0;32m---> 10\u001b[0;31m   \u001b[0mww\u001b[0m \u001b[0;34m=\u001b[0m \u001b[0minput\u001b[0m\u001b[0;34m(\u001b[0m\u001b[0;34m'0.그만보기 1. 다음매물보기 2. 위시리스트 저장 3. 위시리스트 보기\\n'\u001b[0m\u001b[0;34m)\u001b[0m\u001b[0;34m\u001b[0m\u001b[0;34m\u001b[0m\u001b[0m\n\u001b[0m\u001b[1;32m     11\u001b[0m   \u001b[0mprint\u001b[0m\u001b[0;34m(\u001b[0m\u001b[0;34m'ww'\u001b[0m\u001b[0;34m,\u001b[0m\u001b[0mtype\u001b[0m\u001b[0;34m(\u001b[0m\u001b[0mww\u001b[0m\u001b[0;34m)\u001b[0m\u001b[0;34m,\u001b[0m\u001b[0mww\u001b[0m\u001b[0;34m)\u001b[0m\u001b[0;34m\u001b[0m\u001b[0;34m\u001b[0m\u001b[0m\n\u001b[1;32m     12\u001b[0m   \u001b[0;32mif\u001b[0m \u001b[0mlen\u001b[0m\u001b[0;34m(\u001b[0m\u001b[0mww\u001b[0m\u001b[0;34m)\u001b[0m \u001b[0;34m==\u001b[0m \u001b[0;36m1\u001b[0m\u001b[0;34m:\u001b[0m\u001b[0;34m\u001b[0m\u001b[0;34m\u001b[0m\u001b[0m\n",
            "\u001b[0;32m/usr/local/lib/python3.6/dist-packages/ipykernel/kernelbase.py\u001b[0m in \u001b[0;36mraw_input\u001b[0;34m(self, prompt)\u001b[0m\n\u001b[1;32m    703\u001b[0m             \u001b[0mself\u001b[0m\u001b[0;34m.\u001b[0m\u001b[0m_parent_ident\u001b[0m\u001b[0;34m,\u001b[0m\u001b[0;34m\u001b[0m\u001b[0;34m\u001b[0m\u001b[0m\n\u001b[1;32m    704\u001b[0m             \u001b[0mself\u001b[0m\u001b[0;34m.\u001b[0m\u001b[0m_parent_header\u001b[0m\u001b[0;34m,\u001b[0m\u001b[0;34m\u001b[0m\u001b[0;34m\u001b[0m\u001b[0m\n\u001b[0;32m--> 705\u001b[0;31m             \u001b[0mpassword\u001b[0m\u001b[0;34m=\u001b[0m\u001b[0;32mFalse\u001b[0m\u001b[0;34m,\u001b[0m\u001b[0;34m\u001b[0m\u001b[0;34m\u001b[0m\u001b[0m\n\u001b[0m\u001b[1;32m    706\u001b[0m         )\n\u001b[1;32m    707\u001b[0m \u001b[0;34m\u001b[0m\u001b[0m\n",
            "\u001b[0;32m/usr/local/lib/python3.6/dist-packages/ipykernel/kernelbase.py\u001b[0m in \u001b[0;36m_input_request\u001b[0;34m(self, prompt, ident, parent, password)\u001b[0m\n\u001b[1;32m    733\u001b[0m             \u001b[0;32mexcept\u001b[0m \u001b[0mKeyboardInterrupt\u001b[0m\u001b[0;34m:\u001b[0m\u001b[0;34m\u001b[0m\u001b[0;34m\u001b[0m\u001b[0m\n\u001b[1;32m    734\u001b[0m                 \u001b[0;31m# re-raise KeyboardInterrupt, to truncate traceback\u001b[0m\u001b[0;34m\u001b[0m\u001b[0;34m\u001b[0m\u001b[0;34m\u001b[0m\u001b[0m\n\u001b[0;32m--> 735\u001b[0;31m                 \u001b[0;32mraise\u001b[0m \u001b[0mKeyboardInterrupt\u001b[0m\u001b[0;34m\u001b[0m\u001b[0;34m\u001b[0m\u001b[0m\n\u001b[0m\u001b[1;32m    736\u001b[0m             \u001b[0;32melse\u001b[0m\u001b[0;34m:\u001b[0m\u001b[0;34m\u001b[0m\u001b[0;34m\u001b[0m\u001b[0m\n\u001b[1;32m    737\u001b[0m                 \u001b[0;32mbreak\u001b[0m\u001b[0;34m\u001b[0m\u001b[0;34m\u001b[0m\u001b[0m\n",
            "\u001b[0;31mKeyboardInterrupt\u001b[0m: "
          ]
        }
      ]
    },
    {
      "cell_type": "code",
      "metadata": {
        "id": "nNgSnJgHAC-z",
        "colab_type": "code",
        "colab": {}
      },
      "source": [
        ""
      ],
      "execution_count": 0,
      "outputs": []
    },
    {
      "cell_type": "code",
      "metadata": {
        "id": "_Nf0ze1uADA4",
        "colab_type": "code",
        "colab": {}
      },
      "source": [
        ""
      ],
      "execution_count": 0,
      "outputs": []
    },
    {
      "cell_type": "code",
      "metadata": {
        "id": "OQ_40gUuADDJ",
        "colab_type": "code",
        "colab": {}
      },
      "source": [
        ""
      ],
      "execution_count": 0,
      "outputs": []
    },
    {
      "cell_type": "code",
      "metadata": {
        "id": "PU0MKrK4ADGx",
        "colab_type": "code",
        "colab": {}
      },
      "source": [
        ""
      ],
      "execution_count": 0,
      "outputs": []
    },
    {
      "cell_type": "code",
      "metadata": {
        "id": "J0qA4ko7ADIW",
        "colab_type": "code",
        "colab": {}
      },
      "source": [
        ""
      ],
      "execution_count": 0,
      "outputs": []
    },
    {
      "cell_type": "code",
      "metadata": {
        "id": "0CLKw2h6ADJu",
        "colab_type": "code",
        "colab": {}
      },
      "source": [
        ""
      ],
      "execution_count": 0,
      "outputs": []
    }
  ]
}