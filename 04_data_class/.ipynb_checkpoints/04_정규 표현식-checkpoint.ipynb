{
 "cells": [
  {
   "cell_type": "markdown",
   "metadata": {
    "colab_type": "text",
    "id": "y6gPoQZAmj8_"
   },
   "source": [
    "# Why 정규표현식\n",
    "\n",
    "주민등록번호를 포함하고 있는 텍스트가 있다. 이 텍스트에 포함된 모든 주민등록번호의 뒷자리를 * 문자로 변경해 보자."
   ]
  },
  {
   "cell_type": "code",
   "execution_count": null,
   "metadata": {
    "colab": {},
    "colab_type": "code",
    "id": "31-QN10RmUiQ"
   },
   "outputs": [],
   "source": [
    "data = \"\"\"\n",
    "park 800905-1049118\n",
    "kim  700905-1059119\n",
    "\"\"\""
   ]
  },
  {
   "cell_type": "code",
   "execution_count": null,
   "metadata": {
    "colab": {
     "base_uri": "https://localhost:8080/",
     "height": 89
    },
    "colab_type": "code",
    "executionInfo": {
     "elapsed": 1409,
     "status": "ok",
     "timestamp": 1568715712269,
     "user": {
      "displayName": "Lee Junho",
      "photoUrl": "",
      "userId": "07135364773811627245"
     },
     "user_tz": -540
    },
    "id": "0IZqXFiJm6Fw",
    "outputId": "e5017319-edd8-493b-f48c-55ccac35879c"
   },
   "outputs": [
    {
     "name": "stdout",
     "output_type": "stream",
     "text": [
      "\n",
      "park 800905-*******\n",
      "kim  700905-*******\n",
      "\n"
     ]
    }
   ],
   "source": [
    "result = []\n",
    "for line in data.split(\"\\n\"):\n",
    "    word_result = []\n",
    "    for word in line.split(\" \"):\n",
    "        if len(word) == 14 and word[:6].isdigit() and word[7:].isdigit():\n",
    "            word = word[:6] + \"-\" + \"*******\"\n",
    "        word_result.append(word)\n",
    "    result.append(\" \".join(word_result))\n",
    "print(\"\\n\".join(result))"
   ]
  },
  {
   "cell_type": "code",
   "execution_count": 3,
   "metadata": {
    "colab": {
     "base_uri": "https://localhost:8080/",
     "height": 85
    },
    "colab_type": "code",
    "executionInfo": {
     "elapsed": 1758,
     "status": "ok",
     "timestamp": 1568951344660,
     "user": {
      "displayName": "Sung Hak Lim",
      "photoUrl": "https://lh3.googleusercontent.com/a-/AAuE7mCAsIrkT7qHVbLE2qbnDRuLFImyiwklV4EiB94wNA=s64",
      "userId": "05716500249544805974"
     },
     "user_tz": -540
    },
    "id": "tzh48kdDm6k6",
    "outputId": "06b507d2-1e7f-4640-d14c-667c9e4ff4a0"
   },
   "outputs": [
    {
     "name": "stdout",
     "output_type": "stream",
     "text": [
      "\n",
      "park 800905-*******\n",
      "kim  700905-*******\n",
      "\n"
     ]
    }
   ],
   "source": [
    "import re \n",
    "\n",
    "pat = re.compile(\"(\\d{6})[-]\\d{7}\")\n",
    "print(pat.sub(\"\\g<1>-*******\", data))"
   ]
  },
  {
   "cell_type": "markdown",
   "metadata": {
    "colab_type": "text",
    "id": "d-RHd99znkn7"
   },
   "source": [
    "# 정규표현식\n",
    "\n",
    "\n",
    "\n"
   ]
  },
  {
   "cell_type": "code",
   "execution_count": null,
   "metadata": {
    "colab": {},
    "colab_type": "code",
    "id": "RRY7VBegnBap"
   },
   "outputs": [],
   "source": [
    "# 파이썬 정규식은 re(regular expression) 모듈을 사용한다\n",
    "import re "
   ]
  },
  {
   "cell_type": "markdown",
   "metadata": {
    "colab_type": "text",
    "id": "dRF1_OJqpgng"
   },
   "source": [
    "주로 정규식을 사용하기전에 특정 패턴을 컴파일을 해야한다.\n",
    "\n",
    "re.compile 의 결과를 받아서 이후 작업을 수행한다."
   ]
  },
  {
   "cell_type": "markdown",
   "metadata": {
    "colab_type": "text",
    "id": "GoY3pg3kwyW9"
   },
   "source": [
    "일단은 잘 모르겠으니 실행부터 해보자"
   ]
  },
  {
   "cell_type": "code",
   "execution_count": null,
   "metadata": {
    "colab": {
     "base_uri": "https://localhost:8080/",
     "height": 34
    },
    "colab_type": "code",
    "executionInfo": {
     "elapsed": 894,
     "status": "ok",
     "timestamp": 1568785242354,
     "user": {
      "displayName": "Sung Hak Lim",
      "photoUrl": "https://lh3.googleusercontent.com/a-/AAuE7mCAsIrkT7qHVbLE2qbnDRuLFImyiwklV4EiB94wNA=s64",
      "userId": "05716500249544805974"
     },
     "user_tz": -540
    },
    "id": "regXxW4WouKw",
    "outputId": "2894e6ad-f001-43bd-c9ec-7378e87a37e5"
   },
   "outputs": [
    {
     "name": "stdout",
     "output_type": "stream",
     "text": [
      "Not Match\n"
     ]
    }
   ],
   "source": [
    "# txt 라는 변수에 'Hello Python을 넣어준다.'\n",
    "txt = 'Hello lkjsgoier98234 \\n Python'\n",
    "# x는 re 의 search ~~ 의 결과 \n",
    "# 정규식 패턴 : ^Hello.*Python$ \n",
    "# 해석을 위해 메타 문자 등장을 기준으로 패턴을 분리해서 해독\n",
    "# ^Hello                   / .                           / *                 / Python$\n",
    "# Hello 로 문장이 시작되고 / 줄바꿈 문자를 제외한 문자가 / 0번 이상 반복되고 / Python으로 문장이 끝난다.\n",
    "x = re.search('^Hello.*Python$', txt)\n",
    "\n",
    "if x:\n",
    "  print(\"Match\")\n",
    "else:\n",
    "  print(\"Not Match\")"
   ]
  },
  {
   "cell_type": "markdown",
   "metadata": {
    "colab_type": "text",
    "id": "HO1i3iFs6h0g"
   },
   "source": [
    "# Re Function\n",
    "\n",
    "re 모듈은 다음과 같은 기능을 제공한다\n",
    "\n",
    "findall - 정규식과 매치되는 모든 문자열(substring)을 리스트로 돌려준다.\n",
    "\n",
    "match - 문자열의 처음부터 정규식과 매치되는지 조사한다.\n",
    "\n",
    "search - 문자열의 전체를 검색하여 정규식과 매치되는지 조사한다.\n",
    "\n",
    "split - 일치하는 분할 문자열 리스트를 돌려준다\n",
    "\n",
    "compile - 패턴을 객체화 시켜서 돌려줍니다.\n",
    "\n",
    "finditer - 정규식과 매치되는 모든 문자열(substring)을 반복 가능한 객체로 돌려준다."
   ]
  },
  {
   "cell_type": "markdown",
   "metadata": {
    "colab_type": "text",
    "id": "wFYfvpnkuvXM"
   },
   "source": [
    "## findall \n",
    "\n",
    "정규식과 매치되는 모든 문자열(substring)을 리스트로 돌려준다."
   ]
  },
  {
   "cell_type": "markdown",
   "metadata": {
    "colab_type": "text",
    "id": "gWTnWqsHvdgj"
   },
   "source": [
    "### 메타 문자(meta characters)\n",
    "\n",
    ". ^ $ * + ? { } [ ] \\ | ( )\n",
    "\n",
    "※ 메타 문자란 원래 그 문자가 가진 뜻이 아닌 특별한 용도로 사용하는 문자를 말한다.\n",
    "\n",
    "[ ] - 괄호 사이의 문자들과 매치\n",
    "\n",
    "\\    - 특수 처리 (천천히 알아가도록 하자) + (슬래쉬(/) 아닙니다 )\n",
    "\n",
    ".  -  줄바꿈 문자(\\n)를 제외한 모든 문자와 매치 (점 하나 찍혀있습니다) \n",
    "\n",
    "^ - ~ 으로 시작한다\n",
    "\n",
    "$ - ~ 으로 끝난다\n",
    "\n",
    "''* - 0번 이상 반복된다  ( 별* 표시 입니다. 자꾸 목차로 변경되어서 앞에 \"가 추가 되었습니다)\n",
    "\n",
    "''+ - 1번 이상 반복된다  ( 위와 같습니다.)\n",
    "\n",
    "? -  0번 이상 1번 이하\n",
    "\n",
    "{ } - 정확한 횟수 지정\n",
    "\n",
    "| - 하나 또는\n",
    "\n",
    "() - 그룹 패턴 "
   ]
  },
  {
   "cell_type": "code",
   "execution_count": null,
   "metadata": {
    "colab": {
     "base_uri": "https://localhost:8080/",
     "height": 34
    },
    "colab_type": "code",
    "executionInfo": {
     "elapsed": 732,
     "status": "ok",
     "timestamp": 1568785524937,
     "user": {
      "displayName": "Sung Hak Lim",
      "photoUrl": "https://lh3.googleusercontent.com/a-/AAuE7mCAsIrkT7qHVbLE2qbnDRuLFImyiwklV4EiB94wNA=s64",
      "userId": "05716500249544805974"
     },
     "user_tz": -540
    },
    "id": "sRQEBWEAyooK",
    "outputId": "a8acf3ef-e6c2-4a96-905b-5c5ecbb2b198"
   },
   "outputs": [
    {
     "data": {
      "text/plain": [
       "['e', 'l', 'l']"
      ]
     },
     "execution_count": 6,
     "metadata": {
      "tags": []
     },
     "output_type": "execute_result"
    }
   ],
   "source": [
    "txt = 'Hello SBA'\n",
    "\n",
    "# a부터 m 까지 \n",
    "x = re.findall('[a-m]',txt)\n",
    "x"
   ]
  },
  {
   "cell_type": "code",
   "execution_count": null,
   "metadata": {
    "colab": {
     "base_uri": "https://localhost:8080/",
     "height": 34
    },
    "colab_type": "code",
    "executionInfo": {
     "elapsed": 1131,
     "status": "ok",
     "timestamp": 1568785588839,
     "user": {
      "displayName": "Sung Hak Lim",
      "photoUrl": "https://lh3.googleusercontent.com/a-/AAuE7mCAsIrkT7qHVbLE2qbnDRuLFImyiwklV4EiB94wNA=s64",
      "userId": "05716500249544805974"
     },
     "user_tz": -540
    },
    "id": "UOG9apZtBuAX",
    "outputId": "f0ec3e47-8d79-4aac-e823-2576152c8518"
   },
   "outputs": [
    {
     "data": {
      "text/plain": [
       "['안', '녕', '디', '지', '몬']"
      ]
     },
     "execution_count": 7,
     "metadata": {
      "tags": []
     },
     "output_type": "execute_result"
    }
   ],
   "source": [
    "txt = '안녕 디지몬'\n",
    "\n",
    "# 한글 음절의 첫 시작인 '가' 마지막 음절인 '힣' 으로 한글 음절을 다 찾아낼수있다\n",
    "# 단, UTF-8과 EUC-KR 인코딩이 다른 결과를 가져온다는 점 인지해두셨으면 합니다.\n",
    "x = re.findall('[가-힣]',txt)\n",
    "x"
   ]
  },
  {
   "cell_type": "code",
   "execution_count": null,
   "metadata": {
    "colab": {
     "base_uri": "https://localhost:8080/",
     "height": 34
    },
    "colab_type": "code",
    "executionInfo": {
     "elapsed": 821,
     "status": "ok",
     "timestamp": 1568785770854,
     "user": {
      "displayName": "Sung Hak Lim",
      "photoUrl": "https://lh3.googleusercontent.com/a-/AAuE7mCAsIrkT7qHVbLE2qbnDRuLFImyiwklV4EiB94wNA=s64",
      "userId": "05716500249544805974"
     },
     "user_tz": -540
    },
    "id": "L-hRqlkmrebx",
    "outputId": "7bdd8f3d-6b61-4258-df07-d967d8a109f3"
   },
   "outputs": [
    {
     "data": {
      "text/plain": [
       "['2', '5', '0', '0']"
      ]
     },
     "execution_count": 9,
     "metadata": {
      "tags": []
     },
     "output_type": "execute_result"
    }
   ],
   "source": [
    "txt = \"소보루 빵은 2500원이다.\"\n",
    "\n",
    "# 쌤쌤\n",
    "x = re.findall('[0-9]',txt)\n",
    "x"
   ]
  },
  {
   "cell_type": "code",
   "execution_count": null,
   "metadata": {
    "colab": {
     "base_uri": "https://localhost:8080/",
     "height": 34
    },
    "colab_type": "code",
    "executionInfo": {
     "elapsed": 845,
     "status": "ok",
     "timestamp": 1568786360162,
     "user": {
      "displayName": "Sung Hak Lim",
      "photoUrl": "https://lh3.googleusercontent.com/a-/AAuE7mCAsIrkT7qHVbLE2qbnDRuLFImyiwklV4EiB94wNA=s64",
      "userId": "05716500249544805974"
     },
     "user_tz": -540
    },
    "id": "J0QUa-h9DlZX",
    "outputId": "3436f8fc-ed5b-4a03-e863-2e193dfb5019"
   },
   "outputs": [
    {
     "data": {
      "text/plain": [
       "['Python']"
      ]
     },
     "execution_count": 13,
     "metadata": {
      "tags": []
     },
     "output_type": "execute_result"
    }
   ],
   "source": [
    "txt = 'Life is too short, you must need Python'\n",
    "\n",
    "# P (아무말)*4 n\n",
    "x = re.findall('P....n',txt)   # ^의 경우는 문장의 처음에, $의 경우는 문장의 마지막에 있는 경우만 가져온다.\n",
    "x                              # 정규표현식에서 ''는 최소 패턴 단위이다. "
   ]
  },
  {
   "cell_type": "code",
   "execution_count": null,
   "metadata": {
    "colab": {
     "base_uri": "https://localhost:8080/",
     "height": 34
    },
    "colab_type": "code",
    "executionInfo": {
     "elapsed": 962,
     "status": "ok",
     "timestamp": 1568786422929,
     "user": {
      "displayName": "Sung Hak Lim",
      "photoUrl": "https://lh3.googleusercontent.com/a-/AAuE7mCAsIrkT7qHVbLE2qbnDRuLFImyiwklV4EiB94wNA=s64",
      "userId": "05716500249544805974"
     },
     "user_tz": -540
    },
    "id": "8y5r6Zs5JSvM",
    "outputId": "f4757562-51ef-409b-9d4a-45ad96dc548f"
   },
   "outputs": [
    {
     "data": {
      "text/plain": [
       "['Life']"
      ]
     },
     "execution_count": 15,
     "metadata": {
      "tags": []
     },
     "output_type": "execute_result"
    }
   ],
   "source": [
    "txt = 'Life is too short, you must need Python'\n",
    "\n",
    "# Life 로 시작\n",
    "x = re.findall('^Life', txt)\n",
    "x"
   ]
  },
  {
   "cell_type": "code",
   "execution_count": null,
   "metadata": {
    "colab": {
     "base_uri": "https://localhost:8080/",
     "height": 34
    },
    "colab_type": "code",
    "executionInfo": {
     "elapsed": 715,
     "status": "ok",
     "timestamp": 1568786465403,
     "user": {
      "displayName": "Sung Hak Lim",
      "photoUrl": "https://lh3.googleusercontent.com/a-/AAuE7mCAsIrkT7qHVbLE2qbnDRuLFImyiwklV4EiB94wNA=s64",
      "userId": "05716500249544805974"
     },
     "user_tz": -540
    },
    "id": "2-xT04LsJkp5",
    "outputId": "3251d412-236b-4665-c99c-738c13aaab8f"
   },
   "outputs": [
    {
     "data": {
      "text/plain": [
       "['Python']"
      ]
     },
     "execution_count": 17,
     "metadata": {
      "tags": []
     },
     "output_type": "execute_result"
    }
   ],
   "source": [
    "txt = 'Life is too short, you must need Python'\n",
    "\n",
    "# Python으로 끝\n",
    "x = re.findall('Python$', txt)\n",
    "x"
   ]
  },
  {
   "cell_type": "code",
   "execution_count": null,
   "metadata": {
    "colab": {
     "base_uri": "https://localhost:8080/",
     "height": 34
    },
    "colab_type": "code",
    "executionInfo": {
     "elapsed": 778,
     "status": "ok",
     "timestamp": 1568786603795,
     "user": {
      "displayName": "Sung Hak Lim",
      "photoUrl": "https://lh3.googleusercontent.com/a-/AAuE7mCAsIrkT7qHVbLE2qbnDRuLFImyiwklV4EiB94wNA=s64",
      "userId": "05716500249544805974"
     },
     "user_tz": -540
    },
    "id": "54wtTbNZJpx6",
    "outputId": "ba4667b4-d562-4e1e-cf29-0e80b3a6ab66"
   },
   "outputs": [
    {
     "data": {
      "text/plain": [
       "['오늘은', '오늘']"
      ]
     },
     "execution_count": 18,
     "metadata": {
      "tags": []
     },
     "output_type": "execute_result"
    }
   ],
   "source": [
    "txt = '오늘은 오렌지 상자를 들고 오늘 열리는 장터에 가서 오징어와 교환하러가는날'\n",
    "\n",
    "# 오늘 [은]이 0번 이상 등장\n",
    "x = re.findall('오늘은*',txt)\n",
    "x"
   ]
  },
  {
   "cell_type": "code",
   "execution_count": null,
   "metadata": {
    "colab": {
     "base_uri": "https://localhost:8080/",
     "height": 34
    },
    "colab_type": "code",
    "executionInfo": {
     "elapsed": 798,
     "status": "ok",
     "timestamp": 1568786686604,
     "user": {
      "displayName": "Sung Hak Lim",
      "photoUrl": "https://lh3.googleusercontent.com/a-/AAuE7mCAsIrkT7qHVbLE2qbnDRuLFImyiwklV4EiB94wNA=s64",
      "userId": "05716500249544805974"
     },
     "user_tz": -540
    },
    "id": "IYklPdMWme4C",
    "outputId": "837d27db-a508-4b1e-c7aa-96059164b047"
   },
   "outputs": [
    {
     "data": {
      "text/plain": [
       "['오늘은']"
      ]
     },
     "execution_count": 19,
     "metadata": {
      "tags": []
     },
     "output_type": "execute_result"
    }
   ],
   "source": [
    "txt = '오늘은 오렌지 상자를 들고 오늘 열리는 장터에 가서 오징어와 교환하러가는날'\n",
    "\n",
    "# 오늘 [은]이 1번 이상 등장\n",
    "x = re.findall('오늘은+',txt)\n",
    "x"
   ]
  },
  {
   "cell_type": "code",
   "execution_count": null,
   "metadata": {
    "colab": {
     "base_uri": "https://localhost:8080/",
     "height": 34
    },
    "colab_type": "code",
    "executionInfo": {
     "elapsed": 799,
     "status": "ok",
     "timestamp": 1568786750598,
     "user": {
      "displayName": "Sung Hak Lim",
      "photoUrl": "https://lh3.googleusercontent.com/a-/AAuE7mCAsIrkT7qHVbLE2qbnDRuLFImyiwklV4EiB94wNA=s64",
      "userId": "05716500249544805974"
     },
     "user_tz": -540
    },
    "id": "tgOzoO2JnkEh",
    "outputId": "c241307a-11d6-4d85-80b4-e3f62bfc8da8"
   },
   "outputs": [
    {
     "data": {
      "text/plain": [
       "['nee']"
      ]
     },
     "execution_count": 20,
     "metadata": {
      "tags": []
     },
     "output_type": "execute_result"
    }
   ],
   "source": [
    "txt = 'Life is too short, you must need Python'\n",
    "\n",
    "# n e가 2번 나오는 패턴\n",
    "x = re.findall('ne{2}',txt)\n",
    "x"
   ]
  },
  {
   "cell_type": "code",
   "execution_count": null,
   "metadata": {
    "colab": {
     "base_uri": "https://localhost:8080/",
     "height": 34
    },
    "colab_type": "code",
    "executionInfo": {
     "elapsed": 859,
     "status": "ok",
     "timestamp": 1568787009460,
     "user": {
      "displayName": "Sung Hak Lim",
      "photoUrl": "https://lh3.googleusercontent.com/a-/AAuE7mCAsIrkT7qHVbLE2qbnDRuLFImyiwklV4EiB94wNA=s64",
      "userId": "05716500249544805974"
     },
     "user_tz": -540
    },
    "id": "KPRfX-UToFXX",
    "outputId": "3ede12a7-4950-46cc-c396-2bdf6e67c106"
   },
   "outputs": [
    {
     "name": "stdout",
     "output_type": "stream",
     "text": [
      "['short', 'Python']\n"
     ]
    }
   ],
   "source": [
    "txt = 'Life is too short, you must need Python'\n",
    "\n",
    "# short 또는 Python 만 추출\n",
    "x = re.findall('short|Python',txt )\n",
    "print(x)"
   ]
  },
  {
   "cell_type": "markdown",
   "metadata": {
    "colab_type": "text",
    "id": "jvXZyBJppSEL"
   },
   "source": [
    "### Sets [ ]\n",
    "\n",
    "[ ] - 괄호 사이의 문자들과 매치"
   ]
  },
  {
   "cell_type": "code",
   "execution_count": null,
   "metadata": {
    "colab": {
     "base_uri": "https://localhost:8080/",
     "height": 34
    },
    "colab_type": "code",
    "executionInfo": {
     "elapsed": 811,
     "status": "ok",
     "timestamp": 1568788435332,
     "user": {
      "displayName": "Sung Hak Lim",
      "photoUrl": "https://lh3.googleusercontent.com/a-/AAuE7mCAsIrkT7qHVbLE2qbnDRuLFImyiwklV4EiB94wNA=s64",
      "userId": "05716500249544805974"
     },
     "user_tz": -540
    },
    "id": "g89iSDrrpR00",
    "outputId": "818cb35a-cec7-44c8-a8a2-06d6af0823ad"
   },
   "outputs": [
    {
     "name": "stdout",
     "output_type": "stream",
     "text": [
      "['i', 'i', 's', 't', 's', 't', 's', 't', 't']\n"
     ]
    }
   ],
   "source": [
    "txt = 'Life is too short, you must need Python'\n",
    "\n",
    "# [ist] : i, s, t 를 추출\n",
    "x = re.findall('[ist]',txt)\n",
    "print(x)"
   ]
  },
  {
   "cell_type": "code",
   "execution_count": null,
   "metadata": {
    "colab": {
     "base_uri": "https://localhost:8080/",
     "height": 34
    },
    "colab_type": "code",
    "executionInfo": {
     "elapsed": 835,
     "status": "ok",
     "timestamp": 1568788578482,
     "user": {
      "displayName": "Sung Hak Lim",
      "photoUrl": "https://lh3.googleusercontent.com/a-/AAuE7mCAsIrkT7qHVbLE2qbnDRuLFImyiwklV4EiB94wNA=s64",
      "userId": "05716500249544805974"
     },
     "user_tz": -540
    },
    "id": "_UpUh9ZMp04U",
    "outputId": "f5c92637-13e6-4564-d8a3-14d264966735"
   },
   "outputs": [
    {
     "name": "stdout",
     "output_type": "stream",
     "text": [
      "['i', 'f', 'e', 'i', 'o', 'o', 'h', 'o', 'o', 'm', 'n', 'e', 'e', 'd', 'h', 'o', 'n']\n"
     ]
    }
   ],
   "source": [
    "txt = 'Life is too short, you must need Python'\n",
    "\n",
    "# [a-o] : 알파벳 a o 사이를 추출\n",
    "x = re.findall('[a-o]', txt)\n",
    "print(x)"
   ]
  },
  {
   "cell_type": "code",
   "execution_count": null,
   "metadata": {
    "colab": {
     "base_uri": "https://localhost:8080/",
     "height": 34
    },
    "colab_type": "code",
    "executionInfo": {
     "elapsed": 1532,
     "status": "ok",
     "timestamp": 1568788697906,
     "user": {
      "displayName": "Sung Hak Lim",
      "photoUrl": "https://lh3.googleusercontent.com/a-/AAuE7mCAsIrkT7qHVbLE2qbnDRuLFImyiwklV4EiB94wNA=s64",
      "userId": "05716500249544805974"
     },
     "user_tz": -540
    },
    "id": "JDqTKR1Sp-E6",
    "outputId": "ac186fd6-d2bd-4d83-f92d-1a9fe5ad46bf"
   },
   "outputs": [
    {
     "name": "stdout",
     "output_type": "stream",
     "text": [
      "['L', ' ', 's', ' ', 't', ' ', 's', 'r', 't', ',', ' ', 'y', 'u', ' ', 'u', 's', 't', ' ', ' ', 'P', 'y', 't']\n"
     ]
    }
   ],
   "source": [
    "txt = 'Life is too short, you must need Python'\n",
    "\n",
    "# [a-o] : 알파벳 a o 사이를 제외하고 추출\n",
    "x = re.findall('[^a-o]', txt)      # '[]' 안에서 '^'는 부정(not) 을 의미한다.\n",
    "print(x)"
   ]
  },
  {
   "cell_type": "code",
   "execution_count": null,
   "metadata": {
    "colab": {
     "base_uri": "https://localhost:8080/",
     "height": 34
    },
    "colab_type": "code",
    "executionInfo": {
     "elapsed": 1126,
     "status": "ok",
     "timestamp": 1568788785855,
     "user": {
      "displayName": "Sung Hak Lim",
      "photoUrl": "https://lh3.googleusercontent.com/a-/AAuE7mCAsIrkT7qHVbLE2qbnDRuLFImyiwklV4EiB94wNA=s64",
      "userId": "05716500249544805974"
     },
     "user_tz": -540
    },
    "id": "oDdXvcfzqFpT",
    "outputId": "224e0359-8f94-4a53-819d-44f5e1406b8c"
   },
   "outputs": [
    {
     "data": {
      "text/plain": [
       "['5', '0', '0']"
      ]
     },
     "execution_count": 25,
     "metadata": {
      "tags": []
     },
     "output_type": "execute_result"
    }
   ],
   "source": [
    "txt = \"소보루 빵은 2500원이다.\"\n",
    "\n",
    "# 숫자 0 과 5 를 추출\n",
    "\n",
    "x = re.findall('[05]', txt)       # '[]' 안에서 '|'는 논리연산자가 아닌 문자로만 작동한다. \n",
    "x"
   ]
  },
  {
   "cell_type": "code",
   "execution_count": null,
   "metadata": {
    "colab": {
     "base_uri": "https://localhost:8080/",
     "height": 34
    },
    "colab_type": "code",
    "executionInfo": {
     "elapsed": 978,
     "status": "ok",
     "timestamp": 1568788935796,
     "user": {
      "displayName": "Sung Hak Lim",
      "photoUrl": "https://lh3.googleusercontent.com/a-/AAuE7mCAsIrkT7qHVbLE2qbnDRuLFImyiwklV4EiB94wNA=s64",
      "userId": "05716500249544805974"
     },
     "user_tz": -540
    },
    "id": "t08GHNgvqXcv",
    "outputId": "f0fb3bb1-7f23-414d-ca4b-e61e70323dd1"
   },
   "outputs": [
    {
     "data": {
      "text/plain": [
       "['2', '0', '0']"
      ]
     },
     "execution_count": 26,
     "metadata": {
      "tags": []
     },
     "output_type": "execute_result"
    }
   ],
   "source": [
    "txt = \"소보루 빵은 2500원이다.\"\n",
    "\n",
    "# 숫자 0 에서 4 사이를 추출\n",
    "\n",
    "x = re.findall('[0-4]', txt)\n",
    "x"
   ]
  },
  {
   "cell_type": "code",
   "execution_count": null,
   "metadata": {
    "colab": {
     "base_uri": "https://localhost:8080/",
     "height": 34
    },
    "colab_type": "code",
    "executionInfo": {
     "elapsed": 922,
     "status": "ok",
     "timestamp": 1568789456165,
     "user": {
      "displayName": "Sung Hak Lim",
      "photoUrl": "https://lh3.googleusercontent.com/a-/AAuE7mCAsIrkT7qHVbLE2qbnDRuLFImyiwklV4EiB94wNA=s64",
      "userId": "05716500249544805974"
     },
     "user_tz": -540
    },
    "id": "Zj8BVvWnqdHx",
    "outputId": "83ecf238-3eac-42c6-c977-7f772f2ffcbf"
   },
   "outputs": [
    {
     "data": {
      "text/plain": [
       "['00']"
      ]
     },
     "execution_count": 27,
     "metadata": {
      "tags": []
     },
     "output_type": "execute_result"
    }
   ],
   "source": [
    "txt = \"소보루 빵은 이제부터 4000원이다.\"\n",
    "\n",
    "# 숫자 00 에서 39 사이를 추출\n",
    "\n",
    "x = re.findall('[0-3][0-9]', txt)\n",
    "x"
   ]
  },
  {
   "cell_type": "code",
   "execution_count": null,
   "metadata": {
    "colab": {
     "base_uri": "https://localhost:8080/",
     "height": 34
    },
    "colab_type": "code",
    "executionInfo": {
     "elapsed": 757,
     "status": "ok",
     "timestamp": 1568789668881,
     "user": {
      "displayName": "Sung Hak Lim",
      "photoUrl": "https://lh3.googleusercontent.com/a-/AAuE7mCAsIrkT7qHVbLE2qbnDRuLFImyiwklV4EiB94wNA=s64",
      "userId": "05716500249544805974"
     },
     "user_tz": -540
    },
    "id": "wEI9qxhsW3wR",
    "outputId": "378cff80-c4d2-4a0c-c75f-31af4771c02c"
   },
   "outputs": [
    {
     "name": "stdout",
     "output_type": "stream",
     "text": [
      "['S', 'o', 'b', 'o', 'r', 'o', ' ', 'B', 'r', 'e', 'a', 'd', ' ', 'i', 's', ' ', ' ', 'W', 'o', 'n']\n"
     ]
    }
   ],
   "source": [
    "txt = \"Soboro Bread is 4000 Won\"\n",
    "\n",
    "x = re.findall('\\D', txt)       # [a-zA-Z]와는 동일, 하지만 [A-z]는 사이에 다른 아스키코드값도 포함되어 결과가 다를수 있다.\n",
    "print(x)"
   ]
  },
  {
   "cell_type": "markdown",
   "metadata": {
    "colab_type": "text",
    "id": "FHjWaI9_vknQ"
   },
   "source": [
    "### 특별 처리 (\"\\\\\")\n",
    "\n",
    "여러가지가 있지만 자주 사용되는 부분을 다루겠습니다.\n",
    "\n",
    "\\d - 숫자와 매치 \n",
    "\n",
    "\\D - 숫자가 아닌것과 매치 = [^0-9]  \n",
    "\n",
    "*[ ] (Set) 안에서는 ^표시는 부정을 의미합니다*\n",
    "\n",
    "\\s - 공백 문자와 매치 [ \\t\\n\\r\\f\\v]\n",
    "\n",
    "\\S - 공백 문자가 아닌것과 매치 [^ \\t\\n\\r\\f\\v]\n",
    "\n",
    "\\A - 시작 문자와 매치\n",
    "\n",
    "\\Z - 끝 문자와 매치\n",
    "\n",
    "\n",
    "\n"
   ]
  },
  {
   "cell_type": "code",
   "execution_count": null,
   "metadata": {
    "colab": {
     "base_uri": "https://localhost:8080/",
     "height": 34
    },
    "colab_type": "code",
    "executionInfo": {
     "elapsed": 770,
     "status": "ok",
     "timestamp": 1568789928302,
     "user": {
      "displayName": "Sung Hak Lim",
      "photoUrl": "https://lh3.googleusercontent.com/a-/AAuE7mCAsIrkT7qHVbLE2qbnDRuLFImyiwklV4EiB94wNA=s64",
      "userId": "05716500249544805974"
     },
     "user_tz": -540
    },
    "id": "mPflU1EEoYEP",
    "outputId": "d8cc7f74-e291-4140-db87-d5ff23b58846"
   },
   "outputs": [
    {
     "data": {
      "text/plain": [
       "['2', '5', '0', '0']"
      ]
     },
     "execution_count": 29,
     "metadata": {
      "tags": []
     },
     "output_type": "execute_result"
    }
   ],
   "source": [
    "txt = \"소보루 빵은  2500원이다.\"\n",
    "\n",
    "# \\d는 숫자와 매치 되는 특수 케이스.\n",
    "\n",
    "x = re.findall('\\d', txt)\n",
    "x"
   ]
  },
  {
   "cell_type": "code",
   "execution_count": null,
   "metadata": {
    "colab": {
     "base_uri": "https://localhost:8080/",
     "height": 34
    },
    "colab_type": "code",
    "executionInfo": {
     "elapsed": 773,
     "status": "ok",
     "timestamp": 1568789965920,
     "user": {
      "displayName": "Sung Hak Lim",
      "photoUrl": "https://lh3.googleusercontent.com/a-/AAuE7mCAsIrkT7qHVbLE2qbnDRuLFImyiwklV4EiB94wNA=s64",
      "userId": "05716500249544805974"
     },
     "user_tz": -540
    },
    "id": "GnkL2U2sL9fR",
    "outputId": "5f4640ac-0183-4ca7-ccca-98fb22db3ede"
   },
   "outputs": [
    {
     "data": {
      "text/plain": [
       "['소', '보', '루', ' ', '빵', '은', ' ', ' ', '원', '이', '다', '.']"
      ]
     },
     "execution_count": 31,
     "metadata": {
      "tags": []
     },
     "output_type": "execute_result"
    }
   ],
   "source": [
    "txt = \"소보루 빵은  2500원이다.\"\n",
    "\n",
    "# \\d는 숫자와 매치 되는 특수 케이스.\n",
    "x = re.findall('\\D', txt)\n",
    "x"
   ]
  },
  {
   "cell_type": "code",
   "execution_count": null,
   "metadata": {
    "colab": {
     "base_uri": "https://localhost:8080/",
     "height": 34
    },
    "colab_type": "code",
    "executionInfo": {
     "elapsed": 974,
     "status": "ok",
     "timestamp": 1568790032612,
     "user": {
      "displayName": "Sung Hak Lim",
      "photoUrl": "https://lh3.googleusercontent.com/a-/AAuE7mCAsIrkT7qHVbLE2qbnDRuLFImyiwklV4EiB94wNA=s64",
      "userId": "05716500249544805974"
     },
     "user_tz": -540
    },
    "id": "8a3Hgs0m_MxW",
    "outputId": "86962f8e-4910-4812-817f-d49e02663dd3"
   },
   "outputs": [
    {
     "data": {
      "text/plain": [
       "['2', '5']"
      ]
     },
     "execution_count": 32,
     "metadata": {
      "tags": []
     },
     "output_type": "execute_result"
    }
   ],
   "source": [
    "txt = \"소보루 빵은  2500원이다.\"\n",
    "\n",
    "# 2,3,4,5 와 매치되는 패턴.\n",
    "x = re.findall('[2-5]',txt)\n",
    "x"
   ]
  },
  {
   "cell_type": "code",
   "execution_count": null,
   "metadata": {
    "colab": {
     "base_uri": "https://localhost:8080/",
     "height": 34
    },
    "colab_type": "code",
    "executionInfo": {
     "elapsed": 805,
     "status": "ok",
     "timestamp": 1568790065257,
     "user": {
      "displayName": "Sung Hak Lim",
      "photoUrl": "https://lh3.googleusercontent.com/a-/AAuE7mCAsIrkT7qHVbLE2qbnDRuLFImyiwklV4EiB94wNA=s64",
      "userId": "05716500249544805974"
     },
     "user_tz": -540
    },
    "id": "iBu-IVDB_bg_",
    "outputId": "96556e4c-ee37-49e8-aad2-95e1904492db"
   },
   "outputs": [
    {
     "data": {
      "text/plain": [
       "['소', '보', '루', ' ', '빵', '은', ' ', ' ', '0', '0', '원', '이', '다', '.']"
      ]
     },
     "execution_count": 33,
     "metadata": {
      "tags": []
     },
     "output_type": "execute_result"
    }
   ],
   "source": [
    "txt = \"소보루 빵은  2500원이다.\"\n",
    "\n",
    "# 2,3,4,5 와 매치되지 않는 패턴.\n",
    "x = re.findall('[^2-5]', txt)\n",
    "x"
   ]
  },
  {
   "cell_type": "code",
   "execution_count": null,
   "metadata": {
    "colab": {
     "base_uri": "https://localhost:8080/",
     "height": 34
    },
    "colab_type": "code",
    "executionInfo": {
     "elapsed": 781,
     "status": "ok",
     "timestamp": 1568790100476,
     "user": {
      "displayName": "Sung Hak Lim",
      "photoUrl": "https://lh3.googleusercontent.com/a-/AAuE7mCAsIrkT7qHVbLE2qbnDRuLFImyiwklV4EiB94wNA=s64",
      "userId": "05716500249544805974"
     },
     "user_tz": -540
    },
    "id": "N0JmiOK9MXiH",
    "outputId": "d4a3d108-d035-46bd-d44a-5fe1341d7689"
   },
   "outputs": [
    {
     "data": {
      "text/plain": [
       "[' ', ' ', ' ']"
      ]
     },
     "execution_count": 34,
     "metadata": {
      "tags": []
     },
     "output_type": "execute_result"
    }
   ],
   "source": [
    "txt = \"소보루 빵은  2500원이다.\"\n",
    "\n",
    "# \\s 는 공백과 매치 되는 특수 케이스.\n",
    "x = re.findall('\\s', txt)\n",
    "x"
   ]
  },
  {
   "cell_type": "code",
   "execution_count": null,
   "metadata": {
    "colab": {
     "base_uri": "https://localhost:8080/",
     "height": 34
    },
    "colab_type": "code",
    "executionInfo": {
     "elapsed": 745,
     "status": "ok",
     "timestamp": 1568790151436,
     "user": {
      "displayName": "Sung Hak Lim",
      "photoUrl": "https://lh3.googleusercontent.com/a-/AAuE7mCAsIrkT7qHVbLE2qbnDRuLFImyiwklV4EiB94wNA=s64",
      "userId": "05716500249544805974"
     },
     "user_tz": -540
    },
    "id": "a7g4WffAMeV_",
    "outputId": "f3a7a18d-d2a6-44a5-bac3-1eb49a1dfa01"
   },
   "outputs": [
    {
     "data": {
      "text/plain": [
       "['소', '보', '루', '빵', '은', '2', '5', '0', '0', '원', '이', '다', '.']"
      ]
     },
     "execution_count": 35,
     "metadata": {
      "tags": []
     },
     "output_type": "execute_result"
    }
   ],
   "source": [
    "txt = \"소보루 빵은  2500원이다.\"\n",
    "\n",
    "# \\S 는 공백 제외와 매치 되는 특수 케이스.\n",
    "x = re.findall('\\S', txt)\n",
    "x"
   ]
  },
  {
   "cell_type": "code",
   "execution_count": null,
   "metadata": {
    "colab": {
     "base_uri": "https://localhost:8080/",
     "height": 34
    },
    "colab_type": "code",
    "executionInfo": {
     "elapsed": 920,
     "status": "ok",
     "timestamp": 1568790261242,
     "user": {
      "displayName": "Sung Hak Lim",
      "photoUrl": "https://lh3.googleusercontent.com/a-/AAuE7mCAsIrkT7qHVbLE2qbnDRuLFImyiwklV4EiB94wNA=s64",
      "userId": "05716500249544805974"
     },
     "user_tz": -540
    },
    "id": "GrmCoCwB_xaJ",
    "outputId": "78201431-7d16-43a0-ccc2-8a898afb511f"
   },
   "outputs": [
    {
     "data": {
      "text/plain": [
       "['Life']"
      ]
     },
     "execution_count": 36,
     "metadata": {
      "tags": []
     },
     "output_type": "execute_result"
    }
   ],
   "source": [
    "txt = 'Life is too short, you must need Python'\n",
    "\n",
    "# Life 로 시작 ^Life 와 동일\n",
    "x = re.findall(\"\\ALife\", txt)\n",
    "x"
   ]
  },
  {
   "cell_type": "code",
   "execution_count": null,
   "metadata": {
    "colab": {
     "base_uri": "https://localhost:8080/",
     "height": 34
    },
    "colab_type": "code",
    "executionInfo": {
     "elapsed": 836,
     "status": "ok",
     "timestamp": 1568790355456,
     "user": {
      "displayName": "Sung Hak Lim",
      "photoUrl": "https://lh3.googleusercontent.com/a-/AAuE7mCAsIrkT7qHVbLE2qbnDRuLFImyiwklV4EiB94wNA=s64",
      "userId": "05716500249544805974"
     },
     "user_tz": -540
    },
    "id": "QAzBCXUzKh_g",
    "outputId": "3aea46bb-f618-4b6b-ec32-af999e71d1ed"
   },
   "outputs": [
    {
     "data": {
      "text/plain": [
       "['Python']"
      ]
     },
     "execution_count": 37,
     "metadata": {
      "tags": []
     },
     "output_type": "execute_result"
    }
   ],
   "source": [
    "txt = 'Life is too short, you must need Python'\n",
    "\n",
    "# Python으로 끝 Python$ 와 동일\n",
    "x = re.findall('Python\\Z', txt)\n",
    "x"
   ]
  },
  {
   "cell_type": "markdown",
   "metadata": {
    "colab_type": "text",
    "id": "hp9bNaCyB9CM"
   },
   "source": [
    "## Search\n",
    "\n",
    "span 으로 패턴과 처음으로 매칭되는 (start_index, end_index)를 반환해준다\n"
   ]
  },
  {
   "cell_type": "code",
   "execution_count": null,
   "metadata": {
    "colab": {
     "base_uri": "https://localhost:8080/",
     "height": 34
    },
    "colab_type": "code",
    "executionInfo": {
     "elapsed": 811,
     "status": "ok",
     "timestamp": 1568790407880,
     "user": {
      "displayName": "Sung Hak Lim",
      "photoUrl": "https://lh3.googleusercontent.com/a-/AAuE7mCAsIrkT7qHVbLE2qbnDRuLFImyiwklV4EiB94wNA=s64",
      "userId": "05716500249544805974"
     },
     "user_tz": -540
    },
    "id": "ZCyGV29VMfrf",
    "outputId": "85c34e9d-5d5e-465b-8cd9-d2181bd6d286"
   },
   "outputs": [
    {
     "data": {
      "text/plain": [
       "<_sre.SRE_Match object; span=(33, 39), match='Python'>"
      ]
     },
     "execution_count": 39,
     "metadata": {
      "tags": []
     },
     "output_type": "execute_result"
    }
   ],
   "source": [
    "txt = 'Life is too short, you must need Python'\n",
    "\n",
    "# Python 과 매치되는 부분의 위치를 찾아서 반환한다.\n",
    "\n",
    "x = re.search('Python', txt)\n",
    "x"
   ]
  },
  {
   "cell_type": "code",
   "execution_count": null,
   "metadata": {
    "colab": {
     "base_uri": "https://localhost:8080/",
     "height": 34
    },
    "colab_type": "code",
    "executionInfo": {
     "elapsed": 801,
     "status": "ok",
     "timestamp": 1568790439114,
     "user": {
      "displayName": "Sung Hak Lim",
      "photoUrl": "https://lh3.googleusercontent.com/a-/AAuE7mCAsIrkT7qHVbLE2qbnDRuLFImyiwklV4EiB94wNA=s64",
      "userId": "05716500249544805974"
     },
     "user_tz": -540
    },
    "id": "_dxIht8Bb7my",
    "outputId": "5613fe26-db8d-41bb-bc8e-1d7afd746b88"
   },
   "outputs": [
    {
     "data": {
      "text/plain": [
       "(33, 39)"
      ]
     },
     "execution_count": 40,
     "metadata": {
      "tags": []
     },
     "output_type": "execute_result"
    }
   ],
   "source": [
    "# 일치하는 인덱스를 튜플 형태로 가져온다\n",
    "x.span()"
   ]
  },
  {
   "cell_type": "code",
   "execution_count": null,
   "metadata": {
    "colab": {
     "base_uri": "https://localhost:8080/",
     "height": 34
    },
    "colab_type": "code",
    "executionInfo": {
     "elapsed": 717,
     "status": "ok",
     "timestamp": 1568790489647,
     "user": {
      "displayName": "Sung Hak Lim",
      "photoUrl": "https://lh3.googleusercontent.com/a-/AAuE7mCAsIrkT7qHVbLE2qbnDRuLFImyiwklV4EiB94wNA=s64",
      "userId": "05716500249544805974"
     },
     "user_tz": -540
    },
    "id": "iplX6voiMv4W",
    "outputId": "011614d6-95da-4772-9844-363afd677a02"
   },
   "outputs": [
    {
     "data": {
      "text/plain": [
       "'Python'"
      ]
     },
     "execution_count": 45,
     "metadata": {
      "tags": []
     },
     "output_type": "execute_result"
    }
   ],
   "source": [
    "txt[33:39]"
   ]
  },
  {
   "cell_type": "code",
   "execution_count": null,
   "metadata": {
    "colab": {
     "base_uri": "https://localhost:8080/",
     "height": 34
    },
    "colab_type": "code",
    "executionInfo": {
     "elapsed": 709,
     "status": "ok",
     "timestamp": 1568790455984,
     "user": {
      "displayName": "Sung Hak Lim",
      "photoUrl": "https://lh3.googleusercontent.com/a-/AAuE7mCAsIrkT7qHVbLE2qbnDRuLFImyiwklV4EiB94wNA=s64",
      "userId": "05716500249544805974"
     },
     "user_tz": -540
    },
    "id": "55nRHQfWoV-X",
    "outputId": "325dc2ee-17e6-408d-f3ed-5e2ebdb0aa81"
   },
   "outputs": [
    {
     "data": {
      "text/plain": [
       "33"
      ]
     },
     "execution_count": 41,
     "metadata": {
      "tags": []
     },
     "output_type": "execute_result"
    }
   ],
   "source": [
    "# 시작하는 인덱스를 반환한다.\n",
    "x.start()"
   ]
  },
  {
   "cell_type": "code",
   "execution_count": null,
   "metadata": {
    "colab": {
     "base_uri": "https://localhost:8080/",
     "height": 34
    },
    "colab_type": "code",
    "executionInfo": {
     "elapsed": 873,
     "status": "ok",
     "timestamp": 1568790457817,
     "user": {
      "displayName": "Sung Hak Lim",
      "photoUrl": "https://lh3.googleusercontent.com/a-/AAuE7mCAsIrkT7qHVbLE2qbnDRuLFImyiwklV4EiB94wNA=s64",
      "userId": "05716500249544805974"
     },
     "user_tz": -540
    },
    "id": "TuyPbWfnoe_y",
    "outputId": "235dae0e-108e-4226-ad43-9ef01867c9ec"
   },
   "outputs": [
    {
     "data": {
      "text/plain": [
       "39"
      ]
     },
     "execution_count": 42,
     "metadata": {
      "tags": []
     },
     "output_type": "execute_result"
    }
   ],
   "source": [
    "# 끝나는 인덱스를 반환한다.\n",
    "x.end()"
   ]
  },
  {
   "cell_type": "code",
   "execution_count": null,
   "metadata": {
    "colab": {
     "base_uri": "https://localhost:8080/",
     "height": 34
    },
    "colab_type": "code",
    "executionInfo": {
     "elapsed": 881,
     "status": "ok",
     "timestamp": 1568790464317,
     "user": {
      "displayName": "Sung Hak Lim",
      "photoUrl": "https://lh3.googleusercontent.com/a-/AAuE7mCAsIrkT7qHVbLE2qbnDRuLFImyiwklV4EiB94wNA=s64",
      "userId": "05716500249544805974"
     },
     "user_tz": -540
    },
    "id": "-IY7jnJhfxm7",
    "outputId": "5c1747c7-7052-465e-da82-7e55856ab94d"
   },
   "outputs": [
    {
     "data": {
      "text/plain": [
       "'Life is too short, you must need Python'"
      ]
     },
     "execution_count": 43,
     "metadata": {
      "tags": []
     },
     "output_type": "execute_result"
    }
   ],
   "source": [
    "# 객체의 string 은 원본 문장을 포함하고 있다\n",
    "x.string"
   ]
  },
  {
   "cell_type": "code",
   "execution_count": null,
   "metadata": {
    "colab": {
     "base_uri": "https://localhost:8080/",
     "height": 34
    },
    "colab_type": "code",
    "executionInfo": {
     "elapsed": 902,
     "status": "ok",
     "timestamp": 1568790466350,
     "user": {
      "displayName": "Sung Hak Lim",
      "photoUrl": "https://lh3.googleusercontent.com/a-/AAuE7mCAsIrkT7qHVbLE2qbnDRuLFImyiwklV4EiB94wNA=s64",
      "userId": "05716500249544805974"
     },
     "user_tz": -540
    },
    "id": "LQ4ecLvggXUw",
    "outputId": "c0c5d9ce-54a1-4b35-fd89-a81e5a584525"
   },
   "outputs": [
    {
     "data": {
      "text/plain": [
       "'Python'"
      ]
     },
     "execution_count": 44,
     "metadata": {
      "tags": []
     },
     "output_type": "execute_result"
    }
   ],
   "source": [
    "# 매치된 문자열을 돌려준다\n",
    "x.group()"
   ]
  },
  {
   "cell_type": "markdown",
   "metadata": {
    "colab_type": "text",
    "id": "GeR1dzgLN0SR"
   },
   "source": [
    "## split\n",
    "\n",
    "패턴과 매칭되는 기준으로 텍스트를 잘라줍니다"
   ]
  },
  {
   "cell_type": "code",
   "execution_count": null,
   "metadata": {
    "colab": {
     "base_uri": "https://localhost:8080/",
     "height": 34
    },
    "colab_type": "code",
    "executionInfo": {
     "elapsed": 731,
     "status": "ok",
     "timestamp": 1568791024449,
     "user": {
      "displayName": "Sung Hak Lim",
      "photoUrl": "https://lh3.googleusercontent.com/a-/AAuE7mCAsIrkT7qHVbLE2qbnDRuLFImyiwklV4EiB94wNA=s64",
      "userId": "05716500249544805974"
     },
     "user_tz": -540
    },
    "id": "ZkS_Lnz6ljTV",
    "outputId": "55fbbe07-b46d-460b-e651-7f08b396e518"
   },
   "outputs": [
    {
     "name": "stdout",
     "output_type": "stream",
     "text": [
      "['Life', 'is', 'too', 'short,', 'you', 'must', 'need', 'Python']\n"
     ]
    }
   ],
   "source": [
    "txt = 'Life is too short, you must need Python'\n",
    "\n",
    "# 공백을 기준으로 자른다\n",
    "x = re.split('\\s', txt)\n",
    "print(x)"
   ]
  },
  {
   "cell_type": "code",
   "execution_count": null,
   "metadata": {
    "colab": {
     "base_uri": "https://localhost:8080/",
     "height": 34
    },
    "colab_type": "code",
    "executionInfo": {
     "elapsed": 678,
     "status": "ok",
     "timestamp": 1568791048215,
     "user": {
      "displayName": "Sung Hak Lim",
      "photoUrl": "https://lh3.googleusercontent.com/a-/AAuE7mCAsIrkT7qHVbLE2qbnDRuLFImyiwklV4EiB94wNA=s64",
      "userId": "05716500249544805974"
     },
     "user_tz": -540
    },
    "id": "VbmdwPV2Fb_w",
    "outputId": "a2485ac0-9bb4-44ae-f513-8a3b75372171"
   },
   "outputs": [
    {
     "name": "stdout",
     "output_type": "stream",
     "text": [
      "['Life', 'is too short, you must need Python']\n"
     ]
    }
   ],
   "source": [
    "txt = 'Life is too short, you must need Python'\n",
    "\n",
    "# 공백을 기준으로 자른다 , 첫 한개만\n",
    "x = re.split('\\s', txt, 1)\n",
    "print(x)"
   ]
  },
  {
   "cell_type": "markdown",
   "metadata": {
    "colab_type": "text",
    "id": "HYXotLyDPZGO"
   },
   "source": [
    "## sub \n",
    "\n",
    "패턴과 매칭되는 부분을 교체"
   ]
  },
  {
   "cell_type": "code",
   "execution_count": null,
   "metadata": {
    "colab": {
     "base_uri": "https://localhost:8080/",
     "height": 34
    },
    "colab_type": "code",
    "executionInfo": {
     "elapsed": 738,
     "status": "ok",
     "timestamp": 1568790799667,
     "user": {
      "displayName": "Sung Hak Lim",
      "photoUrl": "https://lh3.googleusercontent.com/a-/AAuE7mCAsIrkT7qHVbLE2qbnDRuLFImyiwklV4EiB94wNA=s64",
      "userId": "05716500249544805974"
     },
     "user_tz": -540
    },
    "id": "aH2Q93LxYNDe",
    "outputId": "c42bcd04-d121-451a-9daf-deed51cef170"
   },
   "outputs": [
    {
     "name": "stdout",
     "output_type": "stream",
     "text": [
      "Life\tis\ttoo\tshort,\tyou\tmust\tneed\tPython\n"
     ]
    }
   ],
   "source": [
    "txt = 'Life is too short, you must need Python'\n",
    "\n",
    "# 공백을 찾아서 \\t 로 바꿔준다\n",
    "x = re.sub('\\s','\\t',txt)\n",
    "print(x)"
   ]
  },
  {
   "cell_type": "code",
   "execution_count": null,
   "metadata": {
    "colab": {
     "base_uri": "https://localhost:8080/",
     "height": 68
    },
    "colab_type": "code",
    "executionInfo": {
     "elapsed": 719,
     "status": "ok",
     "timestamp": 1568790951912,
     "user": {
      "displayName": "Sung Hak Lim",
      "photoUrl": "https://lh3.googleusercontent.com/a-/AAuE7mCAsIrkT7qHVbLE2qbnDRuLFImyiwklV4EiB94wNA=s64",
      "userId": "05716500249544805974"
     },
     "user_tz": -540
    },
    "id": "IwPGWlYvbkuJ",
    "outputId": "7f74155c-fffd-41dc-9df8-08359adcee36"
   },
   "outputs": [
    {
     "name": "stdout",
     "output_type": "stream",
     "text": [
      "Life\n",
      "is\n",
      "too short, you must need Python\n"
     ]
    }
   ],
   "source": [
    "txt = 'Life is too short, you must need Python'\n",
    "\n",
    "# 공백을 찾아서 \\n 로 바꿔준다\n",
    "x = re.sub('\\s', '\\n', txt, 2)      # count 파라미터를 이용해서 교체 횟수 지정\n",
    "print(x)"
   ]
  },
  {
   "cell_type": "markdown",
   "metadata": {
    "colab_type": "text",
    "id": "k6U4RiZQmKY1"
   },
   "source": [
    "## Compile\n",
    "\n",
    "지금까지는 일회성 패턴을 가지고 작업을 했었다.\n",
    "\n",
    "이제는 반복적으로 사용이 가능한 컴파일 객체를 만들어보려고 한다.\n",
    "\n",
    "컴파일에는 몇가지 옵션이 존재한다.\n",
    "\n",
    "DOTALL(S) - .이 줄바꿈 문자를 포함하여 모든 문자와 매치할 수 있도록 한다.\n",
    "\n",
    "IGNORECASE(I) - 대소문자 관계없이 매치\n",
    "\n",
    "MULTILINE(M) - 여러줄과 매치할 수 있도록 한다\n",
    "\n",
    "VERBOSE(X) - 정규식을 보기 편하게 만들수 있고, 주석 사용 가능"
   ]
  },
  {
   "cell_type": "code",
   "execution_count": null,
   "metadata": {
    "colab": {
     "base_uri": "https://localhost:8080/",
     "height": 35
    },
    "colab_type": "code",
    "executionInfo": {
     "elapsed": 418,
     "status": "ok",
     "timestamp": 1568715726408,
     "user": {
      "displayName": "Lee Junho",
      "photoUrl": "",
      "userId": "07135364773811627245"
     },
     "user_tz": -540
    },
    "id": "Gt7NOr3uqBEt",
    "outputId": "25b8b9fc-0d8d-4a24-8eb8-ee80800c836d"
   },
   "outputs": [
    {
     "name": "stdout",
     "output_type": "stream",
     "text": [
      "['i', 'i', 's', 't', 's', 't', 's', 't', 't']\n"
     ]
    }
   ],
   "source": [
    "txt = 'Life is too short, you must need Python'\n",
    "\n",
    "# [ist] : i, s, t 를 추출\n",
    "\n",
    "print(x)"
   ]
  },
  {
   "cell_type": "code",
   "execution_count": null,
   "metadata": {
    "colab": {
     "base_uri": "https://localhost:8080/",
     "height": 35
    },
    "colab_type": "code",
    "executionInfo": {
     "elapsed": 595,
     "status": "ok",
     "timestamp": 1568715726805,
     "user": {
      "displayName": "Lee Junho",
      "photoUrl": "",
      "userId": "07135364773811627245"
     },
     "user_tz": -540
    },
    "id": "BKJQZ1zmb3fc",
    "outputId": "218ae289-4c24-49bb-82cf-981e617420c9"
   },
   "outputs": [
    {
     "data": {
      "text/plain": [
       "['i', 'i', 's', 't', 's', 't', 's', 't', 't']"
      ]
     },
     "execution_count": 107,
     "metadata": {
      "tags": []
     },
     "output_type": "execute_result"
    }
   ],
   "source": [
    "txt = 'Life is too short, you must need Python'\n",
    "# [ist] : i, s, t 를 추출\n",
    "p.findall(txt)"
   ]
  },
  {
   "cell_type": "code",
   "execution_count": null,
   "metadata": {
    "colab": {
     "base_uri": "https://localhost:8080/",
     "height": 75
    },
    "colab_type": "code",
    "executionInfo": {
     "elapsed": 759,
     "status": "ok",
     "timestamp": 1568715727263,
     "user": {
      "displayName": "Lee Junho",
      "photoUrl": "",
      "userId": "07135364773811627245"
     },
     "user_tz": -540
    },
    "id": "V0W3K9hXppXz",
    "outputId": "708111d3-7696-4579-f05f-6f8ca783cec7"
   },
   "outputs": [
    {
     "name": "stdout",
     "output_type": "stream",
     "text": [
      "['t', 'i', 's', 'i', 't', 'i', 't', 'i', 's', 't', 'i', 't', 's', 't', 's', 's', 't', 's', 'i', 'i', 't', 't', 's', 't', 't', 't', 'i', 'i']\n"
     ]
    }
   ],
   "source": [
    "txt = \"A great visualization python library used to work with Keras. It uses python's graphviz library to create a presentable graph of the neural network you are building.\"\n",
    "print(p.findall(txt))"
   ]
  },
  {
   "cell_type": "code",
   "execution_count": null,
   "metadata": {
    "colab": {
     "base_uri": "https://localhost:8080/",
     "height": 35
    },
    "colab_type": "code",
    "executionInfo": {
     "elapsed": 523,
     "status": "ok",
     "timestamp": 1568715727263,
     "user": {
      "displayName": "Lee Junho",
      "photoUrl": "",
      "userId": "07135364773811627245"
     },
     "user_tz": -540
    },
    "id": "9PH0wBs3qa4F",
    "outputId": "a9bb0393-b71e-43bf-d0e4-bad2e4209e18"
   },
   "outputs": [
    {
     "data": {
      "text/plain": [
       "re.compile(r'[ist]', re.UNICODE)"
      ]
     },
     "execution_count": 109,
     "metadata": {
      "tags": []
     },
     "output_type": "execute_result"
    }
   ],
   "source": [
    "p"
   ]
  },
  {
   "cell_type": "markdown",
   "metadata": {
    "colab_type": "text",
    "id": "56jxF9Wc3C5f"
   },
   "source": [
    "compile 을 사용하면 코드상으로 한줄을 더 사용해야한다\n",
    "\n",
    "하지만 반복적으로 정규식을 처리해야할때는 컴파일을 통해\n",
    "\n",
    "'객체'를 만들어주는게 편리하다."
   ]
  },
  {
   "cell_type": "markdown",
   "metadata": {
    "colab_type": "text",
    "id": "WkRp9nqzroVd"
   },
   "source": [
    "### DOTALL (S)\n",
    "\n",
    "여러 줄로 구성된 문자열에서 \\n(줄 바꿈)에 상관없이 검색할때 사용"
   ]
  },
  {
   "cell_type": "code",
   "execution_count": null,
   "metadata": {
    "colab": {
     "base_uri": "https://localhost:8080/",
     "height": 35
    },
    "colab_type": "code",
    "executionInfo": {
     "elapsed": 664,
     "status": "ok",
     "timestamp": 1568715727997,
     "user": {
      "displayName": "Lee Junho",
      "photoUrl": "",
      "userId": "07135364773811627245"
     },
     "user_tz": -540
    },
    "id": "89naWTBJqvkj",
    "outputId": "cbaaef75-76f1-4159-f670-67886b44ba32"
   },
   "outputs": [
    {
     "name": "stdout",
     "output_type": "stream",
     "text": [
      "None\n"
     ]
    }
   ],
   "source": [
    "# a.b : a와 b사이에 줄바꿈을 제외한 모든 문자 패턴\n",
    "m = p.match('a\\nb')\n",
    "print(m)"
   ]
  },
  {
   "cell_type": "code",
   "execution_count": null,
   "metadata": {
    "colab": {
     "base_uri": "https://localhost:8080/",
     "height": 35
    },
    "colab_type": "code",
    "executionInfo": {
     "elapsed": 550,
     "status": "ok",
     "timestamp": 1568715727997,
     "user": {
      "displayName": "Lee Junho",
      "photoUrl": "",
      "userId": "07135364773811627245"
     },
     "user_tz": -540
    },
    "id": "ba2iRI6prPft",
    "outputId": "3fc078e6-39a6-411f-f12f-4f06419cbe14"
   },
   "outputs": [
    {
     "name": "stdout",
     "output_type": "stream",
     "text": [
      "<_sre.SRE_Match object; span=(0, 3), match='a\\nb'>\n"
     ]
    }
   ],
   "source": [
    "# DOTALL 옵션으로 인해서 줄바꿈도 허용하는 패턴\n",
    "m = p.match('a\\nb')\n",
    "print(m)"
   ]
  },
  {
   "cell_type": "code",
   "execution_count": null,
   "metadata": {
    "colab": {
     "base_uri": "https://localhost:8080/",
     "height": 35
    },
    "colab_type": "code",
    "executionInfo": {
     "elapsed": 561,
     "status": "ok",
     "timestamp": 1568715728450,
     "user": {
      "displayName": "Lee Junho",
      "photoUrl": "",
      "userId": "07135364773811627245"
     },
     "user_tz": -540
    },
    "id": "Li9vyMmerUR1",
    "outputId": "dc7e29ea-fe1e-472b-c80e-419ab665130a"
   },
   "outputs": [
    {
     "name": "stdout",
     "output_type": "stream",
     "text": [
      "<_sre.SRE_Match object; span=(0, 3), match='a\\nb'>\n"
     ]
    }
   ],
   "source": [
    "# DOTALL 이 너무 길면 S만 써도 똑같다.\n",
    "m = p.match('a\\nb')\n",
    "print(m)\n"
   ]
  },
  {
   "cell_type": "markdown",
   "metadata": {
    "colab_type": "text",
    "id": "7GbDBgwjtLma"
   },
   "source": [
    "### IGNORECASE(I) \n",
    "\n",
    "대소문자 관계없이 매치"
   ]
  },
  {
   "cell_type": "code",
   "execution_count": null,
   "metadata": {
    "colab": {
     "base_uri": "https://localhost:8080/",
     "height": 35
    },
    "colab_type": "code",
    "executionInfo": {
     "elapsed": 821,
     "status": "ok",
     "timestamp": 1568715729384,
     "user": {
      "displayName": "Lee Junho",
      "photoUrl": "",
      "userId": "07135364773811627245"
     },
     "user_tz": -540
    },
    "id": "JU2nO3WWsE5l",
    "outputId": "641e4447-508c-45e5-a90b-4822954c42fb"
   },
   "outputs": [
    {
     "name": "stdout",
     "output_type": "stream",
     "text": [
      "None\n"
     ]
    }
   ],
   "source": [
    "txt = 'Life is too short, you must need Python'\n",
    "\n",
    "print(p.match(txt))"
   ]
  },
  {
   "cell_type": "code",
   "execution_count": null,
   "metadata": {
    "colab": {
     "base_uri": "https://localhost:8080/",
     "height": 35
    },
    "colab_type": "code",
    "executionInfo": {
     "elapsed": 690,
     "status": "ok",
     "timestamp": 1568715729384,
     "user": {
      "displayName": "Lee Junho",
      "photoUrl": "",
      "userId": "07135364773811627245"
     },
     "user_tz": -540
    },
    "id": "Rp_XqYeGsVzN",
    "outputId": "82503c4d-3b89-4ab8-9695-9e84a3d1710a"
   },
   "outputs": [
    {
     "name": "stdout",
     "output_type": "stream",
     "text": [
      "<_sre.SRE_Match object; span=(0, 4), match='Life'>\n"
     ]
    }
   ],
   "source": [
    "txt = 'Life is too short, you must need Python'\n",
    "\n",
    "print(p.match(txt))"
   ]
  },
  {
   "cell_type": "code",
   "execution_count": null,
   "metadata": {
    "colab": {
     "base_uri": "https://localhost:8080/",
     "height": 35
    },
    "colab_type": "code",
    "executionInfo": {
     "elapsed": 621,
     "status": "ok",
     "timestamp": 1568715729689,
     "user": {
      "displayName": "Lee Junho",
      "photoUrl": "",
      "userId": "07135364773811627245"
     },
     "user_tz": -540
    },
    "id": "heNj6r0NsinE",
    "outputId": "61d35ba6-58ae-40d9-d484-b02d14d5e0f6"
   },
   "outputs": [
    {
     "name": "stdout",
     "output_type": "stream",
     "text": [
      "<_sre.SRE_Match object; span=(0, 4), match='Life'>\n"
     ]
    }
   ],
   "source": [
    "txt = 'Life is too short, you must need Python'\n",
    "\n",
    "print(p.match(txt))"
   ]
  },
  {
   "cell_type": "markdown",
   "metadata": {
    "colab_type": "text",
    "id": "we6gRacZ1EVY"
   },
   "source": [
    "### MULTILINE (M)\n",
    "\n",
    "여러줄에 걸쳐서 패턴 매칭"
   ]
  },
  {
   "cell_type": "code",
   "execution_count": null,
   "metadata": {
    "colab": {
     "base_uri": "https://localhost:8080/",
     "height": 35
    },
    "colab_type": "code",
    "executionInfo": {
     "elapsed": 770,
     "status": "ok",
     "timestamp": 1568715730390,
     "user": {
      "displayName": "Lee Junho",
      "photoUrl": "",
      "userId": "07135364773811627245"
     },
     "user_tz": -540
    },
    "id": "33y4X20Psped",
    "outputId": "09cfbd3d-96f7-43ad-8741-76b41973f133"
   },
   "outputs": [
    {
     "name": "stdout",
     "output_type": "stream",
     "text": [
      "['python one']\n"
     ]
    }
   ],
   "source": [
    "# ^python\\s\\w : 문장이 python으로 시작하며, \\s (공백)이 뒤따라오며, 이어서 문자 또는 숫자가 +(0번 이상) 나오는 패턴\n",
    "\n",
    "data = \"\"\"python one\n",
    "life is too short\n",
    "python two\n",
    "you need python\n",
    "python three\"\"\"\n",
    "\n",
    "print(p.findall(data))"
   ]
  },
  {
   "cell_type": "code",
   "execution_count": null,
   "metadata": {
    "colab": {
     "base_uri": "https://localhost:8080/",
     "height": 35
    },
    "colab_type": "code",
    "executionInfo": {
     "elapsed": 501,
     "status": "ok",
     "timestamp": 1568715730390,
     "user": {
      "displayName": "Lee Junho",
      "photoUrl": "",
      "userId": "07135364773811627245"
     },
     "user_tz": -540
    },
    "id": "OYSAbxYv2OAr",
    "outputId": "fe9392b9-6f62-4622-bb43-0c80be1f9465"
   },
   "outputs": [
    {
     "name": "stdout",
     "output_type": "stream",
     "text": [
      "['python one', 'python two', 'python three']\n"
     ]
    }
   ],
   "source": [
    "\n",
    "data = \"\"\"python one\n",
    "life is too short\n",
    "python two\n",
    "you need python\n",
    "python three\"\"\"\n",
    "\n",
    "print(p.findall(data))"
   ]
  },
  {
   "cell_type": "code",
   "execution_count": null,
   "metadata": {
    "colab": {
     "base_uri": "https://localhost:8080/",
     "height": 35
    },
    "colab_type": "code",
    "executionInfo": {
     "elapsed": 997,
     "status": "ok",
     "timestamp": 1568716006732,
     "user": {
      "displayName": "Lee Junho",
      "photoUrl": "",
      "userId": "07135364773811627245"
     },
     "user_tz": -540
    },
    "id": "ulcWWFvX-Co6",
    "outputId": "441fbbdb-8ab0-415f-c795-6445169468f8"
   },
   "outputs": [
    {
     "name": "stdout",
     "output_type": "stream",
     "text": [
      "['python one']\n"
     ]
    }
   ],
   "source": [
    "# \\A 는 메타문자 ^과 동일한 의미였지만, MULTILINE 에서는 다르다.\n",
    "\n",
    "\n",
    "data = \"\"\"python one\n",
    "life is too short\n",
    "python two\n",
    "you need python\n",
    "python three python\"\"\"\n",
    "\n",
    "print(p.findall(data))"
   ]
  },
  {
   "cell_type": "code",
   "execution_count": null,
   "metadata": {
    "colab": {
     "base_uri": "https://localhost:8080/",
     "height": 35
    },
    "colab_type": "code",
    "executionInfo": {
     "elapsed": 686,
     "status": "ok",
     "timestamp": 1568716145689,
     "user": {
      "displayName": "Lee Junho",
      "photoUrl": "",
      "userId": "07135364773811627245"
     },
     "user_tz": -540
    },
    "id": "7jGL6a-7-7IP",
    "outputId": "dee30f5f-2d6c-47d2-8e97-3226ca1c53c0"
   },
   "outputs": [
    {
     "name": "stdout",
     "output_type": "stream",
     "text": [
      "['python', 'python']\n"
     ]
    }
   ],
   "source": [
    "# \\Z  는 메타문자 $ 과 동일한 의미, MULTILINE에서는 다르다\n",
    "\n",
    "print(p.findall(data))"
   ]
  },
  {
   "cell_type": "code",
   "execution_count": null,
   "metadata": {
    "colab": {
     "base_uri": "https://localhost:8080/",
     "height": 35
    },
    "colab_type": "code",
    "executionInfo": {
     "elapsed": 599,
     "status": "ok",
     "timestamp": 1568716146902,
     "user": {
      "displayName": "Lee Junho",
      "photoUrl": "",
      "userId": "07135364773811627245"
     },
     "user_tz": -540
    },
    "id": "3Dq9XhA4wUR8",
    "outputId": "81210e1f-6aeb-4073-b7b2-14174bad56de"
   },
   "outputs": [
    {
     "name": "stdout",
     "output_type": "stream",
     "text": [
      "['python']\n"
     ]
    }
   ],
   "source": [
    "\n",
    "print(p.findall(data))"
   ]
  },
  {
   "cell_type": "markdown",
   "metadata": {
    "colab_type": "text",
    "id": "gMN6kPCO3laQ"
   },
   "source": [
    "### VERBOSE (X)\n",
    "\n",
    "정규식을 보기 편하게 만들수 있고, 주석 사용 가능"
   ]
  },
  {
   "cell_type": "code",
   "execution_count": null,
   "metadata": {
    "colab": {},
    "colab_type": "code",
    "id": "LV-Rkkfv2Ssy"
   },
   "outputs": [],
   "source": [
    "# 다음과 같은 패턴이 존재한다고 가정하자 (실제로 이런식으로 사용된다)\n",
    "# 무척이나 암호같고 해석이 쉽지 않다.\n",
    "p = re.compile(r'&[#](0[0-7]+|[0-9]+|x[0-9a-fA-F]+);')"
   ]
  },
  {
   "cell_type": "code",
   "execution_count": null,
   "metadata": {
    "colab": {},
    "colab_type": "code",
    "id": "x4VnFgsp49Ci"
   },
   "outputs": [],
   "source": [
    "# 옵션을 사용하면 문자열에 사용된 whitespace는 컴파일할 때 제거된다\n",
    "# (단 [ ] 안에 사용한 whitespace는 제외). 그리고 줄 단위로 #기호를 사용하여 주석문을 작성할 수 있다.\n",
    "\n",
    "charref = re.compile(r\"\"\"\n",
    " &[#]                # Start of a numeric entity reference\n",
    " (\n",
    "     0[0-7]+         # Octal form\n",
    "   | [0-9]+          # Decimal form\n",
    "   | x[0-9a-fA-F]+   # Hexadecimal form\n",
    " )\n",
    " ;                   # Trailing semicolon\n",
    "\"\"\", re.VERBOSE)"
   ]
  },
  {
   "cell_type": "markdown",
   "metadata": {
    "colab_type": "text",
    "id": "mewY4DOx7X31"
   },
   "source": [
    "# Backslach (\\) Problem\n",
    "\n",
    "우리가 \\section 이라는 문자열 탐색을 위해서 정규식을 만들려고 한다\n",
    "\n",
    "\\section 이라는 정규식은 \\s 가 공백으로 해석되어 원하는 방식으로 매칭이 되지 않는다\n",
    "\n",
    "\\ 문자를 문자열임을 명시하기 위해 \\\\\\\\ 를 이용해 특수 처리를 해야하는데,\n",
    "\n",
    "실제 파이썬 정규식 엔진에서는 문자열 규칙에 따라 \\\\\\\\ 가 \\ 로 변경되어 \\section 이 전달된다\n",
    "\n",
    "결국 우리가 원하는 \\section 이라는 문자열을 찾기 위해서는 \\\\\\\\\\\\\\\\section 처리를 해야한다\n",
    "\n",
    "(실제로 이 텍스트 소스를 확인해보면 \\ 4개를 적기위해 \\ 8개를 적어놨다.)\n",
    "\n",
    "그래서 Raw String 이라는 규칙이 생겨났고, 정규식 패턴 앞에 r 문자를 삽입하면 Raw String 규칙에 따라 \\\\\\\\대신 \\를 사용해도 동일한 의미를 가진다."
   ]
  },
  {
   "cell_type": "code",
   "execution_count": null,
   "metadata": {
    "colab": {
     "base_uri": "https://localhost:8080/",
     "height": 35
    },
    "colab_type": "code",
    "executionInfo": {
     "elapsed": 647,
     "status": "ok",
     "timestamp": 1568716149123,
     "user": {
      "displayName": "Lee Junho",
      "photoUrl": "",
      "userId": "07135364773811627245"
     },
     "user_tz": -540
    },
    "id": "o18hHtLx5ZaS",
    "outputId": "56e36ce0-40e7-4c36-f35d-d565869bc5e2"
   },
   "outputs": [
    {
     "data": {
      "text/plain": [
       "re.compile(r'\\\\section', re.UNICODE)"
      ]
     },
     "execution_count": 132,
     "metadata": {
      "tags": []
     },
     "output_type": "execute_result"
    }
   ],
   "source": [
    "\n",
    "p"
   ]
  },
  {
   "cell_type": "code",
   "execution_count": null,
   "metadata": {
    "colab": {
     "base_uri": "https://localhost:8080/",
     "height": 35
    },
    "colab_type": "code",
    "executionInfo": {
     "elapsed": 422,
     "status": "ok",
     "timestamp": 1568716149524,
     "user": {
      "displayName": "Lee Junho",
      "photoUrl": "",
      "userId": "07135364773811627245"
     },
     "user_tz": -540
    },
    "id": "FJvVtLD92aLh",
    "outputId": "109d87d5-c2cb-4783-a08f-5f83b93efb99"
   },
   "outputs": [
    {
     "data": {
      "text/plain": [
       "re.compile(r'\\\\section', re.UNICODE)"
      ]
     },
     "execution_count": 133,
     "metadata": {
      "tags": []
     },
     "output_type": "execute_result"
    }
   ],
   "source": [
    "\n",
    "p"
   ]
  },
  {
   "cell_type": "markdown",
   "metadata": {
    "colab_type": "text",
    "id": "18VkNQH33yyo"
   },
   "source": [
    "# Grouping ( )\n",
    "\n",
    "반복적인 패턴을 조사하는 정규식 "
   ]
  },
  {
   "cell_type": "code",
   "execution_count": null,
   "metadata": {
    "colab": {
     "base_uri": "https://localhost:8080/",
     "height": 53
    },
    "colab_type": "code",
    "executionInfo": {
     "elapsed": 651,
     "status": "ok",
     "timestamp": 1568716151967,
     "user": {
      "displayName": "Lee Junho",
      "photoUrl": "",
      "userId": "07135364773811627245"
     },
     "user_tz": -540
    },
    "id": "7BNq_T5Z2h_f",
    "outputId": "a5e41af6-a1dc-488d-ef8a-3d33a3bcdd61"
   },
   "outputs": [
    {
     "name": "stdout",
     "output_type": "stream",
     "text": [
      "<_sre.SRE_Match object; span=(0, 9), match='ABCABCABC'>\n",
      "ABCABCABC\n"
     ]
    }
   ],
   "source": [
    "\n",
    "m = p.search('ABCABCABC OK?')\n",
    "print(m)\n",
    "\n",
    "print(m.group())"
   ]
  },
  {
   "cell_type": "code",
   "execution_count": null,
   "metadata": {
    "colab": {},
    "colab_type": "code",
    "id": "CpW9zagi4E9v"
   },
   "outputs": [],
   "source": [
    "# 해석 : \n",
    "\n",
    "m = p.search(\"park 010-1234-1234\")"
   ]
  },
  {
   "cell_type": "code",
   "execution_count": null,
   "metadata": {
    "colab": {
     "base_uri": "https://localhost:8080/",
     "height": 35
    },
    "colab_type": "code",
    "executionInfo": {
     "elapsed": 760,
     "status": "ok",
     "timestamp": 1568716153812,
     "user": {
      "displayName": "Lee Junho",
      "photoUrl": "",
      "userId": "07135364773811627245"
     },
     "user_tz": -540
    },
    "id": "duCEL6S47w-4",
    "outputId": "c521be80-d72c-4b91-8797-e20b93a9fe24"
   },
   "outputs": [
    {
     "data": {
      "text/plain": [
       "'park'"
      ]
     },
     "execution_count": 136,
     "metadata": {
      "tags": []
     },
     "output_type": "execute_result"
    }
   ],
   "source": [
    "\n",
    "m = p.search(\"park 010-1234-1234\")\n",
    "m.group(1)"
   ]
  },
  {
   "cell_type": "code",
   "execution_count": null,
   "metadata": {
    "colab": {
     "base_uri": "https://localhost:8080/",
     "height": 35
    },
    "colab_type": "code",
    "executionInfo": {
     "elapsed": 417,
     "status": "ok",
     "timestamp": 1568716154791,
     "user": {
      "displayName": "Lee Junho",
      "photoUrl": "",
      "userId": "07135364773811627245"
     },
     "user_tz": -540
    },
    "id": "-iD0ogOs772_",
    "outputId": "d0642b92-3a50-450a-9090-cd5baa0fd70b"
   },
   "outputs": [
    {
     "data": {
      "text/plain": [
       "'010-1234-1234'"
      ]
     },
     "execution_count": 137,
     "metadata": {
      "tags": []
     },
     "output_type": "execute_result"
    }
   ],
   "source": [
    "\n",
    "m = p.search(\"park 010-1234-1234\")\n",
    "m.group(2)"
   ]
  },
  {
   "cell_type": "code",
   "execution_count": null,
   "metadata": {
    "colab": {
     "base_uri": "https://localhost:8080/",
     "height": 35
    },
    "colab_type": "code",
    "executionInfo": {
     "elapsed": 437,
     "status": "ok",
     "timestamp": 1568716155963,
     "user": {
      "displayName": "Lee Junho",
      "photoUrl": "",
      "userId": "07135364773811627245"
     },
     "user_tz": -540
    },
    "id": "rxk01pYc8JXn",
    "outputId": "d70c1e9e-10f2-4dc9-99f6-7bc7e464b902"
   },
   "outputs": [
    {
     "data": {
      "text/plain": [
       "'010'"
      ]
     },
     "execution_count": 138,
     "metadata": {
      "tags": []
     },
     "output_type": "execute_result"
    }
   ],
   "source": [
    "\n",
    "m = p.search(\"park 010-1234-1234\")\n",
    "m.group(3)"
   ]
  },
  {
   "cell_type": "markdown",
   "metadata": {
    "colab_type": "text",
    "id": "gBKaVeDs-vdG"
   },
   "source": [
    "# 한글 코드 범위"
   ]
  },
  {
   "cell_type": "code",
   "execution_count": null,
   "metadata": {
    "colab": {},
    "colab_type": "code",
    "id": "zx6M8BSY8Ohu"
   },
   "outputs": [],
   "source": [
    "# 정규식은 unicode 를 따른다\n",
    "# ㄱ ~ ㅎ 0x3131 ~ 0x314e\n",
    "# ㅏ ~ ㅣ 0x314f ~ 0x3163\n",
    "# 가 ~ 힣 0xac00 ~ 0xd7a3"
   ]
  },
  {
   "cell_type": "code",
   "execution_count": null,
   "metadata": {
    "colab": {
     "base_uri": "https://localhost:8080/",
     "height": 35
    },
    "colab_type": "code",
    "executionInfo": {
     "elapsed": 613,
     "status": "ok",
     "timestamp": 1568716580673,
     "user": {
      "displayName": "Lee Junho",
      "photoUrl": "",
      "userId": "07135364773811627245"
     },
     "user_tz": -540
    },
    "id": "EZxK-c-Su0nR",
    "outputId": "8f3f0d6a-cbfb-4b54-eb76-8184124d3a56"
   },
   "outputs": [
    {
     "data": {
      "text/plain": [
       "re.compile(r'.*[.].*$', re.UNICODE)"
      ]
     },
     "execution_count": 141,
     "metadata": {
      "tags": []
     },
     "output_type": "execute_result"
    }
   ],
   "source": [
    "re.compile(\".*[.].*$\")"
   ]
  },
  {
   "cell_type": "code",
   "execution_count": null,
   "metadata": {
    "colab": {
     "base_uri": "https://localhost:8080/",
     "height": 35
    },
    "colab_type": "code",
    "executionInfo": {
     "elapsed": 679,
     "status": "ok",
     "timestamp": 1568716631335,
     "user": {
      "displayName": "Lee Junho",
      "photoUrl": "",
      "userId": "07135364773811627245"
     },
     "user_tz": -540
    },
    "id": "FYXmwSVSy2Rc",
    "outputId": "bfae2dc2-685c-4cdf-9cde-3d8ac1df926b"
   },
   "outputs": [
    {
     "data": {
      "text/plain": [
       "re.compile(r'.*[.][^t].*$', re.UNICODE)"
      ]
     },
     "execution_count": 142,
     "metadata": {
      "tags": []
     },
     "output_type": "execute_result"
    }
   ],
   "source": [
    "re.compile('.*[.][^t].*$')"
   ]
  },
  {
   "cell_type": "code",
   "execution_count": null,
   "metadata": {
    "colab": {},
    "colab_type": "code",
    "id": "kMaYKfiyzCoD"
   },
   "outputs": [],
   "source": [
    "re.compile('.*[.]())"
   ]
  }
 ],
 "metadata": {
  "colab": {
   "collapsed_sections": [],
   "name": "정규 표현식(예제)_임성학.ipynb",
   "provenance": []
  },
  "kernelspec": {
   "display_name": "Python 3",
   "language": "python",
   "name": "python3"
  },
  "language_info": {
   "codemirror_mode": {
    "name": "ipython",
    "version": 3
   },
   "file_extension": ".py",
   "mimetype": "text/x-python",
   "name": "python",
   "nbconvert_exporter": "python",
   "pygments_lexer": "ipython3",
   "version": "3.7.4"
  }
 },
 "nbformat": 4,
 "nbformat_minor": 4
}
