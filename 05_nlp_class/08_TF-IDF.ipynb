{
 "cells": [
  {
   "cell_type": "markdown",
   "metadata": {},
   "source": [
    "### TF-IDF 밑바닥부터 이해하기"
   ]
  },
  {
   "cell_type": "code",
   "execution_count": 1,
   "metadata": {
    "colab": {},
    "colab_type": "code",
    "id": "NQebrFbZaMWm"
   },
   "outputs": [],
   "source": [
    "import math, sys\n",
    "from konlpy.tag import Okt\n",
    "\n",
    "class Filter:\n",
    "\n",
    "    def __init__(self):    # 클래스의 초기 인스턴스 세팅\n",
    "        self.words = set()\n",
    "        self.word_dict = {}\n",
    "        self.category_dict = {}\n",
    "\n",
    "    def split(self, text):\n",
    "        results = []\n",
    "        twitter = Okt()\n",
    "        malist = twitter.pos(text, norm=True, stem=True)\n",
    "\n",
    "        # 실습 2\n",
    "        # 아래 for 문을 한줄짜리 for 문으로 바꿔보세요 List Comprehension\n",
    "        \n",
    "        results = [word[0] for word in malist if not word[1] in [\"Josa\", \"Eomi\", \"Punctuation\"]]\n",
    "        \n",
    "#         for word in malist:\n",
    "#             if not word[1] in [\"Josa\", \"Eomi\", \"Punctuation\"]:\n",
    "#                 results.append(word[0])\n",
    "\n",
    "        return results\n",
    "\n",
    "\n",
    "    def inc_word(self, word, category):    \n",
    "        if not category in self.word_dict:\n",
    "            self.word_dict[category] = {}\n",
    "        if not word in self.word_dict[category]:\n",
    "            self.word_dict[category][word] = 0\n",
    "        self.word_dict[category][word] += 1\n",
    "        self.words.add(word)\n",
    "\n",
    "    def inc_category(self, category):    \n",
    "        if not category in self.category_dict:\n",
    "            self.category_dict[category] = 0\n",
    "        self.category_dict[category] += 1\n",
    "\n",
    "    def fit(self, text, category):    \n",
    "        word_list = self.split(text)\n",
    "        for word in word_list:\n",
    "            self.inc_word(word, category)\n",
    "        self.inc_category(category)\n",
    "\n",
    "    def score(self, words, category):    \n",
    "        score = math.log(self.category_prob(category))\n",
    "        for word in words:\n",
    "            score += math.log(self.word_prob(word, category))\n",
    "        return score\n",
    "\n",
    "    def predict(self, text):\n",
    "        best_category = None\n",
    "        max_score = -sys.maxsize\n",
    "        words = self.split(text)\n",
    "        score_list = []\n",
    "        for category in self.category_dict.keys():\n",
    "            score = self.score(words, category)\n",
    "            score_list.append((category,score))\n",
    "            if score > max_score:\n",
    "                max_score = score\n",
    "                best_category = category\n",
    "        return best_category, score_list\n",
    "\n",
    "    def get_word_count(self, word, category):\n",
    "        if word in self.word_dict[category]:\n",
    "            return self.word_dict[category][word]\n",
    "        else:\n",
    "            return 0\n",
    "\n",
    "    def category_prob(self, category):    \n",
    "        sum_categories = sum(self.category_dict.values())\n",
    "        category_v = self.category_dict[category]\n",
    "        return category_v / sum_categories\n",
    "\n",
    "    def word_prob(self, word, category):    \n",
    "        n = self.get_word_count(word, category) + 1\n",
    "        d = sum(self.word_dict[category].values()) + len(self.words)\n",
    "        return n/d"
   ]
  },
  {
   "cell_type": "code",
   "execution_count": 2,
   "metadata": {
    "colab": {},
    "colab_type": "code",
    "id": "oPBWtdombANR"
   },
   "outputs": [
    {
     "name": "stderr",
     "output_type": "stream",
     "text": [
      "/Users/masterp/Projects/python_study/nlp/lib/python3.7/site-packages/jpype/_core.py:210: UserWarning: \n",
      "-------------------------------------------------------------------------------\n",
      "Deprecated: convertStrings was not specified when starting the JVM. The default\n",
      "behavior in JPype will be False starting in JPype 0.8. The recommended setting\n",
      "for new code is convertStrings=False.  The legacy value of True was assumed for\n",
      "this session. If you are a user of an application that reported this warning,\n",
      "please file a ticket with the developer.\n",
      "-------------------------------------------------------------------------------\n",
      "\n",
      "  \"\"\")\n"
     ]
    }
   ],
   "source": [
    "bf = Filter()\n",
    "\n",
    "bf.fit(\"파격 세일 - 오늘까지만 30% 할인\",  \"광고\")\n",
    "bf.fit(\"쿠폰 선물 & 무료 배송\", \"광고\")\n",
    "bf.fit(\"현대 백화점 세일\", \"광고\")\n",
    "bf.fit(\"봄과 함께 찾아온 따뜻한 신제품 소식\", \"광고\")\n",
    "bf.fit(\"회원님에게만 추천 드리는 상품\", \"광고\")\n",
    "bf.fit(\"인기 제품 기간 한정 세일\", \"광고\")\n",
    "bf.fit(\"오늘 일정 확인\", \"중요\")\n",
    "bf.fit(\"프로젝트 진행 상황 보고\", \"중요\")\n",
    "bf.fit(\"계약 잘 부탁드립니다\", \"중요\")\n",
    "bf.fit(\"회의 일정이 등록되었습니다\", \"중요\")\n",
    "bf.fit(\"오늘 일정이 없습니다\", \"중요\")\n",
    "bf.fit(\"1촌 신청을 기다립니다\", \"소셜\")\n",
    "bf.fit(\"1촌이 새로운 게시물을 올렸습니다\", \"소셜\")\n",
    "bf.fit(\"강수영님을 아세요?\", \"소셜\")\n",
    "bf.fit(\"홍길동님이 회원님의 사진에 좋아요를 눌렀습니다\", \"소셜\")"
   ]
  },
  {
   "cell_type": "code",
   "execution_count": 3,
   "metadata": {
    "colab": {
     "base_uri": "https://localhost:8080/",
     "height": 53
    },
    "colab_type": "code",
    "executionInfo": {
     "elapsed": 581,
     "status": "ok",
     "timestamp": 1569784612968,
     "user": {
      "displayName": "Lee Junho",
      "photoUrl": "",
      "userId": "07135364773811627245"
     },
     "user_tz": -540
    },
    "id": "3DlsyF5Acmp-",
    "outputId": "6ae69455-29ba-4eac-adc9-ea16a6c4ef03"
   },
   "outputs": [
    {
     "name": "stdout",
     "output_type": "stream",
     "text": [
      "결과 = 광고\n",
      "[('광고', -28.63098590284898), ('중요', -31.0352751217805), ('소셜', -29.557447680306794)]\n"
     ]
    }
   ],
   "source": [
    "pre, scorelist = bf.predict(\"회원님 재고 정리 할인, 무료 배송\")\n",
    "print(\"결과 =\", pre)\n",
    "print(scorelist)"
   ]
  },
  {
   "cell_type": "code",
   "execution_count": 4,
   "metadata": {},
   "outputs": [
    {
     "name": "stdout",
     "output_type": "stream",
     "text": [
      "결과 = 소셜\n",
      "[('광고', -18.733679916888185), ('중요', -18.205276764732332), ('소셜', -16.565247659447806)]\n"
     ]
    }
   ],
   "source": [
    "pre, scorelist = bf.predict(\"페이스북에서 좋아요를 누르세요!\")\n",
    "print(\"결과 =\", pre)\n",
    "print(scorelist)"
   ]
  },
  {
   "cell_type": "code",
   "execution_count": 7,
   "metadata": {},
   "outputs": [
    {
     "data": {
      "text/plain": [
       "9223372036854775807"
      ]
     },
     "execution_count": 7,
     "metadata": {},
     "output_type": "execute_result"
    }
   ],
   "source": [
    "sys.maxsize"
   ]
  },
  {
   "cell_type": "code",
   "execution_count": 8,
   "metadata": {},
   "outputs": [
    {
     "data": {
      "text/plain": [
       "-1.7915594892253888"
      ]
     },
     "execution_count": 8,
     "metadata": {},
     "output_type": "execute_result"
    }
   ],
   "source": [
    "score = math.log(0.1667)\n",
    "score"
   ]
  },
  {
   "cell_type": "code",
   "execution_count": 5,
   "metadata": {
    "colab": {},
    "colab_type": "code",
    "id": "02IVJ6e0c1N_"
   },
   "outputs": [],
   "source": [
    "# 실습 1 \n",
    "# Filter Class 분석\n",
    "# 어떤식으로든 상관없습니다\n",
    "# 예시)\n",
    "# bf.fit은 text와 뭐를 변수로 받아서 데이터를 처리하는데 어떤 함수를 호출하고 ~~~ 이런 결과가 된다\n",
    "# bf.predict 는 ~~~~~ 해서 ~~~~~ 이런 결과를 도출한다 "
   ]
  },
  {
   "cell_type": "code",
   "execution_count": 6,
   "metadata": {},
   "outputs": [
    {
     "data": {
      "image/png": "[encoded data removed]",
      "text/plain": [
       "<Figure size 432x288 with 4 Axes>"
      ]
     },
     "metadata": {
      "needs_background": "light"
     },
     "output_type": "display_data"
    }
   ],
   "source": [
    "%matplotlib inline\n",
    "\n",
    "import numpy as np\n",
    "import matplotlib.pyplot as plt\n",
    "\n",
    "# Data for plotting\n",
    "t = np.arange(0.01, 20.0, 0.01)\n",
    "\n",
    "# Create figure\n",
    "fig, ((ax1, ax2), (ax3, ax4)) = plt.subplots(2, 2)\n",
    "\n",
    "# log y axis\n",
    "ax1.semilogy(t, np.exp(-t / 5.0))\n",
    "ax1.set(title='semilogy')\n",
    "ax1.grid()\n",
    "\n",
    "# log x axis\n",
    "ax2.semilogx(t, np.sin(2 * np.pi * t))\n",
    "ax2.set(title='semilogx')\n",
    "ax2.grid()\n",
    "\n",
    "# log x and y axis\n",
    "ax3.loglog(t, 20 * np.exp(-t / 10.0), basex=2)\n",
    "ax3.set(title='loglog base 2 on x')\n",
    "ax3.grid()\n",
    "\n",
    "# With errorbars: clip non-positive values\n",
    "# Use new data for plotting\n",
    "x = 10.0**np.linspace(0.0, 2.0, 20)\n",
    "y = x**2.0\n",
    "\n",
    "ax4.set_xscale(\"log\", nonposx='clip')\n",
    "ax4.set_yscale(\"log\", nonposy='clip')\n",
    "ax4.set(title='Errorbars go negative')\n",
    "ax4.errorbar(x, y, xerr=0.1 * x, yerr=5.0 + 0.75 * y)\n",
    "# ylim must be set after errorbar to allow errorbar to autoscale limits\n",
    "ax4.set_ylim(bottom=0.1)\n",
    "\n",
    "fig.tight_layout()\n",
    "plt.show()"
   ]
  },
  {
   "cell_type": "code",
   "execution_count": null,
   "metadata": {},
   "outputs": [],
   "source": []
  }
 ],
 "metadata": {
  "colab": {
   "collapsed_sections": [],
   "name": "TF-IDF.ipynb",
   "provenance": []
  },
  "kernelspec": {
   "display_name": "nlp",
   "language": "python",
   "name": "nlp"
  },
  "language_info": {
   "codemirror_mode": {
    "name": "ipython",
    "version": 3
   },
   "file_extension": ".py",
   "mimetype": "text/x-python",
   "name": "python",
   "nbconvert_exporter": "python",
   "pygments_lexer": "ipython3",
   "version": "3.7.4"
  }
 },
 "nbformat": 4,
 "nbformat_minor": 4
}
