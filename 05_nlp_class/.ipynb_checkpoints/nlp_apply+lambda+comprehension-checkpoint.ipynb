{
 "cells": [
  {
   "cell_type": "markdown",
   "metadata": {},
   "source": [
    "### 실습 >> Apply+Lambda+List comprehension"
   ]
  },
  {
   "cell_type": "markdown",
   "metadata": {},
   "source": [
    "[출처: 은공지능공작소 - Apply + Lambda + List comprehension을 이용한 강력한 코딩 꿀팁!](https://chan-lab.tistory.com/20)"
   ]
  },
  {
   "cell_type": "code",
   "execution_count": 1,
   "metadata": {},
   "outputs": [],
   "source": [
    "import numpy as np\n",
    "import pandas as pd"
   ]
  },
  {
   "cell_type": "code",
   "execution_count": 2,
   "metadata": {},
   "outputs": [],
   "source": [
    "data = '''After Jesus had finished instructing his twelve disciples, he went on from there to teach and preach in the towns of Galilee.\n",
    "When John heard in prison what Christ was doing, he sent his disciples\n",
    "to ask him, \"Are you the one who was to come, or should we expect someone else?\"\n",
    "Jesus replied, \"Go back and report to John what you hear and see:\n",
    "The blind receive sight, the lame walk, those who have leprosyare cured, the deaf hear, the dead are raised, and the good news is preached to the poor.\n",
    "Blessed is the man who does not fall away on account of me.\"\n",
    "As John's disciples were leaving, Jesus began to speak to the crowd about John: \"What did you go out into the desert to see? A reed swayed by the wind?\n",
    "If not, what did you go out to see? A man dressed in fine clothes? No, those who wear fine clothes are in kings' palaces.\n",
    "Then what did you go out to see? A prophet? Yes, I tell you, and more than a prophet.\n",
    "This is the one about whom it is written: \" 'I will send my messenger ahead of you, who will prepare your way before you.'\n",
    "I tell you the truth: Among those born of women there has not risen anyone greater than John the Baptist; yet he who is least in the kingdom of heaven is greater than he.\n",
    "From the days of John the Baptist until now, the kingdom of heaven has been forcefully advancing, and forceful men lay hold of it.\n",
    "For all the Prophets and the Law prophesied until John.\n",
    "And if you are willing to accept it, he is the Elijah who was to come.\n",
    "He who has ears, let him hear.\n",
    "\"To what can I compare this generation? They are like children sitting in the marketplaces and calling out to others:\n",
    "\" 'We played the flute for you, and you did not dance; we sang a dirge and you did not mourn.'\n",
    "For John came neither eating nor drinking, and they say, 'He has a demon.'\n",
    "The Son of Man came eating and drinking, and they say, 'Here is a glutton and a drunkard, a friend of tax collectors and \"sinners.\" ' But wisdom is proved right by her actions.\"\n",
    "Then Jesus began to denounce the cities in which most of his miracles had been performed, because they did not repent.\n",
    "\"Woe to you, Korazin! Woe to you, Bethsaida! If the miracles that were performed in you had been performed in Tyre and Sidon, they would have repented long ago in sackcloth and ashes.\n",
    "But I tell you, it will be more bearable for Tyre and Sidon on the day of judgment than for you.\n",
    "And you, Capernaum, will you be lifted up to the skies? No, you will go down to the depths. If the miracles that were performed in you had been performed in Sodom, it would have remained to this day.\n",
    "But I tell you that it will be more bearable for Sodom on the day of judgment than for you.\"\n",
    "At that time Jesus said, \"I praise you, Father, Lord of heaven and earth, because you have hidden these things from the wise and learned, and revealed them to little children.\n",
    "Yes, Father, for this was your good pleasure.\n",
    "\"All things have been committed to me by my Father. No one knows the Son except the Father, and no one knows the Father except the Son and those to whom the Son chooses to reveal him.\n",
    "\"Come to me, all you who are weary and burdened, and I will give you rest.\n",
    "Take my yoke upon you and learn from me, for I am gentle and humble in hear   t, and you will find rest for your souls.\n",
    "For my yoke is easy and my burden is light.\"'''"
   ]
  },
  {
   "cell_type": "code",
   "execution_count": 3,
   "metadata": {},
   "outputs": [],
   "source": [
    "data_dict = {}\n",
    "data_dict['verse'] = []\n",
    "\n",
    "for row in [x for x in data.split('\\n')]:\n",
    "    data_dict['verse'].append(row)\n",
    "    \n",
    "bible = pd.DataFrame.from_dict(data_dict)"
   ]
  },
  {
   "cell_type": "code",
   "execution_count": 5,
   "metadata": {},
   "outputs": [
    {
     "data": {
      "text/plain": [
       "0     125\n",
       "1      70\n",
       "2      80\n",
       "3      65\n",
       "4     151\n",
       "5      60\n",
       "6     151\n",
       "7     121\n",
       "8      85\n",
       "9     122\n",
       "10    170\n",
       "11    130\n",
       "12     55\n",
       "13     70\n",
       "14     30\n",
       "15    117\n",
       "16     94\n",
       "17     74\n",
       "18    177\n",
       "19    118\n",
       "20    183\n",
       "21     96\n",
       "22    199\n",
       "23     92\n",
       "24    175\n",
       "25     45\n",
       "26    183\n",
       "27     74\n",
       "28    119\n",
       "29     44\n",
       "Name: verse, dtype: int64"
      ]
     },
     "execution_count": 5,
     "metadata": {},
     "output_type": "execute_result"
    }
   ],
   "source": [
    "# Apply 함수 > 리스트의 요소단위로 함수를 적용하고 싶을때\n",
    "\n",
    "bible['verse'].apply(len)"
   ]
  },
  {
   "cell_type": "code",
   "execution_count": 6,
   "metadata": {},
   "outputs": [
    {
     "data": {
      "text/plain": [
       "0     <class 'str'>\n",
       "1     <class 'str'>\n",
       "2     <class 'str'>\n",
       "3     <class 'str'>\n",
       "4     <class 'str'>\n",
       "5     <class 'str'>\n",
       "6     <class 'str'>\n",
       "7     <class 'str'>\n",
       "8     <class 'str'>\n",
       "9     <class 'str'>\n",
       "10    <class 'str'>\n",
       "11    <class 'str'>\n",
       "12    <class 'str'>\n",
       "13    <class 'str'>\n",
       "14    <class 'str'>\n",
       "15    <class 'str'>\n",
       "16    <class 'str'>\n",
       "17    <class 'str'>\n",
       "18    <class 'str'>\n",
       "19    <class 'str'>\n",
       "20    <class 'str'>\n",
       "21    <class 'str'>\n",
       "22    <class 'str'>\n",
       "23    <class 'str'>\n",
       "24    <class 'str'>\n",
       "25    <class 'str'>\n",
       "26    <class 'str'>\n",
       "27    <class 'str'>\n",
       "28    <class 'str'>\n",
       "29    <class 'str'>\n",
       "Name: verse, dtype: object"
      ]
     },
     "execution_count": 6,
     "metadata": {},
     "output_type": "execute_result"
    }
   ],
   "source": [
    "bible['verse'].apply(type)"
   ]
  },
  {
   "cell_type": "code",
   "execution_count": 7,
   "metadata": {},
   "outputs": [
    {
     "data": {
      "text/plain": [
       "'After Jesus had finished instructing his twelve disciples, he went on from there to teach and preach in the towns of Galilee.'"
      ]
     },
     "execution_count": 7,
     "metadata": {},
     "output_type": "execute_result"
    }
   ],
   "source": [
    "# lambda 함수 > 리스트의 요소단위로 메소드를 적용하고 싶을 때\n",
    "\n",
    "bible['verse'][0]"
   ]
  },
  {
   "cell_type": "code",
   "execution_count": 8,
   "metadata": {},
   "outputs": [
    {
     "data": {
      "text/plain": [
       "0      True\n",
       "1      True\n",
       "2     False\n",
       "3      True\n",
       "4      True\n",
       "5      True\n",
       "6      True\n",
       "7      True\n",
       "8      True\n",
       "9      True\n",
       "10     True\n",
       "11     True\n",
       "12     True\n",
       "13     True\n",
       "14     True\n",
       "15    False\n",
       "16    False\n",
       "17     True\n",
       "18     True\n",
       "19     True\n",
       "20    False\n",
       "21     True\n",
       "22     True\n",
       "23     True\n",
       "24     True\n",
       "25     True\n",
       "26    False\n",
       "27    False\n",
       "28     True\n",
       "29     True\n",
       "Name: verse, dtype: bool"
      ]
     },
     "execution_count": 8,
     "metadata": {},
     "output_type": "execute_result"
    }
   ],
   "source": [
    "def IsUpper(input):\n",
    "    return input[0].isupper()\n",
    "\n",
    "bible['verse'].apply(IsUpper)"
   ]
  },
  {
   "cell_type": "code",
   "execution_count": 9,
   "metadata": {},
   "outputs": [
    {
     "data": {
      "text/plain": [
       "0      True\n",
       "1      True\n",
       "2     False\n",
       "3      True\n",
       "4      True\n",
       "5      True\n",
       "6      True\n",
       "7      True\n",
       "8      True\n",
       "9      True\n",
       "10     True\n",
       "11     True\n",
       "12     True\n",
       "13     True\n",
       "14     True\n",
       "15    False\n",
       "16    False\n",
       "17     True\n",
       "18     True\n",
       "19     True\n",
       "20    False\n",
       "21     True\n",
       "22     True\n",
       "23     True\n",
       "24     True\n",
       "25     True\n",
       "26    False\n",
       "27    False\n",
       "28     True\n",
       "29     True\n",
       "Name: verse, dtype: bool"
      ]
     },
     "execution_count": 9,
     "metadata": {},
     "output_type": "execute_result"
    }
   ],
   "source": [
    "bible['verse'].apply(lambda x : x[0].isupper())"
   ]
  },
  {
   "cell_type": "code",
   "execution_count": 11,
   "metadata": {},
   "outputs": [
    {
     "data": {
      "text/plain": [
       "[125,\n",
       " 70,\n",
       " 80,\n",
       " 65,\n",
       " 151,\n",
       " 60,\n",
       " 151,\n",
       " 121,\n",
       " 85,\n",
       " 122,\n",
       " 170,\n",
       " 130,\n",
       " 55,\n",
       " 70,\n",
       " 30,\n",
       " 117,\n",
       " 94,\n",
       " 74,\n",
       " 177,\n",
       " 118,\n",
       " 183,\n",
       " 96,\n",
       " 199,\n",
       " 92,\n",
       " 175,\n",
       " 45,\n",
       " 183,\n",
       " 74,\n",
       " 119,\n",
       " 44]"
      ]
     },
     "execution_count": 11,
     "metadata": {},
     "output_type": "execute_result"
    }
   ],
   "source": [
    "# List Comprehension\n",
    "\n",
    "[len(i) for i in bible['verse']]"
   ]
  },
  {
   "cell_type": "code",
   "execution_count": 19,
   "metadata": {},
   "outputs": [
    {
     "data": {
      "text/plain": [
       "0     3\n",
       "1     3\n",
       "2     1\n",
       "3     3\n",
       "4     1\n",
       "5     1\n",
       "6     6\n",
       "7     3\n",
       "8     4\n",
       "9     2\n",
       "10    4\n",
       "11    3\n",
       "12    4\n",
       "13    2\n",
       "14    1\n",
       "15    3\n",
       "16    1\n",
       "17    3\n",
       "18    5\n",
       "19    2\n",
       "20    7\n",
       "21    4\n",
       "22    5\n",
       "23    3\n",
       "24    5\n",
       "25    2\n",
       "26    8\n",
       "27    2\n",
       "28    2\n",
       "29    1\n",
       "Name: verse, dtype: int64"
      ]
     },
     "execution_count": 19,
     "metadata": {},
     "output_type": "execute_result"
    }
   ],
   "source": [
    "# Practice\n",
    "# apply로 문장에 접근 > 글자별로 쪼개고 대문자인 것을 True, False로 출력(isupper) > 카운팅(np.sum)\n",
    "\n",
    "bible['verse'].apply(lambda x : [i for i in x])     # 글자별로 하나씩 불러옴\n",
    "bible['verse'].apply(lambda x : [i.isupper() for i in x])    # 대문자 여부 확인\n",
    "bible['verse'].apply(lambda x : np.sum([i.isupper() for i in x]))    #대문자 갯수 카운팅"
   ]
  },
  {
   "cell_type": "code",
   "execution_count": null,
   "metadata": {},
   "outputs": [],
   "source": []
  }
 ],
 "metadata": {
  "kernelspec": {
   "display_name": "Python 3",
   "language": "python",
   "name": "python3"
  },
  "language_info": {
   "codemirror_mode": {
    "name": "ipython",
    "version": 3
   },
   "file_extension": ".py",
   "mimetype": "text/x-python",
   "name": "python",
   "nbconvert_exporter": "python",
   "pygments_lexer": "ipython3",
   "version": "3.7.4"
  }
 },
 "nbformat": 4,
 "nbformat_minor": 4
}
