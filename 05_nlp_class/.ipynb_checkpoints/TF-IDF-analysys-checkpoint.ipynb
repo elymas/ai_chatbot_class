{
 "cells": [
  {
   "cell_type": "code",
   "execution_count": null,
   "metadata": {
    "colab": {},
    "colab_type": "code",
    "id": "NQebrFbZaMWm"
   },
   "outputs": [],
   "source": [
    "import math, sys\n",
    "from konlpy.tag import Okt"
   ]
  },
  {
   "cell_type": "code",
   "execution_count": null,
   "metadata": {
    "colab": {},
    "colab_type": "code",
    "id": "NQebrFbZaMWm"
   },
   "outputs": [],
   "source": [
    "class Filter:\n",
    "\n",
    "    def __init__(self):    # 클래스의 초기 인스턴스 세팅\n",
    "        self.words = set()\n",
    "        self.word_dict = {}\n",
    "        self.category_dict = {}\n",
    "\n",
    "                \n",
    "    def split(self, text):\n",
    "        results = []\n",
    "        twitter = Okt()\n",
    "        malist = twitter.pos(text, norm=True, stem=True)    \n",
    "        # 입력된 문서를 konlpy 형태소분석기를 활용하여 형태소(단어) 단위로 리스트 저장\n",
    "        \n",
    "        \"\"\"\n",
    "        실습 2\n",
    "        아래 for 문을 한줄짜리 for 문으로 바꿔보세요 List Comprehension\n",
    "        \"\"\"\n",
    "        \n",
    "        results = [word[0] for word in malist if not word[1] in [\"Josa\", \"Eomi\", \"Punctuation\"]]\n",
    "        # 딕션너리 형태로 나온 형태소분석 결과에서 \"조사, 어미, 구두점\"이 아닌 요서를 가저와 리스트 저장\n",
    "        \"\"\"\n",
    "        list comprehension 적용 전 코드\n",
    "        \n",
    "         for word in malist:\n",
    "             if not word[1] in [\"Josa\", \"Eomi\", \"Punctuation\"]:\n",
    "                 results.append(word[0])\n",
    "        \"\"\"\n",
    "        return results\n",
    "\n",
    "\n",
    "        # inc_word, inc_category 함수는 범주형 데이터를 분류하는데 자주 사용된다\n",
    "    \n",
    "    def inc_word(self, word, category):\n",
    "        if not category in self.word_dict:\n",
    "            self.word_dict[category] = {}    # 단어를 담을 [category]라는 가방을 만들어 준다\n",
    "        if not word in self.word_dict[category]:\n",
    "            self.word_dict[category][word] = 0\n",
    "        self.word_dict[category][word] += 1    # 해당 [category]라는 가방에 단어를 담고 담는 횟수를 저장한다\n",
    "#         print(self.word_dict)   ->   클래스나 함수 중간에 찍어보고 싶은 부분에 print문을 추가한다\n",
    "        \n",
    "        self.words.add(word)\n",
    "\n",
    "    def inc_category(self, category):\n",
    "        if not category in self.category_dict:\n",
    "            self.category_dict[category] = 0\n",
    "        self.category_dict[category] += 1    # [category]라는 가방이 사용되는 횟수를 저장한다\n",
    "\n",
    "        \n",
    "        \n",
    "        \n",
    "        \n",
    "    def fit(self, text, category):\n",
    "        word_list = self.split(text)\n",
    "        for word in word_list:\n",
    "            self.inc_word(word, category)\n",
    "        self.inc_category(category)\n",
    "\n",
    "    def score(self, words, category):    \n",
    "        score = math.log(self.category_prob(category))\n",
    "        for word in words:\n",
    "            score += math.log(self.word_prob(word, category))\n",
    "        return score\n",
    "\n",
    "    def predict(self, text):\n",
    "        best_category = None\n",
    "        max_score = -sys.maxsize\n",
    "        words = self.split(text)    # 상단 __init__ 에서 선언된 self.words 와는 다른 값을 가진다\n",
    "        score_list = []\n",
    "        for category in self.category_dict.keys():\n",
    "            score = self.score(words, category)\n",
    "            score_list.append((category,score))\n",
    "            if score > max_score:\n",
    "                max_score = score\n",
    "                best_category = category\n",
    "        return best_category, score_list\n",
    "\n",
    "    def get_word_count(self, word, category):\n",
    "        if word in self.word_dict[category]:\n",
    "            return self.word_dict[category][word]\n",
    "        else:\n",
    "            return 0\n",
    "\n",
    "    def category_prob(self, category):  \n",
    "        sum_categories = sum(self.category_dict.values())\n",
    "        category_v = self.category_dict[category]\n",
    "        return category_v / sum_categories\n",
    "\n",
    "    def word_prob(self, word, category):    \n",
    "        n = self.get_word_count(word, category) + 1    # 새로운 문장을 분석할 때, 학습한 단어 중 없을 때를 대비하여 +1 을 해준다.\n",
    "        d = sum(self.word_dict[category].values()) + len(self.words)    # 분자에 단어가 입력될 때마다 +1 을 해주었기에 분모에도 입력된 단어 수만킄 더해준다.\n",
    "        return n/d"
   ]
  },
  {
   "cell_type": "code",
   "execution_count": null,
   "metadata": {
    "colab": {},
    "colab_type": "code",
    "id": "NQebrFbZaMWm"
   },
   "outputs": [],
   "source": [
    "bf = Filter()\n",
    "\n",
    "\"\"\"\n",
    "챗봇에서 활용시에는 intent classification 대체로 활용 가능\n",
    "예시. fit(\"안녕\", \"인사\")\n",
    "     fit(\"반가워\", \"인사\")\n",
    "     fit(\"ㅎㅇ\", \"인사\")\n",
    "\"\"\"\n",
    "\n",
    "bf.fit(\"파격 세일 - 오늘까지만 30% 할인\",  \"광고\")\n",
    "bf.fit(\"쿠폰 선물 & 무료 배송\", \"광고\")\n",
    "bf.fit(\"현대 백화점 세일\", \"광고\")\n",
    "bf.fit(\"봄과 함께 찾아온 따뜻한 신제품 소식\", \"광고\")\n",
    "bf.fit(\"회원님에게만 추천 드리는 상품\", \"광고\")\n",
    "bf.fit(\"인기 제품 기간 한정 세일\", \"광고\")\n",
    "bf.fit(\"오늘 일정 확인\", \"중요\")\n",
    "bf.fit(\"프로젝트 진행 상황 보고\", \"중요\")\n",
    "bf.fit(\"계약 잘 부탁드립니다\", \"중요\")\n",
    "bf.fit(\"회의 일정이 등록되었습니다\", \"중요\")\n",
    "bf.fit(\"오늘 일정이 없습니다\", \"중요\")\n",
    "bf.fit(\"1촌 신청을 기다립니다\", \"소셜\")\n",
    "bf.fit(\"1촌이 새로운 게시물을 올렸습니다\", \"소셜\")\n",
    "bf.fit(\"강수영님을 아세요?\", \"소셜\")\n",
    "bf.fit(\"홍길동님이 회원님의 사진에 좋아요를 눌렀습니다\", \"소셜\")"
   ]
  },
  {
   "cell_type": "code",
   "execution_count": null,
   "metadata": {
    "colab": {},
    "colab_type": "code",
    "id": "NQebrFbZaMWm"
   },
   "outputs": [],
   "source": [
    "pre, scorelist = bf.predict(\"회원님 재고 정리 할인, 무료 배송\")\n",
    "print(\"결과 =\", pre)\n",
    "print(scorelist)"
   ]
  },
  {
   "cell_type": "code",
   "execution_count": null,
   "metadata": {},
   "outputs": [],
   "source": [
    "pre, scorelist = bf.predict(\"페이스북에서 좋아요를 누르세요!\")\n",
    "print(\"결과 =\", pre)\n",
    "print(scorelist)"
   ]
  },
  {
   "cell_type": "code",
   "execution_count": null,
   "metadata": {},
   "outputs": [],
   "source": [
    "sys.maxsize"
   ]
  },
  {
   "cell_type": "code",
   "execution_count": null,
   "metadata": {},
   "outputs": [],
   "source": [
    "score = math.log(0.1667)\n",
    "score"
   ]
  },
  {
   "cell_type": "markdown",
   "metadata": {},
   "source": [
    "### log 함수 그래프"
   ]
  },
  {
   "cell_type": "code",
   "execution_count": null,
   "metadata": {},
   "outputs": [],
   "source": [
    "%matplotlib inline\n",
    "\n",
    "import numpy as np\n",
    "import matplotlib.pyplot as plt\n",
    "\n",
    "# Data for plotting\n",
    "t = np.arange(0.01, 20.0, 0.01)\n",
    "\n",
    "# Create figure\n",
    "fig, ((ax1, ax2), (ax3, ax4)) = plt.subplots(2, 2)\n",
    "\n",
    "# log y axis\n",
    "ax1.semilogy(t, np.exp(-t / 5.0))\n",
    "ax1.set(title='semilogy')\n",
    "ax1.grid()\n",
    "\n",
    "# log x axis\n",
    "ax2.semilogx(t, np.sin(2 * np.pi * t))\n",
    "ax2.set(title='semilogx')\n",
    "ax2.grid()\n",
    "\n",
    "# log x and y axis\n",
    "ax3.loglog(t, 20 * np.exp(-t / 10.0), basex=2)\n",
    "ax3.set(title='loglog base 2 on x')\n",
    "ax3.grid()\n",
    "\n",
    "# With errorbars: clip non-positive values\n",
    "# Use new data for plotting\n",
    "x = 10.0**np.linspace(0.0, 2.0, 20)\n",
    "y = x**2.0\n",
    "\n",
    "ax4.set_xscale(\"log\", nonposx='clip')\n",
    "ax4.set_yscale(\"log\", nonposy='clip')\n",
    "ax4.set(title='Errorbars go negative')\n",
    "ax4.errorbar(x, y, xerr=0.1 * x, yerr=5.0 + 0.75 * y)\n",
    "# ylim must be set after errorbar to allow errorbar to autoscale limits\n",
    "ax4.set_ylim(bottom=0.1)\n",
    "\n",
    "fig.tight_layout()\n",
    "plt.show()"
   ]
  },
  {
   "cell_type": "code",
   "execution_count": null,
   "metadata": {},
   "outputs": [],
   "source": []
  }
 ],
 "metadata": {
  "colab": {
   "collapsed_sections": [],
   "name": "TF-IDF.ipynb",
   "provenance": []
  },
  "kernelspec": {
   "display_name": "Python 3",
   "language": "python",
   "name": "python3"
  },
  "language_info": {
   "codemirror_mode": {
    "name": "ipython",
    "version": 3
   },
   "file_extension": ".py",
   "mimetype": "text/x-python",
   "name": "python",
   "nbconvert_exporter": "python",
   "pygments_lexer": "ipython3",
   "version": "3.7.4"
  }
 },
 "nbformat": 4,
 "nbformat_minor": 4
}
