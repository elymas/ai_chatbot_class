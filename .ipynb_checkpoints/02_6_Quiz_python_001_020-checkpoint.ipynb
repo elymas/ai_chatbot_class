{
 "cells": [
  {
   "cell_type": "markdown",
   "metadata": {
    "colab_type": "text",
    "id": "K-0kN4hWMdrw"
   },
   "source": [
    "\n",
    "# 파이썬 기본 퀴즈\n",
    "퀴즈 출처 : https://wikidocs.net/7003"
   ]
  },
  {
   "cell_type": "markdown",
   "metadata": {
    "colab_type": "text",
    "id": "xvSXGm3mLpJy"
   },
   "source": [
    "## 001.화면에 Hello World 문자열을 출력하라."
   ]
  },
  {
   "cell_type": "code",
   "execution_count": 1,
   "metadata": {
    "colab": {
     "base_uri": "https://localhost:8080/",
     "height": 34
    },
    "colab_type": "code",
    "id": "LpODM5MqL0F0",
    "outputId": "a508a2f5-72d9-475a-ca30-fafd39697486"
   },
   "outputs": [
    {
     "name": "stdout",
     "output_type": "stream",
     "text": [
      "Hello World\n"
     ]
    }
   ],
   "source": [
    "print('Hello World')"
   ]
  },
  {
   "cell_type": "markdown",
   "metadata": {
    "colab_type": "text",
    "id": "kRsUP7zRMWIx"
   },
   "source": [
    "## 002.화면에 Mary's cosmetics을 출력하라. (중간에 '가 있음에 주의.)"
   ]
  },
  {
   "cell_type": "code",
   "execution_count": 4,
   "metadata": {
    "colab": {},
    "colab_type": "code",
    "id": "07otpyOSMZwb"
   },
   "outputs": [
    {
     "name": "stdout",
     "output_type": "stream",
     "text": [
      "Mary's cosmetics\n"
     ]
    }
   ],
   "source": [
    "print('Mary'+\"'s\",'cosmetics')"
   ]
  },
  {
   "cell_type": "markdown",
   "metadata": {
    "colab_type": "text",
    "id": "BHKYPSHNMpWg"
   },
   "source": [
    "## 003.화면에 아래 문장을 출력하라. (중간에 \"가 있음에 주의.)\n",
    "신씨가 소리질렀다. \"도둑이야\"."
   ]
  },
  {
   "cell_type": "code",
   "execution_count": 6,
   "metadata": {
    "colab": {},
    "colab_type": "code",
    "id": "I6CdPRQ0Mr_q"
   },
   "outputs": [
    {
     "name": "stdout",
     "output_type": "stream",
     "text": [
      "신씨가 소리질렀다.\"도둑이야\".\n"
     ]
    }
   ],
   "source": [
    "print('신씨가 소리질렀다.\"도둑이야\".')"
   ]
  },
  {
   "cell_type": "markdown",
   "metadata": {
    "colab_type": "text",
    "id": "ljV68S42Ms3P"
   },
   "source": [
    "## 004.화면에 \"C:\\Windows\"를 출력하라."
   ]
  },
  {
   "cell_type": "code",
   "execution_count": 7,
   "metadata": {
    "colab": {},
    "colab_type": "code",
    "id": "6djTcEUZNFHE"
   },
   "outputs": [
    {
     "name": "stdout",
     "output_type": "stream",
     "text": [
      "\"C:\\Windows\"\n"
     ]
    }
   ],
   "source": [
    "print('\"C:\\Windows\"')"
   ]
  },
  {
   "cell_type": "markdown",
   "metadata": {
    "colab_type": "text",
    "id": "BZJxEMn8NJrA"
   },
   "source": [
    "### 005.다음 코드를 실행해보고 \\t와 \\n의 역할을 설명하라.\n",
    "print(\"안녕하세요.\\n만나서\\t\\t반갑습니다.\")"
   ]
  },
  {
   "cell_type": "code",
   "execution_count": 9,
   "metadata": {
    "colab": {},
    "colab_type": "code",
    "id": "ZSORKBcfNMr0"
   },
   "outputs": [
    {
     "name": "stdout",
     "output_type": "stream",
     "text": [
      "안녕하세요.\n",
      "만나서\t\t반갑습니다.\n"
     ]
    }
   ],
   "source": [
    "print(\"안녕하세요.\\n만나서\\t\\t반갑습니다.\")\n",
    "\n",
    "#\\n -> 줄바꿈 \n",
    "#\\t -> 간격탭"
   ]
  },
  {
   "cell_type": "markdown",
   "metadata": {
    "colab_type": "text",
    "id": "lwx76sQCNZya"
   },
   "source": [
    "## 006.print 함수에 두 개의 단어를 입력한 예제이다. 아래 코드의 출력 결과를 예상하라.\n",
    "print (\"오늘은\", \"일요일\")"
   ]
  },
  {
   "cell_type": "code",
   "execution_count": 0,
   "metadata": {
    "colab": {},
    "colab_type": "code",
    "id": "pg9TC7nfNlmr"
   },
   "outputs": [],
   "source": []
  },
  {
   "cell_type": "markdown",
   "metadata": {
    "colab_type": "text",
    "id": "kumC4QWcNoIz"
   },
   "source": [
    "## 007.print() 함수를 사용하여 다음과 같이 출력하라.\n",
    "naver;kakao;sk;samsung"
   ]
  },
  {
   "cell_type": "code",
   "execution_count": 0,
   "metadata": {
    "colab": {},
    "colab_type": "code",
    "id": "DOE8NDYzNzQC"
   },
   "outputs": [],
   "source": []
  },
  {
   "cell_type": "markdown",
   "metadata": {
    "colab_type": "text",
    "id": "Mpq5-yJjN1Sw"
   },
   "source": [
    "## 008.print() 함수를 사용하여 다음과 같이 출력하라.\n",
    "naver/kakao/sk/samsung"
   ]
  },
  {
   "cell_type": "code",
   "execution_count": 0,
   "metadata": {
    "colab": {},
    "colab_type": "code",
    "id": "m0E7xoGlQdYp"
   },
   "outputs": [],
   "source": []
  },
  {
   "cell_type": "markdown",
   "metadata": {
    "colab_type": "text",
    "id": "r_PcBBH9SL38"
   },
   "source": [
    "### 009.다음 코드를 수정하여 줄바꿈이 없이 출력되도록 하라. (힌트: end='') print 함수는 두 번 사용한다. 세미콜론 (;)은 한줄에 여러 개의 명령을 작성하기 위해 사용된다.\n",
    "print(\"first\");print(\"second\")"
   ]
  },
  {
   "cell_type": "code",
   "execution_count": 0,
   "metadata": {
    "colab": {},
    "colab_type": "code",
    "id": "TgQidwIySLpn"
   },
   "outputs": [],
   "source": []
  },
  {
   "cell_type": "markdown",
   "metadata": {
    "colab_type": "text",
    "id": "nrO9yP9NOPoZ"
   },
   "source": [
    "## 010. len() 함수는 길이를 알려줍니다. string 문자열의 길이를 구하여라.\n",
    "string = \"dk2jd923i1jdk2jd93jfd92jd918943jfd8923\""
   ]
  },
  {
   "cell_type": "code",
   "execution_count": 0,
   "metadata": {
    "colab": {},
    "colab_type": "code",
    "id": "n2M2dLuPPMPW"
   },
   "outputs": [],
   "source": []
  },
  {
   "cell_type": "markdown",
   "metadata": {
    "colab_type": "text",
    "id": "jyjKVD-BRfun"
   },
   "source": [
    "## 011.아래 코드의 실행 결과를 예상하라.\n",
    "<pre>\n",
    "a = \"3\"\n",
    "b = \"4\"\n",
    "print(a + b)\n"
   ]
  },
  {
   "cell_type": "code",
   "execution_count": 0,
   "metadata": {
    "colab": {},
    "colab_type": "code",
    "id": "Bpn3odRNRp6w"
   },
   "outputs": [],
   "source": []
  },
  {
   "cell_type": "markdown",
   "metadata": {
    "colab_type": "text",
    "id": "KY4AYJsZRvix"
   },
   "source": [
    "### 012.변수 s와 t에는 각각 문자열이 바인딩 되어있다.\n",
    "<pre>\n",
    "s = 'hello'\n",
    "t = 'python'\n",
    "</pre>\n",
    "### 두 변수를 이용하여 아래와 같이 출력하라.\n",
    "<pre>\n",
    "실행 예:\n",
    "hello! python"
   ]
  },
  {
   "cell_type": "markdown",
   "metadata": {
    "colab_type": "text",
    "id": "HQLB7KFTUUwg"
   },
   "source": [
    "## 013.아래 코드의 실행 결과를 예상하라.\n",
    "print(\"Hi\"*3)"
   ]
  },
  {
   "cell_type": "code",
   "execution_count": 0,
   "metadata": {
    "colab": {},
    "colab_type": "code",
    "id": "sZOE9owZUi6T"
   },
   "outputs": [],
   "source": []
  },
  {
   "cell_type": "markdown",
   "metadata": {
    "colab_type": "text",
    "id": "HGyAbcc_Ujq0"
   },
   "source": [
    "## 014.화면에 '-'를 80개 출력하라.\n",
    "<pre>\n",
    "실행 예:\n",
    "---------------------------------------------------"
   ]
  },
  {
   "cell_type": "code",
   "execution_count": 0,
   "metadata": {
    "colab": {},
    "colab_type": "code",
    "id": "53C_q9A-U6yK"
   },
   "outputs": [],
   "source": []
  },
  {
   "cell_type": "markdown",
   "metadata": {
    "colab_type": "text",
    "id": "50Kg48I5U5cB"
   },
   "source": [
    "### 015.변수에 다음과 같은 문자열이 바인딩되어 있다.\n",
    "<pre>\n",
    "t1 = 'python'\n",
    "t2 = 'java'\n",
    "</pre>\n",
    "### 변수에 문자열 더하기와 문자열 곱하기를 사용해서 아래와 같이 출력하여라.\n",
    "<pre>\n",
    "실행 예:\n",
    "python java python java python java python java"
   ]
  },
  {
   "cell_type": "code",
   "execution_count": 0,
   "metadata": {
    "colab": {},
    "colab_type": "code",
    "id": "nPjp4pEPV83v"
   },
   "outputs": [],
   "source": []
  },
  {
   "cell_type": "markdown",
   "metadata": {
    "colab_type": "text",
    "id": "Z_BpnvXCWCar"
   },
   "source": [
    "## 016.LG전자 주식을 10주 보유하고 있습니다. 금일 종가 20,000원일 경우 총 평가 금액을 화면에 출력하라."
   ]
  },
  {
   "cell_type": "code",
   "execution_count": 0,
   "metadata": {
    "colab": {},
    "colab_type": "code",
    "id": "W4SONWbyWF6f"
   },
   "outputs": [],
   "source": []
  },
  {
   "cell_type": "markdown",
   "metadata": {
    "colab_type": "text",
    "id": "ywqzw6teWKDC"
   },
   "source": [
    "## 017.아래 코드의 실행 결과를 예측하라.\n",
    "2+2*3"
   ]
  },
  {
   "cell_type": "code",
   "execution_count": 0,
   "metadata": {
    "colab": {},
    "colab_type": "code",
    "id": "ZjTWuJNDW2fc"
   },
   "outputs": [],
   "source": []
  },
  {
   "cell_type": "markdown",
   "metadata": {
    "colab_type": "text",
    "id": "HATI_RHwXG5i"
   },
   "source": [
    "## 018.type() 함수는 데이터 타입을 판별합니다. 변수 a에는 128 숫자가 있어 type 함수가 int (정수)형임을 알려줍니다."
   ]
  },
  {
   "cell_type": "code",
   "execution_count": 0,
   "metadata": {
    "colab": {
     "base_uri": "https://localhost:8080/",
     "height": 34
    },
    "colab_type": "code",
    "id": "DApyeMEKXXET",
    "outputId": "5567d600-09fe-4900-e2f1-c44023decb75"
   },
   "outputs": [
    {
     "name": "stdout",
     "output_type": "stream",
     "text": [
      "<class 'int'>\n"
     ]
    }
   ],
   "source": [
    "a = 128\n",
    "print(type(a))"
   ]
  },
  {
   "cell_type": "markdown",
   "metadata": {
    "colab_type": "text",
    "id": "nY_oykf2XX2t"
   },
   "source": [
    "## 아래 변수 값의 타입을 판별하라.\n",
    "a = '132'"
   ]
  },
  {
   "cell_type": "code",
   "execution_count": 0,
   "metadata": {
    "colab": {},
    "colab_type": "code",
    "id": "5IixQunmXsTI"
   },
   "outputs": [],
   "source": []
  },
  {
   "cell_type": "markdown",
   "metadata": {
    "colab_type": "text",
    "id": "otGWSJwuXwMa"
   },
   "source": [
    "## 019.문자열 '720'를 정수형으로 변환하라. 정수형으로 변환하는 함수는 int()입니다.\n",
    "num_str = \"720\""
   ]
  },
  {
   "cell_type": "code",
   "execution_count": 0,
   "metadata": {
    "colab": {},
    "colab_type": "code",
    "id": "ToX2lsK3Yju5"
   },
   "outputs": [],
   "source": []
  },
  {
   "cell_type": "markdown",
   "metadata": {
    "colab_type": "text",
    "id": "8b0ozmwYYtdK"
   },
   "source": [
    "## 020.정수 100을 문자열 '100'으로 변환하라. 문자열로 변환하는 함수는 str()입니다.\n",
    "num = 100"
   ]
  },
  {
   "cell_type": "code",
   "execution_count": 0,
   "metadata": {
    "colab": {},
    "colab_type": "code",
    "id": "53PD9aOWZKUG"
   },
   "outputs": [],
   "source": []
  }
 ],
 "metadata": {
  "colab": {
   "collapsed_sections": [],
   "name": "02_6_Quiz_python_001_020.ipynb의 사본",
   "provenance": [],
   "version": "0.3.2"
  },
  "kernelspec": {
   "display_name": "Python 3",
   "language": "python",
   "name": "python3"
  },
  "language_info": {
   "codemirror_mode": {
    "name": "ipython",
    "version": 3
   },
   "file_extension": ".py",
   "mimetype": "text/x-python",
   "name": "python",
   "nbconvert_exporter": "python",
   "pygments_lexer": "ipython3",
   "version": "3.7.4"
  }
 },
 "nbformat": 4,
 "nbformat_minor": 1
}
