{
 "cells": [
  {
   "cell_type": "code",
   "execution_count": 1,
   "metadata": {
    "colab": {
     "base_uri": "https://localhost:8080/",
     "height": 1000
    },
    "colab_type": "code",
    "executionInfo": {
     "elapsed": 3169,
     "status": "ok",
     "timestamp": 1569991474781,
     "user": {
      "displayName": "김진성",
      "photoUrl": "",
      "userId": "17150010303217807218"
     },
     "user_tz": -540
    },
    "id": "aFJfXKi8yIS-",
    "outputId": "8e7701f0-7a5d-4d61-b40a-e1b08e984323"
   },
   "outputs": [
    {
     "name": "stdout",
     "output_type": "stream",
     "text": [
      "    0 epoch ==> cost : 7621.79590\t y=2.989x+0.562\n"
     ]
    },
    {
     "data": {
      "text/plain": [
       "<Figure size 640x480 with 1 Axes>"
      ]
     },
     "metadata": {},
     "output_type": "display_data"
    },
    {
     "data": {
      "text/plain": [
       "<Figure size 640x480 with 1 Axes>"
      ]
     },
     "metadata": {},
     "output_type": "display_data"
    },
    {
     "data": {
      "text/plain": [
       "<Figure size 640x480 with 1 Axes>"
      ]
     },
     "metadata": {},
     "output_type": "display_data"
    },
    {
     "data": {
      "text/plain": [
       "<Figure size 640x480 with 1 Axes>"
      ]
     },
     "metadata": {},
     "output_type": "display_data"
    },
    {
     "data": {
      "text/plain": [
       "<Figure size 640x480 with 1 Axes>"
      ]
     },
     "metadata": {},
     "output_type": "display_data"
    },
    {
     "data": {
      "text/plain": [
       "<Figure size 640x480 with 1 Axes>"
      ]
     },
     "metadata": {},
     "output_type": "display_data"
    },
    {
     "data": {
      "text/plain": [
       "<Figure size 640x480 with 1 Axes>"
      ]
     },
     "metadata": {},
     "output_type": "display_data"
    },
    {
     "data": {
      "text/plain": [
       "<Figure size 640x480 with 1 Axes>"
      ]
     },
     "metadata": {},
     "output_type": "display_data"
    },
    {
     "data": {
      "text/plain": [
       "<Figure size 640x480 with 1 Axes>"
      ]
     },
     "metadata": {},
     "output_type": "display_data"
    },
    {
     "data": {
      "text/plain": [
       "<Figure size 640x480 with 1 Axes>"
      ]
     },
     "metadata": {},
     "output_type": "display_data"
    },
    {
     "name": "stdout",
     "output_type": "stream",
     "text": [
      " 1000 epoch ==> cost : 86.50114\t y=2.261x+24.095\n",
      " 2000 epoch ==> cost : 5.47234\t y=1.916x+30.012\n",
      " 3000 epoch ==> cost : 0.34620\t y=1.829x+31.500\n",
      " 4000 epoch ==> cost : 0.02190\t y=1.807x+31.874\n",
      " 5000 epoch ==> cost : 0.00139\t y=1.802x+31.968\n",
      " 6000 epoch ==> cost : 0.00009\t y=1.800x+31.992\n",
      " 6787 epoch ==> cost : 0.00001\t y=1.800x+31.997\n"
     ]
    }
   ],
   "source": [
    "import random\n",
    "import numpy as np\n",
    "import matplotlib.pyplot as plt\n",
    "\n",
    "# random.seed(7777) # 테스트를 위한 seed 고정 # 주석처리하면 random함수 사용시 값이 변화함.\n",
    "\n",
    "class linear_regression:\n",
    "\tdef __init__(self, Xs=[0,8,15,22],Ys=[32,46.4,59,71.6], alpha = 0.001):\n",
    "\t\t\n",
    "\t\tself.alpha = alpha #학습률. learning rate 라고도 함.\n",
    "\t\tself.stop = 0.00001 #중단점\n",
    "\n",
    "\t\tself.X=np.array(Xs) #학습data X값\n",
    "\t\tself.Y=np.array(Ys) #학습data Y값\n",
    "\n",
    "\t\tself.W=random.random() # 랜덤값으로 초기지정\n",
    "\t\tself.b=random.random() # 랜덤값으로 초기지정\n",
    "\n",
    "\t#cost 함수 계산 ( (wx+b) -y)^2 )\n",
    "\tdef cal_cost(self): \n",
    "\t\treturn sum((self.X * self.W + self.b - self.Y) **2)\n",
    "\n",
    "\t# W 편미분 계산\n",
    "\tdef cal_dW(self):\n",
    "\t\treturn sum((self.X * self.W +self.b - self.Y)* self.X)\n",
    "\t\n",
    "\t# b 편미분 계산\n",
    "\tdef cal_db(self):\n",
    "\t\treturn sum(self.X* self.W +self.b - self.Y)\n",
    "\n",
    "\t# train 과정\n",
    "\tdef train(self,epoch=10000):\n",
    "\t\tfor i in range(epoch):\n",
    "\n",
    "\t\t\tcost = abs(self.cal_cost()) # cost 계산\n",
    "\t\t\t\n",
    "\t\t\tif cost < self.stop: \n",
    "\t\t\t\tprint('{:5} epoch ==> cost : {:7.5f}\\t y={:.3f}x+{:.3f}'.format(i,cost,self.W,self.b))\n",
    "\t\t\t\tbreak # 학습 많이 진행되면 중단.\n",
    "\n",
    "\t\t\tself.W -= self.alpha * self.cal_dW() # W값 업데이트\n",
    "\t\t\tself.b -= self.alpha * self.cal_db() # b값 업데이트\n",
    "\n",
    "\t\t\tif i%1000 ==0:\n",
    "\t\t\t\tprint('{:5} epoch ==> cost : {:7.5f}\\t y={:.3f}x+{:.3f}'.format(i,cost,self.W,self.b))\n",
    "\t\t\t\n",
    "\t\t\t## 시각화...?\n",
    "\t\t\tif i<100 and i%10==0:\n",
    "\t\t\t\tplt.figure()\n",
    "\t\t\t\tplt.scatter(self.X,self.Y)\n",
    "\t\t\t\tplt.axis([-5,30,0,100])\n",
    "\t\t\t\tplt.plot(self.X, self.predict(self.X))\n",
    "\t\t\t\tplt.title('{:3} epochs ===> y={:.3f}x+{:.3f}'.format(i,self.W, self.b))\n",
    "\t\t\t\tplt.show()\n",
    "\t\t\t\t\n",
    "\tdef predict(self, x):\n",
    "\t\treturn x*self.W + self.b\n",
    "\n",
    "if __name__ == \"__main__\":\n",
    "\tLR = linear_regression()\n",
    "\tLR.train()\n",
    "\t# print(LR.predict(4))\n",
    "\t"
   ]
  }
 ],
 "metadata": {
  "colab": {
   "collapsed_sections": [],
   "name": "Untitled0.ipynb",
   "provenance": []
  },
  "kernelspec": {
   "display_name": "Python 3",
   "language": "python",
   "name": "python3"
  },
  "language_info": {
   "codemirror_mode": {
    "name": "ipython",
    "version": 3
   },
   "file_extension": ".py",
   "mimetype": "text/x-python",
   "name": "python",
   "nbconvert_exporter": "python",
   "pygments_lexer": "ipython3",
   "version": "3.7.4"
  }
 },
 "nbformat": 4,
 "nbformat_minor": 4
}
