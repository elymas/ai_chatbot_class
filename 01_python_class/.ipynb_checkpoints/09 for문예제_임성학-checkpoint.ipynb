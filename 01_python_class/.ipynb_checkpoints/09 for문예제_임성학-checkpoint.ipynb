{
 "cells": [
  {
   "cell_type": "markdown",
   "metadata": {
    "colab_type": "text",
    "id": "Em4rM6Cgka3O"
   },
   "source": [
    "### 01.리스트가 다음과 같이 주어질 때,\n",
    "### for문을 이용하여 값들을 각각 출력하세요."
   ]
  },
  {
   "cell_type": "code",
   "execution_count": 24,
   "metadata": {
    "colab": {
     "base_uri": "https://localhost:8080/",
     "height": 68
    },
    "colab_type": "code",
    "executionInfo": {
     "elapsed": 949,
     "status": "ok",
     "timestamp": 1567579907912,
     "user": {
      "displayName": "Sung Hak Lim",
      "photoUrl": "https://lh3.googleusercontent.com/a-/AAuE7mCAsIrkT7qHVbLE2qbnDRuLFImyiwklV4EiB94wNA=s64",
      "userId": "05716500249544805974"
     },
     "user_tz": -540
    },
    "id": "IeoTdtU8qp72",
    "outputId": "f21bf535-6821-4dd2-9dc3-11bf365c481d"
   },
   "outputs": [
    {
     "name": "stdout",
     "output_type": "stream",
     "text": [
      "철수\n",
      "명수\n",
      "민수\n"
     ]
    }
   ],
   "source": [
    "a = ['철수', '명수', '민수']\n",
    "for i in a:\n",
    "    print(i)"
   ]
  },
  {
   "cell_type": "markdown",
   "metadata": {
    "colab_type": "text",
    "id": "AN7J2dBoqxoY"
   },
   "source": [
    "### 02.리스트가 다음과 같이 주어질 때,\n",
    "### for문을 이용하여 합격 통보 프로그램을 만드세요.\n",
    "### (70점 초과자만 합격)"
   ]
  },
  {
   "cell_type": "code",
   "execution_count": 29,
   "metadata": {
    "colab": {
     "base_uri": "https://localhost:8080/",
     "height": 102
    },
    "colab_type": "code",
    "executionInfo": {
     "elapsed": 806,
     "status": "ok",
     "timestamp": 1567580253586,
     "user": {
      "displayName": "Sung Hak Lim",
      "photoUrl": "https://lh3.googleusercontent.com/a-/AAuE7mCAsIrkT7qHVbLE2qbnDRuLFImyiwklV4EiB94wNA=s64",
      "userId": "05716500249544805974"
     },
     "user_tz": -540
    },
    "id": "4LAs0Ys3qxhY",
    "outputId": "b76fce4f-d6d4-4c9a-f1f8-d6a600512188"
   },
   "outputs": [
    {
     "name": "stdout",
     "output_type": "stream",
     "text": [
      "1번 학생은 불합격입니다.\n",
      "2번 학생은 합격입니다.\n",
      "3번 학생은 합격입니다.\n",
      "4번 학생은 불합격입니다.\n",
      "5번 학생은 불합격입니다.\n"
     ]
    }
   ],
   "source": [
    "a = [60, 90, 80, 55, 59]\n",
    "\n",
    "num = 0\n",
    "for i in a:\n",
    "    num += 1\n",
    "    if i > 70:\n",
    "        print('{}번 학생은 합격입니다.'.format(num))\n",
    "    else:\n",
    "        print('{}번 학생은 불합격입니다.'.format(num))\n"
   ]
  },
  {
   "cell_type": "markdown",
   "metadata": {
    "colab_type": "text",
    "id": "qc2F6iTCqxct"
   },
   "source": [
    "### 03.리스트가 다음과 같이 주어질 때, \n",
    "### for문과 enumerate함수를 이용해서 예시와 같이 출력하세요.\n",
    "<pre>\n",
    "예시:\n",
    "1번 학생은 반장입니다.\n",
    "2번 학생은 부반장입니다.\n",
    "3번 학생은 서기장입니다."
   ]
  },
  {
   "cell_type": "code",
   "execution_count": 27,
   "metadata": {
    "colab": {
     "base_uri": "https://localhost:8080/",
     "height": 68
    },
    "colab_type": "code",
    "executionInfo": {
     "elapsed": 806,
     "status": "ok",
     "timestamp": 1567580600766,
     "user": {
      "displayName": "Sung Hak Lim",
      "photoUrl": "https://lh3.googleusercontent.com/a-/AAuE7mCAsIrkT7qHVbLE2qbnDRuLFImyiwklV4EiB94wNA=s64",
      "userId": "05716500249544805974"
     },
     "user_tz": -540
    },
    "id": "riLkzKLjqxZF",
    "outputId": "1a223ba1-b56a-4d9e-ad07-e2535596562b"
   },
   "outputs": [
    {
     "name": "stdout",
     "output_type": "stream",
     "text": [
      "1번 학생은 반장입니다.\n",
      "2번 학생은 부반장입니다.\n",
      "3번 학생은 서기장입니다.\n"
     ]
    }
   ],
   "source": [
    "a = ['반장', '부반장', '서기장']\n",
    "for i, j in enumerate(a):\n",
    "    print('{}번 학생은 {}입니다.'.format(i+1,j))"
   ]
  },
  {
   "cell_type": "markdown",
   "metadata": {
    "colab_type": "text",
    "id": "bx5WCjxZqxVp"
   },
   "source": [
    "### 04.리스트가 다음과 같이 주어질 때,\n",
    "### for문과 enumerate함수를 이용해서 합격통보 프로그램을 만드세요.\n",
    "### (70점 초과자만 합격)"
   ]
  },
  {
   "cell_type": "code",
   "execution_count": 30,
   "metadata": {
    "colab": {
     "base_uri": "https://localhost:8080/",
     "height": 102
    },
    "colab_type": "code",
    "executionInfo": {
     "elapsed": 751,
     "status": "ok",
     "timestamp": 1567582460148,
     "user": {
      "displayName": "Sung Hak Lim",
      "photoUrl": "https://lh3.googleusercontent.com/a-/AAuE7mCAsIrkT7qHVbLE2qbnDRuLFImyiwklV4EiB94wNA=s64",
      "userId": "05716500249544805974"
     },
     "user_tz": -540
    },
    "id": "5_R5tfIPqxS3",
    "outputId": "005ef20a-b3ef-4206-93b8-7e4ce32f2f07"
   },
   "outputs": [
    {
     "name": "stdout",
     "output_type": "stream",
     "text": [
      "1번 학생은 불합격입니다.\n",
      "2번 학생은 합격입니다.\n",
      "3번 학생은 불합격입니다.\n",
      "4번 학생은 합격입니다.\n",
      "5번 학생은 합격입니다.\n"
     ]
    }
   ],
   "source": [
    "list1 = [70, 90, 50, 80, 100]\n",
    "for i, j in enumerate(list1):\n",
    "    if j > 70:\n",
    "        print('{}번 학생은 합격입니다.'.format(i+1))\n",
    "    else:\n",
    "        print('{}번 학생은 불합격입니다.'.format(i+1))"
   ]
  },
  {
   "cell_type": "markdown",
   "metadata": {
    "colab_type": "text",
    "id": "GnFx_IfIqxQn"
   },
   "source": [
    "### 05.리스트가 다음과 같이 주어질 때,\n",
    "### continue를 이용하여 합격자만 출력되는 합격통보기를 만드세요.\n",
    "### (70점 초과자만 합격)"
   ]
  },
  {
   "cell_type": "code",
   "execution_count": 31,
   "metadata": {
    "colab": {
     "base_uri": "https://localhost:8080/",
     "height": 68
    },
    "colab_type": "code",
    "executionInfo": {
     "elapsed": 860,
     "status": "ok",
     "timestamp": 1567585962843,
     "user": {
      "displayName": "Sung Hak Lim",
      "photoUrl": "https://lh3.googleusercontent.com/a-/AAuE7mCAsIrkT7qHVbLE2qbnDRuLFImyiwklV4EiB94wNA=s64",
      "userId": "05716500249544805974"
     },
     "user_tz": -540
    },
    "id": "BktQfN99qxOt",
    "outputId": "de35b421-727d-416a-b167-06c1ec5ff391"
   },
   "outputs": [
    {
     "name": "stdout",
     "output_type": "stream",
     "text": [
      "2번 학생은 합격입니다.\n",
      "3번 학생은 합격입니다.\n",
      "4번 학생은 합격입니다.\n"
     ]
    }
   ],
   "source": [
    "list2 = [40, 60, 80, 90, 70]\n",
    "for i, j in enumerate(list2):\n",
    "    if j < 70:\n",
    "        continue\n",
    "    print('{}번 학생은 합격입니다.'.format(i))"
   ]
  },
  {
   "cell_type": "markdown",
   "metadata": {
    "colab_type": "text",
    "id": "Z7_r95gQqxMp"
   },
   "source": [
    "### 06.range함수를 이용하여 1~20까지 담은 리스트를 만드세요."
   ]
  },
  {
   "cell_type": "code",
   "execution_count": 32,
   "metadata": {
    "colab": {
     "base_uri": "https://localhost:8080/",
     "height": 34
    },
    "colab_type": "code",
    "executionInfo": {
     "elapsed": 803,
     "status": "ok",
     "timestamp": 1567586017273,
     "user": {
      "displayName": "Sung Hak Lim",
      "photoUrl": "https://lh3.googleusercontent.com/a-/AAuE7mCAsIrkT7qHVbLE2qbnDRuLFImyiwklV4EiB94wNA=s64",
      "userId": "05716500249544805974"
     },
     "user_tz": -540
    },
    "id": "_bwPy7l3qxK8",
    "outputId": "3cca689b-578d-48c9-b3a6-b51ce97b306d"
   },
   "outputs": [
    {
     "name": "stdout",
     "output_type": "stream",
     "text": [
      "[1, 2, 3, 4, 5, 6, 7, 8, 9, 10, 11, 12, 13, 14, 15, 16, 17, 18, 19, 20]\n"
     ]
    }
   ],
   "source": [
    "list3 = list(range(1,21))\n",
    "print(list3)"
   ]
  },
  {
   "cell_type": "markdown",
   "metadata": {
    "colab_type": "text",
    "id": "tH5hrwroqxIZ"
   },
   "source": [
    "### 07. for문을 이용하여 1부터 15까지의 합을 구하세요."
   ]
  },
  {
   "cell_type": "code",
   "execution_count": 33,
   "metadata": {
    "colab": {
     "base_uri": "https://localhost:8080/",
     "height": 34
    },
    "colab_type": "code",
    "executionInfo": {
     "elapsed": 936,
     "status": "ok",
     "timestamp": 1567586097191,
     "user": {
      "displayName": "Sung Hak Lim",
      "photoUrl": "https://lh3.googleusercontent.com/a-/AAuE7mCAsIrkT7qHVbLE2qbnDRuLFImyiwklV4EiB94wNA=s64",
      "userId": "05716500249544805974"
     },
     "user_tz": -540
    },
    "id": "Mf6iZpgwqxF7",
    "outputId": "1c65323b-75b1-4a12-ebda-497a1612f18f"
   },
   "outputs": [
    {
     "name": "stdout",
     "output_type": "stream",
     "text": [
      "120\n"
     ]
    }
   ],
   "source": [
    "result = 0\n",
    "for i in range(1,16):\n",
    "    result += i\n",
    "  \n",
    "print(result)"
   ]
  },
  {
   "cell_type": "markdown",
   "metadata": {
    "colab_type": "text",
    "id": "VeiSjK4VqxDe"
   },
   "source": [
    "### 08. len함수를 이용하면 리스트의 길이를 알 수 있습니다.\n",
    "### len함수와 range함수를 이용하여 다음 리스트의 합격 통보기를 만드세요.\n",
    "### (70점 초과자만 합격)"
   ]
  },
  {
   "cell_type": "code",
   "execution_count": 36,
   "metadata": {
    "colab": {
     "base_uri": "https://localhost:8080/",
     "height": 102
    },
    "colab_type": "code",
    "executionInfo": {
     "elapsed": 872,
     "status": "ok",
     "timestamp": 1567586865157,
     "user": {
      "displayName": "Sung Hak Lim",
      "photoUrl": "https://lh3.googleusercontent.com/a-/AAuE7mCAsIrkT7qHVbLE2qbnDRuLFImyiwklV4EiB94wNA=s64",
      "userId": "05716500249544805974"
     },
     "user_tz": -540
    },
    "id": "njzd6-HIvLkX",
    "outputId": "5b021b37-d6c9-48fc-d226-7dd3e4333b0d"
   },
   "outputs": [
    {
     "name": "stdout",
     "output_type": "stream",
     "text": [
      "2번 학생은 합격입니다.\n",
      "4번 학생은 합격입니다.\n",
      "5번 학생은 합격입니다.\n",
      "7번 학생은 합격입니다.\n",
      "8번 학생은 합격입니다.\n"
     ]
    }
   ],
   "source": [
    "list3 = [65, 80, 50, 90, 100, 70, 85, 90]\n",
    "for i in range(len(list3)):\n",
    "    if list3[i] > 70:\n",
    "        print('{}번 학생은 합격입니다.'.format(i+1))"
   ]
  },
  {
   "cell_type": "markdown",
   "metadata": {
    "colab_type": "text",
    "id": "g7VM76EfvLiF"
   },
   "source": [
    "### 09. 구구단의 3단 부터 7단 까지를 출력하세요."
   ]
  },
  {
   "cell_type": "code",
   "execution_count": 9,
   "metadata": {
    "colab": {
     "base_uri": "https://localhost:8080/",
     "height": 119
    },
    "colab_type": "code",
    "executionInfo": {
     "elapsed": 1341,
     "status": "ok",
     "timestamp": 1567641313411,
     "user": {
      "displayName": "Sung Hak Lim",
      "photoUrl": "https://lh3.googleusercontent.com/a-/AAuE7mCAsIrkT7qHVbLE2qbnDRuLFImyiwklV4EiB94wNA=s64",
      "userId": "05716500249544805974"
     },
     "user_tz": -540
    },
    "id": "8LlXxYY2vLfu",
    "outputId": "d55d9a50-9f72-4095-9697-c884c84692c6"
   },
   "outputs": [
    {
     "name": "stdout",
     "output_type": "stream",
     "text": [
      "24681012141618\n",
      "369121518212427\n",
      "4812162024283236\n",
      "51015202530354045\n",
      "61218243036424854\n",
      "71421283542495663\n"
     ]
    }
   ],
   "source": [
    "for i in range(2, 8):\n",
    "  for j in range(1, 10):\n",
    "    print(i * j, end = \"\") \n",
    "  print()"
   ]
  },
  {
   "cell_type": "markdown",
   "metadata": {
    "colab_type": "text",
    "id": "OaH0i21rvLbc"
   },
   "source": [
    "### 10. for문을 이용해서, 주어진 리스트의 값들에 7을 곱한 새로운 리스트 list1을 만드세요. "
   ]
  },
  {
   "cell_type": "code",
   "execution_count": 10,
   "metadata": {
    "colab": {
     "base_uri": "https://localhost:8080/",
     "height": 34
    },
    "colab_type": "code",
    "executionInfo": {
     "elapsed": 1100,
     "status": "ok",
     "timestamp": 1567641389138,
     "user": {
      "displayName": "Sung Hak Lim",
      "photoUrl": "https://lh3.googleusercontent.com/a-/AAuE7mCAsIrkT7qHVbLE2qbnDRuLFImyiwklV4EiB94wNA=s64",
      "userId": "05716500249544805974"
     },
     "user_tz": -540
    },
    "id": "5vVpO0ZXvLZD",
    "outputId": "b3654e95-8ca9-4e75-c869-bb237bb26346"
   },
   "outputs": [
    {
     "name": "stdout",
     "output_type": "stream",
     "text": [
      "[7, 21, 35, 49]\n"
     ]
    }
   ],
   "source": [
    "z=[1,3,5,7]\n",
    "list1 = [i * 7 for i in z]\n",
    "print(list1)"
   ]
  },
  {
   "cell_type": "markdown",
   "metadata": {
    "colab_type": "text",
    "id": "8usWcFjzvLW3"
   },
   "source": [
    "### 11. 리스트 내포(list comprehension)를 이용해서 10번을 푸세요."
   ]
  },
  {
   "cell_type": "code",
   "execution_count": 11,
   "metadata": {
    "colab": {
     "base_uri": "https://localhost:8080/",
     "height": 34
    },
    "colab_type": "code",
    "executionInfo": {
     "elapsed": 1974,
     "status": "ok",
     "timestamp": 1567641435060,
     "user": {
      "displayName": "Sung Hak Lim",
      "photoUrl": "https://lh3.googleusercontent.com/a-/AAuE7mCAsIrkT7qHVbLE2qbnDRuLFImyiwklV4EiB94wNA=s64",
      "userId": "05716500249544805974"
     },
     "user_tz": -540
    },
    "id": "tT1QO76ZvLUj",
    "outputId": "c9d5b5c8-0c5c-4b1e-afa0-57ae1f621053"
   },
   "outputs": [
    {
     "name": "stdout",
     "output_type": "stream",
     "text": [
      "[7, 21, 35, 49]\n"
     ]
    }
   ],
   "source": [
    "z=[1,3,5,7]\n",
    "list1 = [i * 7 for i in z]\n",
    "print(list1)"
   ]
  },
  {
   "cell_type": "markdown",
   "metadata": {
    "colab_type": "text",
    "id": "L_fnZHt_vLSK"
   },
   "source": [
    "### 12. 다음 리스트에서 홀수에만 2를 곱하여 새로운 리스트 list1을 만드세요."
   ]
  },
  {
   "cell_type": "code",
   "execution_count": 12,
   "metadata": {
    "colab": {
     "base_uri": "https://localhost:8080/",
     "height": 34
    },
    "colab_type": "code",
    "executionInfo": {
     "elapsed": 1116,
     "status": "ok",
     "timestamp": 1567641711544,
     "user": {
      "displayName": "Sung Hak Lim",
      "photoUrl": "https://lh3.googleusercontent.com/a-/AAuE7mCAsIrkT7qHVbLE2qbnDRuLFImyiwklV4EiB94wNA=s64",
      "userId": "05716500249544805974"
     },
     "user_tz": -540
    },
    "id": "uILcJAjDxEIm",
    "outputId": "905fe4ac-663c-4149-a2d1-3cd6f3b268a0"
   },
   "outputs": [
    {
     "name": "stdout",
     "output_type": "stream",
     "text": [
      "[2, 2, 6, 4]\n"
     ]
    }
   ],
   "source": [
    "q=[1,2,3,4]\n",
    "list1 = [i*2 if i%2==1 else i for i in q]\n",
    "print(list1)"
   ]
  },
  {
   "cell_type": "markdown",
   "metadata": {
    "colab_type": "text",
    "id": "XgfJBOsnxEGa"
   },
   "source": [
    "### 13.구구단을 리스트 내포로 출력하세요."
   ]
  },
  {
   "cell_type": "code",
   "execution_count": 13,
   "metadata": {
    "colab": {
     "base_uri": "https://localhost:8080/",
     "height": 54
    },
    "colab_type": "code",
    "executionInfo": {
     "elapsed": 744,
     "status": "ok",
     "timestamp": 1567656273585,
     "user": {
      "displayName": "Sung Hak Lim",
      "photoUrl": "https://lh3.googleusercontent.com/a-/AAuE7mCAsIrkT7qHVbLE2qbnDRuLFImyiwklV4EiB94wNA=s64",
      "userId": "05716500249544805974"
     },
     "user_tz": -540
    },
    "id": "qQ1WvKcsxEEO",
    "outputId": "62ca46d2-d234-459b-da21-90e21a54d892"
   },
   "outputs": [
    {
     "name": "stdout",
     "output_type": "stream",
     "text": [
      "[2, 4, 6, 8, 10, 12, 14, 16, 18, 3, 6, 9, 12, 15, 18, 21, 24, 27, 4, 8, 12, 16, 20, 24, 28, 32, 36, 5, 10, 15, 20, 25, 30, 35, 40, 45, 6, 12, 18, 24, 30, 36, 42, 48, 54, 7, 14, 21, 28, 35, 42, 49, 56, 63, 8, 16, 24, 32, 40, 48, 56, 64, 72, 9, 18, 27, 36, 45, 54, 63, 72, 81]\n"
     ]
    }
   ],
   "source": [
    "result = [i*j for i in range(2,10)\n",
    "         for j in range(1, 10)]\n",
    "print(result)"
   ]
  },
  {
   "cell_type": "markdown",
   "metadata": {
    "colab_type": "text",
    "id": "G6ICsMeBxEB_"
   },
   "source": [
    "### 14.주어진 리스트의 값에서 3의 배수에만 3을 곱해서 새로운 리스트 list4를 만드세요."
   ]
  },
  {
   "cell_type": "code",
   "execution_count": 14,
   "metadata": {
    "colab": {
     "base_uri": "https://localhost:8080/",
     "height": 34
    },
    "colab_type": "code",
    "executionInfo": {
     "elapsed": 931,
     "status": "ok",
     "timestamp": 1567656384138,
     "user": {
      "displayName": "Sung Hak Lim",
      "photoUrl": "https://lh3.googleusercontent.com/a-/AAuE7mCAsIrkT7qHVbLE2qbnDRuLFImyiwklV4EiB94wNA=s64",
      "userId": "05716500249544805974"
     },
     "user_tz": -540
    },
    "id": "WmnGqBpGxD_2",
    "outputId": "bb497ac7-e40d-43a0-cf20-d56d550e5e61"
   },
   "outputs": [
    {
     "name": "stdout",
     "output_type": "stream",
     "text": [
      "[0, 1, 2, 9, 4, 5, 18, 7, 8, 27]\n"
     ]
    }
   ],
   "source": [
    "a = list(range(10))\n",
    "list4 = [i*3 if i%3==0 else i for i in a]\n",
    "print(list4)"
   ]
  },
  {
   "cell_type": "markdown",
   "metadata": {
    "colab_type": "text",
    "id": "Kt-S9mkhxD9p"
   },
   "source": [
    "### 15. 학급의 학생 점수가 다음의 리스트로 주어질 때,\n",
    "### for문을 이용해 학급 평균을 구하세요."
   ]
  },
  {
   "cell_type": "code",
   "execution_count": 15,
   "metadata": {
    "colab": {},
    "colab_type": "code",
    "id": "-KDmJTZmxD6w"
   },
   "outputs": [
    {
     "name": "stdout",
     "output_type": "stream",
     "text": [
      "76.36\n"
     ]
    }
   ],
   "source": [
    "a = [80, 90, 70, 60, 80, 85, 95, 100, 40, 65, 75]\n",
    "\n",
    "sum = 0\n",
    "for i in a:\n",
    "    sum += i\n",
    "    num = int(len(a))\n",
    "average = sum / num\n",
    "print('%0.2f' %average)"
   ]
  },
  {
   "cell_type": "markdown",
   "metadata": {
    "colab_type": "text",
    "id": "zHNM-ifhxD2u"
   },
   "source": [
    "### 16.2~50까지 더한 값을 구하세요."
   ]
  },
  {
   "cell_type": "code",
   "execution_count": 16,
   "metadata": {
    "colab": {},
    "colab_type": "code",
    "id": "yhvUYfHrz6ox"
   },
   "outputs": [
    {
     "name": "stdout",
     "output_type": "stream",
     "text": [
      "1274\n"
     ]
    }
   ],
   "source": [
    "sum = 0\n",
    "for i in range(2, 51):\n",
    "    sum += i\n",
    "print(sum)"
   ]
  },
  {
   "cell_type": "markdown",
   "metadata": {
    "colab_type": "text",
    "id": "Z7lRjEwSz6mv"
   },
   "source": [
    "### 17. 1~100까지 수를 출력하되, 5의 배수에서는 '5의 배수'가 출력되게 하세요."
   ]
  },
  {
   "cell_type": "code",
   "execution_count": 17,
   "metadata": {
    "colab": {},
    "colab_type": "code",
    "id": "quGD_9oyz6kz"
   },
   "outputs": [
    {
     "name": "stdout",
     "output_type": "stream",
     "text": [
      "[1, 2, 3, 4, '5의 배수', 6, 7, 8, 9, '5의 배수', 11, 12, 13, 14, '5의 배수', 16, 17, 18, 19, '5의 배수', 21, 22, 23, 24, '5의 배수', 26, 27, 28, 29, '5의 배수', 31, 32, 33, 34, '5의 배수', 36, 37, 38, 39, '5의 배수', 41, 42, 43, 44, '5의 배수', 46, 47, 48, 49, '5의 배수', 51, 52, 53, 54, '5의 배수', 56, 57, 58, 59, '5의 배수', 61, 62, 63, 64, '5의 배수', 66, 67, 68, 69, '5의 배수', 71, 72, 73, 74, '5의 배수', 76, 77, 78, 79, '5의 배수', 81, 82, 83, 84, '5의 배수', 86, 87, 88, 89, '5의 배수', 91, 92, 93, 94, '5의 배수', 96, 97, 98, 99, '5의 배수']\n"
     ]
    }
   ],
   "source": [
    "list_5 = ['5의 배수' if i%5==0 else i for i in range(1, 101)]\n",
    "print(list_5)"
   ]
  },
  {
   "cell_type": "markdown",
   "metadata": {
    "colab_type": "text",
    "id": "RAUWcek-z6if"
   },
   "source": [
    "### 18. 3~52까지의 숫자를 출력하되 3의 배수에서는 'Fizz'가, 4의 배수에서는 'Buzz'가, 공배수에서는 'FizzBuzz'가 출력되게 하세요. "
   ]
  },
  {
   "cell_type": "code",
   "execution_count": 18,
   "metadata": {
    "colab": {},
    "colab_type": "code",
    "id": "2H60VWfTz6gd"
   },
   "outputs": [
    {
     "name": "stdout",
     "output_type": "stream",
     "text": [
      "['Fizz', 'Buzz', 5, 'Fizz', 7, 'Buzz', 'Fizz', 10, 11, 'FizzBuzz', 13, 14, 'Fizz', 'Buzz', 17, 'Fizz', 19, 'Buzz', 'Fizz', 22, 23, 'FizzBuzz', 25, 26, 'Fizz', 'Buzz', 29, 'Fizz', 31, 'Buzz', 'Fizz', 34, 35, 'FizzBuzz', 37, 38, 'Fizz', 'Buzz', 41, 'Fizz', 43, 'Buzz', 'Fizz', 46, 47, 'FizzBuzz', 49, 50, 'Fizz', 'Buzz']\n"
     ]
    }
   ],
   "source": [
    "FizzBuzz = ['Fizz' * (not i%3) + 'Buzz' * (not i%4) or i for i in range(3, 53)]\n",
    "print(FizzBuzz)"
   ]
  },
  {
   "cell_type": "markdown",
   "metadata": {
    "colab_type": "text",
    "id": "bo2a4QKXz6eA"
   },
   "source": [
    "### 19. 다음 튜플을 for 문을 이용해서 리스트 list1으로 만드세요."
   ]
  },
  {
   "cell_type": "code",
   "execution_count": 19,
   "metadata": {
    "colab": {},
    "colab_type": "code",
    "id": "7y7wldHLz6cH"
   },
   "outputs": [
    {
     "name": "stdout",
     "output_type": "stream",
     "text": [
      "[2, 4, 6, 8, 10]\n"
     ]
    }
   ],
   "source": [
    "z=(2,4,6,8,10)\n",
    "list1 = []\n",
    "for i in z:\n",
    "    list1.append(i)\n",
    "print(list1)"
   ]
  },
  {
   "cell_type": "markdown",
   "metadata": {
    "colab_type": "text",
    "id": "jeG5FP7hvLP2"
   },
   "source": [
    "### 20. 다음 딕셔너리에서 키 값만 출력하세요."
   ]
  },
  {
   "cell_type": "code",
   "execution_count": 20,
   "metadata": {
    "colab": {},
    "colab_type": "code",
    "id": "YcrDa-zA1kJ-"
   },
   "outputs": [
    {
     "name": "stdout",
     "output_type": "stream",
     "text": [
      "dict_keys(['철수', '용민', '민호', '정훈'])\n"
     ]
    }
   ],
   "source": [
    "dict = {'철수':2, '용민':4, '민호':8, '정훈':2}\n",
    "print(dict.keys())"
   ]
  },
  {
   "cell_type": "markdown",
   "metadata": {
    "colab_type": "text",
    "id": "G2XY3MDg1kH2"
   },
   "source": [
    "### 21. 다음 딕셔너리에서 value 값만 출력하세요."
   ]
  },
  {
   "cell_type": "code",
   "execution_count": 21,
   "metadata": {
    "colab": {},
    "colab_type": "code",
    "id": "3T1wo8Vm1kEA"
   },
   "outputs": [
    {
     "name": "stdout",
     "output_type": "stream",
     "text": [
      "dict_values([2, 4, 8, 2])\n"
     ]
    }
   ],
   "source": [
    "dict = {'철수':2, '용민':4, '민호':8, '정훈':2}\n",
    "print(dict.values())"
   ]
  },
  {
   "cell_type": "markdown",
   "metadata": {
    "colab_type": "text",
    "id": "Nql8k5sD1kCJ"
   },
   "source": [
    "### 22.다음 딕셔너리에서 key값과 value값을 같이 출력하세요."
   ]
  },
  {
   "cell_type": "code",
   "execution_count": 22,
   "metadata": {
    "colab": {},
    "colab_type": "code",
    "id": "Z_4C2J_O1kAH"
   },
   "outputs": [
    {
     "name": "stdout",
     "output_type": "stream",
     "text": [
      "dict_items([('철수', 2), ('용민', 4), ('민호', 8), ('정훈', 2)])\n"
     ]
    }
   ],
   "source": [
    "dict = {'철수':2, '용민':4, '민호':8, '정훈':2}\n",
    "print(dict.items())"
   ]
  },
  {
   "cell_type": "code",
   "execution_count": null,
   "metadata": {},
   "outputs": [],
   "source": []
  }
 ],
 "metadata": {
  "colab": {
   "collapsed_sections": [],
   "name": "임성학_for문_예제문제.ipynb",
   "provenance": [],
   "version": "0.3.2"
  },
  "kernelspec": {
   "display_name": "Python 3",
   "language": "python",
   "name": "python3"
  },
  "language_info": {
   "codemirror_mode": {
    "name": "ipython",
    "version": 3
   },
   "file_extension": ".py",
   "mimetype": "text/x-python",
   "name": "python",
   "nbconvert_exporter": "python",
   "pygments_lexer": "ipython3",
   "version": "3.7.4"
  }
 },
 "nbformat": 4,
 "nbformat_minor": 4
}
