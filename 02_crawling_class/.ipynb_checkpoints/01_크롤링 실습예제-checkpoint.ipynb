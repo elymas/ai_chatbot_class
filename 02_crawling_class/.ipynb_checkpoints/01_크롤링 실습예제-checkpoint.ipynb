{
 "cells": [
  {
   "cell_type": "markdown",
   "metadata": {
    "colab_type": "text",
    "id": "GOJZt08XPugi"
   },
   "source": [
    "## 1. 필요 라이브러리 설치\n",
    "###request : html을 요청하는 함수를 가진 라이브러리\n",
    "###bs4 : html을 파이썬에서 분석가능하게 만드는 라이브러리"
   ]
  },
  {
   "cell_type": "code",
   "execution_count": null,
   "metadata": {
    "colab": {
     "base_uri": "https://localhost:8080/",
     "height": 102
    },
    "colab_type": "code",
    "executionInfo": {
     "elapsed": 7444,
     "status": "ok",
     "timestamp": 1567667757121,
     "user": {
      "displayName": "Sung Hak Lim",
      "photoUrl": "https://lh3.googleusercontent.com/a-/AAuE7mCAsIrkT7qHVbLE2qbnDRuLFImyiwklV4EiB94wNA=s64",
      "userId": "05716500249544805974"
     },
     "user_tz": -540
    },
    "id": "yItjpDYMRlxd",
    "outputId": "2446f350-1137-49ed-d075-882533e62c19"
   },
   "outputs": [
    {
     "name": "stdout",
     "output_type": "stream",
     "text": [
      "Requirement already satisfied: requests in /usr/local/lib/python3.6/dist-packages (2.21.0)\n",
      "Requirement already satisfied: certifi>=2017.4.17 in /usr/local/lib/python3.6/dist-packages (from requests) (2019.6.16)\n",
      "Requirement already satisfied: idna<2.9,>=2.5 in /usr/local/lib/python3.6/dist-packages (from requests) (2.8)\n",
      "Requirement already satisfied: chardet<3.1.0,>=3.0.2 in /usr/local/lib/python3.6/dist-packages (from requests) (3.0.4)\n",
      "Requirement already satisfied: urllib3<1.25,>=1.21.1 in /usr/local/lib/python3.6/dist-packages (from requests) (1.24.3)\n"
     ]
    }
   ],
   "source": [
    "# requests 설치\n",
    "!pip install requests"
   ]
  },
  {
   "cell_type": "code",
   "execution_count": null,
   "metadata": {
    "colab": {
     "base_uri": "https://localhost:8080/",
     "height": 51
    },
    "colab_type": "code",
    "executionInfo": {
     "elapsed": 3975,
     "status": "ok",
     "timestamp": 1567667778167,
     "user": {
      "displayName": "Sung Hak Lim",
      "photoUrl": "https://lh3.googleusercontent.com/a-/AAuE7mCAsIrkT7qHVbLE2qbnDRuLFImyiwklV4EiB94wNA=s64",
      "userId": "05716500249544805974"
     },
     "user_tz": -540
    },
    "id": "Rg8p1ePWR1OI",
    "outputId": "6d4830db-0bfc-421d-8adb-1f96d34c492d"
   },
   "outputs": [
    {
     "name": "stdout",
     "output_type": "stream",
     "text": [
      "Requirement already satisfied: bs4 in /usr/local/lib/python3.6/dist-packages (0.0.1)\n",
      "Requirement already satisfied: beautifulsoup4 in /usr/local/lib/python3.6/dist-packages (from bs4) (4.6.3)\n"
     ]
    }
   ],
   "source": [
    "# bs4 설치\n",
    "!pip install bs4"
   ]
  },
  {
   "cell_type": "markdown",
   "metadata": {
    "colab_type": "text",
    "id": "jnes__uaSY0D"
   },
   "source": [
    "## 2. 라이브러리 불러오기\n",
    "### import 라이브러리명"
   ]
  },
  {
   "cell_type": "code",
   "execution_count": null,
   "metadata": {
    "colab": {},
    "colab_type": "code",
    "id": "EJsxEjIGR-K1"
   },
   "outputs": [],
   "source": [
    "# 라이브러리 불러오기\n",
    "import requests as req   # requests를 불러오되, req라고 사용하겠다.\n",
    "from bs4 import BeautifulSoup  # bs4라는 라이브러리로 부터 BeautifulSoup함수를 쓰겠다."
   ]
  },
  {
   "cell_type": "markdown",
   "metadata": {
    "colab_type": "text",
    "id": "qxBrKLJ2gwYJ"
   },
   "source": [
    "##3. 실습 예제(네이버금융 국내증시 실시간차트)"
   ]
  },
  {
   "cell_type": "code",
   "execution_count": null,
   "metadata": {
    "colab": {},
    "colab_type": "code",
    "id": "rdOuQ8uETIWC"
   },
   "outputs": [],
   "source": [
    "url = 'https://finance.naver.com/sise/'\n",
    "res = req.get(url)\n",
    "html = res.text\n",
    "\n",
    "soup = BeautifulSoup(html, 'html.parser')"
   ]
  },
  {
   "cell_type": "code",
   "execution_count": null,
   "metadata": {
    "colab": {
     "base_uri": "https://localhost:8080/",
     "height": 34
    },
    "colab_type": "code",
    "executionInfo": {
     "elapsed": 800,
     "status": "ok",
     "timestamp": 1567670890612,
     "user": {
      "displayName": "Sung Hak Lim",
      "photoUrl": "https://lh3.googleusercontent.com/a-/AAuE7mCAsIrkT7qHVbLE2qbnDRuLFImyiwklV4EiB94wNA=s64",
      "userId": "05716500249544805974"
     },
     "user_tz": -540
    },
    "id": "ZisXtsJwUXM1",
    "outputId": "5e11e660-58d7-4a6a-bb5f-bb5aab5b6332"
   },
   "outputs": [
    {
     "name": "stdout",
     "output_type": "stream",
     "text": [
      "<a href=\"/item/main.nhn?code=078130\" onclick=\"clickcr(this,'boa.list','078130','1',event)\">국일제지</a>\n"
     ]
    }
   ],
   "source": [
    "s1 = soup.find('a', {'href':'/item/main.nhn?code=078130'})\n",
    "print(s1)"
   ]
  },
  {
   "cell_type": "code",
   "execution_count": null,
   "metadata": {
    "colab": {
     "base_uri": "https://localhost:8080/",
     "height": 34
    },
    "colab_type": "code",
    "executionInfo": {
     "elapsed": 760,
     "status": "ok",
     "timestamp": 1567670934711,
     "user": {
      "displayName": "Sung Hak Lim",
      "photoUrl": "https://lh3.googleusercontent.com/a-/AAuE7mCAsIrkT7qHVbLE2qbnDRuLFImyiwklV4EiB94wNA=s64",
      "userId": "05716500249544805974"
     },
     "user_tz": -540
    },
    "id": "mgbXIbDIVTBN",
    "outputId": "2f27171f-d955-4574-9e71-c49596d10b0f"
   },
   "outputs": [
    {
     "name": "stdout",
     "output_type": "stream",
     "text": [
      "국일제지\n"
     ]
    }
   ],
   "source": [
    "print(s1.get_text())"
   ]
  },
  {
   "cell_type": "code",
   "execution_count": null,
   "metadata": {
    "colab": {
     "base_uri": "https://localhost:8080/",
     "height": 241
    },
    "colab_type": "code",
    "executionInfo": {
     "elapsed": 860,
     "status": "ok",
     "timestamp": 1567671326731,
     "user": {
      "displayName": "Sung Hak Lim",
      "photoUrl": "https://lh3.googleusercontent.com/a-/AAuE7mCAsIrkT7qHVbLE2qbnDRuLFImyiwklV4EiB94wNA=s64",
      "userId": "05716500249544805974"
     },
     "user_tz": -540
    },
    "id": "gKxx0CDqaVsC",
    "outputId": "b7d63b14-623e-42bc-b58e-0ab6f6830e32"
   },
   "outputs": [
    {
     "name": "stdout",
     "output_type": "stream",
     "text": [
      "<ul class=\"lst_pop\" id=\"popularItemList\">\n",
      "<li><em>1.</em><a href=\"/item/main.nhn?code=078130\" onclick=\"clickcr(this,'boa.list','078130','1',event)\">국일제지</a><span class=\"up\">5,860</span><em class=\"bu_p bu_pup\"><span class=\"blind\">상승</span></em></li>\n",
      "<li><em>2.</em><a href=\"/item/main.nhn?code=005930\" onclick=\"clickcr(this,'boa.list','005930','2',event)\">삼성전자</a><span class=\"up\">45,700</span><em class=\"bu_p bu_pup\"><span class=\"blind\">상승</span></em></li>\n",
      "<li><em>3.</em><a href=\"/item/main.nhn?code=032500\" onclick=\"clickcr(this,'boa.list','032500','3',event)\">케이엠더블유</a><span class=\"dn\">71,700</span><em class=\"bu_p bu_pdn\"><span class=\"blind\">하락</span></em></li>\n",
      "<li><em>4.</em><a href=\"/item/main.nhn?code=002140\" onclick=\"clickcr(this,'boa.list','002140','4',event)\">고려산업</a><span class=\"up\">4,340</span><em class=\"bu_p bu_pup2\"><span class=\"blind\">상한가</span></em></li>\n",
      "<li><em>5.</em><a href=\"/item/main.nhn?code=010660\" onclick=\"clickcr(this,'boa.list','010660','5',event)\">화천기계</a><span class=\"up\">5,900</span><em class=\"bu_p bu_pup\"><span class=\"blind\">상승</span></em></li>\n",
      "<li><em>6.</em><a href=\"/item/main.nhn?code=000660\" onclick=\"clickcr(this,'boa.list','000660','6',event)\">SK하이닉스</a><span class=\"up\">83,000</span><em class=\"bu_p bu_pup\"><span class=\"blind\">상승</span></em></li>\n",
      "<li><em>7.</em><a href=\"/item/main.nhn?code=009150\" onclick=\"clickcr(this,'boa.list','009150','7',event)\">삼성전기</a><span class=\"up\">98,200</span><em class=\"bu_p bu_pup\"><span class=\"blind\">상승</span></em></li>\n",
      "<li><em>8.</em><a href=\"/item/main.nhn?code=068270\" onclick=\"clickcr(this,'boa.list','068270','8',event)\">셀트리온</a><span class=\"dn\">164,000</span><em class=\"bu_p bu_pdn\"><span class=\"blind\">하락</span></em></li>\n",
      "<li><em>9.</em><a href=\"/item/main.nhn?code=001470\" onclick=\"clickcr(this,'boa.list','001470','9',event)\">삼부토건</a><span class=\"up\">893</span><em class=\"bu_p bu_pup2\"><span class=\"blind\">상한가</span></em></li>\n",
      "<li><em>10.</em><a href=\"/item/main.nhn?code=020560\" onclick=\"clickcr(this,'boa.list','020560','10',event)\">아시아나항공</a><span class=\"up\">5,410</span><em class=\"bu_p bu_pup\"><span class=\"blind\">상승</span></em></li>\n",
      "</ul>\n"
     ]
    }
   ],
   "source": [
    "s2 = soup.find('ul', {'class':'lst_pop'})\n",
    "print(s2)"
   ]
  },
  {
   "cell_type": "code",
   "execution_count": null,
   "metadata": {
    "colab": {
     "base_uri": "https://localhost:8080/",
     "height": 54
    },
    "colab_type": "code",
    "executionInfo": {
     "elapsed": 1680,
     "status": "ok",
     "timestamp": 1567671330111,
     "user": {
      "displayName": "Sung Hak Lim",
      "photoUrl": "https://lh3.googleusercontent.com/a-/AAuE7mCAsIrkT7qHVbLE2qbnDRuLFImyiwklV4EiB94wNA=s64",
      "userId": "05716500249544805974"
     },
     "user_tz": -540
    },
    "id": "GlOCP0E5efXs",
    "outputId": "d7aad3c0-b4d5-45fb-f321-cd8fed5af36a"
   },
   "outputs": [
    {
     "name": "stdout",
     "output_type": "stream",
     "text": [
      "[<li><em>1.</em><a href=\"/item/main.nhn?code=078130\" onclick=\"clickcr(this,'boa.list','078130','1',event)\">국일제지</a><span class=\"up\">5,860</span><em class=\"bu_p bu_pup\"><span class=\"blind\">상승</span></em></li>, <li><em>2.</em><a href=\"/item/main.nhn?code=005930\" onclick=\"clickcr(this,'boa.list','005930','2',event)\">삼성전자</a><span class=\"up\">45,700</span><em class=\"bu_p bu_pup\"><span class=\"blind\">상승</span></em></li>, <li><em>3.</em><a href=\"/item/main.nhn?code=032500\" onclick=\"clickcr(this,'boa.list','032500','3',event)\">케이엠더블유</a><span class=\"dn\">71,700</span><em class=\"bu_p bu_pdn\"><span class=\"blind\">하락</span></em></li>, <li><em>4.</em><a href=\"/item/main.nhn?code=002140\" onclick=\"clickcr(this,'boa.list','002140','4',event)\">고려산업</a><span class=\"up\">4,340</span><em class=\"bu_p bu_pup2\"><span class=\"blind\">상한가</span></em></li>, <li><em>5.</em><a href=\"/item/main.nhn?code=010660\" onclick=\"clickcr(this,'boa.list','010660','5',event)\">화천기계</a><span class=\"up\">5,900</span><em class=\"bu_p bu_pup\"><span class=\"blind\">상승</span></em></li>, <li><em>6.</em><a href=\"/item/main.nhn?code=000660\" onclick=\"clickcr(this,'boa.list','000660','6',event)\">SK하이닉스</a><span class=\"up\">83,000</span><em class=\"bu_p bu_pup\"><span class=\"blind\">상승</span></em></li>, <li><em>7.</em><a href=\"/item/main.nhn?code=009150\" onclick=\"clickcr(this,'boa.list','009150','7',event)\">삼성전기</a><span class=\"up\">98,200</span><em class=\"bu_p bu_pup\"><span class=\"blind\">상승</span></em></li>, <li><em>8.</em><a href=\"/item/main.nhn?code=068270\" onclick=\"clickcr(this,'boa.list','068270','8',event)\">셀트리온</a><span class=\"dn\">164,000</span><em class=\"bu_p bu_pdn\"><span class=\"blind\">하락</span></em></li>, <li><em>9.</em><a href=\"/item/main.nhn?code=001470\" onclick=\"clickcr(this,'boa.list','001470','9',event)\">삼부토건</a><span class=\"up\">893</span><em class=\"bu_p bu_pup2\"><span class=\"blind\">상한가</span></em></li>, <li><em>10.</em><a href=\"/item/main.nhn?code=020560\" onclick=\"clickcr(this,'boa.list','020560','10',event)\">아시아나항공</a><span class=\"up\">5,410</span><em class=\"bu_p bu_pup\"><span class=\"blind\">상승</span></em></li>]\n"
     ]
    }
   ],
   "source": [
    "s3 = s2.find_all('li')\n",
    "print(s3)"
   ]
  },
  {
   "cell_type": "code",
   "execution_count": null,
   "metadata": {
    "colab": {
     "base_uri": "https://localhost:8080/",
     "height": 187
    },
    "colab_type": "code",
    "executionInfo": {
     "elapsed": 901,
     "status": "ok",
     "timestamp": 1567671499281,
     "user": {
      "displayName": "Sung Hak Lim",
      "photoUrl": "https://lh3.googleusercontent.com/a-/AAuE7mCAsIrkT7qHVbLE2qbnDRuLFImyiwklV4EiB94wNA=s64",
      "userId": "05716500249544805974"
     },
     "user_tz": -540
    },
    "id": "lN2H4HB8fbh9",
    "outputId": "75f7971d-d45b-4bda-9510-0288044c526b"
   },
   "outputs": [
    {
     "name": "stdout",
     "output_type": "stream",
     "text": [
      "국일제지\n",
      "삼성전자\n",
      "케이엠더블유\n",
      "고려산업\n",
      "화천기계\n",
      "SK하이닉스\n",
      "삼성전기\n",
      "셀트리온\n",
      "삼부토건\n",
      "아시아나항공\n"
     ]
    }
   ],
   "source": [
    "for i in s3:\n",
    "  s4 = i.find('a').text\n",
    "  print(s4)"
   ]
  },
  {
   "cell_type": "markdown",
   "metadata": {
    "colab_type": "text",
    "id": "FSBvz-B9nPxN"
   },
   "source": [
    "##4. 실습 예제(네이버 실시간 랭킹 20)"
   ]
  },
  {
   "cell_type": "code",
   "execution_count": null,
   "metadata": {
    "colab": {},
    "colab_type": "code",
    "id": "euPfm-dJgPu3"
   },
   "outputs": [],
   "source": [
    "url = 'https://naver.com'\n",
    "res = req.get(url)\n",
    "html = res.text\n",
    "\n",
    "soup = BeautifulSoup(html, 'html.parser')"
   ]
  },
  {
   "cell_type": "code",
   "execution_count": 37,
   "metadata": {
    "colab": {
     "base_uri": "https://localhost:8080/",
     "height": 1000
    },
    "colab_type": "code",
    "executionInfo": {
     "elapsed": 837,
     "status": "ok",
     "timestamp": 1567673475182,
     "user": {
      "displayName": "Sung Hak Lim",
      "photoUrl": "https://lh3.googleusercontent.com/a-/AAuE7mCAsIrkT7qHVbLE2qbnDRuLFImyiwklV4EiB94wNA=s64",
      "userId": "05716500249544805974"
     },
     "user_tz": -540
    },
    "id": "hXUkuIHlnfTt",
    "outputId": "215fdf5d-edf7-42cb-d163-36d2a900c318"
   },
   "outputs": [
    {
     "name": "stdout",
     "output_type": "stream",
     "text": [
      "<ul class=\"ah_l\">\n",
      "<li class=\"ah_item\">\n",
      "<a class=\"ah_a\" data-clk=\"lve.keyword\" href=\"#\">\n",
      "<span class=\"ah_r\">1</span>\n",
      "<span class=\"ah_k\">뮬라웨어 쓰리패스</span>\n",
      "</a>\n",
      "</li>\n",
      "<li class=\"ah_item\">\n",
      "<a class=\"ah_a\" data-clk=\"lve.keyword\" href=\"#\">\n",
      "<span class=\"ah_r\">2</span>\n",
      "<span class=\"ah_k\">현대카드 이벤트</span>\n",
      "</a>\n",
      "</li>\n",
      "<li class=\"ah_item\">\n",
      "<a class=\"ah_a\" data-clk=\"lve.keyword\" href=\"#\">\n",
      "<span class=\"ah_r\">3</span>\n",
      "<span class=\"ah_k\">네이처컬렉션 세일</span>\n",
      "</a>\n",
      "</li>\n",
      "<li class=\"ah_item\">\n",
      "<a class=\"ah_a\" data-clk=\"lve.keyword\" href=\"#\">\n",
      "<span class=\"ah_r\">4</span>\n",
      "<span class=\"ah_k\">최성해</span>\n",
      "</a>\n",
      "</li>\n",
      "<li class=\"ah_item\">\n",
      "<a class=\"ah_a\" data-clk=\"lve.keyword\" href=\"#\">\n",
      "<span class=\"ah_r\">5</span>\n",
      "<span class=\"ah_k\">한국 조지아</span>\n",
      "</a>\n",
      "</li>\n",
      "<li class=\"ah_item\">\n",
      "<a class=\"ah_a\" data-clk=\"lve.keyword\" href=\"#\">\n",
      "<span class=\"ah_r\">6</span>\n",
      "<span class=\"ah_k\">웨이크메이크 올영세일</span>\n",
      "</a>\n",
      "</li>\n",
      "<li class=\"ah_item\">\n",
      "<a class=\"ah_a\" data-clk=\"lve.keyword\" href=\"#\">\n",
      "<span class=\"ah_r\">7</span>\n",
      "<span class=\"ah_k\">축구</span>\n",
      "</a>\n",
      "</li>\n",
      "<li class=\"ah_item\">\n",
      "<a class=\"ah_a\" data-clk=\"lve.keyword\" href=\"#\">\n",
      "<span class=\"ah_r\">8</span>\n",
      "<span class=\"ah_k\">대한민국 조지아</span>\n",
      "</a>\n",
      "</li>\n",
      "<li class=\"ah_item\">\n",
      "<a class=\"ah_a\" data-clk=\"lve.keyword\" href=\"#\">\n",
      "<span class=\"ah_r\">9</span>\n",
      "<span class=\"ah_k\">조지아</span>\n",
      "</a>\n",
      "</li>\n",
      "<li class=\"ah_item\">\n",
      "<a class=\"ah_a\" data-clk=\"lve.keyword\" href=\"#\">\n",
      "<span class=\"ah_r\">10</span>\n",
      "<span class=\"ah_k\">동양대 총장</span>\n",
      "</a>\n",
      "</li>\n",
      "<li class=\"ah_item\">\n",
      "<a class=\"ah_a\" data-clk=\"lve.keyword\" href=\"#\">\n",
      "<span class=\"ah_r\">11</span>\n",
      "<span class=\"ah_k\">구혜선 안재현 문자</span>\n",
      "</a>\n",
      "</li>\n",
      "<li class=\"ah_item\">\n",
      "<a class=\"ah_a\" data-clk=\"lve.keyword\" href=\"#\">\n",
      "<span class=\"ah_r\">12</span>\n",
      "<span class=\"ah_k\">황교안자녀장관상</span>\n",
      "</a>\n",
      "</li>\n",
      "<li class=\"ah_item\">\n",
      "<a class=\"ah_a\" data-clk=\"lve.keyword\" href=\"#\">\n",
      "<span class=\"ah_r\">13</span>\n",
      "<span class=\"ah_k\">전광렬</span>\n",
      "</a>\n",
      "</li>\n",
      "<li class=\"ah_item\">\n",
      "<a class=\"ah_a\" data-clk=\"lve.keyword\" href=\"#\">\n",
      "<span class=\"ah_r\">14</span>\n",
      "<span class=\"ah_k\">김현성</span>\n",
      "</a>\n",
      "</li>\n",
      "<li class=\"ah_item\">\n",
      "<a class=\"ah_a\" data-clk=\"lve.keyword\" href=\"#\">\n",
      "<span class=\"ah_r\">15</span>\n",
      "<span class=\"ah_k\">김두관</span>\n",
      "</a>\n",
      "</li>\n",
      "<li class=\"ah_item\">\n",
      "<a class=\"ah_a\" data-clk=\"lve.keyword\" href=\"#\">\n",
      "<span class=\"ah_r\">16</span>\n",
      "<span class=\"ah_k\">링링</span>\n",
      "</a>\n",
      "</li>\n",
      "<li class=\"ah_item\">\n",
      "<a class=\"ah_a\" data-clk=\"lve.keyword\" href=\"#\">\n",
      "<span class=\"ah_r\">17</span>\n",
      "<span class=\"ah_k\">인투잇</span>\n",
      "</a>\n",
      "</li>\n",
      "<li class=\"ah_item\">\n",
      "<a class=\"ah_a\" data-clk=\"lve.keyword\" href=\"#\">\n",
      "<span class=\"ah_r\">18</span>\n",
      "<span class=\"ah_k\">한국 국가대표 축구 일정</span>\n",
      "</a>\n",
      "</li>\n",
      "<li class=\"ah_item\">\n",
      "<a class=\"ah_a\" data-clk=\"lve.keyword\" href=\"#\">\n",
      "<span class=\"ah_r\">19</span>\n",
      "<span class=\"ah_k\">13호 태풍 링링</span>\n",
      "</a>\n",
      "</li>\n",
      "<li class=\"ah_item\">\n",
      "<a class=\"ah_a\" data-clk=\"lve.keyword\" href=\"#\">\n",
      "<span class=\"ah_r\">20</span>\n",
      "<span class=\"ah_k\">태풍 링링</span>\n",
      "</a>\n",
      "</li>\n",
      "</ul>\n"
     ]
    }
   ],
   "source": [
    "s1 = soup.find('ul', {'class':'ah_l'})\n",
    "print(s1)"
   ]
  },
  {
   "cell_type": "code",
   "execution_count": 38,
   "metadata": {
    "colab": {
     "base_uri": "https://localhost:8080/",
     "height": 357
    },
    "colab_type": "code",
    "executionInfo": {
     "elapsed": 776,
     "status": "ok",
     "timestamp": 1567673477158,
     "user": {
      "displayName": "Sung Hak Lim",
      "photoUrl": "https://lh3.googleusercontent.com/a-/AAuE7mCAsIrkT7qHVbLE2qbnDRuLFImyiwklV4EiB94wNA=s64",
      "userId": "05716500249544805974"
     },
     "user_tz": -540
    },
    "id": "N6eIFpxhnfPP",
    "outputId": "93d9c36e-a4d5-481f-9a5d-3633e609f156"
   },
   "outputs": [
    {
     "name": "stdout",
     "output_type": "stream",
     "text": [
      "뮬라웨어 쓰리패스\n",
      "현대카드 이벤트\n",
      "네이처컬렉션 세일\n",
      "최성해\n",
      "한국 조지아\n",
      "웨이크메이크 올영세일\n",
      "축구\n",
      "대한민국 조지아\n",
      "조지아\n",
      "동양대 총장\n",
      "구혜선 안재현 문자\n",
      "황교안자녀장관상\n",
      "전광렬\n",
      "김현성\n",
      "김두관\n",
      "링링\n",
      "인투잇\n",
      "한국 국가대표 축구 일정\n",
      "13호 태풍 링링\n",
      "태풍 링링\n"
     ]
    }
   ],
   "source": [
    "s2 = s1.find_all('li')\n",
    "for i in s2:\n",
    "  s3 = i.find('span', {'class':'ah_k'}).text\n",
    "  print(s3)"
   ]
  },
  {
   "cell_type": "code",
   "execution_count": null,
   "metadata": {
    "colab": {},
    "colab_type": "code",
    "id": "UpHOonp3nuTa"
   },
   "outputs": [],
   "source": []
  }
 ],
 "metadata": {
  "colab": {
   "collapsed_sections": [],
   "name": "임성학.ipynb",
   "provenance": [],
   "version": "0.3.2"
  },
  "kernelspec": {
   "display_name": "Python 3",
   "language": "python",
   "name": "python3"
  },
  "language_info": {
   "codemirror_mode": {
    "name": "ipython",
    "version": 3
   },
   "file_extension": ".py",
   "mimetype": "text/x-python",
   "name": "python",
   "nbconvert_exporter": "python",
   "pygments_lexer": "ipython3",
   "version": "3.7.4"
  }
 },
 "nbformat": 4,
 "nbformat_minor": 4
}
