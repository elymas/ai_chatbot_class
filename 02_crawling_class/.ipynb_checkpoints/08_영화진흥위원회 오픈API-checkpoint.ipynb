{
 "cells": [
  {
   "cell_type": "code",
   "execution_count": 1,
   "metadata": {
    "colab": {
     "base_uri": "https://localhost:8080/",
     "height": 105
    },
    "colab_type": "code",
    "executionInfo": {
     "elapsed": 4814,
     "status": "ok",
     "timestamp": 1568008788130,
     "user": {
      "displayName": "Sung Hak Lim",
      "photoUrl": "https://lh3.googleusercontent.com/a-/AAuE7mCAsIrkT7qHVbLE2qbnDRuLFImyiwklV4EiB94wNA=s64",
      "userId": "05716500249544805974"
     },
     "user_tz": -540
    },
    "id": "CPaAaTXambEa",
    "outputId": "37a7c7d7-add2-49af-9be5-d48a408e4668"
   },
   "outputs": [
    {
     "name": "stdout",
     "output_type": "stream",
     "text": [
      "Collecting xmltodict\n",
      "  Downloading https://files.pythonhosted.org/packages/28/fd/30d5c1d3ac29ce229f6bdc40bbc20b28f716e8b363140c26eff19122d8a5/xmltodict-0.12.0-py2.py3-none-any.whl\n",
      "Installing collected packages: xmltodict\n",
      "Successfully installed xmltodict-0.12.0\n"
     ]
    }
   ],
   "source": [
    "# xml을 dict 형태로 저장하는 라이브러리 설치\n",
    "!pip install xmltodict"
   ]
  },
  {
   "cell_type": "code",
   "execution_count": null,
   "metadata": {
    "colab": {},
    "colab_type": "code",
    "id": "w6O-j3JtgX9U"
   },
   "outputs": [],
   "source": [
    "# 필수 라이브러리 불러오기\n",
    "import requests\n",
    "import json\n",
    "import xmltodict"
   ]
  },
  {
   "cell_type": "code",
   "execution_count": null,
   "metadata": {
    "colab": {},
    "colab_type": "code",
    "id": "jhyKfjh0gi8l"
   },
   "outputs": [],
   "source": [
    "# 영화진흥위원회 오픈API 정보 저장 \n",
    "API_KEY = '{본인정보입력}'\n",
    "code_search_url = 'http://www.kobis.or.kr/kobisopenapi/webservice/rest/movie/searchMovieList.json'\n",
    "info_search_url = 'http://www.kobis.or.kr/kobisopenapi/webservice/rest/movie/searchMovieInfo.json'"
   ]
  },
  {
   "cell_type": "code",
   "execution_count": null,
   "metadata": {
    "colab": {},
    "colab_type": "code",
    "id": "qaCzs3jFhH6i"
   },
   "outputs": [],
   "source": [
    "# 영화 제목으로 영화 코드를 불러오는 함수\n",
    "\n",
    "def movie_code_search(movie_name):\n",
    "  \n",
    "  params = {'key':API_KEY, 'movieNm':movie_name}\n",
    "  response = requests.get(code_search_url, params)\n",
    "  movie_info = json.loads(response.text)\n",
    "\n",
    "  with open('./asset/movie_code.json', 'w', encoding='UTF-8') as f:\n",
    "    json.dump(movie_info, f, indent=4, ensure_ascii=False)\n",
    "    \n",
    "  return movie_info['movieListResult']['movieList'][3]['movieCd']"
   ]
  },
  {
   "cell_type": "code",
   "execution_count": 9,
   "metadata": {
    "colab": {
     "base_uri": "https://localhost:8080/",
     "height": 34
    },
    "colab_type": "code",
    "executionInfo": {
     "elapsed": 2032,
     "status": "ok",
     "timestamp": 1568009060684,
     "user": {
      "displayName": "Sung Hak Lim",
      "photoUrl": "https://lh3.googleusercontent.com/a-/AAuE7mCAsIrkT7qHVbLE2qbnDRuLFImyiwklV4EiB94wNA=s64",
      "userId": "05716500249544805974"
     },
     "user_tz": -540
    },
    "id": "0Ipg_qTniL0m",
    "outputId": "3b271c3e-91bc-432b-c4a4-7a8b79b6cc7b"
   },
   "outputs": [
    {
     "name": "stdout",
     "output_type": "stream",
     "text": [
      "20183867\n"
     ]
    }
   ],
   "source": [
    "movie_code = movie_code_search('알라딘')\n",
    "print(movie_code)"
   ]
  },
  {
   "cell_type": "code",
   "execution_count": null,
   "metadata": {
    "colab": {},
    "colab_type": "code",
    "id": "axhz2cMTiQbc"
   },
   "outputs": [],
   "source": [
    "# 영화 코드로 영화 정보를 불러오는 함수\n",
    "\n",
    "def movie_info_search(movie_code):\n",
    "  params = {'key':API_KEY, 'movieCd':movie_code}\n",
    "  response = requests.get(info_search_url, params)\n",
    "  movie_info = json.loads(response.text)\n",
    "  \n",
    "  with open('./asset/movie_info.json', 'w', encoding='UTF-8') as f:\n",
    "    json.dump(movie_info, f, indent=4, ensure_ascii=False)\n",
    "  \n",
    "  return movie_info['movieInfoResult']['movieInfo']['actors']"
   ]
  },
  {
   "cell_type": "code",
   "execution_count": null,
   "metadata": {
    "colab": {},
    "colab_type": "code",
    "id": "CISsdeCgnqR5"
   },
   "outputs": [],
   "source": [
    "movie_info = movie_info_search(movie_code)"
   ]
  },
  {
   "cell_type": "code",
   "execution_count": 26,
   "metadata": {
    "colab": {
     "base_uri": "https://localhost:8080/",
     "height": 119
    },
    "colab_type": "code",
    "executionInfo": {
     "elapsed": 1406,
     "status": "ok",
     "timestamp": 1568008742193,
     "user": {
      "displayName": "Sung Hak Lim",
      "photoUrl": "https://lh3.googleusercontent.com/a-/AAuE7mCAsIrkT7qHVbLE2qbnDRuLFImyiwklV4EiB94wNA=s64",
      "userId": "05716500249544805974"
     },
     "user_tz": -540
    },
    "id": "5Ai0bfdEk9pl",
    "outputId": "f3a90aa1-d4e6-4498-a51c-125d364d297e"
   },
   "outputs": [
    {
     "data": {
      "text/plain": [
       "[{'cast': '',\n",
       "  'castEn': '',\n",
       "  'peopleNm': '메나 마수드',\n",
       "  'peopleNmEn': 'Mena Massoud'},\n",
       " {'cast': '', 'castEn': '', 'peopleNm': '윌 스미스', 'peopleNmEn': 'Will Smith'},\n",
       " {'cast': '', 'castEn': '', 'peopleNm': '나오미 스콧', 'peopleNmEn': 'Naomi Scott'}]"
      ]
     },
     "execution_count": 26,
     "metadata": {
      "tags": []
     },
     "output_type": "execute_result"
    }
   ],
   "source": [
    "movie_info_search(movie_code)"
   ]
  },
  {
   "cell_type": "code",
   "execution_count": null,
   "metadata": {
    "colab": {},
    "colab_type": "code",
    "id": "brluEEK4mp9k"
   },
   "outputs": [],
   "source": []
  }
 ],
 "metadata": {
  "colab": {
   "collapsed_sections": [],
   "name": "임성학.ipynb",
   "provenance": [],
   "version": "0.3.2"
  },
  "kernelspec": {
   "display_name": "Python 3",
   "language": "python",
   "name": "python3"
  },
  "language_info": {
   "codemirror_mode": {
    "name": "ipython",
    "version": 3
   },
   "file_extension": ".py",
   "mimetype": "text/x-python",
   "name": "python",
   "nbconvert_exporter": "python",
   "pygments_lexer": "ipython3",
   "version": "3.7.4"
  }
 },
 "nbformat": 4,
 "nbformat_minor": 4
}
