{
 "cells": [
  {
   "cell_type": "markdown",
   "metadata": {
    "colab_type": "text",
    "id": "g42-E5Q9qFlh"
   },
   "source": [
    "# 문법 추가"
   ]
  },
  {
   "cell_type": "markdown",
   "metadata": {
    "colab_type": "text",
    "id": "HeHqZEAjqTox"
   },
   "source": [
    "## 목차\n",
    "<pre>\n",
    "1. 변수 - 문자열 관련\n",
    "2  파일 읽고 쓰기 - read() / readlines() / with\n",
    "3  json 파일 쓰기/읽기"
   ]
  },
  {
   "cell_type": "markdown",
   "metadata": {
    "colab_type": "text",
    "id": "fm7mA-E_5uMK"
   },
   "source": [
    "## 1.변수 - 문자열 관련"
   ]
  },
  {
   "cell_type": "markdown",
   "metadata": {
    "colab_type": "text",
    "id": "ozvWIxKBq1q4"
   },
   "source": [
    "### 문자열 포매팅 방법 2가지\n"
   ]
  },
  {
   "cell_type": "markdown",
   "metadata": {
    "colab_type": "text",
    "id": "jQBMtjOKrTDG"
   },
   "source": [
    "#### 문자열 포매팅 방법1"
   ]
  },
  {
   "cell_type": "code",
   "execution_count": 1,
   "metadata": {
    "colab": {
     "base_uri": "https://localhost:8080/",
     "height": 34
    },
    "colab_type": "code",
    "executionInfo": {
     "elapsed": 810,
     "status": "ok",
     "timestamp": 1568003712289,
     "user": {
      "displayName": "Sung Hak Lim",
      "photoUrl": "https://lh3.googleusercontent.com/a-/AAuE7mCAsIrkT7qHVbLE2qbnDRuLFImyiwklV4EiB94wNA=s64",
      "userId": "05716500249544805974"
     },
     "user_tz": -540
    },
    "id": "yZT7A1DEseSg",
    "outputId": "8f51c13b-ec87-4e08-c323-7ffccbe76348"
   },
   "outputs": [
    {
     "name": "stdout",
     "output_type": "stream",
     "text": [
      "임성학의 나이는 70살이다.\n"
     ]
    }
   ],
   "source": [
    "a='임성학'\n",
    "b=70\n",
    "\n",
    "print('{}의 나이는 {}살이다.'.format(a,b))"
   ]
  },
  {
   "cell_type": "markdown",
   "metadata": {
    "colab_type": "text",
    "id": "gw6N8DuYs6i2"
   },
   "source": [
    "#### 문자열 포매팅 방법2\n",
    "문자열 포맷 코드를 사용하는 방법\n",
    "\n",
    "* 문자열 포맷 코드\n",
    "\n",
    "| 코드 |           설명            |\n",
    "|------|---------------------------|\n",
    "| %s   | 문자열(string)            |\n",
    "| %d   | 정수(integer)             |\n",
    "| %f   | 소수점 포함 실수(integer) |\n",
    "| %%   | 문자 % 자체               |\n",
    "\n",
    "    "
   ]
  },
  {
   "cell_type": "code",
   "execution_count": 2,
   "metadata": {
    "colab": {
     "base_uri": "https://localhost:8080/",
     "height": 34
    },
    "colab_type": "code",
    "executionInfo": {
     "elapsed": 1104,
     "status": "ok",
     "timestamp": 1568003712591,
     "user": {
      "displayName": "Sung Hak Lim",
      "photoUrl": "https://lh3.googleusercontent.com/a-/AAuE7mCAsIrkT7qHVbLE2qbnDRuLFImyiwklV4EiB94wNA=s64",
      "userId": "05716500249544805974"
     },
     "user_tz": -540
    },
    "id": "mW3EOdDUwBV8",
    "outputId": "9d953403-f42c-4fce-d2b4-b840d1863f24"
   },
   "outputs": [
    {
     "name": "stdout",
     "output_type": "stream",
     "text": [
      "나의 이름은 임성학입니다.\n"
     ]
    }
   ],
   "source": [
    "# %s : 문자열\n",
    "a='임성학'\n",
    "\n",
    "print('나의 이름은 %s입니다.'%a)"
   ]
  },
  {
   "cell_type": "code",
   "execution_count": 3,
   "metadata": {
    "colab": {
     "base_uri": "https://localhost:8080/",
     "height": 34
    },
    "colab_type": "code",
    "executionInfo": {
     "elapsed": 1099,
     "status": "ok",
     "timestamp": 1568003712591,
     "user": {
      "displayName": "Sung Hak Lim",
      "photoUrl": "https://lh3.googleusercontent.com/a-/AAuE7mCAsIrkT7qHVbLE2qbnDRuLFImyiwklV4EiB94wNA=s64",
      "userId": "05716500249544805974"
     },
     "user_tz": -540
    },
    "id": "H9s4uNQ9wakl",
    "outputId": "f30cbc1c-05ec-4f1a-ec47-b6fde3dba1dc"
   },
   "outputs": [
    {
     "name": "stdout",
     "output_type": "stream",
     "text": [
      "나의 나이는 70입니다.\n"
     ]
    }
   ],
   "source": [
    "# %d : 정수\n",
    "a = 70\n",
    "\n",
    "print('나의 나이는 %d입니다.'%a)"
   ]
  },
  {
   "cell_type": "code",
   "execution_count": 4,
   "metadata": {
    "colab": {
     "base_uri": "https://localhost:8080/",
     "height": 34
    },
    "colab_type": "code",
    "executionInfo": {
     "elapsed": 1094,
     "status": "ok",
     "timestamp": 1568003712592,
     "user": {
      "displayName": "Sung Hak Lim",
      "photoUrl": "https://lh3.googleusercontent.com/a-/AAuE7mCAsIrkT7qHVbLE2qbnDRuLFImyiwklV4EiB94wNA=s64",
      "userId": "05716500249544805974"
     },
     "user_tz": -540
    },
    "id": "KRzBZm4Hwq7R",
    "outputId": "915beca2-64fa-4e23-90e6-9327e942e89e"
   },
   "outputs": [
    {
     "name": "stdout",
     "output_type": "stream",
     "text": [
      "원주율 값은 3.14이다\n"
     ]
    }
   ],
   "source": [
    "# %f : 소수점 포함 실수\n",
    "a = 3.1415912\n",
    "\n",
    "print('원주율 값은 %0.2f이다'%a)"
   ]
  },
  {
   "cell_type": "code",
   "execution_count": 5,
   "metadata": {
    "colab": {
     "base_uri": "https://localhost:8080/",
     "height": 34
    },
    "colab_type": "code",
    "executionInfo": {
     "elapsed": 1085,
     "status": "ok",
     "timestamp": 1568003712592,
     "user": {
      "displayName": "Sung Hak Lim",
      "photoUrl": "https://lh3.googleusercontent.com/a-/AAuE7mCAsIrkT7qHVbLE2qbnDRuLFImyiwklV4EiB94wNA=s64",
      "userId": "05716500249544805974"
     },
     "user_tz": -540
    },
    "id": "-L9S6av6w5KS",
    "outputId": "385ccf87-afcb-4f8c-b545-dd6128468104"
   },
   "outputs": [
    {
     "name": "stdout",
     "output_type": "stream",
     "text": [
      "철수의 나이는 3이다\n"
     ]
    }
   ],
   "source": [
    "# %s의 활용\n",
    "a = 3\n",
    "\n",
    "print('철수의 나이는 %s이다'%a)"
   ]
  },
  {
   "cell_type": "code",
   "execution_count": 6,
   "metadata": {
    "colab": {
     "base_uri": "https://localhost:8080/",
     "height": 34
    },
    "colab_type": "code",
    "executionInfo": {
     "elapsed": 1080,
     "status": "ok",
     "timestamp": 1568003712593,
     "user": {
      "displayName": "Sung Hak Lim",
      "photoUrl": "https://lh3.googleusercontent.com/a-/AAuE7mCAsIrkT7qHVbLE2qbnDRuLFImyiwklV4EiB94wNA=s64",
      "userId": "05716500249544805974"
     },
     "user_tz": -540
    },
    "id": "SCydmg0LxRdj",
    "outputId": "319d9780-244f-4fb8-a189-8c27b0b08e30"
   },
   "outputs": [
    {
     "name": "stdout",
     "output_type": "stream",
     "text": [
      "원주율 값은 3.14이다\n"
     ]
    }
   ],
   "source": [
    "# %s의 활용\n",
    "a = 3.14\n",
    "print('원주율 값은 %s이다'%a)"
   ]
  },
  {
   "cell_type": "code",
   "execution_count": 7,
   "metadata": {
    "colab": {
     "base_uri": "https://localhost:8080/",
     "height": 34
    },
    "colab_type": "code",
    "executionInfo": {
     "elapsed": 1074,
     "status": "ok",
     "timestamp": 1568003712593,
     "user": {
      "displayName": "Sung Hak Lim",
      "photoUrl": "https://lh3.googleusercontent.com/a-/AAuE7mCAsIrkT7qHVbLE2qbnDRuLFImyiwklV4EiB94wNA=s64",
      "userId": "05716500249544805974"
     },
     "user_tz": -540
    },
    "id": "-DIUJMPAxaYT",
    "outputId": "8c75b531-064c-4739-b2e5-088ec6f835f7"
   },
   "outputs": [
    {
     "name": "stdout",
     "output_type": "stream",
     "text": [
      "뒤에 계신 분은 저의 어머니가 100% 확실합니다\n"
     ]
    }
   ],
   "source": [
    "# %%로 %표시\n",
    "a = 100\n",
    "\n",
    "print('뒤에 계신 분은 저의 어머니가 %d%% 확실합니다'%a)"
   ]
  },
  {
   "cell_type": "code",
   "execution_count": 8,
   "metadata": {
    "colab": {
     "base_uri": "https://localhost:8080/",
     "height": 34
    },
    "colab_type": "code",
    "executionInfo": {
     "elapsed": 1068,
     "status": "ok",
     "timestamp": 1568003712593,
     "user": {
      "displayName": "Sung Hak Lim",
      "photoUrl": "https://lh3.googleusercontent.com/a-/AAuE7mCAsIrkT7qHVbLE2qbnDRuLFImyiwklV4EiB94wNA=s64",
      "userId": "05716500249544805974"
     },
     "user_tz": -540
    },
    "id": "Llaekteoxtur",
    "outputId": "72f1500f-046f-438c-ded5-7651a8d69dfa"
   },
   "outputs": [
    {
     "name": "stdout",
     "output_type": "stream",
     "text": [
      "임성학이 들고있는 패는 '장'짜리가 100% 확실해!!\n"
     ]
    }
   ],
   "source": [
    "# 자작\n",
    "a= '임성학'\n",
    "b= 100\n",
    " \n",
    "print('%s이 들고있는 패는 \\'장\\'짜리가 %d%% 확실해!!'%(a,b))"
   ]
  },
  {
   "cell_type": "markdown",
   "metadata": {
    "colab_type": "text",
    "id": "9TmtUpEt0zo7"
   },
   "source": [
    "### 2. 이스케이프코드 사용하기\n",
    "이스케이프코드 : 프로그래밍 시 사용가능하게 미리 정의해 둔 '문자조합'\n",
    "<pre>\n",
    "* \\n : 문자열 안에서 줄 바꿈\n",
    "* \\t : 문자열 사이에 탭 간격 주기\n",
    "* \\\\ : \\ 문자를 그대로 표시  <- 경로 표기시에 활용\n",
    "* \\' : ' 문자를 그대로 표시\n",
    "* \\\" : \" 문자를 그대로 표시"
   ]
  },
  {
   "cell_type": "code",
   "execution_count": 9,
   "metadata": {
    "colab": {
     "base_uri": "https://localhost:8080/",
     "height": 51
    },
    "colab_type": "code",
    "executionInfo": {
     "elapsed": 1063,
     "status": "ok",
     "timestamp": 1568003712594,
     "user": {
      "displayName": "Sung Hak Lim",
      "photoUrl": "https://lh3.googleusercontent.com/a-/AAuE7mCAsIrkT7qHVbLE2qbnDRuLFImyiwklV4EiB94wNA=s64",
      "userId": "05716500249544805974"
     },
     "user_tz": -540
    },
    "id": "-k3Mx0Fy3pGr",
    "outputId": "40600f0a-1fc7-4dd0-c9e7-9102748267c8"
   },
   "outputs": [
    {
     "name": "stdout",
     "output_type": "stream",
     "text": [
      "이름을 말해봐요 미스터김\n",
      "당신이 꿈꾸던 삶은 어디에\n"
     ]
    }
   ],
   "source": [
    "print('이름을 말해봐요 미스터김\\n당신이 꿈꾸던 삶은 어디에')"
   ]
  },
  {
   "cell_type": "code",
   "execution_count": 10,
   "metadata": {
    "colab": {
     "base_uri": "https://localhost:8080/",
     "height": 34
    },
    "colab_type": "code",
    "executionInfo": {
     "elapsed": 1057,
     "status": "ok",
     "timestamp": 1568003712594,
     "user": {
      "displayName": "Sung Hak Lim",
      "photoUrl": "https://lh3.googleusercontent.com/a-/AAuE7mCAsIrkT7qHVbLE2qbnDRuLFImyiwklV4EiB94wNA=s64",
      "userId": "05716500249544805974"
     },
     "user_tz": -540
    },
    "id": "JlQVCbp94WlV",
    "outputId": "4bfd012a-68f8-438a-f0b3-f1164e3b46ba"
   },
   "outputs": [
    {
     "name": "stdout",
     "output_type": "stream",
     "text": [
      "이름을 말해봐요 미스터김\t당신이 꿈꾸던 삶은 어디에\n"
     ]
    }
   ],
   "source": [
    "print('이름을 말해봐요 미스터김\\t당신이 꿈꾸던 삶은 어디에')"
   ]
  },
  {
   "cell_type": "code",
   "execution_count": 11,
   "metadata": {
    "colab": {
     "base_uri": "https://localhost:8080/",
     "height": 34
    },
    "colab_type": "code",
    "executionInfo": {
     "elapsed": 1467,
     "status": "ok",
     "timestamp": 1568003713010,
     "user": {
      "displayName": "Sung Hak Lim",
      "photoUrl": "https://lh3.googleusercontent.com/a-/AAuE7mCAsIrkT7qHVbLE2qbnDRuLFImyiwklV4EiB94wNA=s64",
      "userId": "05716500249544805974"
     },
     "user_tz": -540
    },
    "id": "mID0K6d34bHc",
    "outputId": "c0d3455f-807f-4d84-8c4c-7e0f92db2508"
   },
   "outputs": [
    {
     "name": "stdout",
     "output_type": "stream",
     "text": [
      "이름을 말해봐요 미스터김\\당신이 꿈꾸던 삶은 어디에\n"
     ]
    }
   ],
   "source": [
    "print('이름을 말해봐요 미스터김\\\\당신이 꿈꾸던 삶은 어디에')"
   ]
  },
  {
   "cell_type": "markdown",
   "metadata": {
    "colab_type": "text",
    "id": "cTXGkS0p4dm9"
   },
   "source": [
    "#### 3. 소수점 표현"
   ]
  },
  {
   "cell_type": "code",
   "execution_count": 12,
   "metadata": {
    "colab": {
     "base_uri": "https://localhost:8080/",
     "height": 34
    },
    "colab_type": "code",
    "executionInfo": {
     "elapsed": 1458,
     "status": "ok",
     "timestamp": 1568003713010,
     "user": {
      "displayName": "Sung Hak Lim",
      "photoUrl": "https://lh3.googleusercontent.com/a-/AAuE7mCAsIrkT7qHVbLE2qbnDRuLFImyiwklV4EiB94wNA=s64",
      "userId": "05716500249544805974"
     },
     "user_tz": -540
    },
    "id": "1BUZYEU-45Pi",
    "outputId": "fe7fcf59-108d-4318-be01-c766830e32e9"
   },
   "outputs": [
    {
     "name": "stdout",
     "output_type": "stream",
     "text": [
      "3.14\n"
     ]
    }
   ],
   "source": [
    "a=3.1415892\n",
    "\n",
    "print('{0:0.2f}'.format(a))"
   ]
  },
  {
   "cell_type": "code",
   "execution_count": 13,
   "metadata": {
    "colab": {
     "base_uri": "https://localhost:8080/",
     "height": 34
    },
    "colab_type": "code",
    "executionInfo": {
     "elapsed": 1453,
     "status": "ok",
     "timestamp": 1568003713011,
     "user": {
      "displayName": "Sung Hak Lim",
      "photoUrl": "https://lh3.googleusercontent.com/a-/AAuE7mCAsIrkT7qHVbLE2qbnDRuLFImyiwklV4EiB94wNA=s64",
      "userId": "05716500249544805974"
     },
     "user_tz": -540
    },
    "id": "r_KHFS-A5YO_",
    "outputId": "52f54b71-a7fb-4c42-9a53-ea60a077e74a"
   },
   "outputs": [
    {
     "name": "stdout",
     "output_type": "stream",
     "text": [
      "31.4159\n"
     ]
    }
   ],
   "source": [
    "a = 31.41592\n",
    "\n",
    "print('{0:0.4f}'.format(a))"
   ]
  },
  {
   "cell_type": "markdown",
   "metadata": {
    "colab_type": "text",
    "id": "Z7JKZl3mG3on"
   },
   "source": [
    "## 2.파일 읽고 쓰기\n",
    "<pre>\n",
    "'r' : 읽기 모드(읽기만 할 때)\n",
    "'w' : 쓰기 모드(내용을 쓸 때)\n",
    "'a' : 추가 모드(마지막에 새 내용 추가할 때)"
   ]
  },
  {
   "cell_type": "markdown",
   "metadata": {
    "colab_type": "text",
    "id": "NADVrLBWHbTW"
   },
   "source": [
    "### 파일 쓰기\n",
    "<pre>\n",
    "1.open 함수로 파일 열기\n",
    "2.write()함수에 내용 넣어 쓰기\n",
    "3.파일 닫기"
   ]
  },
  {
   "cell_type": "code",
   "execution_count": 14,
   "metadata": {
    "colab": {
     "base_uri": "https://localhost:8080/",
     "height": 34
    },
    "colab_type": "code",
    "executionInfo": {
     "elapsed": 1447,
     "status": "ok",
     "timestamp": 1568003713011,
     "user": {
      "displayName": "Sung Hak Lim",
      "photoUrl": "https://lh3.googleusercontent.com/a-/AAuE7mCAsIrkT7qHVbLE2qbnDRuLFImyiwklV4EiB94wNA=s64",
      "userId": "05716500249544805974"
     },
     "user_tz": -540
    },
    "id": "jkGkunZCH2OQ",
    "outputId": "c2910872-a450-4433-f9df-9d9eeb366ee6"
   },
   "outputs": [
    {
     "data": {
      "text/plain": [
       "<function TextIOWrapper.close>"
      ]
     },
     "execution_count": 14,
     "metadata": {
      "tags": []
     },
     "output_type": "execute_result"
    }
   ],
   "source": [
    "file = open('new1.txt','w')\n",
    "# file.write()\n",
    "file.close"
   ]
  },
  {
   "cell_type": "code",
   "execution_count": null,
   "metadata": {
    "colab": {},
    "colab_type": "code",
    "id": "neYr29oPH_9n"
   },
   "outputs": [],
   "source": [
    "file = open('new2.txt', 'w')\n",
    "file.write('동해물과')\n",
    "file.close()"
   ]
  },
  {
   "cell_type": "code",
   "execution_count": null,
   "metadata": {
    "colab": {},
    "colab_type": "code",
    "id": "eSZai8eQIZ5Q"
   },
   "outputs": [],
   "source": [
    "file = open('new3.txt', 'w')\n",
    "for i in range(1,11):\n",
    "  file.write('{}번째 줄\\n'.format(i))\n",
    "file.close()"
   ]
  },
  {
   "cell_type": "code",
   "execution_count": null,
   "metadata": {
    "colab": {},
    "colab_type": "code",
    "id": "mTc8DV-51pmp"
   },
   "outputs": [],
   "source": [
    "file = open('new3.txt', 'a')\n",
    "for i in range(11,14):\n",
    "  file.write('{}번째 줄\\n'.format(i))\n",
    "file.close()"
   ]
  },
  {
   "cell_type": "markdown",
   "metadata": {
    "colab_type": "text",
    "id": "A4Kf9pDTJRRw"
   },
   "source": [
    "### 파일 읽기\n",
    "<pre>\n",
    "* read() : 내용 전체를 문자열로 돌려줌\n",
    "* readlines() : 내용 전체를 리스트로 돌려줌"
   ]
  },
  {
   "cell_type": "code",
   "execution_count": 18,
   "metadata": {
    "colab": {
     "base_uri": "https://localhost:8080/",
     "height": 255
    },
    "colab_type": "code",
    "executionInfo": {
     "elapsed": 1430,
     "status": "ok",
     "timestamp": 1568003713013,
     "user": {
      "displayName": "Sung Hak Lim",
      "photoUrl": "https://lh3.googleusercontent.com/a-/AAuE7mCAsIrkT7qHVbLE2qbnDRuLFImyiwklV4EiB94wNA=s64",
      "userId": "05716500249544805974"
     },
     "user_tz": -540
    },
    "id": "MMN4Wwf2KC1g",
    "outputId": "78915cd7-d0b0-4684-a421-bac024ffb927"
   },
   "outputs": [
    {
     "name": "stdout",
     "output_type": "stream",
     "text": [
      "1번째 줄\n",
      "2번째 줄\n",
      "3번째 줄\n",
      "4번째 줄\n",
      "5번째 줄\n",
      "6번째 줄\n",
      "7번째 줄\n",
      "8번째 줄\n",
      "9번째 줄\n",
      "10번째 줄\n",
      "11번째 줄\n",
      "12번째 줄\n",
      "13번째 줄\n",
      "\n"
     ]
    }
   ],
   "source": [
    "file = open('new3.txt', 'r')\n",
    "line = file.read()\n",
    "file.close()\n",
    "\n",
    "print(line)"
   ]
  },
  {
   "cell_type": "code",
   "execution_count": 19,
   "metadata": {
    "colab": {
     "base_uri": "https://localhost:8080/",
     "height": 34
    },
    "colab_type": "code",
    "executionInfo": {
     "elapsed": 1424,
     "status": "ok",
     "timestamp": 1568003713013,
     "user": {
      "displayName": "Sung Hak Lim",
      "photoUrl": "https://lh3.googleusercontent.com/a-/AAuE7mCAsIrkT7qHVbLE2qbnDRuLFImyiwklV4EiB94wNA=s64",
      "userId": "05716500249544805974"
     },
     "user_tz": -540
    },
    "id": "8WWf0NEkKcJg",
    "outputId": "9d33f858-81f0-427a-8c2e-f5fcf5107004"
   },
   "outputs": [
    {
     "data": {
      "text/plain": [
       "str"
      ]
     },
     "execution_count": 19,
     "metadata": {
      "tags": []
     },
     "output_type": "execute_result"
    }
   ],
   "source": [
    "type(line)"
   ]
  },
  {
   "cell_type": "code",
   "execution_count": 20,
   "metadata": {
    "colab": {
     "base_uri": "https://localhost:8080/",
     "height": 54
    },
    "colab_type": "code",
    "executionInfo": {
     "elapsed": 1419,
     "status": "ok",
     "timestamp": 1568003713014,
     "user": {
      "displayName": "Sung Hak Lim",
      "photoUrl": "https://lh3.googleusercontent.com/a-/AAuE7mCAsIrkT7qHVbLE2qbnDRuLFImyiwklV4EiB94wNA=s64",
      "userId": "05716500249544805974"
     },
     "user_tz": -540
    },
    "id": "BSyQf0SbKhc5",
    "outputId": "05d53619-8101-41d1-e015-24a143a4717d"
   },
   "outputs": [
    {
     "name": "stdout",
     "output_type": "stream",
     "text": [
      "['1번째 줄\\n', '2번째 줄\\n', '3번째 줄\\n', '4번째 줄\\n', '5번째 줄\\n', '6번째 줄\\n', '7번째 줄\\n', '8번째 줄\\n', '9번째 줄\\n', '10번째 줄\\n', '11번째 줄\\n', '12번째 줄\\n', '13번째 줄\\n']\n"
     ]
    }
   ],
   "source": [
    "file = open('new3.txt', 'r')\n",
    "lines = file.readlines()\n",
    "file.close()\n",
    "\n",
    "print(lines)"
   ]
  },
  {
   "cell_type": "code",
   "execution_count": 21,
   "metadata": {
    "colab": {
     "base_uri": "https://localhost:8080/",
     "height": 34
    },
    "colab_type": "code",
    "executionInfo": {
     "elapsed": 1413,
     "status": "ok",
     "timestamp": 1568003713014,
     "user": {
      "displayName": "Sung Hak Lim",
      "photoUrl": "https://lh3.googleusercontent.com/a-/AAuE7mCAsIrkT7qHVbLE2qbnDRuLFImyiwklV4EiB94wNA=s64",
      "userId": "05716500249544805974"
     },
     "user_tz": -540
    },
    "id": "_bK2uFmwKw0Z",
    "outputId": "4095fe62-1014-4ba3-a225-df08accd1817"
   },
   "outputs": [
    {
     "data": {
      "text/plain": [
       "list"
      ]
     },
     "execution_count": 21,
     "metadata": {
      "tags": []
     },
     "output_type": "execute_result"
    }
   ],
   "source": [
    "type(lines)"
   ]
  },
  {
   "cell_type": "markdown",
   "metadata": {
    "colab_type": "text",
    "id": "x-N-5RFwKz7V"
   },
   "source": [
    "### with문 사용하기\n",
    "with 문 => 자동으로 close됨."
   ]
  },
  {
   "cell_type": "code",
   "execution_count": null,
   "metadata": {
    "colab": {},
    "colab_type": "code",
    "id": "c9buG4StLOvh"
   },
   "outputs": [],
   "source": [
    "with open('new4.txt', 'w') as f:\n",
    "  f.write('동해물과')"
   ]
  },
  {
   "cell_type": "code",
   "execution_count": 23,
   "metadata": {
    "colab": {
     "base_uri": "https://localhost:8080/",
     "height": 170
    },
    "colab_type": "code",
    "executionInfo": {
     "elapsed": 4130,
     "status": "ok",
     "timestamp": 1568003715744,
     "user": {
      "displayName": "Sung Hak Lim",
      "photoUrl": "https://lh3.googleusercontent.com/a-/AAuE7mCAsIrkT7qHVbLE2qbnDRuLFImyiwklV4EiB94wNA=s64",
      "userId": "05716500249544805974"
     },
     "user_tz": -540
    },
    "id": "MZZGf4XALiNP",
    "outputId": "ddc13739-6efa-4572-f251-e1c7c174d3d5"
   },
   "outputs": [
    {
     "name": "stdout",
     "output_type": "stream",
     "text": [
      "total 28\n",
      "drwxr-xr-x 1 root root 4096 Sep  9 04:35 \u001b[0m\u001b[01;34m.\u001b[0m/\n",
      "drwxr-xr-x 1 root root 4096 Sep  9 04:32 \u001b[01;34m..\u001b[0m/\n",
      "drwxr-xr-x 1 root root 4096 Sep  4 16:06 \u001b[01;34m.config\u001b[0m/\n",
      "-rw-r--r-- 1 root root    0 Sep  9 04:35 new1.txt\n",
      "-rw-r--r-- 1 root root   12 Sep  9 04:35 new2.txt\n",
      "-rw-r--r-- 1 root root  160 Sep  9 04:35 new3.txt\n",
      "-rw-r--r-- 1 root root   12 Sep  9 04:35 new4.txt\n",
      "drwxr-xr-x 1 root root 4096 Aug 27 16:17 \u001b[01;34msample_data\u001b[0m/\n"
     ]
    }
   ],
   "source": [
    "ls -al"
   ]
  },
  {
   "cell_type": "code",
   "execution_count": 24,
   "metadata": {
    "colab": {
     "base_uri": "https://localhost:8080/",
     "height": 51
    },
    "colab_type": "code",
    "executionInfo": {
     "elapsed": 4126,
     "status": "ok",
     "timestamp": 1568003715745,
     "user": {
      "displayName": "Sung Hak Lim",
      "photoUrl": "https://lh3.googleusercontent.com/a-/AAuE7mCAsIrkT7qHVbLE2qbnDRuLFImyiwklV4EiB94wNA=s64",
      "userId": "05716500249544805974"
     },
     "user_tz": -540
    },
    "id": "spUd1rTRLuWZ",
    "outputId": "fdb2e021-9d7f-4c1e-f511-c8e321526b1a"
   },
   "outputs": [
    {
     "name": "stdout",
     "output_type": "stream",
     "text": [
      "동해물과\n"
     ]
    },
    {
     "data": {
      "text/plain": [
       "str"
      ]
     },
     "execution_count": 24,
     "metadata": {
      "tags": []
     },
     "output_type": "execute_result"
    }
   ],
   "source": [
    "with open('new4.txt', 'r') as f:\n",
    "  line_with = f.read()\n",
    "  \n",
    "print(line_with)\n",
    "type(line_with)"
   ]
  },
  {
   "cell_type": "markdown",
   "metadata": {
    "colab_type": "text",
    "id": "1G1tObsFLv8v"
   },
   "source": [
    "## 3.json 파일 쓰기/ 읽기\n",
    "json 파일이란?\n",
    "<pre>\n",
    "JavaScript Object Notation : 자바스크립트를 위한 파일 형식\n",
    "딕셔너리를 형태를 파일로 저장할 수 있고,\n",
    "불러와서 사용 가능하다."
   ]
  },
  {
   "cell_type": "code",
   "execution_count": null,
   "metadata": {
    "colab": {},
    "colab_type": "code",
    "id": "CkfE154TMQIF"
   },
   "outputs": [],
   "source": [
    "# json 라이브러리\n",
    "\n",
    "import json"
   ]
  },
  {
   "cell_type": "code",
   "execution_count": null,
   "metadata": {
    "colab": {},
    "colab_type": "code",
    "id": "xhQg2hhXRhky"
   },
   "outputs": [],
   "source": [
    "park = {'이름':'박철기',\n",
    "       '나이':28,\n",
    "       '지역':'중랑구',\n",
    "       '취미':'산책',\n",
    "       '좌우명':'하면 된다.'}"
   ]
  },
  {
   "cell_type": "code",
   "execution_count": null,
   "metadata": {
    "colab": {},
    "colab_type": "code",
    "id": "CeIs7EwxRkiC"
   },
   "outputs": [],
   "source": [
    "# 딕셔너리를 json 파일로 저장\n",
    "with open('park.json', 'w', encoding = 'UTF-8') as f:\n",
    "  json.dump(park, f, indent=4, ensure_ascii=False)"
   ]
  },
  {
   "cell_type": "code",
   "execution_count": 28,
   "metadata": {
    "colab": {
     "base_uri": "https://localhost:8080/",
     "height": 34
    },
    "colab_type": "code",
    "executionInfo": {
     "elapsed": 4107,
     "status": "ok",
     "timestamp": 1568003715746,
     "user": {
      "displayName": "Sung Hak Lim",
      "photoUrl": "https://lh3.googleusercontent.com/a-/AAuE7mCAsIrkT7qHVbLE2qbnDRuLFImyiwklV4EiB94wNA=s64",
      "userId": "05716500249544805974"
     },
     "user_tz": -540
    },
    "id": "JcQj8kzASe7n",
    "outputId": "749325d1-38e6-4389-b3cc-3026739f8b1a"
   },
   "outputs": [
    {
     "name": "stdout",
     "output_type": "stream",
     "text": [
      "{'이름': '박철기', '나이': 28, '지역': '중랑구', '취미': '산책', '좌우명': '하면 된다.'}\n"
     ]
    }
   ],
   "source": [
    "# 파일 읽기\n",
    "with open('park.json', 'r') as f:\n",
    "  park2 = json.load(f)\n",
    "  \n",
    "print(park2)"
   ]
  },
  {
   "cell_type": "code",
   "execution_count": null,
   "metadata": {
    "colab": {},
    "colab_type": "code",
    "id": "xu5GP2ZAT2Gj"
   },
   "outputs": [],
   "source": [
    "# 영화진흥위원회 9월 첫째주 박스오피스 json파일 만들기\n",
    "# http://www.kobis.or.kr/kobisopenapi/webservice/rest/boxoffice/searchDailyBoxOfficeList.json?key=430156241533f1d058c603178cc3ca0e&targetDt=20190901\n",
    "movies_dict = {\"boxOfficeResult\":{\"boxofficeType\":\"일별 박스오피스\",\"showRange\":\"20190901~20190901\",\"dailyBoxOfficeList\":[{\"rnum\":\"1\",\"rank\":\"1\",\"rankInten\":\"0\",\"rankOldAndNew\":\"OLD\",\"movieCd\":\"20181416\",\"movieNm\":\"유열의 음악앨범\",\"openDt\":\"2019-08-28\",\"salesAmt\":\"1276019900\",\"salesShare\":\"22.8\",\"salesInten\":\"-226097200\",\"salesChange\":\"-15.1\",\"salesAcc\":\"5510222940\",\"audiCnt\":\"145265\",\"audiInten\":\"-23942\",\"audiChange\":\"-14.1\",\"audiAcc\":\"684517\",\"scrnCnt\":\"1032\",\"showCnt\":\"4696\"},{\"rnum\":\"2\",\"rank\":\"2\",\"rankInten\":\"0\",\"rankOldAndNew\":\"OLD\",\"movieCd\":\"20184543\",\"movieNm\":\"변신\",\"openDt\":\"2019-08-21\",\"salesAmt\":\"1132455850\",\"salesShare\":\"20.3\",\"salesInten\":\"-278659860\",\"salesChange\":\"-19.7\",\"salesAcc\":\"12848880862\",\"audiCnt\":\"128666\",\"audiInten\":\"-29234\",\"audiChange\":\"-18.5\",\"audiAcc\":\"1499644\",\"scrnCnt\":\"888\",\"showCnt\":\"3496\"},{\"rnum\":\"3\",\"rank\":\"3\",\"rankInten\":\"0\",\"rankOldAndNew\":\"OLD\",\"movieCd\":\"20184621\",\"movieNm\":\"엑시트\",\"openDt\":\"2019-07-31\",\"salesAmt\":\"905597200\",\"salesShare\":\"16.2\",\"salesInten\":\"-230085970\",\"salesChange\":\"-20.3\",\"salesAcc\":\"74985544502\",\"audiCnt\":\"105783\",\"audiInten\":\"-26723\",\"audiChange\":\"-20.2\",\"audiAcc\":\"8917590\",\"scrnCnt\":\"800\",\"showCnt\":\"2784\"},{\"rnum\":\"4\",\"rank\":\"4\",\"rankInten\":\"0\",\"rankOldAndNew\":\"OLD\",\"movieCd\":\"20196850\",\"movieNm\":\"분노의 질주: 홉스&쇼\",\"openDt\":\"2019-08-14\",\"salesAmt\":\"718357500\",\"salesShare\":\"12.9\",\"salesInten\":\"-138592050\",\"salesChange\":\"-16.2\",\"salesAcc\":\"30234059483\",\"audiCnt\":\"81183\",\"audiInten\":\"-15322\",\"audiChange\":\"-15.9\",\"audiAcc\":\"3418346\",\"scrnCnt\":\"666\",\"showCnt\":\"2091\"},{\"rnum\":\"5\",\"rank\":\"5\",\"rankInten\":\"0\",\"rankOldAndNew\":\"OLD\",\"movieCd\":\"20193665\",\"movieNm\":\"47미터 2\",\"openDt\":\"2019-08-28\",\"salesAmt\":\"623415780\",\"salesShare\":\"11.2\",\"salesInten\":\"-79210820\",\"salesChange\":\"-11.3\",\"salesAcc\":\"2515525810\",\"audiCnt\":\"71516\",\"audiInten\":\"-7583\",\"audiChange\":\"-9.6\",\"audiAcc\":\"311240\",\"scrnCnt\":\"642\",\"showCnt\":\"2073\"},{\"rnum\":\"6\",\"rank\":\"6\",\"rankInten\":\"0\",\"rankOldAndNew\":\"OLD\",\"movieCd\":\"20184462\",\"movieNm\":\"봉오동 전투\",\"openDt\":\"2019-08-07\",\"salesAmt\":\"249028200\",\"salesShare\":\"4.5\",\"salesInten\":\"-22310920\",\"salesChange\":\"-8.2\",\"salesAcc\":\"40028760378\",\"audiCnt\":\"29522\",\"audiInten\":\"-2554\",\"audiChange\":\"-8\",\"audiAcc\":\"4712558\",\"scrnCnt\":\"499\",\"showCnt\":\"925\"},{\"rnum\":\"7\",\"rank\":\"7\",\"rankInten\":\"0\",\"rankOldAndNew\":\"OLD\",\"movieCd\":\"20185985\",\"movieNm\":\"광대들: 풍문조작단\",\"openDt\":\"2019-08-21\",\"salesAmt\":\"162152810\",\"salesShare\":\"2.9\",\"salesInten\":\"-15304550\",\"salesChange\":\"-8.6\",\"salesAcc\":\"4929720718\",\"audiCnt\":\"19566\",\"audiInten\":\"-1683\",\"audiChange\":\"-7.9\",\"audiAcc\":\"597616\",\"scrnCnt\":\"462\",\"showCnt\":\"811\"},{\"rnum\":\"8\",\"rank\":\"8\",\"rankInten\":\"0\",\"rankOldAndNew\":\"OLD\",\"movieCd\":\"20194384\",\"movieNm\":\"안나\",\"openDt\":\"2019-08-28\",\"salesAmt\":\"141388510\",\"salesShare\":\"2.5\",\"salesInten\":\"-24552940\",\"salesChange\":\"-14.8\",\"salesAcc\":\"600970920\",\"audiCnt\":\"15991\",\"audiInten\":\"-2528\",\"audiChange\":\"-13.7\",\"audiAcc\":\"73250\",\"scrnCnt\":\"410\",\"showCnt\":\"711\"},{\"rnum\":\"9\",\"rank\":\"9\",\"rankInten\":\"0\",\"rankOldAndNew\":\"OLD\",\"movieCd\":\"20171021\",\"movieNm\":\"커런트 워\",\"openDt\":\"2019-08-22\",\"salesAmt\":\"61985400\",\"salesShare\":\"1.1\",\"salesInten\":\"-16880100\",\"salesChange\":\"-21.4\",\"salesAcc\":\"1694668900\",\"audiCnt\":\"7127\",\"audiInten\":\"-1740\",\"audiChange\":\"-19.6\",\"audiAcc\":\"194259\",\"scrnCnt\":\"183\",\"showCnt\":\"370\"},{\"rnum\":\"10\",\"rank\":\"10\",\"rankInten\":\"1\",\"rankOldAndNew\":\"OLD\",\"movieCd\":\"20198323\",\"movieNm\":\"레드슈즈\",\"openDt\":\"2019-07-25\",\"salesAmt\":\"27753890\",\"salesShare\":\"0.5\",\"salesInten\":\"-1392710\",\"salesChange\":\"-4.8\",\"salesAcc\":\"5976045650\",\"audiCnt\":\"5744\",\"audiInten\":\"-163\",\"audiChange\":\"-2.8\",\"audiAcc\":\"786819\",\"scrnCnt\":\"75\",\"showCnt\":\"106\"}]}}"
   ]
  },
  {
   "cell_type": "code",
   "execution_count": null,
   "metadata": {
    "colab": {},
    "colab_type": "code",
    "id": "NRZKkzj6UOwa"
   },
   "outputs": [],
   "source": [
    "with open('movies.json', 'w', encoding = 'UTF-8') as f:\n",
    "  json.dump(movies_dict, f, indent=4, ensure_ascii=False)"
   ]
  },
  {
   "cell_type": "code",
   "execution_count": 31,
   "metadata": {
    "colab": {
     "base_uri": "https://localhost:8080/",
     "height": 71
    },
    "colab_type": "code",
    "executionInfo": {
     "elapsed": 4094,
     "status": "ok",
     "timestamp": 1568003715748,
     "user": {
      "displayName": "Sung Hak Lim",
      "photoUrl": "https://lh3.googleusercontent.com/a-/AAuE7mCAsIrkT7qHVbLE2qbnDRuLFImyiwklV4EiB94wNA=s64",
      "userId": "05716500249544805974"
     },
     "user_tz": -540
    },
    "id": "sCTKEqlPSlRf",
    "outputId": "32ba4729-2201-4095-ecfc-097930e4473c"
   },
   "outputs": [
    {
     "name": "stdout",
     "output_type": "stream",
     "text": [
      "{'boxOfficeResult': {'boxofficeType': '일별 박스오피스', 'showRange': '20190901~20190901', 'dailyBoxOfficeList': [{'rnum': '1', 'rank': '1', 'rankInten': '0', 'rankOldAndNew': 'OLD', 'movieCd': '20181416', 'movieNm': '유열의 음악앨범', 'openDt': '2019-08-28', 'salesAmt': '1276019900', 'salesShare': '22.8', 'salesInten': '-226097200', 'salesChange': '-15.1', 'salesAcc': '5510222940', 'audiCnt': '145265', 'audiInten': '-23942', 'audiChange': '-14.1', 'audiAcc': '684517', 'scrnCnt': '1032', 'showCnt': '4696'}, {'rnum': '2', 'rank': '2', 'rankInten': '0', 'rankOldAndNew': 'OLD', 'movieCd': '20184543', 'movieNm': '변신', 'openDt': '2019-08-21', 'salesAmt': '1132455850', 'salesShare': '20.3', 'salesInten': '-278659860', 'salesChange': '-19.7', 'salesAcc': '12848880862', 'audiCnt': '128666', 'audiInten': '-29234', 'audiChange': '-18.5', 'audiAcc': '1499644', 'scrnCnt': '888', 'showCnt': '3496'}, {'rnum': '3', 'rank': '3', 'rankInten': '0', 'rankOldAndNew': 'OLD', 'movieCd': '20184621', 'movieNm': '엑시트', 'openDt': '2019-07-31', 'salesAmt': '905597200', 'salesShare': '16.2', 'salesInten': '-230085970', 'salesChange': '-20.3', 'salesAcc': '74985544502', 'audiCnt': '105783', 'audiInten': '-26723', 'audiChange': '-20.2', 'audiAcc': '8917590', 'scrnCnt': '800', 'showCnt': '2784'}, {'rnum': '4', 'rank': '4', 'rankInten': '0', 'rankOldAndNew': 'OLD', 'movieCd': '20196850', 'movieNm': '분노의 질주: 홉스&쇼', 'openDt': '2019-08-14', 'salesAmt': '718357500', 'salesShare': '12.9', 'salesInten': '-138592050', 'salesChange': '-16.2', 'salesAcc': '30234059483', 'audiCnt': '81183', 'audiInten': '-15322', 'audiChange': '-15.9', 'audiAcc': '3418346', 'scrnCnt': '666', 'showCnt': '2091'}, {'rnum': '5', 'rank': '5', 'rankInten': '0', 'rankOldAndNew': 'OLD', 'movieCd': '20193665', 'movieNm': '47미터 2', 'openDt': '2019-08-28', 'salesAmt': '623415780', 'salesShare': '11.2', 'salesInten': '-79210820', 'salesChange': '-11.3', 'salesAcc': '2515525810', 'audiCnt': '71516', 'audiInten': '-7583', 'audiChange': '-9.6', 'audiAcc': '311240', 'scrnCnt': '642', 'showCnt': '2073'}, {'rnum': '6', 'rank': '6', 'rankInten': '0', 'rankOldAndNew': 'OLD', 'movieCd': '20184462', 'movieNm': '봉오동 전투', 'openDt': '2019-08-07', 'salesAmt': '249028200', 'salesShare': '4.5', 'salesInten': '-22310920', 'salesChange': '-8.2', 'salesAcc': '40028760378', 'audiCnt': '29522', 'audiInten': '-2554', 'audiChange': '-8', 'audiAcc': '4712558', 'scrnCnt': '499', 'showCnt': '925'}, {'rnum': '7', 'rank': '7', 'rankInten': '0', 'rankOldAndNew': 'OLD', 'movieCd': '20185985', 'movieNm': '광대들: 풍문조작단', 'openDt': '2019-08-21', 'salesAmt': '162152810', 'salesShare': '2.9', 'salesInten': '-15304550', 'salesChange': '-8.6', 'salesAcc': '4929720718', 'audiCnt': '19566', 'audiInten': '-1683', 'audiChange': '-7.9', 'audiAcc': '597616', 'scrnCnt': '462', 'showCnt': '811'}, {'rnum': '8', 'rank': '8', 'rankInten': '0', 'rankOldAndNew': 'OLD', 'movieCd': '20194384', 'movieNm': '안나', 'openDt': '2019-08-28', 'salesAmt': '141388510', 'salesShare': '2.5', 'salesInten': '-24552940', 'salesChange': '-14.8', 'salesAcc': '600970920', 'audiCnt': '15991', 'audiInten': '-2528', 'audiChange': '-13.7', 'audiAcc': '73250', 'scrnCnt': '410', 'showCnt': '711'}, {'rnum': '9', 'rank': '9', 'rankInten': '0', 'rankOldAndNew': 'OLD', 'movieCd': '20171021', 'movieNm': '커런트 워', 'openDt': '2019-08-22', 'salesAmt': '61985400', 'salesShare': '1.1', 'salesInten': '-16880100', 'salesChange': '-21.4', 'salesAcc': '1694668900', 'audiCnt': '7127', 'audiInten': '-1740', 'audiChange': '-19.6', 'audiAcc': '194259', 'scrnCnt': '183', 'showCnt': '370'}, {'rnum': '10', 'rank': '10', 'rankInten': '1', 'rankOldAndNew': 'OLD', 'movieCd': '20198323', 'movieNm': '레드슈즈', 'openDt': '2019-07-25', 'salesAmt': '27753890', 'salesShare': '0.5', 'salesInten': '-1392710', 'salesChange': '-4.8', 'salesAcc': '5976045650', 'audiCnt': '5744', 'audiInten': '-163', 'audiChange': '-2.8', 'audiAcc': '786819', 'scrnCnt': '75', 'showCnt': '106'}]}}\n"
     ]
    },
    {
     "data": {
      "text/plain": [
       "dict"
      ]
     },
     "execution_count": 31,
     "metadata": {
      "tags": []
     },
     "output_type": "execute_result"
    }
   ],
   "source": [
    "with open('movies.json', 'r') as f:\n",
    "  movies = json.load(f)\n",
    "  \n",
    "print(movies)\n",
    "type(movies)"
   ]
  },
  {
   "cell_type": "code",
   "execution_count": 42,
   "metadata": {
    "colab": {
     "base_uri": "https://localhost:8080/",
     "height": 1000
    },
    "colab_type": "code",
    "executionInfo": {
     "elapsed": 761,
     "status": "ok",
     "timestamp": 1568004087313,
     "user": {
      "displayName": "Sung Hak Lim",
      "photoUrl": "https://lh3.googleusercontent.com/a-/AAuE7mCAsIrkT7qHVbLE2qbnDRuLFImyiwklV4EiB94wNA=s64",
      "userId": "05716500249544805974"
     },
     "user_tz": -540
    },
    "id": "Ja-UcirIUqaR",
    "outputId": "7ab006d7-051a-4867-92fc-07d752f10098"
   },
   "outputs": [
    {
     "data": {
      "text/plain": [
       "{'boxOfficeResult': {'boxofficeType': '일별 박스오피스',\n",
       "  'dailyBoxOfficeList': [{'audiAcc': '684517',\n",
       "    'audiChange': '-14.1',\n",
       "    'audiCnt': '145265',\n",
       "    'audiInten': '-23942',\n",
       "    'movieCd': '20181416',\n",
       "    'movieNm': '유열의 음악앨범',\n",
       "    'openDt': '2019-08-28',\n",
       "    'rank': '1',\n",
       "    'rankInten': '0',\n",
       "    'rankOldAndNew': 'OLD',\n",
       "    'rnum': '1',\n",
       "    'salesAcc': '5510222940',\n",
       "    'salesAmt': '1276019900',\n",
       "    'salesChange': '-15.1',\n",
       "    'salesInten': '-226097200',\n",
       "    'salesShare': '22.8',\n",
       "    'scrnCnt': '1032',\n",
       "    'showCnt': '4696'},\n",
       "   {'audiAcc': '1499644',\n",
       "    'audiChange': '-18.5',\n",
       "    'audiCnt': '128666',\n",
       "    'audiInten': '-29234',\n",
       "    'movieCd': '20184543',\n",
       "    'movieNm': '변신',\n",
       "    'openDt': '2019-08-21',\n",
       "    'rank': '2',\n",
       "    'rankInten': '0',\n",
       "    'rankOldAndNew': 'OLD',\n",
       "    'rnum': '2',\n",
       "    'salesAcc': '12848880862',\n",
       "    'salesAmt': '1132455850',\n",
       "    'salesChange': '-19.7',\n",
       "    'salesInten': '-278659860',\n",
       "    'salesShare': '20.3',\n",
       "    'scrnCnt': '888',\n",
       "    'showCnt': '3496'},\n",
       "   {'audiAcc': '8917590',\n",
       "    'audiChange': '-20.2',\n",
       "    'audiCnt': '105783',\n",
       "    'audiInten': '-26723',\n",
       "    'movieCd': '20184621',\n",
       "    'movieNm': '엑시트',\n",
       "    'openDt': '2019-07-31',\n",
       "    'rank': '3',\n",
       "    'rankInten': '0',\n",
       "    'rankOldAndNew': 'OLD',\n",
       "    'rnum': '3',\n",
       "    'salesAcc': '74985544502',\n",
       "    'salesAmt': '905597200',\n",
       "    'salesChange': '-20.3',\n",
       "    'salesInten': '-230085970',\n",
       "    'salesShare': '16.2',\n",
       "    'scrnCnt': '800',\n",
       "    'showCnt': '2784'},\n",
       "   {'audiAcc': '3418346',\n",
       "    'audiChange': '-15.9',\n",
       "    'audiCnt': '81183',\n",
       "    'audiInten': '-15322',\n",
       "    'movieCd': '20196850',\n",
       "    'movieNm': '분노의 질주: 홉스&쇼',\n",
       "    'openDt': '2019-08-14',\n",
       "    'rank': '4',\n",
       "    'rankInten': '0',\n",
       "    'rankOldAndNew': 'OLD',\n",
       "    'rnum': '4',\n",
       "    'salesAcc': '30234059483',\n",
       "    'salesAmt': '718357500',\n",
       "    'salesChange': '-16.2',\n",
       "    'salesInten': '-138592050',\n",
       "    'salesShare': '12.9',\n",
       "    'scrnCnt': '666',\n",
       "    'showCnt': '2091'},\n",
       "   {'audiAcc': '311240',\n",
       "    'audiChange': '-9.6',\n",
       "    'audiCnt': '71516',\n",
       "    'audiInten': '-7583',\n",
       "    'movieCd': '20193665',\n",
       "    'movieNm': '47미터 2',\n",
       "    'openDt': '2019-08-28',\n",
       "    'rank': '5',\n",
       "    'rankInten': '0',\n",
       "    'rankOldAndNew': 'OLD',\n",
       "    'rnum': '5',\n",
       "    'salesAcc': '2515525810',\n",
       "    'salesAmt': '623415780',\n",
       "    'salesChange': '-11.3',\n",
       "    'salesInten': '-79210820',\n",
       "    'salesShare': '11.2',\n",
       "    'scrnCnt': '642',\n",
       "    'showCnt': '2073'},\n",
       "   {'audiAcc': '4712558',\n",
       "    'audiChange': '-8',\n",
       "    'audiCnt': '29522',\n",
       "    'audiInten': '-2554',\n",
       "    'movieCd': '20184462',\n",
       "    'movieNm': '봉오동 전투',\n",
       "    'openDt': '2019-08-07',\n",
       "    'rank': '6',\n",
       "    'rankInten': '0',\n",
       "    'rankOldAndNew': 'OLD',\n",
       "    'rnum': '6',\n",
       "    'salesAcc': '40028760378',\n",
       "    'salesAmt': '249028200',\n",
       "    'salesChange': '-8.2',\n",
       "    'salesInten': '-22310920',\n",
       "    'salesShare': '4.5',\n",
       "    'scrnCnt': '499',\n",
       "    'showCnt': '925'},\n",
       "   {'audiAcc': '597616',\n",
       "    'audiChange': '-7.9',\n",
       "    'audiCnt': '19566',\n",
       "    'audiInten': '-1683',\n",
       "    'movieCd': '20185985',\n",
       "    'movieNm': '광대들: 풍문조작단',\n",
       "    'openDt': '2019-08-21',\n",
       "    'rank': '7',\n",
       "    'rankInten': '0',\n",
       "    'rankOldAndNew': 'OLD',\n",
       "    'rnum': '7',\n",
       "    'salesAcc': '4929720718',\n",
       "    'salesAmt': '162152810',\n",
       "    'salesChange': '-8.6',\n",
       "    'salesInten': '-15304550',\n",
       "    'salesShare': '2.9',\n",
       "    'scrnCnt': '462',\n",
       "    'showCnt': '811'},\n",
       "   {'audiAcc': '73250',\n",
       "    'audiChange': '-13.7',\n",
       "    'audiCnt': '15991',\n",
       "    'audiInten': '-2528',\n",
       "    'movieCd': '20194384',\n",
       "    'movieNm': '안나',\n",
       "    'openDt': '2019-08-28',\n",
       "    'rank': '8',\n",
       "    'rankInten': '0',\n",
       "    'rankOldAndNew': 'OLD',\n",
       "    'rnum': '8',\n",
       "    'salesAcc': '600970920',\n",
       "    'salesAmt': '141388510',\n",
       "    'salesChange': '-14.8',\n",
       "    'salesInten': '-24552940',\n",
       "    'salesShare': '2.5',\n",
       "    'scrnCnt': '410',\n",
       "    'showCnt': '711'},\n",
       "   {'audiAcc': '194259',\n",
       "    'audiChange': '-19.6',\n",
       "    'audiCnt': '7127',\n",
       "    'audiInten': '-1740',\n",
       "    'movieCd': '20171021',\n",
       "    'movieNm': '커런트 워',\n",
       "    'openDt': '2019-08-22',\n",
       "    'rank': '9',\n",
       "    'rankInten': '0',\n",
       "    'rankOldAndNew': 'OLD',\n",
       "    'rnum': '9',\n",
       "    'salesAcc': '1694668900',\n",
       "    'salesAmt': '61985400',\n",
       "    'salesChange': '-21.4',\n",
       "    'salesInten': '-16880100',\n",
       "    'salesShare': '1.1',\n",
       "    'scrnCnt': '183',\n",
       "    'showCnt': '370'},\n",
       "   {'audiAcc': '786819',\n",
       "    'audiChange': '-2.8',\n",
       "    'audiCnt': '5744',\n",
       "    'audiInten': '-163',\n",
       "    'movieCd': '20198323',\n",
       "    'movieNm': '레드슈즈',\n",
       "    'openDt': '2019-07-25',\n",
       "    'rank': '10',\n",
       "    'rankInten': '1',\n",
       "    'rankOldAndNew': 'OLD',\n",
       "    'rnum': '10',\n",
       "    'salesAcc': '5976045650',\n",
       "    'salesAmt': '27753890',\n",
       "    'salesChange': '-4.8',\n",
       "    'salesInten': '-1392710',\n",
       "    'salesShare': '0.5',\n",
       "    'scrnCnt': '75',\n",
       "    'showCnt': '106'}],\n",
       "  'showRange': '20190901~20190901'}}"
      ]
     },
     "execution_count": 42,
     "metadata": {
      "tags": []
     },
     "output_type": "execute_result"
    }
   ],
   "source": [
    "movies"
   ]
  },
  {
   "cell_type": "code",
   "execution_count": 46,
   "metadata": {
    "colab": {
     "base_uri": "https://localhost:8080/",
     "height": 323
    },
    "colab_type": "code",
    "executionInfo": {
     "elapsed": 1128,
     "status": "ok",
     "timestamp": 1568004193724,
     "user": {
      "displayName": "Sung Hak Lim",
      "photoUrl": "https://lh3.googleusercontent.com/a-/AAuE7mCAsIrkT7qHVbLE2qbnDRuLFImyiwklV4EiB94wNA=s64",
      "userId": "05716500249544805974"
     },
     "user_tz": -540
    },
    "id": "sUODmf1JVgXH",
    "outputId": "48477bd7-6233-4cee-ccc4-c9ec5f2e76b7"
   },
   "outputs": [
    {
     "data": {
      "text/plain": [
       "{'audiAcc': '684517',\n",
       " 'audiChange': '-14.1',\n",
       " 'audiCnt': '145265',\n",
       " 'audiInten': '-23942',\n",
       " 'movieCd': '20181416',\n",
       " 'movieNm': '유열의 음악앨범',\n",
       " 'openDt': '2019-08-28',\n",
       " 'rank': '1',\n",
       " 'rankInten': '0',\n",
       " 'rankOldAndNew': 'OLD',\n",
       " 'rnum': '1',\n",
       " 'salesAcc': '5510222940',\n",
       " 'salesAmt': '1276019900',\n",
       " 'salesChange': '-15.1',\n",
       " 'salesInten': '-226097200',\n",
       " 'salesShare': '22.8',\n",
       " 'scrnCnt': '1032',\n",
       " 'showCnt': '4696'}"
      ]
     },
     "execution_count": 46,
     "metadata": {
      "tags": []
     },
     "output_type": "execute_result"
    }
   ],
   "source": [
    "movies['boxOfficeResult']['dailyBoxOfficeList'][0]\n",
    "                                           "
   ]
  },
  {
   "cell_type": "code",
   "execution_count": 47,
   "metadata": {
    "colab": {
     "base_uri": "https://localhost:8080/",
     "height": 34
    },
    "colab_type": "code",
    "executionInfo": {
     "elapsed": 713,
     "status": "ok",
     "timestamp": 1568004315439,
     "user": {
      "displayName": "Sung Hak Lim",
      "photoUrl": "https://lh3.googleusercontent.com/a-/AAuE7mCAsIrkT7qHVbLE2qbnDRuLFImyiwklV4EiB94wNA=s64",
      "userId": "05716500249544805974"
     },
     "user_tz": -540
    },
    "id": "lKyUtuB2TyRn",
    "outputId": "3c201a7c-d62d-42f8-ed7a-4453a28c6b16"
   },
   "outputs": [
    {
     "data": {
      "text/plain": [
       "'20190901~20190901'"
      ]
     },
     "execution_count": 47,
     "metadata": {
      "tags": []
     },
     "output_type": "execute_result"
    }
   ],
   "source": [
    "movies['boxOfficeResult']['showRange']\n",
    "                                           "
   ]
  },
  {
   "cell_type": "code",
   "execution_count": 49,
   "metadata": {
    "colab": {
     "base_uri": "https://localhost:8080/",
     "height": 34
    },
    "colab_type": "code",
    "executionInfo": {
     "elapsed": 745,
     "status": "ok",
     "timestamp": 1568004359369,
     "user": {
      "displayName": "Sung Hak Lim",
      "photoUrl": "https://lh3.googleusercontent.com/a-/AAuE7mCAsIrkT7qHVbLE2qbnDRuLFImyiwklV4EiB94wNA=s64",
      "userId": "05716500249544805974"
     },
     "user_tz": -540
    },
    "id": "VwcEc3Z5VxYE",
    "outputId": "42e2174f-3ec6-404c-8197-214ee2b94df7"
   },
   "outputs": [
    {
     "data": {
      "text/plain": [
       "'유열의 음악앨범'"
      ]
     },
     "execution_count": 49,
     "metadata": {
      "tags": []
     },
     "output_type": "execute_result"
    }
   ],
   "source": [
    "movies['boxOfficeResult']['dailyBoxOfficeList'][0]['movieNm']"
   ]
  },
  {
   "cell_type": "code",
   "execution_count": null,
   "metadata": {
    "colab": {},
    "colab_type": "code",
    "id": "cPqy6e5vV3j4"
   },
   "outputs": [],
   "source": []
  }
 ],
 "metadata": {
  "colab": {
   "collapsed_sections": [],
   "name": "02_문법_추가_임성학.ipynb",
   "provenance": [],
   "version": "0.3.2"
  },
  "kernelspec": {
   "display_name": "Python 3",
   "language": "python",
   "name": "python3"
  },
  "language_info": {
   "codemirror_mode": {
    "name": "ipython",
    "version": 3
   },
   "file_extension": ".py",
   "mimetype": "text/x-python",
   "name": "python",
   "nbconvert_exporter": "python",
   "pygments_lexer": "ipython3",
   "version": "3.7.4"
  }
 },
 "nbformat": 4,
 "nbformat_minor": 4
}
