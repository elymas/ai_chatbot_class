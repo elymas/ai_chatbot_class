{
 "cells": [
  {
   "cell_type": "markdown",
   "metadata": {
    "colab_type": "text",
    "id": "sTWgjT12q5PG"
   },
   "source": [
    "### 1. '{}~'.format() 문법을 이용하여 예시와 같이 문자열을 출력하세요.\n",
    "<pre>\n",
    "예시:\n",
    "철수는 2000년 생이다."
   ]
  },
  {
   "cell_type": "code",
   "execution_count": 1,
   "metadata": {
    "colab": {
     "base_uri": "https://localhost:8080/",
     "height": 34
    },
    "colab_type": "code",
    "executionInfo": {
     "elapsed": 887,
     "status": "ok",
     "timestamp": 1568000640124,
     "user": {
      "displayName": "Sung Hak Lim",
      "photoUrl": "https://lh3.googleusercontent.com/a-/AAuE7mCAsIrkT7qHVbLE2qbnDRuLFImyiwklV4EiB94wNA=s64",
      "userId": "05716500249544805974"
     },
     "user_tz": -540
    },
    "id": "RKKgpWpfrgml",
    "outputId": "934f8921-f500-46c6-fed1-16b98f6d9a95"
   },
   "outputs": [
    {
     "name": "stdout",
     "output_type": "stream",
     "text": [
      "철수는 2000년 생이다.\n"
     ]
    }
   ],
   "source": [
    "a='철수'\n",
    "b=2000\n",
    "\n",
    "print('{}는 {}년 생이다.'.format(a,b) )"
   ]
  },
  {
   "cell_type": "markdown",
   "metadata": {
    "colab_type": "text",
    "id": "0GPQ630XrmlB"
   },
   "source": [
    "### 2. %s를 사용하여 예시와 같이 문자열을 출력하세요.\n",
    "<pre>\n",
    "철수는 20살이다."
   ]
  },
  {
   "cell_type": "code",
   "execution_count": 2,
   "metadata": {
    "colab": {
     "base_uri": "https://localhost:8080/",
     "height": 34
    },
    "colab_type": "code",
    "executionInfo": {
     "elapsed": 777,
     "status": "ok",
     "timestamp": 1568000667751,
     "user": {
      "displayName": "Sung Hak Lim",
      "photoUrl": "https://lh3.googleusercontent.com/a-/AAuE7mCAsIrkT7qHVbLE2qbnDRuLFImyiwklV4EiB94wNA=s64",
      "userId": "05716500249544805974"
     },
     "user_tz": -540
    },
    "id": "btufQItpr0Zm",
    "outputId": "91f5895f-5c5f-445e-ba35-bb01748eb9a2"
   },
   "outputs": [
    {
     "name": "stdout",
     "output_type": "stream",
     "text": [
      "철수는 20살이다.\n"
     ]
    }
   ],
   "source": [
    "a='철수'\n",
    "\n",
    "print('%s는 20살이다.'%a)"
   ]
  },
  {
   "cell_type": "markdown",
   "metadata": {
    "colab_type": "text",
    "id": "le1_cbzvr3Wo"
   },
   "source": [
    "### 3. %d를 이용하여 예시와 같이 문자열을 출력하세요.\n",
    "<pre>\n",
    "철수는 20살이다."
   ]
  },
  {
   "cell_type": "code",
   "execution_count": 4,
   "metadata": {
    "colab": {
     "base_uri": "https://localhost:8080/",
     "height": 34
    },
    "colab_type": "code",
    "executionInfo": {
     "elapsed": 860,
     "status": "ok",
     "timestamp": 1568000711856,
     "user": {
      "displayName": "Sung Hak Lim",
      "photoUrl": "https://lh3.googleusercontent.com/a-/AAuE7mCAsIrkT7qHVbLE2qbnDRuLFImyiwklV4EiB94wNA=s64",
      "userId": "05716500249544805974"
     },
     "user_tz": -540
    },
    "id": "4av-7PAEsJcT",
    "outputId": "00943f6b-3c38-4d56-82b8-9fc9a24ba78a"
   },
   "outputs": [
    {
     "name": "stdout",
     "output_type": "stream",
     "text": [
      "철수는 20살이다.\n"
     ]
    }
   ],
   "source": [
    "a=20\n",
    "\n",
    "print('철수는 %d살이다.'%a)"
   ]
  },
  {
   "cell_type": "markdown",
   "metadata": {
    "colab_type": "text",
    "id": "im6je8onsLWY"
   },
   "source": [
    "### 4. %f를 이용하여 예시와 같이 문자열을 출력하세요.\n",
    "<pre>\n",
    "이 원의 반지름은 2.37이다."
   ]
  },
  {
   "cell_type": "code",
   "execution_count": 6,
   "metadata": {
    "colab": {
     "base_uri": "https://localhost:8080/",
     "height": 34
    },
    "colab_type": "code",
    "executionInfo": {
     "elapsed": 787,
     "status": "ok",
     "timestamp": 1568000752545,
     "user": {
      "displayName": "Sung Hak Lim",
      "photoUrl": "https://lh3.googleusercontent.com/a-/AAuE7mCAsIrkT7qHVbLE2qbnDRuLFImyiwklV4EiB94wNA=s64",
      "userId": "05716500249544805974"
     },
     "user_tz": -540
    },
    "id": "0Om0IaDksbjp",
    "outputId": "82dfa64b-f349-4e33-cc6b-6efb4c88862a"
   },
   "outputs": [
    {
     "name": "stdout",
     "output_type": "stream",
     "text": [
      "이 원의 반지름은 2.37이다.\n"
     ]
    }
   ],
   "source": [
    "a=2.37\n",
    "\n",
    "print('이 원의 반지름은 %0.2f이다.'%a)"
   ]
  },
  {
   "cell_type": "markdown",
   "metadata": {
    "colab_type": "text",
    "id": "7M-x6khGsdc4"
   },
   "source": [
    "### 5. %%를 이용하여 다음과 같이 문자열을 출력하세요.\n",
    "<pre>\n",
    "그의 성적은 상위 3%에 든다."
   ]
  },
  {
   "cell_type": "code",
   "execution_count": 7,
   "metadata": {
    "colab": {
     "base_uri": "https://localhost:8080/",
     "height": 34
    },
    "colab_type": "code",
    "executionInfo": {
     "elapsed": 2505,
     "status": "ok",
     "timestamp": 1568000790943,
     "user": {
      "displayName": "Sung Hak Lim",
      "photoUrl": "https://lh3.googleusercontent.com/a-/AAuE7mCAsIrkT7qHVbLE2qbnDRuLFImyiwklV4EiB94wNA=s64",
      "userId": "05716500249544805974"
     },
     "user_tz": -540
    },
    "id": "9GsvEWiSs3Gi",
    "outputId": "9c83ad7b-06fc-400a-80d1-a1feee013005"
   },
   "outputs": [
    {
     "name": "stdout",
     "output_type": "stream",
     "text": [
      "그의 성적은 상위 3%에 든다.\n"
     ]
    }
   ],
   "source": [
    "a=3\n",
    "\n",
    "print('그의 성적은 상위 %d%%에 든다.'%a)"
   ]
  },
  {
   "cell_type": "markdown",
   "metadata": {
    "colab_type": "text",
    "id": "sbOOaEW6s4_3"
   },
   "source": [
    "### 6. %s, %d, %% 등을 이용하여 다음과 같이 문자열을 출력하세요.\n",
    "<pre>\n",
    "나의 미모는 세계에서 상위 3%안에 든다고 확신한다."
   ]
  },
  {
   "cell_type": "code",
   "execution_count": 8,
   "metadata": {
    "colab": {
     "base_uri": "https://localhost:8080/",
     "height": 34
    },
    "colab_type": "code",
    "executionInfo": {
     "elapsed": 2236,
     "status": "ok",
     "timestamp": 1568000857191,
     "user": {
      "displayName": "Sung Hak Lim",
      "photoUrl": "https://lh3.googleusercontent.com/a-/AAuE7mCAsIrkT7qHVbLE2qbnDRuLFImyiwklV4EiB94wNA=s64",
      "userId": "05716500249544805974"
     },
     "user_tz": -540
    },
    "id": "uTmmp8VNtPvo",
    "outputId": "9fc33a8a-7573-408a-c466-ec5c7cbda4dc"
   },
   "outputs": [
    {
     "name": "stdout",
     "output_type": "stream",
     "text": [
      "나의 미모는 세계에서 상위 3%안에 든다고 확신한다\n"
     ]
    }
   ],
   "source": [
    "a='나'\n",
    "b='미모'\n",
    "c=3\n",
    "\n",
    "print('%s의 %s는 세계에서 상위 %d%%안에 든다고 확신한다'%(a, b, c))"
   ]
  },
  {
   "cell_type": "markdown",
   "metadata": {
    "colab_type": "text",
    "id": "zjDxTTZetYoY"
   },
   "source": [
    "### 7. 값이 다음과 같이 주어질 때 소수점 둘째 짜리까지 출력하세요."
   ]
  },
  {
   "cell_type": "code",
   "execution_count": 9,
   "metadata": {
    "colab": {
     "base_uri": "https://localhost:8080/",
     "height": 34
    },
    "colab_type": "code",
    "executionInfo": {
     "elapsed": 1247,
     "status": "ok",
     "timestamp": 1568000900715,
     "user": {
      "displayName": "Sung Hak Lim",
      "photoUrl": "https://lh3.googleusercontent.com/a-/AAuE7mCAsIrkT7qHVbLE2qbnDRuLFImyiwklV4EiB94wNA=s64",
      "userId": "05716500249544805974"
     },
     "user_tz": -540
    },
    "id": "4wML5ICO8Vx3",
    "outputId": "42743517-2ce2-4e11-f785-9ae422b28a92"
   },
   "outputs": [
    {
     "name": "stdout",
     "output_type": "stream",
     "text": [
      "7.88\n"
     ]
    }
   ],
   "source": [
    "a=7.8812\n",
    "\n",
    "print('%0.2f'%a)"
   ]
  },
  {
   "cell_type": "markdown",
   "metadata": {
    "colab_type": "text",
    "id": "SooIPI0i8bjr"
   },
   "source": [
    "### 8. 값이 다음과 같이 주어질 때 소수점 3째 자리까지 출력하세요."
   ]
  },
  {
   "cell_type": "code",
   "execution_count": 10,
   "metadata": {
    "colab": {
     "base_uri": "https://localhost:8080/",
     "height": 34
    },
    "colab_type": "code",
    "executionInfo": {
     "elapsed": 730,
     "status": "ok",
     "timestamp": 1568000917574,
     "user": {
      "displayName": "Sung Hak Lim",
      "photoUrl": "https://lh3.googleusercontent.com/a-/AAuE7mCAsIrkT7qHVbLE2qbnDRuLFImyiwklV4EiB94wNA=s64",
      "userId": "05716500249544805974"
     },
     "user_tz": -540
    },
    "id": "x_mGzHig8lHc",
    "outputId": "5d269f81-98fe-4aac-ffe9-0e18a07e7870"
   },
   "outputs": [
    {
     "name": "stdout",
     "output_type": "stream",
     "text": [
      "103.111\n"
     ]
    }
   ],
   "source": [
    "a=103.110824\n",
    "\n",
    "print('%0.3f'%a)"
   ]
  },
  {
   "cell_type": "markdown",
   "metadata": {
    "colab_type": "text",
    "id": "Jq57DEYx8tj5"
   },
   "source": [
    "### 9. new.txt라는 빈 파일을 만드세요."
   ]
  },
  {
   "cell_type": "code",
   "execution_count": 11,
   "metadata": {
    "colab": {
     "base_uri": "https://localhost:8080/",
     "height": 34
    },
    "colab_type": "code",
    "executionInfo": {
     "elapsed": 978,
     "status": "ok",
     "timestamp": 1568000939663,
     "user": {
      "displayName": "Sung Hak Lim",
      "photoUrl": "https://lh3.googleusercontent.com/a-/AAuE7mCAsIrkT7qHVbLE2qbnDRuLFImyiwklV4EiB94wNA=s64",
      "userId": "05716500249544805974"
     },
     "user_tz": -540
    },
    "id": "Za_ndGn78_p_",
    "outputId": "edb65c78-0afe-41fc-f080-27a89c8da56d"
   },
   "outputs": [
    {
     "data": {
      "text/plain": [
       "<function TextIOWrapper.close>"
      ]
     },
     "execution_count": 11,
     "metadata": {
      "tags": []
     },
     "output_type": "execute_result"
    }
   ],
   "source": [
    "file = open('new.txt', 'w')\n",
    "file.close"
   ]
  },
  {
   "cell_type": "code",
   "execution_count": 12,
   "metadata": {
    "colab": {
     "base_uri": "https://localhost:8080/",
     "height": 119
    },
    "colab_type": "code",
    "executionInfo": {
     "elapsed": 2640,
     "status": "ok",
     "timestamp": 1568000977706,
     "user": {
      "displayName": "Sung Hak Lim",
      "photoUrl": "https://lh3.googleusercontent.com/a-/AAuE7mCAsIrkT7qHVbLE2qbnDRuLFImyiwklV4EiB94wNA=s64",
      "userId": "05716500249544805974"
     },
     "user_tz": -540
    },
    "id": "0dpHkseTJAtE",
    "outputId": "75cab98b-3dd9-4a2d-ea57-748e48e98a2e"
   },
   "outputs": [
    {
     "name": "stdout",
     "output_type": "stream",
     "text": [
      "total 16\n",
      "drwxr-xr-x 1 root root 4096 Sep  9 03:48 \u001b[0m\u001b[01;34m.\u001b[0m/\n",
      "drwxr-xr-x 1 root root 4096 Sep  9 03:43 \u001b[01;34m..\u001b[0m/\n",
      "drwxr-xr-x 1 root root 4096 Sep  4 16:06 \u001b[01;34m.config\u001b[0m/\n",
      "-rw-r--r-- 1 root root    0 Sep  9 03:48 new.txt\n",
      "drwxr-xr-x 1 root root 4096 Aug 27 16:17 \u001b[01;34msample_data\u001b[0m/\n"
     ]
    }
   ],
   "source": [
    "ls -al"
   ]
  },
  {
   "cell_type": "markdown",
   "metadata": {
    "colab_type": "text",
    "id": "5NCJLPSm9BE5"
   },
   "source": [
    "### 10. new2.txt라는 파일을 만들고\n",
    "### 예시와 같은 문장이 들어가게 만드세요.\n",
    "<pre>\n",
    "1입니다.\n",
    "2입니다.\n",
    "3입니다.\n",
    "4입니다.\n",
    "5입니다.\n"
   ]
  },
  {
   "cell_type": "code",
   "execution_count": null,
   "metadata": {
    "colab": {},
    "colab_type": "code",
    "id": "4kP1btQy-DM5"
   },
   "outputs": [],
   "source": [
    "file = open('new2.txt', 'w')\n",
    "for i in range(1, 6):\n",
    "  file.write('%d입니다.\\n'%i)\n",
    "file.close()"
   ]
  },
  {
   "cell_type": "code",
   "execution_count": 15,
   "metadata": {
    "colab": {
     "base_uri": "https://localhost:8080/",
     "height": 136
    },
    "colab_type": "code",
    "executionInfo": {
     "elapsed": 2393,
     "status": "ok",
     "timestamp": 1568001055183,
     "user": {
      "displayName": "Sung Hak Lim",
      "photoUrl": "https://lh3.googleusercontent.com/a-/AAuE7mCAsIrkT7qHVbLE2qbnDRuLFImyiwklV4EiB94wNA=s64",
      "userId": "05716500249544805974"
     },
     "user_tz": -540
    },
    "id": "xTVT5BeGJTrb",
    "outputId": "6fb4d348-068a-4eb7-d178-47f575511598"
   },
   "outputs": [
    {
     "name": "stdout",
     "output_type": "stream",
     "text": [
      "total 20\n",
      "drwxr-xr-x 1 root root 4096 Sep  9 03:50 \u001b[0m\u001b[01;34m.\u001b[0m/\n",
      "drwxr-xr-x 1 root root 4096 Sep  9 03:43 \u001b[01;34m..\u001b[0m/\n",
      "drwxr-xr-x 1 root root 4096 Sep  4 16:06 \u001b[01;34m.config\u001b[0m/\n",
      "-rw-r--r-- 1 root root   55 Sep  9 03:50 new2.txt\n",
      "-rw-r--r-- 1 root root    0 Sep  9 03:48 new.txt\n",
      "drwxr-xr-x 1 root root 4096 Aug 27 16:17 \u001b[01;34msample_data\u001b[0m/\n"
     ]
    }
   ],
   "source": [
    "ls -al"
   ]
  },
  {
   "cell_type": "markdown",
   "metadata": {
    "colab_type": "text",
    "id": "zXJ6HVCp9h-j"
   },
   "source": [
    "### 11. 10번에서 만든 new2.txt에 '6입니다.' ~ '10입니다.'를 추가하세요."
   ]
  },
  {
   "cell_type": "code",
   "execution_count": null,
   "metadata": {
    "colab": {},
    "colab_type": "code",
    "id": "uAuxGXlR-CP_"
   },
   "outputs": [],
   "source": [
    "file = open('new2.txt', 'a')\n",
    "for i in range(6, 11):\n",
    "  file.write('%d입니다.\\n'%i)\n",
    "file.close()"
   ]
  },
  {
   "cell_type": "markdown",
   "metadata": {
    "colab_type": "text",
    "id": "oALldziD9zjz"
   },
   "source": [
    "### 12. 11번의 new2.txt를 read()함수로 읽어 lines 변수에 저장하고 출력하세요."
   ]
  },
  {
   "cell_type": "code",
   "execution_count": 4,
   "metadata": {
    "colab": {
     "base_uri": "https://localhost:8080/",
     "height": 204
    },
    "colab_type": "code",
    "executionInfo": {
     "elapsed": 761,
     "status": "ok",
     "timestamp": 1568001513684,
     "user": {
      "displayName": "Sung Hak Lim",
      "photoUrl": "https://lh3.googleusercontent.com/a-/AAuE7mCAsIrkT7qHVbLE2qbnDRuLFImyiwklV4EiB94wNA=s64",
      "userId": "05716500249544805974"
     },
     "user_tz": -540
    },
    "id": "zhdL8y3d-BhM",
    "outputId": "ffa9c4be-a7d9-4410-da1a-621b3378de54"
   },
   "outputs": [
    {
     "name": "stdout",
     "output_type": "stream",
     "text": [
      "1입니다.\n",
      "2입니다.\n",
      "3입니다.\n",
      "4입니다.\n",
      "5입니다.\n",
      "6입니다.\n",
      "7입니다.\n",
      "8입니다.\n",
      "9입니다.\n",
      "10입니다.\n",
      "\n"
     ]
    }
   ],
   "source": [
    "file = open('new2.txt', 'r')\n",
    "lines = file.read()\n",
    "file.close()\n",
    "\n",
    "print(lines)"
   ]
  },
  {
   "cell_type": "markdown",
   "metadata": {
    "colab_type": "text",
    "id": "a5ibJ3x0-EZq"
   },
   "source": [
    "### 13. 11번의 new2.txt를 readlines() 함수로 읽어 lines2 변수에 저장하고 출력하세요."
   ]
  },
  {
   "cell_type": "code",
   "execution_count": 5,
   "metadata": {
    "colab": {
     "base_uri": "https://localhost:8080/",
     "height": 34
    },
    "colab_type": "code",
    "executionInfo": {
     "elapsed": 966,
     "status": "ok",
     "timestamp": 1568001562629,
     "user": {
      "displayName": "Sung Hak Lim",
      "photoUrl": "https://lh3.googleusercontent.com/a-/AAuE7mCAsIrkT7qHVbLE2qbnDRuLFImyiwklV4EiB94wNA=s64",
      "userId": "05716500249544805974"
     },
     "user_tz": -540
    },
    "id": "2nhqvJZp-Mc6",
    "outputId": "81b45bb4-dd0f-4c17-bca5-0dd5ee29adde"
   },
   "outputs": [
    {
     "name": "stdout",
     "output_type": "stream",
     "text": [
      "['1입니다.\\n', '2입니다.\\n', '3입니다.\\n', '4입니다.\\n', '5입니다.\\n', '6입니다.\\n', '7입니다.\\n', '8입니다.\\n', '9입니다.\\n', '10입니다.\\n']\n"
     ]
    }
   ],
   "source": [
    "file = open('new2.txt', 'r')\n",
    "lines2 = file.readlines()\n",
    "file.close()\n",
    "\n",
    "print(lines2)"
   ]
  },
  {
   "cell_type": "markdown",
   "metadata": {
    "colab_type": "text",
    "id": "mMs8dTF3-Nsg"
   },
   "source": [
    "### 14. with문을 이용하여 new3.txt를 만들고 예시와 같은 내용을 넣으세요.\n",
    "<pre>\n",
    "봄 바람 휘날리며, 흩날리는 벚꽃잎이"
   ]
  },
  {
   "cell_type": "code",
   "execution_count": null,
   "metadata": {
    "colab": {},
    "colab_type": "code",
    "id": "SBucn-n--89o"
   },
   "outputs": [],
   "source": [
    "with open('new3.txt', 'w') as f:\n",
    "  f.write('봄 바람 휘날리며, 흩날리는 벚꽃잎이')"
   ]
  },
  {
   "cell_type": "code",
   "execution_count": 7,
   "metadata": {
    "colab": {
     "base_uri": "https://localhost:8080/",
     "height": 136
    },
    "colab_type": "code",
    "executionInfo": {
     "elapsed": 3190,
     "status": "ok",
     "timestamp": 1568001712245,
     "user": {
      "displayName": "Sung Hak Lim",
      "photoUrl": "https://lh3.googleusercontent.com/a-/AAuE7mCAsIrkT7qHVbLE2qbnDRuLFImyiwklV4EiB94wNA=s64",
      "userId": "05716500249544805974"
     },
     "user_tz": -540
    },
    "id": "WM5MmCoAL0Fm",
    "outputId": "31cb8c11-8df2-47df-ec3f-b15a05d6f2c0"
   },
   "outputs": [
    {
     "name": "stdout",
     "output_type": "stream",
     "text": [
      "total 24\n",
      "drwxr-xr-x 1 root root 4096 Sep  9 04:01 \u001b[0m\u001b[01;34m.\u001b[0m/\n",
      "drwxr-xr-x 1 root root 4096 Sep  9 03:49 \u001b[01;34m..\u001b[0m/\n",
      "drwxr-xr-x 1 root root 4096 Sep  4 16:06 \u001b[01;34m.config\u001b[0m/\n",
      "-rw-r--r-- 1 root root  121 Sep  9 03:56 new2.txt\n",
      "-rw-r--r-- 1 root root   50 Sep  9 04:01 new3.txt\n",
      "drwxr-xr-x 1 root root 4096 Aug 27 16:17 \u001b[01;34msample_data\u001b[0m/\n"
     ]
    }
   ],
   "source": [
    "ls -al"
   ]
  },
  {
   "cell_type": "markdown",
   "metadata": {
    "colab_type": "text",
    "id": "bDmH7gMz-9qJ"
   },
   "source": [
    "### 15. 14번 문제에서 만든 new3.txt를 read()로 읽어 line 이라는 변수에 저장하세요.\n",
    "### 출력도 해보세요."
   ]
  },
  {
   "cell_type": "code",
   "execution_count": 9,
   "metadata": {
    "colab": {
     "base_uri": "https://localhost:8080/",
     "height": 34
    },
    "colab_type": "code",
    "executionInfo": {
     "elapsed": 783,
     "status": "ok",
     "timestamp": 1568001758736,
     "user": {
      "displayName": "Sung Hak Lim",
      "photoUrl": "https://lh3.googleusercontent.com/a-/AAuE7mCAsIrkT7qHVbLE2qbnDRuLFImyiwklV4EiB94wNA=s64",
      "userId": "05716500249544805974"
     },
     "user_tz": -540
    },
    "id": "35vU4-lp_TkM",
    "outputId": "624a61eb-e4a2-4233-c835-7e773a7fdd78"
   },
   "outputs": [
    {
     "name": "stdout",
     "output_type": "stream",
     "text": [
      "봄 바람 휘날리며, 흩날리는 벚꽃잎이\n"
     ]
    }
   ],
   "source": [
    "with open('new3.txt', 'r') as f:\n",
    "  line = f.read()\n",
    "  \n",
    "print(line)"
   ]
  },
  {
   "cell_type": "markdown",
   "metadata": {
    "colab_type": "text",
    "id": "3IpKmKFt_UFp"
   },
   "source": [
    "### 16. 자신의 영문 성을 변수명으로 갖는 딕셔너리를 만드세요. \n",
    "### key값은 예시와 같이 만들고 value값은 자신의 그것에 해당하는 것을 채워서 만드세요.\n",
    "<pre>\n",
    "kim = {'이름':'',\n",
    "      '취미':'', \n",
    "      '좌우명':''}\n"
   ]
  },
  {
   "cell_type": "code",
   "execution_count": 11,
   "metadata": {
    "colab": {
     "base_uri": "https://localhost:8080/",
     "height": 34
    },
    "colab_type": "code",
    "executionInfo": {
     "elapsed": 805,
     "status": "ok",
     "timestamp": 1568001870342,
     "user": {
      "displayName": "Sung Hak Lim",
      "photoUrl": "https://lh3.googleusercontent.com/a-/AAuE7mCAsIrkT7qHVbLE2qbnDRuLFImyiwklV4EiB94wNA=s64",
      "userId": "05716500249544805974"
     },
     "user_tz": -540
    },
    "id": "XSjQea76AE5f",
    "outputId": "7a95bb83-572e-435d-fc63-e834faa8b9f0"
   },
   "outputs": [
    {
     "data": {
      "text/plain": [
       "dict"
      ]
     },
     "execution_count": 11,
     "metadata": {
      "tags": []
     },
     "output_type": "execute_result"
    }
   ],
   "source": [
    "mr = {'이름':'임성학',\n",
    "     '취미':'책구매',\n",
    "     '좌우명':'길게보자'}\n",
    "\n",
    "type(mr)"
   ]
  },
  {
   "cell_type": "markdown",
   "metadata": {
    "colab_type": "text",
    "id": "PkXy-_u8AZsK"
   },
   "source": [
    "### 17. 16에서 만든 딕셔너리로 자신의 영문 성.json 파일을 만드세요."
   ]
  },
  {
   "cell_type": "code",
   "execution_count": null,
   "metadata": {
    "colab": {},
    "colab_type": "code",
    "id": "ZtORn-uyAs0S"
   },
   "outputs": [],
   "source": [
    "import json\n",
    "\n",
    "with open('lim.json', 'w', encoding = 'UTF-8') as f:\n",
    "  json.dump(mr, f, indent = 4, ensure_ascii = False)"
   ]
  },
  {
   "cell_type": "code",
   "execution_count": 13,
   "metadata": {
    "colab": {
     "base_uri": "https://localhost:8080/",
     "height": 153
    },
    "colab_type": "code",
    "executionInfo": {
     "elapsed": 2875,
     "status": "ok",
     "timestamp": 1568002132996,
     "user": {
      "displayName": "Sung Hak Lim",
      "photoUrl": "https://lh3.googleusercontent.com/a-/AAuE7mCAsIrkT7qHVbLE2qbnDRuLFImyiwklV4EiB94wNA=s64",
      "userId": "05716500249544805974"
     },
     "user_tz": -540
    },
    "id": "WUR--KloNbRa",
    "outputId": "1029c221-d70f-48aa-8419-d612d0a0ea19"
   },
   "outputs": [
    {
     "name": "stdout",
     "output_type": "stream",
     "text": [
      "total 28\n",
      "drwxr-xr-x 1 root root 4096 Sep  9 04:06 \u001b[0m\u001b[01;34m.\u001b[0m/\n",
      "drwxr-xr-x 1 root root 4096 Sep  9 03:49 \u001b[01;34m..\u001b[0m/\n",
      "drwxr-xr-x 1 root root 4096 Sep  4 16:06 \u001b[01;34m.config\u001b[0m/\n",
      "-rw-r--r-- 1 root root   89 Sep  9 04:06 lim.json\n",
      "-rw-r--r-- 1 root root  121 Sep  9 03:56 new2.txt\n",
      "-rw-r--r-- 1 root root   50 Sep  9 04:01 new3.txt\n",
      "drwxr-xr-x 1 root root 4096 Aug 27 16:17 \u001b[01;34msample_data\u001b[0m/\n"
     ]
    }
   ],
   "source": [
    "ls -al"
   ]
  },
  {
   "cell_type": "markdown",
   "metadata": {
    "colab_type": "text",
    "id": "QUsDNLvKAt8g"
   },
   "source": [
    "### 18. 17에서 만든 json파일을 읽은 후 변수에 저장하세요.\n",
    "### 이를 출력하세요."
   ]
  },
  {
   "cell_type": "code",
   "execution_count": 16,
   "metadata": {
    "colab": {
     "base_uri": "https://localhost:8080/",
     "height": 34
    },
    "colab_type": "code",
    "executionInfo": {
     "elapsed": 562,
     "status": "ok",
     "timestamp": 1568002259050,
     "user": {
      "displayName": "Sung Hak Lim",
      "photoUrl": "https://lh3.googleusercontent.com/a-/AAuE7mCAsIrkT7qHVbLE2qbnDRuLFImyiwklV4EiB94wNA=s64",
      "userId": "05716500249544805974"
     },
     "user_tz": -540
    },
    "id": "AigsRjpAA2cw",
    "outputId": "bc8ddb82-ac0a-411a-dea0-e88cbc887574"
   },
   "outputs": [
    {
     "name": "stdout",
     "output_type": "stream",
     "text": [
      "{'이름': '임성학', '취미': '책구매', '좌우명': '길게보자'}\n"
     ]
    }
   ],
   "source": [
    "with open('lim.json', 'r') as f:\n",
    "  mr_lim = json.load(f)\n",
    "  \n",
    "print(mr_lim)"
   ]
  },
  {
   "cell_type": "markdown",
   "metadata": {
    "colab_type": "text",
    "id": "ZXhRyxFIA3mg"
   },
   "source": [
    "### 19. 영화 진흥원에서 받은 9월 첫째 주 박스오피스가 딕셔너리를 딕셔너리로 저장해두었습니다.\n",
    "### 이를 json 파일로 만드세요. 파일명은 boxoffice.json으로 만듭니다."
   ]
  },
  {
   "cell_type": "code",
   "execution_count": null,
   "metadata": {
    "colab": {},
    "colab_type": "code",
    "id": "sHXlUqWEBf4g"
   },
   "outputs": [],
   "source": [
    "movies = {\"boxOfficeResult\":{\"boxofficeType\":\"일별 박스오피스\",\"showRange\":\"20190901~20190901\",\"dailyBoxOfficeList\":[{\"rnum\":\"1\",\"rank\":\"1\",\"rankInten\":\"0\",\"rankOldAndNew\":\"OLD\",\"movieCd\":\"20181416\",\"movieNm\":\"유열의 음악앨범\",\"openDt\":\"2019-08-28\",\"salesAmt\":\"1276019900\",\"salesShare\":\"22.8\",\"salesInten\":\"-226097200\",\"salesChange\":\"-15.1\",\"salesAcc\":\"5510222940\",\"audiCnt\":\"145265\",\"audiInten\":\"-23942\",\"audiChange\":\"-14.1\",\"audiAcc\":\"684517\",\"scrnCnt\":\"1032\",\"showCnt\":\"4696\"},{\"rnum\":\"2\",\"rank\":\"2\",\"rankInten\":\"0\",\"rankOldAndNew\":\"OLD\",\"movieCd\":\"20184543\",\"movieNm\":\"변신\",\"openDt\":\"2019-08-21\",\"salesAmt\":\"1132455850\",\"salesShare\":\"20.3\",\"salesInten\":\"-278659860\",\"salesChange\":\"-19.7\",\"salesAcc\":\"12848880862\",\"audiCnt\":\"128666\",\"audiInten\":\"-29234\",\"audiChange\":\"-18.5\",\"audiAcc\":\"1499644\",\"scrnCnt\":\"888\",\"showCnt\":\"3496\"},{\"rnum\":\"3\",\"rank\":\"3\",\"rankInten\":\"0\",\"rankOldAndNew\":\"OLD\",\"movieCd\":\"20184621\",\"movieNm\":\"엑시트\",\"openDt\":\"2019-07-31\",\"salesAmt\":\"905597200\",\"salesShare\":\"16.2\",\"salesInten\":\"-230085970\",\"salesChange\":\"-20.3\",\"salesAcc\":\"74985544502\",\"audiCnt\":\"105783\",\"audiInten\":\"-26723\",\"audiChange\":\"-20.2\",\"audiAcc\":\"8917590\",\"scrnCnt\":\"800\",\"showCnt\":\"2784\"},{\"rnum\":\"4\",\"rank\":\"4\",\"rankInten\":\"0\",\"rankOldAndNew\":\"OLD\",\"movieCd\":\"20196850\",\"movieNm\":\"분노의 질주: 홉스&쇼\",\"openDt\":\"2019-08-14\",\"salesAmt\":\"718357500\",\"salesShare\":\"12.9\",\"salesInten\":\"-138592050\",\"salesChange\":\"-16.2\",\"salesAcc\":\"30234059483\",\"audiCnt\":\"81183\",\"audiInten\":\"-15322\",\"audiChange\":\"-15.9\",\"audiAcc\":\"3418346\",\"scrnCnt\":\"666\",\"showCnt\":\"2091\"},{\"rnum\":\"5\",\"rank\":\"5\",\"rankInten\":\"0\",\"rankOldAndNew\":\"OLD\",\"movieCd\":\"20193665\",\"movieNm\":\"47미터 2\",\"openDt\":\"2019-08-28\",\"salesAmt\":\"623415780\",\"salesShare\":\"11.2\",\"salesInten\":\"-79210820\",\"salesChange\":\"-11.3\",\"salesAcc\":\"2515525810\",\"audiCnt\":\"71516\",\"audiInten\":\"-7583\",\"audiChange\":\"-9.6\",\"audiAcc\":\"311240\",\"scrnCnt\":\"642\",\"showCnt\":\"2073\"},{\"rnum\":\"6\",\"rank\":\"6\",\"rankInten\":\"0\",\"rankOldAndNew\":\"OLD\",\"movieCd\":\"20184462\",\"movieNm\":\"봉오동 전투\",\"openDt\":\"2019-08-07\",\"salesAmt\":\"249028200\",\"salesShare\":\"4.5\",\"salesInten\":\"-22310920\",\"salesChange\":\"-8.2\",\"salesAcc\":\"40028760378\",\"audiCnt\":\"29522\",\"audiInten\":\"-2554\",\"audiChange\":\"-8\",\"audiAcc\":\"4712558\",\"scrnCnt\":\"499\",\"showCnt\":\"925\"},{\"rnum\":\"7\",\"rank\":\"7\",\"rankInten\":\"0\",\"rankOldAndNew\":\"OLD\",\"movieCd\":\"20185985\",\"movieNm\":\"광대들: 풍문조작단\",\"openDt\":\"2019-08-21\",\"salesAmt\":\"162152810\",\"salesShare\":\"2.9\",\"salesInten\":\"-15304550\",\"salesChange\":\"-8.6\",\"salesAcc\":\"4929720718\",\"audiCnt\":\"19566\",\"audiInten\":\"-1683\",\"audiChange\":\"-7.9\",\"audiAcc\":\"597616\",\"scrnCnt\":\"462\",\"showCnt\":\"811\"},{\"rnum\":\"8\",\"rank\":\"8\",\"rankInten\":\"0\",\"rankOldAndNew\":\"OLD\",\"movieCd\":\"20194384\",\"movieNm\":\"안나\",\"openDt\":\"2019-08-28\",\"salesAmt\":\"141388510\",\"salesShare\":\"2.5\",\"salesInten\":\"-24552940\",\"salesChange\":\"-14.8\",\"salesAcc\":\"600970920\",\"audiCnt\":\"15991\",\"audiInten\":\"-2528\",\"audiChange\":\"-13.7\",\"audiAcc\":\"73250\",\"scrnCnt\":\"410\",\"showCnt\":\"711\"},{\"rnum\":\"9\",\"rank\":\"9\",\"rankInten\":\"0\",\"rankOldAndNew\":\"OLD\",\"movieCd\":\"20171021\",\"movieNm\":\"커런트 워\",\"openDt\":\"2019-08-22\",\"salesAmt\":\"61985400\",\"salesShare\":\"1.1\",\"salesInten\":\"-16880100\",\"salesChange\":\"-21.4\",\"salesAcc\":\"1694668900\",\"audiCnt\":\"7127\",\"audiInten\":\"-1740\",\"audiChange\":\"-19.6\",\"audiAcc\":\"194259\",\"scrnCnt\":\"183\",\"showCnt\":\"370\"},{\"rnum\":\"10\",\"rank\":\"10\",\"rankInten\":\"1\",\"rankOldAndNew\":\"OLD\",\"movieCd\":\"20198323\",\"movieNm\":\"레드슈즈\",\"openDt\":\"2019-07-25\",\"salesAmt\":\"27753890\",\"salesShare\":\"0.5\",\"salesInten\":\"-1392710\",\"salesChange\":\"-4.8\",\"salesAcc\":\"5976045650\",\"audiCnt\":\"5744\",\"audiInten\":\"-163\",\"audiChange\":\"-2.8\",\"audiAcc\":\"786819\",\"scrnCnt\":\"75\",\"showCnt\":\"106\"}]}}"
   ]
  },
  {
   "cell_type": "code",
   "execution_count": null,
   "metadata": {
    "colab": {},
    "colab_type": "code",
    "id": "kRrH9oj2OF11"
   },
   "outputs": [],
   "source": [
    "with open('movies.json', 'w', encoding = 'UTF-8') as f:\n",
    "  json.dump(movies, f, indent = 4, ensure_ascii = False)"
   ]
  },
  {
   "cell_type": "code",
   "execution_count": 20,
   "metadata": {
    "colab": {
     "base_uri": "https://localhost:8080/",
     "height": 170
    },
    "colab_type": "code",
    "executionInfo": {
     "elapsed": 2835,
     "status": "ok",
     "timestamp": 1568002632824,
     "user": {
      "displayName": "Sung Hak Lim",
      "photoUrl": "https://lh3.googleusercontent.com/a-/AAuE7mCAsIrkT7qHVbLE2qbnDRuLFImyiwklV4EiB94wNA=s64",
      "userId": "05716500249544805974"
     },
     "user_tz": -540
    },
    "id": "zeVRdK1NPVPr",
    "outputId": "48ad68a2-7dd8-4bdc-cf31-f19082aada53"
   },
   "outputs": [
    {
     "name": "stdout",
     "output_type": "stream",
     "text": [
      "total 36\n",
      "drwxr-xr-x 1 root root 4096 Sep  9 04:16 \u001b[0m\u001b[01;34m.\u001b[0m/\n",
      "drwxr-xr-x 1 root root 4096 Sep  9 03:49 \u001b[01;34m..\u001b[0m/\n",
      "drwxr-xr-x 1 root root 4096 Sep  4 16:06 \u001b[01;34m.config\u001b[0m/\n",
      "-rw-r--r-- 1 root root   89 Sep  9 04:06 lim.json\n",
      "-rw-r--r-- 1 root root 7242 Sep  9 04:16 movies.json\n",
      "-rw-r--r-- 1 root root  121 Sep  9 03:56 new2.txt\n",
      "-rw-r--r-- 1 root root   50 Sep  9 04:01 new3.txt\n",
      "drwxr-xr-x 1 root root 4096 Aug 27 16:17 \u001b[01;34msample_data\u001b[0m/\n"
     ]
    }
   ],
   "source": [
    "ls -al"
   ]
  },
  {
   "cell_type": "markdown",
   "metadata": {
    "colab_type": "text",
    "id": "ze2Qsw1aBhQh"
   },
   "source": [
    "### 19.번에서 만든 json파일을 읽어 boxoffice 딕셔너리에 저장하세요."
   ]
  },
  {
   "cell_type": "code",
   "execution_count": 26,
   "metadata": {
    "colab": {
     "base_uri": "https://localhost:8080/",
     "height": 1000
    },
    "colab_type": "code",
    "executionInfo": {
     "elapsed": 838,
     "status": "ok",
     "timestamp": 1568004233775,
     "user": {
      "displayName": "Sung Hak Lim",
      "photoUrl": "https://lh3.googleusercontent.com/a-/AAuE7mCAsIrkT7qHVbLE2qbnDRuLFImyiwklV4EiB94wNA=s64",
      "userId": "05716500249544805974"
     },
     "user_tz": -540
    },
    "id": "G1t25tGMBpCh",
    "outputId": "fd4ae7f4-5195-4772-8ffc-145b109e012b"
   },
   "outputs": [
    {
     "data": {
      "text/plain": [
       "{'boxOfficeResult': {'boxofficeType': '일별 박스오피스',\n",
       "  'dailyBoxOfficeList': [{'audiAcc': '684517',\n",
       "    'audiChange': '-14.1',\n",
       "    'audiCnt': '145265',\n",
       "    'audiInten': '-23942',\n",
       "    'movieCd': '20181416',\n",
       "    'movieNm': '유열의 음악앨범',\n",
       "    'openDt': '2019-08-28',\n",
       "    'rank': '1',\n",
       "    'rankInten': '0',\n",
       "    'rankOldAndNew': 'OLD',\n",
       "    'rnum': '1',\n",
       "    'salesAcc': '5510222940',\n",
       "    'salesAmt': '1276019900',\n",
       "    'salesChange': '-15.1',\n",
       "    'salesInten': '-226097200',\n",
       "    'salesShare': '22.8',\n",
       "    'scrnCnt': '1032',\n",
       "    'showCnt': '4696'},\n",
       "   {'audiAcc': '1499644',\n",
       "    'audiChange': '-18.5',\n",
       "    'audiCnt': '128666',\n",
       "    'audiInten': '-29234',\n",
       "    'movieCd': '20184543',\n",
       "    'movieNm': '변신',\n",
       "    'openDt': '2019-08-21',\n",
       "    'rank': '2',\n",
       "    'rankInten': '0',\n",
       "    'rankOldAndNew': 'OLD',\n",
       "    'rnum': '2',\n",
       "    'salesAcc': '12848880862',\n",
       "    'salesAmt': '1132455850',\n",
       "    'salesChange': '-19.7',\n",
       "    'salesInten': '-278659860',\n",
       "    'salesShare': '20.3',\n",
       "    'scrnCnt': '888',\n",
       "    'showCnt': '3496'},\n",
       "   {'audiAcc': '8917590',\n",
       "    'audiChange': '-20.2',\n",
       "    'audiCnt': '105783',\n",
       "    'audiInten': '-26723',\n",
       "    'movieCd': '20184621',\n",
       "    'movieNm': '엑시트',\n",
       "    'openDt': '2019-07-31',\n",
       "    'rank': '3',\n",
       "    'rankInten': '0',\n",
       "    'rankOldAndNew': 'OLD',\n",
       "    'rnum': '3',\n",
       "    'salesAcc': '74985544502',\n",
       "    'salesAmt': '905597200',\n",
       "    'salesChange': '-20.3',\n",
       "    'salesInten': '-230085970',\n",
       "    'salesShare': '16.2',\n",
       "    'scrnCnt': '800',\n",
       "    'showCnt': '2784'},\n",
       "   {'audiAcc': '3418346',\n",
       "    'audiChange': '-15.9',\n",
       "    'audiCnt': '81183',\n",
       "    'audiInten': '-15322',\n",
       "    'movieCd': '20196850',\n",
       "    'movieNm': '분노의 질주: 홉스&쇼',\n",
       "    'openDt': '2019-08-14',\n",
       "    'rank': '4',\n",
       "    'rankInten': '0',\n",
       "    'rankOldAndNew': 'OLD',\n",
       "    'rnum': '4',\n",
       "    'salesAcc': '30234059483',\n",
       "    'salesAmt': '718357500',\n",
       "    'salesChange': '-16.2',\n",
       "    'salesInten': '-138592050',\n",
       "    'salesShare': '12.9',\n",
       "    'scrnCnt': '666',\n",
       "    'showCnt': '2091'},\n",
       "   {'audiAcc': '311240',\n",
       "    'audiChange': '-9.6',\n",
       "    'audiCnt': '71516',\n",
       "    'audiInten': '-7583',\n",
       "    'movieCd': '20193665',\n",
       "    'movieNm': '47미터 2',\n",
       "    'openDt': '2019-08-28',\n",
       "    'rank': '5',\n",
       "    'rankInten': '0',\n",
       "    'rankOldAndNew': 'OLD',\n",
       "    'rnum': '5',\n",
       "    'salesAcc': '2515525810',\n",
       "    'salesAmt': '623415780',\n",
       "    'salesChange': '-11.3',\n",
       "    'salesInten': '-79210820',\n",
       "    'salesShare': '11.2',\n",
       "    'scrnCnt': '642',\n",
       "    'showCnt': '2073'},\n",
       "   {'audiAcc': '4712558',\n",
       "    'audiChange': '-8',\n",
       "    'audiCnt': '29522',\n",
       "    'audiInten': '-2554',\n",
       "    'movieCd': '20184462',\n",
       "    'movieNm': '봉오동 전투',\n",
       "    'openDt': '2019-08-07',\n",
       "    'rank': '6',\n",
       "    'rankInten': '0',\n",
       "    'rankOldAndNew': 'OLD',\n",
       "    'rnum': '6',\n",
       "    'salesAcc': '40028760378',\n",
       "    'salesAmt': '249028200',\n",
       "    'salesChange': '-8.2',\n",
       "    'salesInten': '-22310920',\n",
       "    'salesShare': '4.5',\n",
       "    'scrnCnt': '499',\n",
       "    'showCnt': '925'},\n",
       "   {'audiAcc': '597616',\n",
       "    'audiChange': '-7.9',\n",
       "    'audiCnt': '19566',\n",
       "    'audiInten': '-1683',\n",
       "    'movieCd': '20185985',\n",
       "    'movieNm': '광대들: 풍문조작단',\n",
       "    'openDt': '2019-08-21',\n",
       "    'rank': '7',\n",
       "    'rankInten': '0',\n",
       "    'rankOldAndNew': 'OLD',\n",
       "    'rnum': '7',\n",
       "    'salesAcc': '4929720718',\n",
       "    'salesAmt': '162152810',\n",
       "    'salesChange': '-8.6',\n",
       "    'salesInten': '-15304550',\n",
       "    'salesShare': '2.9',\n",
       "    'scrnCnt': '462',\n",
       "    'showCnt': '811'},\n",
       "   {'audiAcc': '73250',\n",
       "    'audiChange': '-13.7',\n",
       "    'audiCnt': '15991',\n",
       "    'audiInten': '-2528',\n",
       "    'movieCd': '20194384',\n",
       "    'movieNm': '안나',\n",
       "    'openDt': '2019-08-28',\n",
       "    'rank': '8',\n",
       "    'rankInten': '0',\n",
       "    'rankOldAndNew': 'OLD',\n",
       "    'rnum': '8',\n",
       "    'salesAcc': '600970920',\n",
       "    'salesAmt': '141388510',\n",
       "    'salesChange': '-14.8',\n",
       "    'salesInten': '-24552940',\n",
       "    'salesShare': '2.5',\n",
       "    'scrnCnt': '410',\n",
       "    'showCnt': '711'},\n",
       "   {'audiAcc': '194259',\n",
       "    'audiChange': '-19.6',\n",
       "    'audiCnt': '7127',\n",
       "    'audiInten': '-1740',\n",
       "    'movieCd': '20171021',\n",
       "    'movieNm': '커런트 워',\n",
       "    'openDt': '2019-08-22',\n",
       "    'rank': '9',\n",
       "    'rankInten': '0',\n",
       "    'rankOldAndNew': 'OLD',\n",
       "    'rnum': '9',\n",
       "    'salesAcc': '1694668900',\n",
       "    'salesAmt': '61985400',\n",
       "    'salesChange': '-21.4',\n",
       "    'salesInten': '-16880100',\n",
       "    'salesShare': '1.1',\n",
       "    'scrnCnt': '183',\n",
       "    'showCnt': '370'},\n",
       "   {'audiAcc': '786819',\n",
       "    'audiChange': '-2.8',\n",
       "    'audiCnt': '5744',\n",
       "    'audiInten': '-163',\n",
       "    'movieCd': '20198323',\n",
       "    'movieNm': '레드슈즈',\n",
       "    'openDt': '2019-07-25',\n",
       "    'rank': '10',\n",
       "    'rankInten': '1',\n",
       "    'rankOldAndNew': 'OLD',\n",
       "    'rnum': '10',\n",
       "    'salesAcc': '5976045650',\n",
       "    'salesAmt': '27753890',\n",
       "    'salesChange': '-4.8',\n",
       "    'salesInten': '-1392710',\n",
       "    'salesShare': '0.5',\n",
       "    'scrnCnt': '75',\n",
       "    'showCnt': '106'}],\n",
       "  'showRange': '20190901~20190901'}}"
      ]
     },
     "execution_count": 26,
     "metadata": {
      "tags": []
     },
     "output_type": "execute_result"
    }
   ],
   "source": [
    "with open('movies.json', 'r') as f:\n",
    "  boxoffice = json.load(f)\n",
    "  \n",
    "\n",
    "boxoffice"
   ]
  },
  {
   "cell_type": "markdown",
   "metadata": {
    "colab_type": "text",
    "id": "4NaPuPqqBqWZ"
   },
   "source": [
    "### 20. 19번의 딕셔너리에서 9번째 영화의 'salesAmt' 를 출력하세요."
   ]
  },
  {
   "cell_type": "code",
   "execution_count": 27,
   "metadata": {
    "colab": {
     "base_uri": "https://localhost:8080/",
     "height": 34
    },
    "colab_type": "code",
    "executionInfo": {
     "elapsed": 2527,
     "status": "ok",
     "timestamp": 1568004580529,
     "user": {
      "displayName": "Sung Hak Lim",
      "photoUrl": "https://lh3.googleusercontent.com/a-/AAuE7mCAsIrkT7qHVbLE2qbnDRuLFImyiwklV4EiB94wNA=s64",
      "userId": "05716500249544805974"
     },
     "user_tz": -540
    },
    "id": "eSHCMmamCd2w",
    "outputId": "eae14af7-7245-49f1-a9e2-0c600e3b9680"
   },
   "outputs": [
    {
     "data": {
      "text/plain": [
       "'61985400'"
      ]
     },
     "execution_count": 27,
     "metadata": {
      "tags": []
     },
     "output_type": "execute_result"
    }
   ],
   "source": [
    "boxoffice['boxOfficeResult']['dailyBoxOfficeList'][8]['salesAmt']"
   ]
  },
  {
   "cell_type": "markdown",
   "metadata": {
    "colab_type": "text",
    "id": "yuUzde45Cef3"
   },
   "source": [
    "### 21. 19번의 딕셔너리에서 모든 영화의 'salesAmt'를 출력하세요."
   ]
  },
  {
   "cell_type": "code",
   "execution_count": null,
   "metadata": {
    "colab": {},
    "colab_type": "code",
    "id": "MmghPnJaCkdi"
   },
   "outputs": [],
   "source": [
    "daily = boxoffice['boxOfficeResult']['dailyBoxOfficeList']"
   ]
  },
  {
   "cell_type": "code",
   "execution_count": 36,
   "metadata": {
    "colab": {
     "base_uri": "https://localhost:8080/",
     "height": 187
    },
    "colab_type": "code",
    "executionInfo": {
     "elapsed": 789,
     "status": "ok",
     "timestamp": 1568004866767,
     "user": {
      "displayName": "Sung Hak Lim",
      "photoUrl": "https://lh3.googleusercontent.com/a-/AAuE7mCAsIrkT7qHVbLE2qbnDRuLFImyiwklV4EiB94wNA=s64",
      "userId": "05716500249544805974"
     },
     "user_tz": -540
    },
    "id": "tVubsPPyW2Oc",
    "outputId": "18b4910c-99ad-4758-c37a-b35ba5a18482"
   },
   "outputs": [
    {
     "name": "stdout",
     "output_type": "stream",
     "text": [
      "1276019900\n",
      "1132455850\n",
      "905597200\n",
      "718357500\n",
      "623415780\n",
      "249028200\n",
      "162152810\n",
      "141388510\n",
      "61985400\n",
      "27753890\n"
     ]
    }
   ],
   "source": [
    "for i in range(len(daily)):\n",
    "  print(daily[i]['salesAmt'])\n",
    "  "
   ]
  },
  {
   "cell_type": "code",
   "execution_count": null,
   "metadata": {
    "colab": {},
    "colab_type": "code",
    "id": "GMjA-7N9Xiu_"
   },
   "outputs": [],
   "source": [
    ")"
   ]
  }
 ],
 "metadata": {
  "colab": {
   "collapsed_sections": [],
   "name": "01_2_문법 추가_예시문제_임성학.ipynb",
   "provenance": [],
   "version": "0.3.2"
  },
  "kernelspec": {
   "display_name": "Python 3",
   "language": "python",
   "name": "python3"
  },
  "language_info": {
   "codemirror_mode": {
    "name": "ipython",
    "version": 3
   },
   "file_extension": ".py",
   "mimetype": "text/x-python",
   "name": "python",
   "nbconvert_exporter": "python",
   "pygments_lexer": "ipython3",
   "version": "3.7.4"
  }
 },
 "nbformat": 4,
 "nbformat_minor": 4
}
